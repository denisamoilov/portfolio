{
 "cells": [
  {
   "cell_type": "markdown",
   "metadata": {},
   "source": [
    "Привет! Ты теперь находишься на территории код-ревьюеров. У нас тут своя атмосфера и правила:  \n",
    "1. Меня зовут Алексей Свирин. Я работаю продуктовым аналитиком, поэтому мои комментарии больше ориентированы на визуальную и смысловую часть проекта, которая предназначена для внешних пользователей твоего проекта, и меньше на сам код, его чистоту и оптимизацию.  \n",
    "2. Общаемся на ты.  \n",
    "3. Хочешь мне написать — пиши. Только нужно выбрать свой цвет для комментария.  \n",
    "4. Это учебный проект, тут можно не бояться сделать ошибку, но все остальное как в жизни, может быть сложно.  \n",
    "5. У тебя бесконечное количество ~~жизней~~ попыток для сдачи проекта.  \n",
    "6. Поехали!  \n",
    "\n",
    "---\n",
    "\n",
    "Я буду красить комментарии цветом, пожалуйста, не удаляй их:\n",
    "\n",
    "<div class=\"alert alert-block alert-danger\">\n",
    "    \n",
    "\n",
    "__Комментарий от ревьюера №1__\n",
    "\n",
    "Такой комментарий нужно исправить обязательно, он критически влияет на удачное выполнение проекта.\n",
    "</div>\n",
    "    \n",
    "---\n",
    "\n",
    "<div class=\"alert alert-block alert-warning\">\n",
    "    \n",
    "\n",
    "__Комментарий от ревьюера №1__\n",
    "\n",
    "\n",
    "Такой комментарий является рекомендацией или советом. Можешь использовать их на своё усмотрение.\n",
    "</div>\n",
    "\n",
    "---\n",
    "\n",
    "<div class=\"alert alert-block alert-success\">\n",
    "    \n",
    "\n",
    "__Комментарий от ревьюера №1__\n",
    "\n",
    "Такой комментарий  говорит о том, что было сделано что-то качественное и правильное =)\n",
    "</div>\n",
    "\n",
    "---"
   ]
  },
  {
   "cell_type": "markdown",
   "metadata": {},
   "source": [
    "<div class=\"alert alert-block alert-info\">\n",
    "    \n",
    "\n",
    "__Комментарий от ревьюера №1__\n",
    "\n",
    "Нормальная работа для первой итерации, нужно поправить А/Б-тест и ответить на некоторые вопросы по ходу проекта.\n",
    "</div>"
   ]
  },
  {
   "cell_type": "markdown",
   "metadata": {},
   "source": [
    "<div class=\"alert alert-block alert-info\">\n",
    "    \n",
    "\n",
    "__Комментарий от ревьюера №2__\n",
    "\n",
    "Осталось найти пользователей, которые есть в двух группах одновременно, а они точно есть)\n",
    "</div>"
   ]
  },
  {
   "cell_type": "markdown",
   "metadata": {},
   "source": [
    "<div class=\"alert alert-block alert-info\">\n",
    "    \n",
    "\n",
    "__Комментарий от ревьюера №3__\n",
    "\n",
    "Сейчас всё сделано верно. Правильно проведен А/Б-тест, найдены аномальные значения, построены кумулятивные метрики и сделан первый раздел с гипотезами. Все графики сделаны правильно и выводы на месте. Проект принят!\n",
    "</div>"
   ]
  },
  {
   "cell_type": "markdown",
   "metadata": {},
   "source": [
    "<div class=\"alert alert-block alert-info\">\n",
    "    \n",
    "\n",
    "__Комментарий от ревьюера по новому проекту__\n",
    "\n",
    "Следующий проект будет связан с геоданными. До него мы можешь изучить/покрутить/посмотреть разные модули, которые смогут помочь в выполнении работы:  \n",
    "— модуль folium для визуализации геоданных на карте — https://dev-gang.ru/article/interaktivnaja-vizualizacija-geo-dannyh-na-python-9yqzq8qlud/  \n",
    "— модуль для сервиса Геокодер от Яндекса: https://pypi.org/project/yandex-geocoder/  \n",
    "— модуль для сервиса замечательной российской компании Dadata: https://pypi.org/project/dadata/  \n",
    "    \n",
    "Так же в новом проекте будет задание по составлению презентации, для него ты можешь пройти новый бесплатный курс от Яндекс.Практикума — https://praktikum.yandex.ru/profile/visual-presentation/  \n",
    "</div>"
   ]
  },
  {
   "cell_type": "markdown",
   "metadata": {},
   "source": [
    "# Аналитика в интернет-магазине"
   ]
  },
  {
   "cell_type": "markdown",
   "metadata": {},
   "source": [
    "Необходимо провести аналитическое исследование для крупного интернет-магазина. \n",
    "\n",
    "Вместе с отделом маркетинга был подготовлен список гипотез для увеличения выручки. Необходмо приоретизировать гипотезы, запустить A/B-тест и проанализировать результаты.\n",
    "\n",
    "**Задача №1**\n",
    "   \n",
    "   * Применить фреймворк ICE для приоритизации гипотез. Отсортировать их по убыванию приоритета.\n",
    "   * Применить фреймворк RICE для приоритизации гипотез. Отсортировать их по убыванию приоритета.\n",
    "   * Укажите, как изменилась приоритизация гипотез при применении RICE вместо ICE. Объясните, почему так произошло.\n",
    "\n",
    "**Описание данных для Задачи №1**\n",
    "* Hypothesis — краткое описание гипотезы;\n",
    "* Reach — охват пользователей по 10-балльной шкале;\n",
    "* Impact — влияние на пользователей по 10-балльной шкале;\n",
    "* Confidence — уверенность в гипотезе по 10-балльной шкале;\n",
    "* Efforts — затраты ресурсов на проверку гипотезы по 10-балльной шкале. Чем больше значение Efforts, тем дороже проверка гипотезы.\n",
    "\n",
    "\n",
    "**Задача №2**\n",
    "   * Проанализировать A/B-тест:\n",
    "        * Построить график кумулятивной выручки по группам. Сделать выводы и предположения.\n",
    "        * Построить график кумулятивного среднего чека по группам. Сделать выводы и предположения.\n",
    "        * Построить график относительного изменения кумулятивного среднего чека группы B к группе A. Сделать выводы и предположения.\n",
    "        * Построить график кумулятивной конверсии по группам. Сделать выводы и предположения.\n",
    "        * Построить график относительного изменения кумулятивной конверсии группы B к группе A. Сделать выводы и предположения.\n",
    "        * Постройте точечный график количества заказов по пользователям. Сделать выводы и предположения.\n",
    "        * Посчитать 95-й и 99-й перцентили количества заказов на пользователя. Выбрать границу для определения аномальных пользователей.\n",
    "        * Построить точечный график стоимостей заказов. Сделать выводы и предположения.\n",
    "        * Посчитать 95-й и 99-й перцентили стоимости заказов. Выбрать границу для определения аномальных заказов.\n",
    "        * Посчитать статистическую значимость различий в конверсии между группами по «сырым» данным. Сделать выводы и предположения.\n",
    "        * Посчитать статистическую значимость различий в среднем чеке заказа между группами по «сырым» данным. Сделать выводы и предположения.\n",
    "        * Посчитать статистическую значимость различий в конверсии между группами по «очищенным» данным. Сделать выводы и предположения.\n",
    "        * Посчитать статистическую значимость различий в среднем чеке заказа между группами по «очищенным» данным. Сделать выводы и предположения.\n",
    "        * Принять решение по результатам теста и объясните его. Варианты решений: \n",
    "            * 1. Остановить тест, зафиксировать победу одной из групп. \n",
    "            * 2. Остановить тест, зафиксировать отсутствие различий между группами. \n",
    "            * 3. Продолжить тест.\n",
    "\n",
    "**Описание данных для Задачи №2**\n",
    "\n",
    "* orders\n",
    "    * transactionId — идентификатор заказа;\n",
    "    * visitorId — идентификатор пользователя, совершившего заказ;\n",
    "    * date — дата, когда был совершён заказ;\n",
    "    * revenue — выручка заказа;\n",
    "    * group — группа A/B-теста, в которую попал заказ.\n",
    "\n",
    "* visitors\n",
    "    * date — дата;\n",
    "    * group — группа A/B-теста;\n",
    "    * visitors — количество пользователей в указанную дату в указанной группе A/B-теста"
   ]
  },
  {
   "cell_type": "markdown",
   "metadata": {},
   "source": [
    "**Оглавление**\n",
    "\n",
    "1. [Откроем файл с данными и изучим общую информацию](#1)\n",
    "2. [Предобработка данных](#2)\n",
    "3. [Задача №1. Приоритизация гипотез](#3)\n",
    "    * [Применим фреймворк ICE для приоритизации гипотез](#4)\n",
    "    * [Применим фреймворк RICE для приоритизации гипотез](#5)\n",
    "    * [Вывод по задаче](#6)\n",
    "4. [Проанализируем A/B-тест](#7)\n",
    "    * [Построим график кумулятивной выручки по группам](#8)\n",
    "    * [Построим график кумулятивного среднего чека по группам](#9)\n",
    "    * [Построим график относительного изменения кумулятивного среднего чека группы B к группе A](#10)\n",
    "    * [Построим график кумулятивной конверсии по группам](#11)\n",
    "    * [Построим график относительного изменения кумулятивной конверсии группы B к группе A](#12)\n",
    "    * [Построим точечный график количества заказов по пользователям](#13)\n",
    "    * [Посчитаем 95-й и 99-й перцентили количества заказов на пользователя. Выберем границу для определения аномальных пользователей](#14)\n",
    "    * [Построим точечный график стоимостей заказов](#15)\n",
    "    * [Посчитаем 95-й и 99-й перцентили стоимости заказов. Выберемть границу определения аномальных заказов](#16)\n",
    "    * [Посчитаем статистическую значимость различий в конверсии между группами по «сырым» данным](#17)\n",
    "    * [Посчитаем статистическую значимость различий в среднем чеке заказа между группами по «сырым» данным](#18)\n",
    "    * [Посчитаем статистическую значимость различий в конверсии между группами по «очищенным» данным](#19)\n",
    "    * [Посчитаем статистическую значимость различий в среднем чеке заказа между группами по «очищенным» данным](#20)\n",
    "    * [Решение по результатам теста](#21)\n",
    "5. [Общий вывод](#22)"
   ]
  },
  {
   "cell_type": "markdown",
   "metadata": {},
   "source": [
    "<div class=\"alert alert-block alert-success\">\n",
    "    \n",
    "\n",
    "__Комментарий от ревьюера №3__\n",
    "\n",
    "Хорошее начало проекта.\n",
    "</div>"
   ]
  },
  {
   "cell_type": "markdown",
   "metadata": {},
   "source": [
    "## Откроем файл с данными и изучим общую информацию\n",
    "<a id='1'></a>"
   ]
  },
  {
   "cell_type": "code",
   "execution_count": 1,
   "metadata": {},
   "outputs": [],
   "source": [
    "#обновим библиотеку seaborn, чтобы делать красивые графики\n",
    "!pip install -q seaborn "
   ]
  },
  {
   "cell_type": "code",
   "execution_count": 1,
   "metadata": {},
   "outputs": [
    {
     "data": {
      "text/html": [
       "<div>\n",
       "<style scoped>\n",
       "    .dataframe tbody tr th:only-of-type {\n",
       "        vertical-align: middle;\n",
       "    }\n",
       "\n",
       "    .dataframe tbody tr th {\n",
       "        vertical-align: top;\n",
       "    }\n",
       "\n",
       "    .dataframe thead th {\n",
       "        text-align: right;\n",
       "    }\n",
       "</style>\n",
       "<table border=\"1\" class=\"dataframe\">\n",
       "  <thead>\n",
       "    <tr style=\"text-align: right;\">\n",
       "      <th></th>\n",
       "      <th>Hypothesis</th>\n",
       "      <th>Reach</th>\n",
       "      <th>Impact</th>\n",
       "      <th>Confidence</th>\n",
       "      <th>Efforts</th>\n",
       "    </tr>\n",
       "  </thead>\n",
       "  <tbody>\n",
       "    <tr>\n",
       "      <td>0</td>\n",
       "      <td>Добавить два новых канала привлечения трафика,...</td>\n",
       "      <td>3</td>\n",
       "      <td>10</td>\n",
       "      <td>8</td>\n",
       "      <td>6</td>\n",
       "    </tr>\n",
       "    <tr>\n",
       "      <td>1</td>\n",
       "      <td>Запустить собственную службу доставки, что сок...</td>\n",
       "      <td>2</td>\n",
       "      <td>5</td>\n",
       "      <td>4</td>\n",
       "      <td>10</td>\n",
       "    </tr>\n",
       "    <tr>\n",
       "      <td>2</td>\n",
       "      <td>Добавить блоки рекомендаций товаров на сайт ин...</td>\n",
       "      <td>8</td>\n",
       "      <td>3</td>\n",
       "      <td>7</td>\n",
       "      <td>3</td>\n",
       "    </tr>\n",
       "    <tr>\n",
       "      <td>3</td>\n",
       "      <td>Изменить структура категорий, что увеличит кон...</td>\n",
       "      <td>8</td>\n",
       "      <td>3</td>\n",
       "      <td>3</td>\n",
       "      <td>8</td>\n",
       "    </tr>\n",
       "    <tr>\n",
       "      <td>4</td>\n",
       "      <td>Изменить цвет фона главной страницы, чтобы уве...</td>\n",
       "      <td>3</td>\n",
       "      <td>1</td>\n",
       "      <td>1</td>\n",
       "      <td>1</td>\n",
       "    </tr>\n",
       "    <tr>\n",
       "      <td>5</td>\n",
       "      <td>Добавить страницу отзывов клиентов о магазине,...</td>\n",
       "      <td>3</td>\n",
       "      <td>2</td>\n",
       "      <td>2</td>\n",
       "      <td>3</td>\n",
       "    </tr>\n",
       "    <tr>\n",
       "      <td>6</td>\n",
       "      <td>Показать на главной странице баннеры с актуаль...</td>\n",
       "      <td>5</td>\n",
       "      <td>3</td>\n",
       "      <td>8</td>\n",
       "      <td>3</td>\n",
       "    </tr>\n",
       "    <tr>\n",
       "      <td>7</td>\n",
       "      <td>Добавить форму подписки на все основные страни...</td>\n",
       "      <td>10</td>\n",
       "      <td>7</td>\n",
       "      <td>8</td>\n",
       "      <td>5</td>\n",
       "    </tr>\n",
       "    <tr>\n",
       "      <td>8</td>\n",
       "      <td>Запустить акцию, дающую скидку на товар в день...</td>\n",
       "      <td>1</td>\n",
       "      <td>9</td>\n",
       "      <td>9</td>\n",
       "      <td>5</td>\n",
       "    </tr>\n",
       "  </tbody>\n",
       "</table>\n",
       "</div>"
      ],
      "text/plain": [
       "                                          Hypothesis  Reach  Impact  \\\n",
       "0  Добавить два новых канала привлечения трафика,...      3      10   \n",
       "1  Запустить собственную службу доставки, что сок...      2       5   \n",
       "2  Добавить блоки рекомендаций товаров на сайт ин...      8       3   \n",
       "3  Изменить структура категорий, что увеличит кон...      8       3   \n",
       "4  Изменить цвет фона главной страницы, чтобы уве...      3       1   \n",
       "5  Добавить страницу отзывов клиентов о магазине,...      3       2   \n",
       "6  Показать на главной странице баннеры с актуаль...      5       3   \n",
       "7  Добавить форму подписки на все основные страни...     10       7   \n",
       "8  Запустить акцию, дающую скидку на товар в день...      1       9   \n",
       "\n",
       "   Confidence  Efforts  \n",
       "0           8        6  \n",
       "1           4       10  \n",
       "2           7        3  \n",
       "3           3        8  \n",
       "4           1        1  \n",
       "5           2        3  \n",
       "6           8        3  \n",
       "7           8        5  \n",
       "8           9        5  "
      ]
     },
     "metadata": {},
     "output_type": "display_data"
    },
    {
     "data": {
      "text/html": [
       "<div>\n",
       "<style scoped>\n",
       "    .dataframe tbody tr th:only-of-type {\n",
       "        vertical-align: middle;\n",
       "    }\n",
       "\n",
       "    .dataframe tbody tr th {\n",
       "        vertical-align: top;\n",
       "    }\n",
       "\n",
       "    .dataframe thead th {\n",
       "        text-align: right;\n",
       "    }\n",
       "</style>\n",
       "<table border=\"1\" class=\"dataframe\">\n",
       "  <thead>\n",
       "    <tr style=\"text-align: right;\">\n",
       "      <th></th>\n",
       "      <th>transactionId</th>\n",
       "      <th>visitorId</th>\n",
       "      <th>date</th>\n",
       "      <th>revenue</th>\n",
       "      <th>group</th>\n",
       "    </tr>\n",
       "  </thead>\n",
       "  <tbody>\n",
       "    <tr>\n",
       "      <td>0</td>\n",
       "      <td>3667963787</td>\n",
       "      <td>3312258926</td>\n",
       "      <td>2019-08-15</td>\n",
       "      <td>1650</td>\n",
       "      <td>B</td>\n",
       "    </tr>\n",
       "    <tr>\n",
       "      <td>1</td>\n",
       "      <td>2804400009</td>\n",
       "      <td>3642806036</td>\n",
       "      <td>2019-08-15</td>\n",
       "      <td>730</td>\n",
       "      <td>B</td>\n",
       "    </tr>\n",
       "    <tr>\n",
       "      <td>2</td>\n",
       "      <td>2961555356</td>\n",
       "      <td>4069496402</td>\n",
       "      <td>2019-08-15</td>\n",
       "      <td>400</td>\n",
       "      <td>A</td>\n",
       "    </tr>\n",
       "    <tr>\n",
       "      <td>3</td>\n",
       "      <td>3797467345</td>\n",
       "      <td>1196621759</td>\n",
       "      <td>2019-08-15</td>\n",
       "      <td>9759</td>\n",
       "      <td>B</td>\n",
       "    </tr>\n",
       "    <tr>\n",
       "      <td>4</td>\n",
       "      <td>2282983706</td>\n",
       "      <td>2322279887</td>\n",
       "      <td>2019-08-15</td>\n",
       "      <td>2308</td>\n",
       "      <td>B</td>\n",
       "    </tr>\n",
       "  </tbody>\n",
       "</table>\n",
       "</div>"
      ],
      "text/plain": [
       "   transactionId   visitorId        date  revenue group\n",
       "0     3667963787  3312258926  2019-08-15     1650     B\n",
       "1     2804400009  3642806036  2019-08-15      730     B\n",
       "2     2961555356  4069496402  2019-08-15      400     A\n",
       "3     3797467345  1196621759  2019-08-15     9759     B\n",
       "4     2282983706  2322279887  2019-08-15     2308     B"
      ]
     },
     "metadata": {},
     "output_type": "display_data"
    },
    {
     "data": {
      "text/html": [
       "<div>\n",
       "<style scoped>\n",
       "    .dataframe tbody tr th:only-of-type {\n",
       "        vertical-align: middle;\n",
       "    }\n",
       "\n",
       "    .dataframe tbody tr th {\n",
       "        vertical-align: top;\n",
       "    }\n",
       "\n",
       "    .dataframe thead th {\n",
       "        text-align: right;\n",
       "    }\n",
       "</style>\n",
       "<table border=\"1\" class=\"dataframe\">\n",
       "  <thead>\n",
       "    <tr style=\"text-align: right;\">\n",
       "      <th></th>\n",
       "      <th>date</th>\n",
       "      <th>group</th>\n",
       "      <th>visitors</th>\n",
       "    </tr>\n",
       "  </thead>\n",
       "  <tbody>\n",
       "    <tr>\n",
       "      <td>0</td>\n",
       "      <td>2019-08-01</td>\n",
       "      <td>A</td>\n",
       "      <td>719</td>\n",
       "    </tr>\n",
       "    <tr>\n",
       "      <td>1</td>\n",
       "      <td>2019-08-02</td>\n",
       "      <td>A</td>\n",
       "      <td>619</td>\n",
       "    </tr>\n",
       "    <tr>\n",
       "      <td>2</td>\n",
       "      <td>2019-08-03</td>\n",
       "      <td>A</td>\n",
       "      <td>507</td>\n",
       "    </tr>\n",
       "    <tr>\n",
       "      <td>3</td>\n",
       "      <td>2019-08-04</td>\n",
       "      <td>A</td>\n",
       "      <td>717</td>\n",
       "    </tr>\n",
       "    <tr>\n",
       "      <td>4</td>\n",
       "      <td>2019-08-05</td>\n",
       "      <td>A</td>\n",
       "      <td>756</td>\n",
       "    </tr>\n",
       "  </tbody>\n",
       "</table>\n",
       "</div>"
      ],
      "text/plain": [
       "         date group  visitors\n",
       "0  2019-08-01     A       719\n",
       "1  2019-08-02     A       619\n",
       "2  2019-08-03     A       507\n",
       "3  2019-08-04     A       717\n",
       "4  2019-08-05     A       756"
      ]
     },
     "metadata": {},
     "output_type": "display_data"
    },
    {
     "name": "stdout",
     "output_type": "stream",
     "text": [
      "Общая информация о наборе с данными о гипотезах\n",
      "<class 'pandas.core.frame.DataFrame'>\n",
      "RangeIndex: 9 entries, 0 to 8\n",
      "Data columns (total 5 columns):\n",
      "Hypothesis    9 non-null object\n",
      "Reach         9 non-null int64\n",
      "Impact        9 non-null int64\n",
      "Confidence    9 non-null int64\n",
      "Efforts       9 non-null int64\n",
      "dtypes: int64(4), object(1)\n",
      "memory usage: 488.0+ bytes\n",
      "None\n",
      "Общая информация о наборе с данными о заказах\n",
      "<class 'pandas.core.frame.DataFrame'>\n",
      "RangeIndex: 1197 entries, 0 to 1196\n",
      "Data columns (total 5 columns):\n",
      "transactionId    1197 non-null int64\n",
      "visitorId        1197 non-null int64\n",
      "date             1197 non-null object\n",
      "revenue          1197 non-null int64\n",
      "group            1197 non-null object\n",
      "dtypes: int64(3), object(2)\n",
      "memory usage: 46.9+ KB\n",
      "None\n",
      "Общая информация о наборе с данными об А/Б - тестировании\n",
      "<class 'pandas.core.frame.DataFrame'>\n",
      "RangeIndex: 62 entries, 0 to 61\n",
      "Data columns (total 3 columns):\n",
      "date        62 non-null object\n",
      "group       62 non-null object\n",
      "visitors    62 non-null int64\n",
      "dtypes: int64(1), object(2)\n",
      "memory usage: 1.6+ KB\n",
      "None\n"
     ]
    }
   ],
   "source": [
    "#импортируем библиотеки\n",
    "import pandas as pd\n",
    "from datetime import timedelta\n",
    "import matplotlib.pyplot as plt\n",
    "import scipy.stats as stats\n",
    "import numpy as np\n",
    "import seaborn as sns\n",
    "sns.set(color_codes=True)\n",
    "\n",
    "#сохраним данные в переменных\n",
    "hypothesis = pd.read_csv('/datasets/hypothesis.csv')\n",
    "orders = pd.read_csv('/datasets/orders.csv')\n",
    "visitors = pd.read_csv('/datasets/visitors.csv')\n",
    "\n",
    "#ознакомимся с содержанием данных и изучим общую информацию\n",
    "display(hypothesis)\n",
    "display(orders.head())\n",
    "display(visitors.head())\n",
    "\n",
    "#выведем общую информацию\n",
    "print('Общая информация о наборе с данными о гипотезах')\n",
    "print(hypothesis.info())\n",
    "print('Общая информация о наборе с данными о заказах')\n",
    "print(orders.info())\n",
    "print('Общая информация о наборе с данными об А/Б - тестировании')\n",
    "print(visitors.info())"
   ]
  },
  {
   "cell_type": "markdown",
   "metadata": {},
   "source": [
    "<div class=\"alert alert-block alert-warning\">\n",
    "    \n",
    "\n",
    "__Комментарий от ревьюера №1__\n",
    "\n",
    "Чтобы вывести полное название гипотез, можно использовать такой код:  \n",
    "<code>pd.set_option('display.max_columns', None)  \n",
    "pd.options.display.max_colwidth = 150  </code>\n",
    "</div>"
   ]
  },
  {
   "cell_type": "markdown",
   "metadata": {},
   "source": [
    "### Вывод"
   ]
  },
  {
   "cell_type": "markdown",
   "metadata": {},
   "source": [
    "В представленных наборах данных неверно указан тип данных в столбцах с датами. Пропущенных значений не обнаружено. В таблице hypothesis названия столбцов записаны с заглавной буквы, необходимо привести названия к одному регистру. На следующем шаге необходимо изменить тип данных, а также проверить на наличие дубликатов."
   ]
  },
  {
   "cell_type": "markdown",
   "metadata": {},
   "source": [
    "## Предобработка данных\n",
    "<a id='2'></a>"
   ]
  },
  {
   "cell_type": "code",
   "execution_count": 2,
   "metadata": {},
   "outputs": [
    {
     "name": "stdout",
     "output_type": "stream",
     "text": [
      "Общая информация о наборе с данными о гипотезах\n",
      "<class 'pandas.core.frame.DataFrame'>\n",
      "RangeIndex: 9 entries, 0 to 8\n",
      "Data columns (total 5 columns):\n",
      "hypothesis    9 non-null object\n",
      "reach         9 non-null int64\n",
      "impact        9 non-null int64\n",
      "confidence    9 non-null int64\n",
      "efforts       9 non-null int64\n",
      "dtypes: int64(4), object(1)\n",
      "memory usage: 488.0+ bytes\n",
      "None\n",
      "Общая информация о наборе с данными о заказах\n",
      "<class 'pandas.core.frame.DataFrame'>\n",
      "RangeIndex: 1197 entries, 0 to 1196\n",
      "Data columns (total 5 columns):\n",
      "transactionid    1197 non-null int64\n",
      "visitorid        1197 non-null int64\n",
      "date             1197 non-null datetime64[ns]\n",
      "revenue          1197 non-null int64\n",
      "group            1197 non-null object\n",
      "dtypes: datetime64[ns](1), int64(3), object(1)\n",
      "memory usage: 46.9+ KB\n",
      "None\n",
      "Общая информация о наборе с данными об А/Б - тестировании\n",
      "<class 'pandas.core.frame.DataFrame'>\n",
      "RangeIndex: 62 entries, 0 to 61\n",
      "Data columns (total 3 columns):\n",
      "date        62 non-null datetime64[ns]\n",
      "group       62 non-null object\n",
      "visitors    62 non-null int64\n",
      "dtypes: datetime64[ns](1), int64(1), object(1)\n",
      "memory usage: 1.6+ KB\n",
      "None\n"
     ]
    }
   ],
   "source": [
    "#преобразуем формат данных в столбцах с датами\n",
    "orders['date'] = pd.to_datetime(orders['date'])\n",
    "visitors['date'] = pd.to_datetime(visitors['date'])\n",
    "\n",
    "#приведем названия столбцов к нижнему регистру \n",
    "hypothesis.columns = map(str.lower, hypothesis.columns)\n",
    "orders.columns = map(str.lower, orders.columns)\n",
    "visitors.columns = map(str.lower, visitors.columns)\n",
    "\n",
    "print('Общая информация о наборе с данными о гипотезах')\n",
    "print(hypothesis.info())\n",
    "print('Общая информация о наборе с данными о заказах')\n",
    "print(orders.info())\n",
    "print('Общая информация о наборе с данными об А/Б - тестировании')\n",
    "print(visitors.info())"
   ]
  },
  {
   "cell_type": "code",
   "execution_count": 3,
   "metadata": {},
   "outputs": [
    {
     "name": "stdout",
     "output_type": "stream",
     "text": [
      "Количество дубликатов в данных о гипотезах 0\n",
      "Количество дубликатов в данных о покупках 0\n",
      "Количество дубликатов в данных с результатами А/Б - тестирования 0\n"
     ]
    }
   ],
   "source": [
    "#проверим данные на наличие дубликатов. Проверку будем проводить по всему датасету. так как значения всех столбцов являются\n",
    "#идентифицирующими признаками уникальной строки\n",
    "print('Количество дубликатов в данных о гипотезах', hypothesis.duplicated().sum())\n",
    "print('Количество дубликатов в данных о покупках', orders.duplicated().sum())\n",
    "print('Количество дубликатов в данных с результатами А/Б - тестирования', visitors.duplicated().sum())"
   ]
  },
  {
   "cell_type": "markdown",
   "metadata": {},
   "source": [
    "<div class=\"alert alert-block alert-danger\">\n",
    "    \n",
    "\n",
    "__Комментарий от ревьюера №1__\n",
    "\n",
    "А есть ли у нас пользователи, которые попали в две группы одновременно?\n",
    "</div>"
   ]
  },
  {
   "cell_type": "markdown",
   "metadata": {},
   "source": [
    "<div class=\"alert alert-block alert-info\"> <b>Комментарий студента:</b> Спасибо, попробовал быструю проверку элементов в списке. Код под этим комментарием. </div> "
   ]
  },
  {
   "cell_type": "markdown",
   "metadata": {},
   "source": [
    "<div class=\"alert alert-block alert-warning\">\n",
    "    \n",
    "\n",
    "__Комментарий от ревьюера №2__\n",
    "\n",
    "Давай попробуем упростить) Попробуй сгруппировать по ID, найти уникальное количество групп и посмотреть на тех, у кого две группы.\n",
    "</div>"
   ]
  },
  {
   "cell_type": "markdown",
   "metadata": {},
   "source": [
    "<div class=\"alert alert-block alert-info\"> <b>Комментарий студента 2:</b> Нашел, таких пользователей 4,84%. предлагаю их убрать, сделал срез для таблицы orders. Из-за выпавших значений у нас поменялись перцентили, начиная с 4.12 меняюся ауты. но незначительно </div> "
   ]
  },
  {
   "cell_type": "markdown",
   "metadata": {},
   "source": [
    "<div class=\"alert alert-block alert-success\">\n",
    "    \n",
    "\n",
    "**Комментарий от ревьюера №3**\n",
    "\n",
    "👍\n",
    "</div>"
   ]
  },
  {
   "cell_type": "code",
   "execution_count": 5,
   "metadata": {},
   "outputs": [
    {
     "data": {
      "text/html": [
       "<div>\n",
       "<style scoped>\n",
       "    .dataframe tbody tr th:only-of-type {\n",
       "        vertical-align: middle;\n",
       "    }\n",
       "\n",
       "    .dataframe tbody tr th {\n",
       "        vertical-align: top;\n",
       "    }\n",
       "\n",
       "    .dataframe thead th {\n",
       "        text-align: right;\n",
       "    }\n",
       "</style>\n",
       "<table border=\"1\" class=\"dataframe\">\n",
       "  <thead>\n",
       "    <tr style=\"text-align: right;\">\n",
       "      <th></th>\n",
       "      <th>visitorid</th>\n",
       "      <th>group</th>\n",
       "    </tr>\n",
       "  </thead>\n",
       "  <tbody>\n",
       "    <tr>\n",
       "      <td>639</td>\n",
       "      <td>2654030115</td>\n",
       "      <td>2</td>\n",
       "    </tr>\n",
       "    <tr>\n",
       "      <td>932</td>\n",
       "      <td>3891541246</td>\n",
       "      <td>2</td>\n",
       "    </tr>\n",
       "    <tr>\n",
       "      <td>950</td>\n",
       "      <td>3941795274</td>\n",
       "      <td>2</td>\n",
       "    </tr>\n",
       "    <tr>\n",
       "      <td>340</td>\n",
       "      <td>1404934699</td>\n",
       "      <td>2</td>\n",
       "    </tr>\n",
       "    <tr>\n",
       "      <td>84</td>\n",
       "      <td>351125977</td>\n",
       "      <td>2</td>\n",
       "    </tr>\n",
       "  </tbody>\n",
       "</table>\n",
       "</div>"
      ],
      "text/plain": [
       "      visitorid  group\n",
       "639  2654030115      2\n",
       "932  3891541246      2\n",
       "950  3941795274      2\n",
       "340  1404934699      2\n",
       "84    351125977      2"
      ]
     },
     "metadata": {},
     "output_type": "display_data"
    },
    {
     "data": {
      "text/html": [
       "<div>\n",
       "<style scoped>\n",
       "    .dataframe tbody tr th:only-of-type {\n",
       "        vertical-align: middle;\n",
       "    }\n",
       "\n",
       "    .dataframe tbody tr th {\n",
       "        vertical-align: top;\n",
       "    }\n",
       "\n",
       "    .dataframe thead th {\n",
       "        text-align: right;\n",
       "    }\n",
       "</style>\n",
       "<table border=\"1\" class=\"dataframe\">\n",
       "  <thead>\n",
       "    <tr style=\"text-align: right;\">\n",
       "      <th></th>\n",
       "      <th>visitorid</th>\n",
       "      <th>group</th>\n",
       "    </tr>\n",
       "  </thead>\n",
       "  <tbody>\n",
       "    <tr>\n",
       "      <td>2</td>\n",
       "      <td>8300375</td>\n",
       "      <td>2</td>\n",
       "    </tr>\n",
       "    <tr>\n",
       "      <td>44</td>\n",
       "      <td>199603092</td>\n",
       "      <td>2</td>\n",
       "    </tr>\n",
       "    <tr>\n",
       "      <td>51</td>\n",
       "      <td>232979603</td>\n",
       "      <td>2</td>\n",
       "    </tr>\n",
       "    <tr>\n",
       "      <td>55</td>\n",
       "      <td>237748145</td>\n",
       "      <td>2</td>\n",
       "    </tr>\n",
       "    <tr>\n",
       "      <td>66</td>\n",
       "      <td>276558944</td>\n",
       "      <td>2</td>\n",
       "    </tr>\n",
       "  </tbody>\n",
       "</table>\n",
       "</div>"
      ],
      "text/plain": [
       "    visitorid  group\n",
       "2     8300375      2\n",
       "44  199603092      2\n",
       "51  232979603      2\n",
       "55  237748145      2\n",
       "66  276558944      2"
      ]
     },
     "metadata": {},
     "output_type": "display_data"
    },
    {
     "name": "stdout",
     "output_type": "stream",
     "text": [
      "Доля дубликатов 4.845446950710109\n",
      "<class 'pandas.core.frame.DataFrame'>\n",
      "Int64Index: 1016 entries, 0 to 1196\n",
      "Data columns (total 5 columns):\n",
      "transactionid    1016 non-null int64\n",
      "visitorid        1016 non-null int64\n",
      "date             1016 non-null datetime64[ns]\n",
      "revenue          1016 non-null int64\n",
      "group            1016 non-null object\n",
      "dtypes: datetime64[ns](1), int64(3), object(1)\n",
      "memory usage: 47.6+ KB\n"
     ]
    }
   ],
   "source": [
    "#найдем аккаунты, попавшие в обе группы\n",
    "orders_group_check = orders.groupby('visitorid').agg({'group': 'nunique'}).reset_index()\n",
    "display(orders_group_check.sort_values(by = 'group', ascending = False).head())\n",
    "\n",
    "orders_double = orders_group_check[orders_group_check['group'] == 2]\n",
    "display(orders_double.head())\n",
    "print('Доля дубликатов', ((orders_double['visitorid'].count() / orders['visitorid'].value_counts().sum()) *100))\n",
    "dead_list = orders_double['visitorid']\n",
    "\n",
    "#уберем подобные дубликаты из таблицы\n",
    "orders = orders[np.logical_not(orders['visitorid'].isin(dead_list))]\n",
    "orders.info()"
   ]
  },
  {
   "cell_type": "markdown",
   "metadata": {},
   "source": [
    "### Вывод"
   ]
  },
  {
   "cell_type": "markdown",
   "metadata": {},
   "source": [
    "Проведена предобработка данных, в столбцах с датами изменен тип данных. Названия столбцов приведены к нижнему регистру. Данные проверены на наличие дубликатов. Проверка осуществлена не по каждому столбцу, а по всему датасету, так как все значения в столбцах являются идентифицирующими признаками события. \n",
    "Обнаружены пользователи, попавшие в обе группы, таких оказалось 4,84% от всех пользователей. Для чистоы анализа предлагается их исключить. "
   ]
  },
  {
   "cell_type": "markdown",
   "metadata": {},
   "source": [
    "## Задача №1 Приоритизация гипотез\n",
    "<a id='3'></a>"
   ]
  },
  {
   "cell_type": "markdown",
   "metadata": {},
   "source": [
    "### Применение фреймворка ICE для приоритизации гипотез\n",
    "<a id='4'></a>"
   ]
  },
  {
   "cell_type": "code",
   "execution_count": 36,
   "metadata": {},
   "outputs": [
    {
     "data": {
      "text/html": [
       "<div>\n",
       "<style scoped>\n",
       "    .dataframe tbody tr th:only-of-type {\n",
       "        vertical-align: middle;\n",
       "    }\n",
       "\n",
       "    .dataframe tbody tr th {\n",
       "        vertical-align: top;\n",
       "    }\n",
       "\n",
       "    .dataframe thead th {\n",
       "        text-align: right;\n",
       "    }\n",
       "</style>\n",
       "<table border=\"1\" class=\"dataframe\">\n",
       "  <thead>\n",
       "    <tr style=\"text-align: right;\">\n",
       "      <th></th>\n",
       "      <th>hypothesis</th>\n",
       "      <th>ice</th>\n",
       "    </tr>\n",
       "  </thead>\n",
       "  <tbody>\n",
       "    <tr>\n",
       "      <td>8</td>\n",
       "      <td>Запустить акцию, дающую скидку на товар в день...</td>\n",
       "      <td>16.0</td>\n",
       "    </tr>\n",
       "    <tr>\n",
       "      <td>0</td>\n",
       "      <td>Добавить два новых канала привлечения трафика,...</td>\n",
       "      <td>13.0</td>\n",
       "    </tr>\n",
       "    <tr>\n",
       "      <td>7</td>\n",
       "      <td>Добавить форму подписки на все основные страни...</td>\n",
       "      <td>11.0</td>\n",
       "    </tr>\n",
       "    <tr>\n",
       "      <td>6</td>\n",
       "      <td>Показать на главной странице баннеры с актуаль...</td>\n",
       "      <td>8.0</td>\n",
       "    </tr>\n",
       "    <tr>\n",
       "      <td>2</td>\n",
       "      <td>Добавить блоки рекомендаций товаров на сайт ин...</td>\n",
       "      <td>7.0</td>\n",
       "    </tr>\n",
       "    <tr>\n",
       "      <td>1</td>\n",
       "      <td>Запустить собственную службу доставки, что сок...</td>\n",
       "      <td>2.0</td>\n",
       "    </tr>\n",
       "    <tr>\n",
       "      <td>3</td>\n",
       "      <td>Изменить структура категорий, что увеличит кон...</td>\n",
       "      <td>1.0</td>\n",
       "    </tr>\n",
       "    <tr>\n",
       "      <td>4</td>\n",
       "      <td>Изменить цвет фона главной страницы, чтобы уве...</td>\n",
       "      <td>1.0</td>\n",
       "    </tr>\n",
       "    <tr>\n",
       "      <td>5</td>\n",
       "      <td>Добавить страницу отзывов клиентов о магазине,...</td>\n",
       "      <td>1.0</td>\n",
       "    </tr>\n",
       "  </tbody>\n",
       "</table>\n",
       "</div>"
      ],
      "text/plain": [
       "                                          hypothesis   ice\n",
       "8  Запустить акцию, дающую скидку на товар в день...  16.0\n",
       "0  Добавить два новых канала привлечения трафика,...  13.0\n",
       "7  Добавить форму подписки на все основные страни...  11.0\n",
       "6  Показать на главной странице баннеры с актуаль...   8.0\n",
       "2  Добавить блоки рекомендаций товаров на сайт ин...   7.0\n",
       "1  Запустить собственную службу доставки, что сок...   2.0\n",
       "3  Изменить структура категорий, что увеличит кон...   1.0\n",
       "4  Изменить цвет фона главной страницы, чтобы уве...   1.0\n",
       "5  Добавить страницу отзывов клиентов о магазине,...   1.0"
      ]
     },
     "metadata": {},
     "output_type": "display_data"
    },
    {
     "name": "stdout",
     "output_type": "stream",
     "text": [
      "['Добавить два новых канала привлечения трафика, что позволит привлекать на 30% больше пользователей'\n",
      " 'Запустить акцию, дающую скидку на товар в день рождения']\n"
     ]
    }
   ],
   "source": [
    "hypothesis['ice'] = (hypothesis['impact'] * hypothesis['confidence'] / hypothesis['efforts']).round()\n",
    "display(hypothesis[['hypothesis', 'ice']].sort_values(by = 'ice', ascending = False))\n",
    "print(hypothesis[hypothesis['ice'] > 11]['hypothesis'].unique())"
   ]
  },
  {
   "cell_type": "markdown",
   "metadata": {},
   "source": [
    "<div class=\"alert alert-block alert-warning\">\n",
    "    \n",
    "\n",
    "__Комментарий от ревьюера №1__\n",
    "\n",
    "В столбце ICE можно было бы округлить данные для красоты.\n",
    "</div>"
   ]
  },
  {
   "cell_type": "markdown",
   "metadata": {},
   "source": [
    "<div class=\"alert alert-block alert-info\"> <b>Комментарий студента:</b> Спасибо, поправил. </div> "
   ]
  },
  {
   "cell_type": "markdown",
   "metadata": {},
   "source": [
    "<div class=\"alert alert-block alert-success\">\n",
    "    \n",
    "\n",
    "__Комментарий от ревьюера №2__\n",
    "\n",
    "👍\n",
    "</div>"
   ]
  },
  {
   "cell_type": "markdown",
   "metadata": {},
   "source": [
    "#### Вывод"
   ]
  },
  {
   "cell_type": "markdown",
   "metadata": {},
   "source": [
    "Исходя из полученных данных после применения метода ICE, к перспктивным гипотезам можно отнести:\n",
    "* Запустить акцию, дающую скидку на товар в день рождения;\n",
    "* Добавить два новых канала привлечения трафика, что позволит привлекать на 30% больше пользователей;\n",
    "* Добавить форму подписки на все основные страницы, чтобы собрать базу клиентов для email-рассылок."
   ]
  },
  {
   "cell_type": "markdown",
   "metadata": {},
   "source": [
    "### Применение фреймворка RICE для приоритизации гипотез\n",
    "<a id='5'></a>"
   ]
  },
  {
   "cell_type": "code",
   "execution_count": 37,
   "metadata": {},
   "outputs": [
    {
     "data": {
      "text/html": [
       "<div>\n",
       "<style scoped>\n",
       "    .dataframe tbody tr th:only-of-type {\n",
       "        vertical-align: middle;\n",
       "    }\n",
       "\n",
       "    .dataframe tbody tr th {\n",
       "        vertical-align: top;\n",
       "    }\n",
       "\n",
       "    .dataframe thead th {\n",
       "        text-align: right;\n",
       "    }\n",
       "</style>\n",
       "<table border=\"1\" class=\"dataframe\">\n",
       "  <thead>\n",
       "    <tr style=\"text-align: right;\">\n",
       "      <th></th>\n",
       "      <th>hypothesis</th>\n",
       "      <th>rice</th>\n",
       "    </tr>\n",
       "  </thead>\n",
       "  <tbody>\n",
       "    <tr>\n",
       "      <td>7</td>\n",
       "      <td>Добавить форму подписки на все основные страни...</td>\n",
       "      <td>112.0</td>\n",
       "    </tr>\n",
       "    <tr>\n",
       "      <td>2</td>\n",
       "      <td>Добавить блоки рекомендаций товаров на сайт ин...</td>\n",
       "      <td>56.0</td>\n",
       "    </tr>\n",
       "    <tr>\n",
       "      <td>0</td>\n",
       "      <td>Добавить два новых канала привлечения трафика,...</td>\n",
       "      <td>40.0</td>\n",
       "    </tr>\n",
       "    <tr>\n",
       "      <td>6</td>\n",
       "      <td>Показать на главной странице баннеры с актуаль...</td>\n",
       "      <td>40.0</td>\n",
       "    </tr>\n",
       "    <tr>\n",
       "      <td>8</td>\n",
       "      <td>Запустить акцию, дающую скидку на товар в день...</td>\n",
       "      <td>16.2</td>\n",
       "    </tr>\n",
       "    <tr>\n",
       "      <td>3</td>\n",
       "      <td>Изменить структура категорий, что увеличит кон...</td>\n",
       "      <td>9.0</td>\n",
       "    </tr>\n",
       "    <tr>\n",
       "      <td>1</td>\n",
       "      <td>Запустить собственную службу доставки, что сок...</td>\n",
       "      <td>4.0</td>\n",
       "    </tr>\n",
       "    <tr>\n",
       "      <td>5</td>\n",
       "      <td>Добавить страницу отзывов клиентов о магазине,...</td>\n",
       "      <td>4.0</td>\n",
       "    </tr>\n",
       "    <tr>\n",
       "      <td>4</td>\n",
       "      <td>Изменить цвет фона главной страницы, чтобы уве...</td>\n",
       "      <td>3.0</td>\n",
       "    </tr>\n",
       "  </tbody>\n",
       "</table>\n",
       "</div>"
      ],
      "text/plain": [
       "                                          hypothesis   rice\n",
       "7  Добавить форму подписки на все основные страни...  112.0\n",
       "2  Добавить блоки рекомендаций товаров на сайт ин...   56.0\n",
       "0  Добавить два новых канала привлечения трафика,...   40.0\n",
       "6  Показать на главной странице баннеры с актуаль...   40.0\n",
       "8  Запустить акцию, дающую скидку на товар в день...   16.2\n",
       "3  Изменить структура категорий, что увеличит кон...    9.0\n",
       "1  Запустить собственную службу доставки, что сок...    4.0\n",
       "5  Добавить страницу отзывов клиентов о магазине,...    4.0\n",
       "4  Изменить цвет фона главной страницы, чтобы уве...    3.0"
      ]
     },
     "metadata": {},
     "output_type": "display_data"
    },
    {
     "name": "stdout",
     "output_type": "stream",
     "text": [
      "['Добавить два новых канала привлечения трафика, что позволит привлекать на 30% больше пользователей'\n",
      " 'Добавить блоки рекомендаций товаров на сайт интернет магазина, чтобы повысить конверсию и средний чек заказа'\n",
      " 'Показать на главной странице баннеры с актуальными акциями и распродажами, чтобы увеличить конверсию'\n",
      " 'Добавить форму подписки на все основные страницы, чтобы собрать базу клиентов для email-рассылок']\n"
     ]
    }
   ],
   "source": [
    "hypothesis['rice'] = hypothesis['reach'] * hypothesis['impact'] * hypothesis['confidence'] / hypothesis['efforts']\n",
    "display(hypothesis[['hypothesis', 'rice']].sort_values(by = 'rice', ascending = False))\n",
    "print(hypothesis[hypothesis['rice'] >= 40]['hypothesis'].unique())"
   ]
  },
  {
   "cell_type": "markdown",
   "metadata": {},
   "source": [
    "<div class=\"alert alert-block alert-warning\">\n",
    "    \n",
    "\n",
    "__Комментарий от ревьюера №1__\n",
    "\n",
    "Результаты можно было бы объединить в единой таблице для наглядности. Также их можно было бы проранжировать и выделить цветом — https://pandas.pydata.org/pandas-docs/stable/user_guide/style.html\n",
    "\n",
    "</div>"
   ]
  },
  {
   "cell_type": "markdown",
   "metadata": {},
   "source": [
    "#### Вывод:\n",
    "Исходя из полученных данных после применения метода RICE, к перспктивным гипотезам можно отнести:\n",
    "* Добавить форму подписки на все основные страницы, чтобы собрать базу клиентов для email-рассылок;\n",
    "* Добавить блоки рекомендаций товаров на сайт интернет магазина, чтобы повысить конверсию и средний чек заказа;\n",
    "* Добавить два новых канала привлечения трафика, что позволит привлекать на 30% больше пользователей;\n",
    "* Показать на главной странице баннеры с актуальными акциями и распродажами, чтобы увеличить конверсию."
   ]
  },
  {
   "cell_type": "markdown",
   "metadata": {},
   "source": [
    "### Вывод по задаче:\n",
    "<a id='6'></a>"
   ]
  },
  {
   "cell_type": "markdown",
   "metadata": {},
   "source": [
    "Сравнивя результаты применения методов RICE и ICE, можно отметить изменение приоритизации гипотез. Метод RICE вывел на первое место гипотезы, которые не были лидерами после применения ICE. Это произошло из-за параметра reach, который характеризует охват пользователей затронутых изменениями, которые планируется внести. \n",
    "\n",
    "Не попали в лидеры RICE по этому параметру гипотеза о запуске акции, дающую скидку на товар в день рождения -  эта гипотеза имеет низкую оценку reach, так как, воззможно количество пользователей не дает стабильных продаж в рамках этой акции, или в сам день рождения пользователи не готовы совершать покупки, возможно, эсрок акции не должен ограничиваться только днем рождения, а включать какой-то период, например, 1-2 дня до дня рождения и после. Также может потребоваться дополнительный анализ поведения пользователей, чтобы оценить объем покупок, связанных с днем рождения пользователей. При этом стоит учитывать, что такие акции достаточно распространы в сфере услуг и торговле, как онлайн, так и оффлайн. \n",
    "\n",
    "Гипотезы \"Добавить форму подписки на все основные страницы, чтобы собрать базу клиентов для email-рассылок\" и \"Добавить блоки рекомендаций товаров на сайт интернет магазина, чтобы повысить конверсию и средний чек заказа\" лидируют так с этими изменениями столкнется каждый покупатель и эти изменения не являются дорогостоящими. "
   ]
  },
  {
   "cell_type": "markdown",
   "metadata": {},
   "source": [
    "<div class=\"alert alert-block alert-success\">\n",
    "    \n",
    "\n",
    "__Комментарий от ревьюера №1__\n",
    "\n",
    "В целом данный раздел сделан хорошо.\n",
    "\n",
    "</div>"
   ]
  },
  {
   "cell_type": "markdown",
   "metadata": {},
   "source": [
    "---"
   ]
  },
  {
   "cell_type": "markdown",
   "metadata": {},
   "source": [
    "## Задача 2. Анализ A/B-теста\n",
    "<a id='7'></a>"
   ]
  },
  {
   "cell_type": "markdown",
   "metadata": {},
   "source": [
    "### Построим график кумулятивной выручки по группам\n",
    "<a id='8'></a>"
   ]
  },
  {
   "cell_type": "code",
   "execution_count": 17,
   "metadata": {},
   "outputs": [
    {
     "data": {
      "text/html": [
       "<div>\n",
       "<style scoped>\n",
       "    .dataframe tbody tr th:only-of-type {\n",
       "        vertical-align: middle;\n",
       "    }\n",
       "\n",
       "    .dataframe tbody tr th {\n",
       "        vertical-align: top;\n",
       "    }\n",
       "\n",
       "    .dataframe thead th {\n",
       "        text-align: right;\n",
       "    }\n",
       "</style>\n",
       "<table border=\"1\" class=\"dataframe\">\n",
       "  <thead>\n",
       "    <tr style=\"text-align: right;\">\n",
       "      <th></th>\n",
       "      <th>group</th>\n",
       "      <th>date</th>\n",
       "      <th>revenue_sum</th>\n",
       "      <th>orders_count</th>\n",
       "      <th>buyers_count</th>\n",
       "    </tr>\n",
       "  </thead>\n",
       "  <tbody>\n",
       "    <tr>\n",
       "      <td>0</td>\n",
       "      <td>A</td>\n",
       "      <td>2019-08-01</td>\n",
       "      <td>142779</td>\n",
       "      <td>23</td>\n",
       "      <td>19</td>\n",
       "    </tr>\n",
       "    <tr>\n",
       "      <td>1</td>\n",
       "      <td>B</td>\n",
       "      <td>2019-08-01</td>\n",
       "      <td>59758</td>\n",
       "      <td>17</td>\n",
       "      <td>17</td>\n",
       "    </tr>\n",
       "    <tr>\n",
       "      <td>2</td>\n",
       "      <td>A</td>\n",
       "      <td>2019-08-02</td>\n",
       "      <td>91602</td>\n",
       "      <td>19</td>\n",
       "      <td>18</td>\n",
       "    </tr>\n",
       "    <tr>\n",
       "      <td>3</td>\n",
       "      <td>B</td>\n",
       "      <td>2019-08-02</td>\n",
       "      <td>162043</td>\n",
       "      <td>23</td>\n",
       "      <td>22</td>\n",
       "    </tr>\n",
       "    <tr>\n",
       "      <td>4</td>\n",
       "      <td>A</td>\n",
       "      <td>2019-08-03</td>\n",
       "      <td>112473</td>\n",
       "      <td>24</td>\n",
       "      <td>24</td>\n",
       "    </tr>\n",
       "  </tbody>\n",
       "</table>\n",
       "</div>"
      ],
      "text/plain": [
       "  group       date  revenue_sum  orders_count  buyers_count\n",
       "0     A 2019-08-01       142779            23            19\n",
       "1     B 2019-08-01        59758            17            17\n",
       "2     A 2019-08-02        91602            19            18\n",
       "3     B 2019-08-02       162043            23            22\n",
       "4     A 2019-08-03       112473            24            24"
      ]
     },
     "metadata": {},
     "output_type": "display_data"
    }
   ],
   "source": [
    "#сгруппируем данные таблицы orders по дате и группе\n",
    "orders_group_date = (orders.groupby(['group', 'date']).agg({'revenue':'sum', 'transactionid':'nunique', 'visitorid':'nunique' })\n",
    "                    .sort_values('date').reset_index())\n",
    "orders_group_date.columns = ['group','date', 'revenue_sum', 'orders_count', 'buyers_count']\n",
    "display(orders_group_date.head())"
   ]
  },
  {
   "cell_type": "code",
   "execution_count": 39,
   "metadata": {},
   "outputs": [
    {
     "data": {
      "text/html": [
       "<div>\n",
       "<style scoped>\n",
       "    .dataframe tbody tr th:only-of-type {\n",
       "        vertical-align: middle;\n",
       "    }\n",
       "\n",
       "    .dataframe tbody tr th {\n",
       "        vertical-align: top;\n",
       "    }\n",
       "\n",
       "    .dataframe thead th {\n",
       "        text-align: right;\n",
       "    }\n",
       "</style>\n",
       "<table border=\"1\" class=\"dataframe\">\n",
       "  <thead>\n",
       "    <tr style=\"text-align: right;\">\n",
       "      <th></th>\n",
       "      <th>index</th>\n",
       "      <th>group</th>\n",
       "      <th>date</th>\n",
       "      <th>revenue_sum</th>\n",
       "      <th>orders_count</th>\n",
       "      <th>buyers_count</th>\n",
       "      <th>revenue_cumsum</th>\n",
       "    </tr>\n",
       "  </thead>\n",
       "  <tbody>\n",
       "    <tr>\n",
       "      <td>0</td>\n",
       "      <td>0</td>\n",
       "      <td>A</td>\n",
       "      <td>2019-08-01</td>\n",
       "      <td>142779</td>\n",
       "      <td>23</td>\n",
       "      <td>19</td>\n",
       "      <td>142779</td>\n",
       "    </tr>\n",
       "    <tr>\n",
       "      <td>1</td>\n",
       "      <td>2</td>\n",
       "      <td>A</td>\n",
       "      <td>2019-08-02</td>\n",
       "      <td>91602</td>\n",
       "      <td>19</td>\n",
       "      <td>18</td>\n",
       "      <td>234381</td>\n",
       "    </tr>\n",
       "    <tr>\n",
       "      <td>2</td>\n",
       "      <td>4</td>\n",
       "      <td>A</td>\n",
       "      <td>2019-08-03</td>\n",
       "      <td>112473</td>\n",
       "      <td>24</td>\n",
       "      <td>24</td>\n",
       "      <td>346854</td>\n",
       "    </tr>\n",
       "    <tr>\n",
       "      <td>3</td>\n",
       "      <td>6</td>\n",
       "      <td>A</td>\n",
       "      <td>2019-08-04</td>\n",
       "      <td>41176</td>\n",
       "      <td>11</td>\n",
       "      <td>11</td>\n",
       "      <td>388030</td>\n",
       "    </tr>\n",
       "    <tr>\n",
       "      <td>4</td>\n",
       "      <td>8</td>\n",
       "      <td>A</td>\n",
       "      <td>2019-08-05</td>\n",
       "      <td>86383</td>\n",
       "      <td>22</td>\n",
       "      <td>22</td>\n",
       "      <td>474413</td>\n",
       "    </tr>\n",
       "  </tbody>\n",
       "</table>\n",
       "</div>"
      ],
      "text/plain": [
       "   index group       date  revenue_sum  orders_count  buyers_count  \\\n",
       "0      0     A 2019-08-01       142779            23            19   \n",
       "1      2     A 2019-08-02        91602            19            18   \n",
       "2      4     A 2019-08-03       112473            24            24   \n",
       "3      6     A 2019-08-04        41176            11            11   \n",
       "4      8     A 2019-08-05        86383            22            22   \n",
       "\n",
       "   revenue_cumsum  \n",
       "0          142779  \n",
       "1          234381  \n",
       "2          346854  \n",
       "3          388030  \n",
       "4          474413  "
      ]
     },
     "metadata": {},
     "output_type": "display_data"
    }
   ],
   "source": [
    "#сделаем срез по группе А и посчитаем куммулятивную выручку\n",
    "orders_group_date_a = orders_group_date[orders_group_date['group'] == 'A'].reset_index()\n",
    "orders_group_date_a['revenue_cumsum'] = orders_group_date_a['revenue_sum'].cumsum()\n",
    "display(orders_group_date_a.head())"
   ]
  },
  {
   "cell_type": "code",
   "execution_count": 40,
   "metadata": {},
   "outputs": [
    {
     "data": {
      "text/html": [
       "<div>\n",
       "<style scoped>\n",
       "    .dataframe tbody tr th:only-of-type {\n",
       "        vertical-align: middle;\n",
       "    }\n",
       "\n",
       "    .dataframe tbody tr th {\n",
       "        vertical-align: top;\n",
       "    }\n",
       "\n",
       "    .dataframe thead th {\n",
       "        text-align: right;\n",
       "    }\n",
       "</style>\n",
       "<table border=\"1\" class=\"dataframe\">\n",
       "  <thead>\n",
       "    <tr style=\"text-align: right;\">\n",
       "      <th></th>\n",
       "      <th>index</th>\n",
       "      <th>group</th>\n",
       "      <th>date</th>\n",
       "      <th>revenue_sum</th>\n",
       "      <th>orders_count</th>\n",
       "      <th>buyers_count</th>\n",
       "      <th>revenue_cumsum</th>\n",
       "    </tr>\n",
       "  </thead>\n",
       "  <tbody>\n",
       "    <tr>\n",
       "      <td>0</td>\n",
       "      <td>1</td>\n",
       "      <td>B</td>\n",
       "      <td>2019-08-01</td>\n",
       "      <td>59758</td>\n",
       "      <td>17</td>\n",
       "      <td>17</td>\n",
       "      <td>59758</td>\n",
       "    </tr>\n",
       "    <tr>\n",
       "      <td>1</td>\n",
       "      <td>3</td>\n",
       "      <td>B</td>\n",
       "      <td>2019-08-02</td>\n",
       "      <td>162043</td>\n",
       "      <td>23</td>\n",
       "      <td>22</td>\n",
       "      <td>221801</td>\n",
       "    </tr>\n",
       "    <tr>\n",
       "      <td>2</td>\n",
       "      <td>5</td>\n",
       "      <td>B</td>\n",
       "      <td>2019-08-03</td>\n",
       "      <td>67049</td>\n",
       "      <td>14</td>\n",
       "      <td>14</td>\n",
       "      <td>288850</td>\n",
       "    </tr>\n",
       "    <tr>\n",
       "      <td>3</td>\n",
       "      <td>7</td>\n",
       "      <td>B</td>\n",
       "      <td>2019-08-04</td>\n",
       "      <td>96890</td>\n",
       "      <td>14</td>\n",
       "      <td>13</td>\n",
       "      <td>385740</td>\n",
       "    </tr>\n",
       "    <tr>\n",
       "      <td>4</td>\n",
       "      <td>9</td>\n",
       "      <td>B</td>\n",
       "      <td>2019-08-05</td>\n",
       "      <td>89908</td>\n",
       "      <td>21</td>\n",
       "      <td>21</td>\n",
       "      <td>475648</td>\n",
       "    </tr>\n",
       "  </tbody>\n",
       "</table>\n",
       "</div>"
      ],
      "text/plain": [
       "   index group       date  revenue_sum  orders_count  buyers_count  \\\n",
       "0      1     B 2019-08-01        59758            17            17   \n",
       "1      3     B 2019-08-02       162043            23            22   \n",
       "2      5     B 2019-08-03        67049            14            14   \n",
       "3      7     B 2019-08-04        96890            14            13   \n",
       "4      9     B 2019-08-05        89908            21            21   \n",
       "\n",
       "   revenue_cumsum  \n",
       "0           59758  \n",
       "1          221801  \n",
       "2          288850  \n",
       "3          385740  \n",
       "4          475648  "
      ]
     },
     "metadata": {},
     "output_type": "display_data"
    }
   ],
   "source": [
    "#сделаем срез по группе B и посчитаем куммулятивную выручку\n",
    "orders_group_date_b = orders_group_date[orders_group_date['group'] == 'B'].reset_index()\n",
    "orders_group_date_b['revenue_cumsum'] = orders_group_date_b['revenue_sum'].cumsum()\n",
    "display(orders_group_date_b.head())"
   ]
  },
  {
   "cell_type": "code",
   "execution_count": 41,
   "metadata": {},
   "outputs": [
    {
     "data": {
      "image/png": "[encoded data removed]",
      "text/plain": [
       "<Figure size 1080x720 with 1 Axes>"
      ]
     },
     "metadata": {},
     "output_type": "display_data"
    }
   ],
   "source": [
    "#отобразим куммулятивные продажи по группам на графике\n",
    "plt.figure(figsize = (15, 10))\n",
    "sns.lineplot(data = orders_group_date_a, x = 'date', y = 'revenue_cumsum')\n",
    "sns.lineplot(data = orders_group_date_b, x = 'date', y = 'revenue_cumsum')\n",
    "plt.xlabel(\"Дата\", fontsize = 25)\n",
    "plt.ylabel(\"Кумулятивная выручка\", fontsize = 25)\n",
    "plt.title(\"Изменение кумулятивной выручки по группам\", fontsize = 25)\n",
    "plt.legend([ 'Кумулятивная выручка группа А', 'Кумулятивная выручка группа Б'])\n",
    "plt.annotate('скачок', xy=('2019-08-17', 2800000), xytext=('2019-08-10', 3500000),\n",
    "            arrowprops=dict(facecolor='g'))\n",
    "plt.annotate('отрыв', xy=('2019-08-05', 800000), xytext=('2019-08-05', 2000000),\n",
    "            arrowprops=dict(facecolor='g')) \n",
    "plt.show()"
   ]
  },
  {
   "cell_type": "markdown",
   "metadata": {},
   "source": [
    "<div class=\"alert alert-block alert-warning\">\n",
    "    \n",
    "\n",
    "__Комментарий от ревьюера №1__\n",
    "\n",
    "Обрати внимание на предупреждение, его можно убрать, добавив вот эти строки:\n",
    "    \n",
    "- from pandas.plotting import register_matplotlib_converters\n",
    "- register_matplotlib_converters()\n",
    "    \n",
    "Сейчас график строится и без них, но в обновленных версиях matplotlib скорее всего без этого не обойтись.\n",
    "</div>"
   ]
  },
  {
   "cell_type": "code",
   "execution_count": 42,
   "metadata": {},
   "outputs": [
    {
     "name": "stdout",
     "output_type": "stream",
     "text": [
      "1429920\n"
     ]
    },
    {
     "data": {
      "text/html": [
       "<div>\n",
       "<style scoped>\n",
       "    .dataframe tbody tr th:only-of-type {\n",
       "        vertical-align: middle;\n",
       "    }\n",
       "\n",
       "    .dataframe tbody tr th {\n",
       "        vertical-align: top;\n",
       "    }\n",
       "\n",
       "    .dataframe thead th {\n",
       "        text-align: right;\n",
       "    }\n",
       "</style>\n",
       "<table border=\"1\" class=\"dataframe\">\n",
       "  <thead>\n",
       "    <tr style=\"text-align: right;\">\n",
       "      <th></th>\n",
       "      <th>index</th>\n",
       "      <th>group</th>\n",
       "      <th>date</th>\n",
       "      <th>revenue_sum</th>\n",
       "      <th>orders_count</th>\n",
       "      <th>buyers_count</th>\n",
       "      <th>revenue_cumsum</th>\n",
       "    </tr>\n",
       "  </thead>\n",
       "  <tbody>\n",
       "    <tr>\n",
       "      <td>18</td>\n",
       "      <td>36</td>\n",
       "      <td>B</td>\n",
       "      <td>2019-08-19</td>\n",
       "      <td>1429920</td>\n",
       "      <td>21</td>\n",
       "      <td>20</td>\n",
       "      <td>3620785</td>\n",
       "    </tr>\n",
       "  </tbody>\n",
       "</table>\n",
       "</div>"
      ],
      "text/plain": [
       "    index group       date  revenue_sum  orders_count  buyers_count  \\\n",
       "18     36     B 2019-08-19      1429920            21            20   \n",
       "\n",
       "    revenue_cumsum  \n",
       "18         3620785  "
      ]
     },
     "metadata": {},
     "output_type": "display_data"
    }
   ],
   "source": [
    "#график по группе B имеет резкий скачок в августе 2019 года, необходимо изучить этот выброс\n",
    "print(orders_group_date_b['revenue_sum'].max())\n",
    "display(orders_group_date_b[orders_group_date_b['revenue_sum'] == 1429920])"
   ]
  },
  {
   "cell_type": "code",
   "execution_count": 43,
   "metadata": {
    "scrolled": false
   },
   "outputs": [
    {
     "data": {
      "image/png": "[encoded data removed]",
      "text/plain": [
       "<Figure size 432x288 with 1 Axes>"
      ]
     },
     "metadata": {},
     "output_type": "display_data"
    },
    {
     "data": {
      "image/png": "[encoded data removed]",
      "text/plain": [
       "<Figure size 432x288 with 1 Axes>"
      ]
     },
     "metadata": {},
     "output_type": "display_data"
    },
    {
     "name": "stdout",
     "output_type": "stream",
     "text": [
      "Максимальное нормально значение по выручке для группы А: 19349.75\n",
      "Межквартильный диапазон по выручке для группы А: 7274.0\n",
      "Максимальное нормально значение по выручке для группы B: 18057.0\n",
      "Межквартильный диапазон по выручке для группы B: 6710.5\n"
     ]
    }
   ],
   "source": [
    "#нужно проверить все данные на выбросы\n",
    "orders_a = orders[orders['group'] == 'A']\n",
    "orders_b = orders[orders['group'] == 'B']\n",
    "\n",
    "sns.boxplot(orders_a['revenue'])\n",
    "plt.show()\n",
    "sns.boxplot(orders_b['revenue'])\n",
    "plt.show()\n",
    "\n",
    "#посчитаем вернхнюю границу нормальных значений\n",
    "Q1_a = orders_a['revenue'].quantile(0.25)\n",
    "Q3_a = orders_a['revenue'].quantile(0.75)\n",
    "IQR_a = Q3_a - Q1_a\n",
    "maximum_a = Q3_a+(1.5*IQR_a)\n",
    "print('Максимальное нормально значение по выручке для группы А:', maximum_a)\n",
    "print('Межквартильный диапазон по выручке для группы А:', IQR_a)\n",
    "\n",
    "#проделаем то же самое для группы B\n",
    "Q1_b = orders_b['revenue'].quantile(0.25)\n",
    "Q3_b = orders_b['revenue'].quantile(0.75)\n",
    "IQR_b = Q3_b - Q1_b\n",
    "maximum_b = Q3_b+(1.5*IQR_b)\n",
    "print('Максимальное нормально значение по выручке для группы B:', maximum_b)\n",
    "print('Межквартильный диапазон по выручке для группы B:', IQR_b)"
   ]
  },
  {
   "cell_type": "code",
   "execution_count": 44,
   "metadata": {},
   "outputs": [],
   "source": [
    "#сделаем срез, избавимся от выбросов, пересчитаем кумулятивную выручку и построим новый график\n",
    "orders_query_a = orders_a[orders_a['revenue'] <= 18918]\n",
    "orders_query_b = orders_b[orders_b['revenue'] <= 18919]\n",
    "\n",
    "#сгруппируем данные таблицы по дате\n",
    "#A\n",
    "orders_group_query_a = (orders_query_a.groupby(['group', 'date']).agg({'revenue':'sum', 'transactionid':'nunique', 'visitorid':'nunique' })\n",
    "                    .sort_values('date').reset_index())\n",
    "orders_group_query_a.columns = ['group','date', 'revenue_sum', 'orders_count', 'buyers_count']\n",
    "orders_group_query_a['revenue_cumsum'] = orders_group_query_a['revenue_sum'].cumsum()\n",
    "#B\n",
    "orders_group_query_b = (orders_query_b.groupby(['group', 'date']).agg({'revenue':'sum', 'transactionid':'nunique', 'visitorid':'nunique' })\n",
    "                    .sort_values('date').reset_index())\n",
    "orders_group_query_b.columns = ['group','date', 'revenue_sum', 'orders_count', 'buyers_count']\n",
    "orders_group_query_b['revenue_cumsum'] = orders_group_query_b['revenue_sum'].cumsum()"
   ]
  },
  {
   "cell_type": "code",
   "execution_count": 45,
   "metadata": {},
   "outputs": [
    {
     "data": {
      "image/png": "[encoded data removed]",
      "text/plain": [
       "<Figure size 1080x720 with 1 Axes>"
      ]
     },
     "metadata": {},
     "output_type": "display_data"
    }
   ],
   "source": [
    "#отобразим куммулятивные продажи по группам на графике\n",
    "plt.figure(figsize = (15, 10))\n",
    "sns.lineplot(data = orders_group_query_a, x = 'date', y = 'revenue_cumsum')\n",
    "sns.lineplot(data = orders_group_query_b, x = 'date', y = 'revenue_cumsum')\n",
    "plt.xlabel(\"Дата\", fontsize = 25)\n",
    "plt.ylabel(\"Кумулятивная выручка\", fontsize = 25)\n",
    "plt.title(\"Изменение кумулятивной выручки по группам (без выбросов)\", fontsize = 25)\n",
    "plt.legend([ 'Кумулятивная выручка группа А', 'Кумулятивная выручка группа Б'])\n",
    "plt.annotate('отрыв', xy=('2019-08-05', 800000), xytext=('2019-08-05', 2000000),\n",
    "            arrowprops=dict(facecolor='g')) \n",
    "plt.show()"
   ]
  },
  {
   "cell_type": "markdown",
   "metadata": {},
   "source": [
    "#### Вывод"
   ]
  },
  {
   "cell_type": "markdown",
   "metadata": {},
   "source": [
    "На первом графике кумулятивной выручки был обнаружен выброс в группе B 19 августа 2019 года. По графику кумулятивная выручка группы B выше, чем кумулятивная выручка группы A. Был проведен дополнительный анализ на предмет наличия выбросов в обоих группах (в группе B больше), проведена дополнительная обработка данных по исключение выбросов и посртроен новый график. Во втором случае результаты первого графика подтвердились, кмулятивная выручка группы B выше. "
   ]
  },
  {
   "cell_type": "markdown",
   "metadata": {},
   "source": [
    "<div class=\"alert alert-block alert-warning\">\n",
    "    \n",
    "\n",
    "__Комментарий от ревьюера №1__\n",
    "\n",
    "На график можно было добавить аннотации для наглядности через такой код:  \n",
    "<code>plt.annotate('скачок', xy=('2019-08-17', 2800000), xytext=('2019-08-10', 3500000),\n",
    "            arrowprops=dict(facecolor='g'))\n",
    "plt.annotate('отрыв', xy=('2019-08-05', 800000), xytext=('2019-08-05', 2000000),\n",
    "            arrowprops=dict(facecolor='g')) </code>\n",
    "</div>"
   ]
  },
  {
   "cell_type": "markdown",
   "metadata": {},
   "source": [
    "<div class=\"alert alert-block alert-info\"> <b>Комментарий студента:</b> WOW! Спасибо за подсказку, выглядит круто! </div> "
   ]
  },
  {
   "cell_type": "markdown",
   "metadata": {},
   "source": [
    "<div class=\"alert alert-block alert-success\">\n",
    "    \n",
    "\n",
    "__Комментарий от ревьюера №2__\n",
    "\n",
    "👍\n",
    "</div>"
   ]
  },
  {
   "cell_type": "markdown",
   "metadata": {},
   "source": [
    "### Построим график кумулятивного среднего чека по группам\n",
    "<a id='9'></a>"
   ]
  },
  {
   "cell_type": "code",
   "execution_count": 46,
   "metadata": {},
   "outputs": [],
   "source": [
    "#посчитаем кумулятивный средний чек\n",
    "orders_group_date_a['orders_cumsum'] = orders_group_date_a['orders_count'].cumsum()\n",
    "orders_group_date_b['orders_cumsum'] = orders_group_date_b['orders_count'].cumsum()\n",
    "\n",
    "orders_group_date_a['mean_check_cumsum'] = orders_group_date_a['revenue_cumsum'] / orders_group_date_a['orders_cumsum']\n",
    "orders_group_date_b['mean_check_cumsum'] = orders_group_date_b['revenue_cumsum'] / orders_group_date_b['orders_cumsum']"
   ]
  },
  {
   "cell_type": "code",
   "execution_count": 47,
   "metadata": {},
   "outputs": [
    {
     "data": {
      "image/png": "[encoded data removed]",
      "text/plain": [
       "<Figure size 1080x720 with 1 Axes>"
      ]
     },
     "metadata": {},
     "output_type": "display_data"
    }
   ],
   "source": [
    "#отобразим кумулятивный средний чек на графике\n",
    "plt.figure(figsize = (15, 10))\n",
    "sns.lineplot(data = orders_group_date_a, x = 'date', y = 'mean_check_cumsum')\n",
    "sns.lineplot(data = orders_group_date_b, x = 'date', y = 'mean_check_cumsum')\n",
    "plt.xlabel(\"Дата\", fontsize = 25)\n",
    "plt.ylabel(\"Кумулятивный средний чек\", fontsize = 25)\n",
    "plt.title(\"Изменение кумулятивного среднего чека по группам\", fontsize = 25)\n",
    "plt.legend([ 'Кумулятивный средний чек группа А', 'Кумулятивный средний чек группа Б'])\n",
    "plt.annotate('скачёк', xy=('2019-08-18', 8000), xytext=('2019-08-18', 10000),\n",
    "            arrowprops=dict(facecolor='g')) \n",
    "plt.show()"
   ]
  },
  {
   "cell_type": "markdown",
   "metadata": {},
   "source": [
    "#### Вывод"
   ]
  },
  {
   "cell_type": "markdown",
   "metadata": {},
   "source": [
    "Как видно на графике, кумулятивное значение среднего чека по обеим группам (сособенно по группе Б) сильно колеблется. В группе Б на данные влияют выбросы в августе 2019 года."
   ]
  },
  {
   "cell_type": "markdown",
   "metadata": {},
   "source": [
    "### Построим график относительного изменения кумулятивного среднего чека группы B к группе A\n",
    "<a id='10'></a>"
   ]
  },
  {
   "cell_type": "code",
   "execution_count": 48,
   "metadata": {},
   "outputs": [
    {
     "data": {
      "image/png": "[encoded data removed]",
      "text/plain": [
       "<Figure size 1080x720 with 1 Axes>"
      ]
     },
     "metadata": {},
     "output_type": "display_data"
    }
   ],
   "source": [
    "plt.figure(figsize = (15, 10))\n",
    "plt.plot(orders_group_date_b['date'], (orders_group_date_b['mean_check_cumsum'])/(orders_group_date_a['mean_check_cumsum']) - 1)\n",
    "plt.xlabel(\"Дата\", fontsize = 25)\n",
    "plt.ylabel(\"Относительное изменение\", fontsize = 25)\n",
    "plt.title(\"Относительное изменения кумулятивного среднего чека группы B к группе A\", fontsize = 25)\n",
    "plt.axhline(y=0, color='black', linestyle='--')\n",
    "plt.grid(True)\n",
    "plt.show()"
   ]
  },
  {
   "cell_type": "markdown",
   "metadata": {},
   "source": [
    "<div class=\"alert alert-block alert-warning\">\n",
    "    \n",
    "\n",
    "__Комментарий от ревьюера №1__\n",
    "\n",
    "Тут легенда на графике выглядят лишней, у нас же нет раздела данных на категории.\n",
    "</div>"
   ]
  },
  {
   "cell_type": "markdown",
   "metadata": {},
   "source": [
    "<div class=\"alert alert-block alert-info\"> <b>Комментарий студента:</b> Поправил </div> "
   ]
  },
  {
   "cell_type": "markdown",
   "metadata": {},
   "source": [
    "<div class=\"alert alert-block alert-success\">\n",
    "    \n",
    "\n",
    "__Комментарий от ревьюера №2__\n",
    "\n",
    "👍\n",
    "</div>"
   ]
  },
  {
   "cell_type": "markdown",
   "metadata": {},
   "source": [
    "#### Вывод"
   ]
  },
  {
   "cell_type": "markdown",
   "metadata": {},
   "source": [
    "Как видно на графике, в целом показатели по среднему чек у группы Б выше, чем у группы А, однако, в данных есть выбросы, которые влияют на результат."
   ]
  },
  {
   "cell_type": "markdown",
   "metadata": {},
   "source": [
    "### Построим график кумулятивной конверсии по группам\n",
    "<a id='11'></a>"
   ]
  },
  {
   "cell_type": "code",
   "execution_count": 49,
   "metadata": {},
   "outputs": [
    {
     "data": {
      "text/html": [
       "<div>\n",
       "<style scoped>\n",
       "    .dataframe tbody tr th:only-of-type {\n",
       "        vertical-align: middle;\n",
       "    }\n",
       "\n",
       "    .dataframe tbody tr th {\n",
       "        vertical-align: top;\n",
       "    }\n",
       "\n",
       "    .dataframe thead th {\n",
       "        text-align: right;\n",
       "    }\n",
       "</style>\n",
       "<table border=\"1\" class=\"dataframe\">\n",
       "  <thead>\n",
       "    <tr style=\"text-align: right;\">\n",
       "      <th></th>\n",
       "      <th>date</th>\n",
       "      <th>group</th>\n",
       "      <th>visitors</th>\n",
       "    </tr>\n",
       "  </thead>\n",
       "  <tbody>\n",
       "    <tr>\n",
       "      <td>0</td>\n",
       "      <td>2019-08-01</td>\n",
       "      <td>A</td>\n",
       "      <td>719</td>\n",
       "    </tr>\n",
       "    <tr>\n",
       "      <td>1</td>\n",
       "      <td>2019-08-01</td>\n",
       "      <td>B</td>\n",
       "      <td>713</td>\n",
       "    </tr>\n",
       "    <tr>\n",
       "      <td>2</td>\n",
       "      <td>2019-08-02</td>\n",
       "      <td>A</td>\n",
       "      <td>619</td>\n",
       "    </tr>\n",
       "    <tr>\n",
       "      <td>3</td>\n",
       "      <td>2019-08-02</td>\n",
       "      <td>B</td>\n",
       "      <td>581</td>\n",
       "    </tr>\n",
       "    <tr>\n",
       "      <td>4</td>\n",
       "      <td>2019-08-03</td>\n",
       "      <td>A</td>\n",
       "      <td>507</td>\n",
       "    </tr>\n",
       "  </tbody>\n",
       "</table>\n",
       "</div>"
      ],
      "text/plain": [
       "        date group  visitors\n",
       "0 2019-08-01     A       719\n",
       "1 2019-08-01     B       713\n",
       "2 2019-08-02     A       619\n",
       "3 2019-08-02     B       581\n",
       "4 2019-08-03     A       507"
      ]
     },
     "metadata": {},
     "output_type": "display_data"
    },
    {
     "data": {
      "text/html": [
       "<div>\n",
       "<style scoped>\n",
       "    .dataframe tbody tr th:only-of-type {\n",
       "        vertical-align: middle;\n",
       "    }\n",
       "\n",
       "    .dataframe tbody tr th {\n",
       "        vertical-align: top;\n",
       "    }\n",
       "\n",
       "    .dataframe thead th {\n",
       "        text-align: right;\n",
       "    }\n",
       "</style>\n",
       "<table border=\"1\" class=\"dataframe\">\n",
       "  <thead>\n",
       "    <tr style=\"text-align: right;\">\n",
       "      <th></th>\n",
       "      <th>date</th>\n",
       "      <th>group</th>\n",
       "      <th>visitors</th>\n",
       "    </tr>\n",
       "  </thead>\n",
       "  <tbody>\n",
       "    <tr>\n",
       "      <td>0</td>\n",
       "      <td>2019-08-01</td>\n",
       "      <td>A</td>\n",
       "      <td>719</td>\n",
       "    </tr>\n",
       "  </tbody>\n",
       "</table>\n",
       "</div>"
      ],
      "text/plain": [
       "        date group  visitors\n",
       "0 2019-08-01     A       719"
      ]
     },
     "metadata": {},
     "output_type": "display_data"
    },
    {
     "data": {
      "text/html": [
       "<div>\n",
       "<style scoped>\n",
       "    .dataframe tbody tr th:only-of-type {\n",
       "        vertical-align: middle;\n",
       "    }\n",
       "\n",
       "    .dataframe tbody tr th {\n",
       "        vertical-align: top;\n",
       "    }\n",
       "\n",
       "    .dataframe thead th {\n",
       "        text-align: right;\n",
       "    }\n",
       "</style>\n",
       "<table border=\"1\" class=\"dataframe\">\n",
       "  <thead>\n",
       "    <tr style=\"text-align: right;\">\n",
       "      <th></th>\n",
       "      <th>date</th>\n",
       "      <th>group</th>\n",
       "      <th>visitors</th>\n",
       "    </tr>\n",
       "  </thead>\n",
       "  <tbody>\n",
       "    <tr>\n",
       "      <td>1</td>\n",
       "      <td>2019-08-01</td>\n",
       "      <td>B</td>\n",
       "      <td>713</td>\n",
       "    </tr>\n",
       "  </tbody>\n",
       "</table>\n",
       "</div>"
      ],
      "text/plain": [
       "        date group  visitors\n",
       "1 2019-08-01     B       713"
      ]
     },
     "metadata": {},
     "output_type": "display_data"
    },
    {
     "data": {
      "text/html": [
       "<div>\n",
       "<style scoped>\n",
       "    .dataframe tbody tr th:only-of-type {\n",
       "        vertical-align: middle;\n",
       "    }\n",
       "\n",
       "    .dataframe tbody tr th {\n",
       "        vertical-align: top;\n",
       "    }\n",
       "\n",
       "    .dataframe thead th {\n",
       "        text-align: right;\n",
       "    }\n",
       "</style>\n",
       "<table border=\"1\" class=\"dataframe\">\n",
       "  <thead>\n",
       "    <tr style=\"text-align: right;\">\n",
       "      <th></th>\n",
       "      <th>index</th>\n",
       "      <th>group</th>\n",
       "      <th>date</th>\n",
       "      <th>revenue_sum</th>\n",
       "      <th>orders_count</th>\n",
       "      <th>buyers_count</th>\n",
       "      <th>revenue_cumsum</th>\n",
       "      <th>orders_cumsum</th>\n",
       "      <th>mean_check_cumsum</th>\n",
       "      <th>visitors</th>\n",
       "    </tr>\n",
       "  </thead>\n",
       "  <tbody>\n",
       "    <tr>\n",
       "      <td>0</td>\n",
       "      <td>0</td>\n",
       "      <td>A</td>\n",
       "      <td>2019-08-01</td>\n",
       "      <td>142779</td>\n",
       "      <td>23</td>\n",
       "      <td>19</td>\n",
       "      <td>142779</td>\n",
       "      <td>23</td>\n",
       "      <td>6207.782609</td>\n",
       "      <td>719</td>\n",
       "    </tr>\n",
       "  </tbody>\n",
       "</table>\n",
       "</div>"
      ],
      "text/plain": [
       "   index group       date  revenue_sum  orders_count  buyers_count  \\\n",
       "0      0     A 2019-08-01       142779            23            19   \n",
       "\n",
       "   revenue_cumsum  orders_cumsum  mean_check_cumsum  visitors  \n",
       "0          142779             23        6207.782609       719  "
      ]
     },
     "metadata": {},
     "output_type": "display_data"
    },
    {
     "data": {
      "text/html": [
       "<div>\n",
       "<style scoped>\n",
       "    .dataframe tbody tr th:only-of-type {\n",
       "        vertical-align: middle;\n",
       "    }\n",
       "\n",
       "    .dataframe tbody tr th {\n",
       "        vertical-align: top;\n",
       "    }\n",
       "\n",
       "    .dataframe thead th {\n",
       "        text-align: right;\n",
       "    }\n",
       "</style>\n",
       "<table border=\"1\" class=\"dataframe\">\n",
       "  <thead>\n",
       "    <tr style=\"text-align: right;\">\n",
       "      <th></th>\n",
       "      <th>index</th>\n",
       "      <th>group</th>\n",
       "      <th>date</th>\n",
       "      <th>revenue_sum</th>\n",
       "      <th>orders_count</th>\n",
       "      <th>buyers_count</th>\n",
       "      <th>revenue_cumsum</th>\n",
       "      <th>orders_cumsum</th>\n",
       "      <th>mean_check_cumsum</th>\n",
       "      <th>visitors</th>\n",
       "    </tr>\n",
       "  </thead>\n",
       "  <tbody>\n",
       "    <tr>\n",
       "      <td>0</td>\n",
       "      <td>1</td>\n",
       "      <td>B</td>\n",
       "      <td>2019-08-01</td>\n",
       "      <td>59758</td>\n",
       "      <td>17</td>\n",
       "      <td>17</td>\n",
       "      <td>59758</td>\n",
       "      <td>17</td>\n",
       "      <td>3515.176471</td>\n",
       "      <td>713</td>\n",
       "    </tr>\n",
       "  </tbody>\n",
       "</table>\n",
       "</div>"
      ],
      "text/plain": [
       "   index group       date  revenue_sum  orders_count  buyers_count  \\\n",
       "0      1     B 2019-08-01        59758            17            17   \n",
       "\n",
       "   revenue_cumsum  orders_cumsum  mean_check_cumsum  visitors  \n",
       "0           59758             17        3515.176471       713  "
      ]
     },
     "metadata": {},
     "output_type": "display_data"
    }
   ],
   "source": [
    "#добавим в таблицы с заказами данные по посетителями из таблицы visitors\n",
    "#сгруппируме данные по дате и группе\n",
    "visitors_group = visitors.groupby(['date', 'group']).agg({'visitors': 'sum'}).reset_index()\n",
    "display(visitors_group.head())\n",
    "\n",
    "#выделим данные по группам\n",
    "visitors_group_a = visitors_group[visitors_group['group'] == 'A']\n",
    "visitors_group_b = visitors_group[visitors_group['group'] == 'B']\n",
    "display(visitors_group_a.head(1))\n",
    "display(visitors_group_b.head(1))\n",
    "\n",
    "#объединим данные по группам по дате\n",
    "orders_visitors_a = orders_group_date_a.merge(visitors_group_a, on = ['date', 'group'])\n",
    "orders_visitors_b = orders_group_date_b.merge(visitors_group_b, on = ['date', 'group'])\n",
    "display(orders_visitors_a.head(1))\n",
    "display(orders_visitors_b.head(1))"
   ]
  },
  {
   "cell_type": "code",
   "execution_count": 50,
   "metadata": {},
   "outputs": [
    {
     "data": {
      "text/html": [
       "<div>\n",
       "<style scoped>\n",
       "    .dataframe tbody tr th:only-of-type {\n",
       "        vertical-align: middle;\n",
       "    }\n",
       "\n",
       "    .dataframe tbody tr th {\n",
       "        vertical-align: top;\n",
       "    }\n",
       "\n",
       "    .dataframe thead th {\n",
       "        text-align: right;\n",
       "    }\n",
       "</style>\n",
       "<table border=\"1\" class=\"dataframe\">\n",
       "  <thead>\n",
       "    <tr style=\"text-align: right;\">\n",
       "      <th></th>\n",
       "      <th>index</th>\n",
       "      <th>group</th>\n",
       "      <th>date</th>\n",
       "      <th>revenue_sum</th>\n",
       "      <th>orders_count</th>\n",
       "      <th>buyers_count</th>\n",
       "      <th>revenue_cumsum</th>\n",
       "      <th>orders_cumsum</th>\n",
       "      <th>mean_check_cumsum</th>\n",
       "      <th>visitors</th>\n",
       "      <th>visitors_cumsum</th>\n",
       "      <th>conversion_cumsum</th>\n",
       "    </tr>\n",
       "  </thead>\n",
       "  <tbody>\n",
       "    <tr>\n",
       "      <td>0</td>\n",
       "      <td>0</td>\n",
       "      <td>A</td>\n",
       "      <td>2019-08-01</td>\n",
       "      <td>142779</td>\n",
       "      <td>23</td>\n",
       "      <td>19</td>\n",
       "      <td>142779</td>\n",
       "      <td>23</td>\n",
       "      <td>6207.782609</td>\n",
       "      <td>719</td>\n",
       "      <td>719</td>\n",
       "      <td>0.031989</td>\n",
       "    </tr>\n",
       "  </tbody>\n",
       "</table>\n",
       "</div>"
      ],
      "text/plain": [
       "   index group       date  revenue_sum  orders_count  buyers_count  \\\n",
       "0      0     A 2019-08-01       142779            23            19   \n",
       "\n",
       "   revenue_cumsum  orders_cumsum  mean_check_cumsum  visitors  \\\n",
       "0          142779             23        6207.782609       719   \n",
       "\n",
       "   visitors_cumsum  conversion_cumsum  \n",
       "0              719           0.031989  "
      ]
     },
     "metadata": {},
     "output_type": "display_data"
    },
    {
     "data": {
      "text/html": [
       "<div>\n",
       "<style scoped>\n",
       "    .dataframe tbody tr th:only-of-type {\n",
       "        vertical-align: middle;\n",
       "    }\n",
       "\n",
       "    .dataframe tbody tr th {\n",
       "        vertical-align: top;\n",
       "    }\n",
       "\n",
       "    .dataframe thead th {\n",
       "        text-align: right;\n",
       "    }\n",
       "</style>\n",
       "<table border=\"1\" class=\"dataframe\">\n",
       "  <thead>\n",
       "    <tr style=\"text-align: right;\">\n",
       "      <th></th>\n",
       "      <th>index</th>\n",
       "      <th>group</th>\n",
       "      <th>date</th>\n",
       "      <th>revenue_sum</th>\n",
       "      <th>orders_count</th>\n",
       "      <th>buyers_count</th>\n",
       "      <th>revenue_cumsum</th>\n",
       "      <th>orders_cumsum</th>\n",
       "      <th>mean_check_cumsum</th>\n",
       "      <th>visitors</th>\n",
       "      <th>visitors_cumsum</th>\n",
       "      <th>conversion_cumsum</th>\n",
       "    </tr>\n",
       "  </thead>\n",
       "  <tbody>\n",
       "    <tr>\n",
       "      <td>0</td>\n",
       "      <td>1</td>\n",
       "      <td>B</td>\n",
       "      <td>2019-08-01</td>\n",
       "      <td>59758</td>\n",
       "      <td>17</td>\n",
       "      <td>17</td>\n",
       "      <td>59758</td>\n",
       "      <td>17</td>\n",
       "      <td>3515.176471</td>\n",
       "      <td>713</td>\n",
       "      <td>713</td>\n",
       "      <td>0.023843</td>\n",
       "    </tr>\n",
       "  </tbody>\n",
       "</table>\n",
       "</div>"
      ],
      "text/plain": [
       "   index group       date  revenue_sum  orders_count  buyers_count  \\\n",
       "0      1     B 2019-08-01        59758            17            17   \n",
       "\n",
       "   revenue_cumsum  orders_cumsum  mean_check_cumsum  visitors  \\\n",
       "0           59758             17        3515.176471       713   \n",
       "\n",
       "   visitors_cumsum  conversion_cumsum  \n",
       "0              713           0.023843  "
      ]
     },
     "metadata": {},
     "output_type": "display_data"
    }
   ],
   "source": [
    "#рассчитаем кумулятивную конверсию\n",
    "orders_visitors_a['visitors_cumsum'] = orders_visitors_a['visitors'].cumsum()\n",
    "orders_visitors_a['conversion_cumsum'] = orders_visitors_a['orders_cumsum']/orders_visitors_a['visitors_cumsum']\n",
    "\n",
    "orders_visitors_b['visitors_cumsum'] = orders_visitors_b['visitors'].cumsum()\n",
    "orders_visitors_b['conversion_cumsum'] = orders_visitors_b['orders_cumsum']/orders_visitors_b['visitors_cumsum']\n",
    "\n",
    "display(orders_visitors_a.head(1))\n",
    "display(orders_visitors_b.head(1))"
   ]
  },
  {
   "cell_type": "code",
   "execution_count": 51,
   "metadata": {},
   "outputs": [
    {
     "data": {
      "image/png": "[encoded data removed]",
      "text/plain": [
       "<Figure size 1080x360 with 1 Axes>"
      ]
     },
     "metadata": {},
     "output_type": "display_data"
    }
   ],
   "source": [
    "#построим график\n",
    "plt.figure(figsize = (15, 5))\n",
    "sns.lineplot(data = orders_visitors_a, x = 'date', y = 'conversion_cumsum')\n",
    "sns.lineplot(data = orders_visitors_b, x = 'date', y = 'conversion_cumsum')\n",
    "plt.xlabel(\"Дата\", fontsize = 15)\n",
    "plt.ylabel(\"Кумулятивная конверсия\", fontsize = 15)\n",
    "plt.title(\"Изменение кумулятивной конверсии по группам\", fontsize = 25)\n",
    "plt.legend([ 'Кумулятивная конверсия группа А', 'Кумулятивная конверсия группа Б'])\n",
    "plt.show()"
   ]
  },
  {
   "cell_type": "markdown",
   "metadata": {},
   "source": [
    "#### Вывод"
   ]
  },
  {
   "cell_type": "markdown",
   "metadata": {},
   "source": [
    "Как видно из графика, конверсия группы А вначале тестирования имела большую конверсию, но начиная ориентировочно с 6-го дня проведения теста, конверсия группы Б стала выше. После 10 дней конверсии сталии более стабильны на протяжении оставшегося времени тестирования, конверсия группы Б сохранило свое лидерство. "
   ]
  },
  {
   "cell_type": "markdown",
   "metadata": {},
   "source": [
    "### Построим график относительного изменения кумулятивной конверсии группы B к группе A\n",
    "<a id='12'></a>"
   ]
  },
  {
   "cell_type": "code",
   "execution_count": 52,
   "metadata": {},
   "outputs": [
    {
     "data": {
      "image/png": "[encoded data removed]",
      "text/plain": [
       "<Figure size 1080x720 with 1 Axes>"
      ]
     },
     "metadata": {},
     "output_type": "display_data"
    }
   ],
   "source": [
    "plt.figure(figsize = (15, 10))\n",
    "plt.plot(orders_visitors_b['date'], (orders_visitors_b['conversion_cumsum'])/(orders_visitors_a['conversion_cumsum']) - 1)\n",
    "plt.xlabel(\"Дата\", fontsize = 25)\n",
    "plt.ylabel(\"Относительное изменение\", fontsize = 25)\n",
    "plt.title(\"Относительное изменение кумулятивной конверсии группы B к группе A\", fontsize = 25)\n",
    "plt.axhline(y=0, color='black', linestyle='--')\n",
    "plt.grid(True)\n",
    "plt.show()"
   ]
  },
  {
   "cell_type": "markdown",
   "metadata": {},
   "source": [
    "#### Вывод"
   ]
  },
  {
   "cell_type": "markdown",
   "metadata": {},
   "source": [
    "Как видно на графике, конверсия группы Б выше отеосительно конверсии группы А, различие в диапазоне 10-20% в разные дни. "
   ]
  },
  {
   "cell_type": "markdown",
   "metadata": {},
   "source": [
    "<div class=\"alert alert-block alert-success\">\n",
    "    \n",
    "\n",
    "__Комментарий от ревьюера №1__\n",
    "\n",
    "Задания по кумулятивным местрикам выполнены тоже хорошо.\n",
    "</div>"
   ]
  },
  {
   "cell_type": "markdown",
   "metadata": {},
   "source": [
    "### Построим точечный график количества заказов по пользователям\n",
    "<a id='13'></a>"
   ]
  },
  {
   "cell_type": "code",
   "execution_count": 53,
   "metadata": {},
   "outputs": [
    {
     "data": {
      "text/html": [
       "<div>\n",
       "<style scoped>\n",
       "    .dataframe tbody tr th:only-of-type {\n",
       "        vertical-align: middle;\n",
       "    }\n",
       "\n",
       "    .dataframe tbody tr th {\n",
       "        vertical-align: top;\n",
       "    }\n",
       "\n",
       "    .dataframe thead th {\n",
       "        text-align: right;\n",
       "    }\n",
       "</style>\n",
       "<table border=\"1\" class=\"dataframe\">\n",
       "  <thead>\n",
       "    <tr style=\"text-align: right;\">\n",
       "      <th></th>\n",
       "      <th>visitorid</th>\n",
       "      <th>transactionid</th>\n",
       "    </tr>\n",
       "  </thead>\n",
       "  <tbody>\n",
       "    <tr>\n",
       "      <td>0</td>\n",
       "      <td>5114589</td>\n",
       "      <td>1</td>\n",
       "    </tr>\n",
       "    <tr>\n",
       "      <td>1</td>\n",
       "      <td>6958315</td>\n",
       "      <td>1</td>\n",
       "    </tr>\n",
       "    <tr>\n",
       "      <td>2</td>\n",
       "      <td>11685486</td>\n",
       "      <td>1</td>\n",
       "    </tr>\n",
       "    <tr>\n",
       "      <td>3</td>\n",
       "      <td>39475350</td>\n",
       "      <td>1</td>\n",
       "    </tr>\n",
       "    <tr>\n",
       "      <td>4</td>\n",
       "      <td>47206413</td>\n",
       "      <td>1</td>\n",
       "    </tr>\n",
       "  </tbody>\n",
       "</table>\n",
       "</div>"
      ],
      "text/plain": [
       "   visitorid  transactionid\n",
       "0    5114589              1\n",
       "1    6958315              1\n",
       "2   11685486              1\n",
       "3   39475350              1\n",
       "4   47206413              1"
      ]
     },
     "metadata": {},
     "output_type": "display_data"
    }
   ],
   "source": [
    "#посчитаем количество заказов для каждого пользователя\n",
    "orders_buy_count = orders.groupby('visitorid').agg({'transactionid': 'nunique'}).reset_index()\n",
    "display(orders_buy_count.head())"
   ]
  },
  {
   "cell_type": "code",
   "execution_count": 54,
   "metadata": {},
   "outputs": [
    {
     "data": {
      "image/png": "[encoded data removed]",
      "text/plain": [
       "<Figure size 1080x360 with 1 Axes>"
      ]
     },
     "metadata": {},
     "output_type": "display_data"
    }
   ],
   "source": [
    "#построим гистограмму распределения\n",
    "plt.figure(figsize = (15,5))\n",
    "sns.distplot(orders_buy_count['transactionid'])\n",
    "plt.xlabel(\"Количество покупок на 1 пользователя\", fontsize = 15)\n",
    "plt.ylabel(\"Плотность распределения\", fontsize = 15)\n",
    "plt.title(\"Гистограмма распределения количества покупок на одного пользователя\", fontsize = 15)\n",
    "plt.show()"
   ]
  },
  {
   "cell_type": "code",
   "execution_count": 55,
   "metadata": {},
   "outputs": [
    {
     "data": {
      "image/png": "[encoded data removed]",
      "text/plain": [
       "<Figure size 1080x720 with 1 Axes>"
      ]
     },
     "metadata": {},
     "output_type": "display_data"
    }
   ],
   "source": [
    "#построим точесную диаграмму\n",
    "plt.figure(figsize=(15, 10))\n",
    "x_values = pd.Series(range(0,len(orders_buy_count)))\n",
    "plt.scatter(x_values, orders_buy_count['transactionid']);\n",
    "plt.xlabel(\"Пользователи\", fontsize = 15)\n",
    "plt.ylabel(\"Количество заказов\", fontsize = 15)\n",
    "plt.title(\"Распределение количества заказов по пользователям\", fontsize = 25)\n",
    "plt.show()"
   ]
  },
  {
   "cell_type": "markdown",
   "metadata": {},
   "source": [
    "#### Вывод"
   ]
  },
  {
   "cell_type": "markdown",
   "metadata": {},
   "source": [
    "Из точечной диаграммы и гисторграммы распределения следует, что основная доля клиентов делала по одному заказу. Также достаточно большая плотность среди пользователей, сделавших 2 заказа. Стоит учитвать, что это могут быть выбросы."
   ]
  },
  {
   "cell_type": "markdown",
   "metadata": {},
   "source": [
    "### Посчитаем 95-й и 99-й перцентили количества заказов на пользователя\n",
    "<a id='14'></a>"
   ]
  },
  {
   "cell_type": "code",
   "execution_count": 56,
   "metadata": {},
   "outputs": [
    {
     "data": {
      "text/plain": [
       "array([1., 2.])"
      ]
     },
     "metadata": {},
     "output_type": "display_data"
    }
   ],
   "source": [
    "#принято отсеивать от 1 до 5%% \n",
    "display(np.percentile(orders_buy_count['transactionid'], [95, 99])) "
   ]
  },
  {
   "cell_type": "markdown",
   "metadata": {},
   "source": [
    "#### Вывод"
   ]
  },
  {
   "cell_type": "markdown",
   "metadata": {},
   "source": [
    "Не более 5% покупателей заказывали больше 2 раз и не более 1% больше 4. В качестве границы можно обозначить значение в 2 покупки."
   ]
  },
  {
   "cell_type": "markdown",
   "metadata": {},
   "source": [
    "### Построим точечный график стоимостей заказов\n",
    "<a id='15'></a>"
   ]
  },
  {
   "cell_type": "code",
   "execution_count": 57,
   "metadata": {},
   "outputs": [
    {
     "data": {
      "image/png": "[encoded data removed]",
      "text/plain": [
       "<Figure size 1080x360 with 1 Axes>"
      ]
     },
     "metadata": {},
     "output_type": "display_data"
    }
   ],
   "source": [
    "#построим гистограмму распределения\n",
    "plt.figure(figsize = (15,5))\n",
    "sns.distplot(orders['revenue'])\n",
    "plt.xlabel(\"Стоимость заказа\", fontsize = 15)\n",
    "plt.ylabel(\"Плотность распределения\", fontsize = 15)\n",
    "plt.title(\"Гистограмма распределения стоимости заказов\", fontsize = 15)\n",
    "plt.show()"
   ]
  },
  {
   "cell_type": "code",
   "execution_count": 58,
   "metadata": {
    "scrolled": false
   },
   "outputs": [
    {
     "data": {
      "image/png": "[encoded data removed]",
      "text/plain": [
       "<Figure size 1080x720 with 1 Axes>"
      ]
     },
     "metadata": {},
     "output_type": "display_data"
    }
   ],
   "source": [
    "plt.figure(figsize=(15, 10))\n",
    "x_values = pd.Series(range(0,len(orders)))\n",
    "plt.scatter(x_values, orders['revenue'])\n",
    "plt.xlabel(\"Пользователи\", fontsize = 15)\n",
    "plt.ylabel(\"Стоимость заказа\", fontsize = 15)\n",
    "plt.title(\"Распределение стоимости заказов по пользователям\", fontsize = 25)\n",
    "plt.show()"
   ]
  },
  {
   "cell_type": "markdown",
   "metadata": {},
   "source": [
    "<div class=\"alert alert-block alert-warning\">\n",
    "    \n",
    "\n",
    "__Комментарий от ревьюера №1__\n",
    "\n",
    "Оформи, пожалуйста, этот график\n",
    "</div>"
   ]
  },
  {
   "cell_type": "markdown",
   "metadata": {},
   "source": [
    "<div class=\"alert alert-block alert-info\"> <b>Комментарий студента:</b> Оформил эту диаграмму и таккую же выше </div> "
   ]
  },
  {
   "cell_type": "markdown",
   "metadata": {},
   "source": [
    "<div class=\"alert alert-block alert-success\">\n",
    "    \n",
    "\n",
    "__Комментарий от ревьюера №2__\n",
    "\n",
    "👍\n",
    "</div>"
   ]
  },
  {
   "cell_type": "markdown",
   "metadata": {},
   "source": [
    "#### Вывод"
   ]
  },
  {
   "cell_type": "markdown",
   "metadata": {},
   "source": [
    "ПНа основе графика распределения и точечной диграммы можно сдделать вывод, что данные имеют выбросы, но незначительные. Максимальная (без выбросов) стоимость заказов лежит до 100 000 рублей, в среднем стоимость заказов распределена до 50 000 рублей."
   ]
  },
  {
   "cell_type": "markdown",
   "metadata": {},
   "source": [
    "### Посчитаем 95-й и 99-й перцентили стоимости заказов\n",
    "<a id='16'></a>"
   ]
  },
  {
   "cell_type": "code",
   "execution_count": 59,
   "metadata": {},
   "outputs": [
    {
     "data": {
      "text/plain": [
       "array([26785., 53904.])"
      ]
     },
     "metadata": {},
     "output_type": "display_data"
    }
   ],
   "source": [
    "#принято отсеивать от 1 до 5%% \n",
    "display(np.percentile(orders['revenue'], [95, 99])) "
   ]
  },
  {
   "cell_type": "markdown",
   "metadata": {},
   "source": [
    "Только 5% покупателей совершают покупки на сумму не менее 28 000 рублей, только 1% пользователей совешают покупки на сумму не менее 58 233 рублей. В качестве границы можно обозначить сумму 28 000 рублей."
   ]
  },
  {
   "cell_type": "markdown",
   "metadata": {},
   "source": [
    "#### Вывод"
   ]
  },
  {
   "cell_type": "markdown",
   "metadata": {},
   "source": [
    "### Посчитаем статистическую значимость различий в конверсии между группами по «сырым» данным\n",
    "<a id='17'></a>"
   ]
  },
  {
   "cell_type": "code",
   "execution_count": 60,
   "metadata": {},
   "outputs": [
    {
     "data": {
      "text/html": [
       "<div>\n",
       "<style scoped>\n",
       "    .dataframe tbody tr th:only-of-type {\n",
       "        vertical-align: middle;\n",
       "    }\n",
       "\n",
       "    .dataframe tbody tr th {\n",
       "        vertical-align: top;\n",
       "    }\n",
       "\n",
       "    .dataframe thead th {\n",
       "        text-align: right;\n",
       "    }\n",
       "</style>\n",
       "<table border=\"1\" class=\"dataframe\">\n",
       "  <thead>\n",
       "    <tr style=\"text-align: right;\">\n",
       "      <th></th>\n",
       "      <th>visitorid</th>\n",
       "      <th>orders_count</th>\n",
       "    </tr>\n",
       "  </thead>\n",
       "  <tbody>\n",
       "    <tr>\n",
       "      <td>0</td>\n",
       "      <td>11685486</td>\n",
       "      <td>1</td>\n",
       "    </tr>\n",
       "    <tr>\n",
       "      <td>1</td>\n",
       "      <td>54447517</td>\n",
       "      <td>1</td>\n",
       "    </tr>\n",
       "    <tr>\n",
       "      <td>2</td>\n",
       "      <td>66685450</td>\n",
       "      <td>1</td>\n",
       "    </tr>\n",
       "    <tr>\n",
       "      <td>3</td>\n",
       "      <td>78758296</td>\n",
       "      <td>1</td>\n",
       "    </tr>\n",
       "    <tr>\n",
       "      <td>4</td>\n",
       "      <td>85103373</td>\n",
       "      <td>1</td>\n",
       "    </tr>\n",
       "  </tbody>\n",
       "</table>\n",
       "</div>"
      ],
      "text/plain": [
       "   visitorid  orders_count\n",
       "0   11685486             1\n",
       "1   54447517             1\n",
       "2   66685450             1\n",
       "3   78758296             1\n",
       "4   85103373             1"
      ]
     },
     "metadata": {},
     "output_type": "display_data"
    },
    {
     "data": {
      "text/html": [
       "<div>\n",
       "<style scoped>\n",
       "    .dataframe tbody tr th:only-of-type {\n",
       "        vertical-align: middle;\n",
       "    }\n",
       "\n",
       "    .dataframe tbody tr th {\n",
       "        vertical-align: top;\n",
       "    }\n",
       "\n",
       "    .dataframe thead th {\n",
       "        text-align: right;\n",
       "    }\n",
       "</style>\n",
       "<table border=\"1\" class=\"dataframe\">\n",
       "  <thead>\n",
       "    <tr style=\"text-align: right;\">\n",
       "      <th></th>\n",
       "      <th>visitorid</th>\n",
       "      <th>orders_count</th>\n",
       "    </tr>\n",
       "  </thead>\n",
       "  <tbody>\n",
       "    <tr>\n",
       "      <td>0</td>\n",
       "      <td>5114589</td>\n",
       "      <td>1</td>\n",
       "    </tr>\n",
       "    <tr>\n",
       "      <td>1</td>\n",
       "      <td>6958315</td>\n",
       "      <td>1</td>\n",
       "    </tr>\n",
       "    <tr>\n",
       "      <td>2</td>\n",
       "      <td>39475350</td>\n",
       "      <td>1</td>\n",
       "    </tr>\n",
       "    <tr>\n",
       "      <td>3</td>\n",
       "      <td>47206413</td>\n",
       "      <td>1</td>\n",
       "    </tr>\n",
       "    <tr>\n",
       "      <td>4</td>\n",
       "      <td>48147722</td>\n",
       "      <td>1</td>\n",
       "    </tr>\n",
       "  </tbody>\n",
       "</table>\n",
       "</div>"
      ],
      "text/plain": [
       "   visitorid  orders_count\n",
       "0    5114589             1\n",
       "1    6958315             1\n",
       "2   39475350             1\n",
       "3   47206413             1\n",
       "4   48147722             1"
      ]
     },
     "metadata": {},
     "output_type": "display_data"
    }
   ],
   "source": [
    "#посчитаем количество покупок на каждого пользователя по группам\n",
    "\n",
    "orders_buy_count_a = orders[orders['group'] == 'A'].groupby('visitorid', as_index=False).agg({'transactionid': 'nunique'})\n",
    "orders_buy_count_a.columns = ['visitorid', 'orders_count']\n",
    "\n",
    "orders_buy_count_b = orders[orders['group'] == 'B'].groupby('visitorid', as_index=False).agg({'transactionid': 'nunique'})\n",
    "orders_buy_count_b.columns = ['visitorid', 'orders_count']\n",
    "\n",
    "display(orders_buy_count_a.head())\n",
    "display(orders_buy_count_b.head())"
   ]
  },
  {
   "cell_type": "code",
   "execution_count": 61,
   "metadata": {},
   "outputs": [
    {
     "data": {
      "text/html": [
       "<div>\n",
       "<style scoped>\n",
       "    .dataframe tbody tr th:only-of-type {\n",
       "        vertical-align: middle;\n",
       "    }\n",
       "\n",
       "    .dataframe tbody tr th {\n",
       "        vertical-align: top;\n",
       "    }\n",
       "\n",
       "    .dataframe thead th {\n",
       "        text-align: right;\n",
       "    }\n",
       "</style>\n",
       "<table border=\"1\" class=\"dataframe\">\n",
       "  <thead>\n",
       "    <tr style=\"text-align: right;\">\n",
       "      <th></th>\n",
       "      <th>date</th>\n",
       "      <th>visitors</th>\n",
       "    </tr>\n",
       "  </thead>\n",
       "  <tbody>\n",
       "    <tr>\n",
       "      <td>0</td>\n",
       "      <td>2019-08-01</td>\n",
       "      <td>719</td>\n",
       "    </tr>\n",
       "    <tr>\n",
       "      <td>1</td>\n",
       "      <td>2019-08-02</td>\n",
       "      <td>619</td>\n",
       "    </tr>\n",
       "    <tr>\n",
       "      <td>2</td>\n",
       "      <td>2019-08-03</td>\n",
       "      <td>507</td>\n",
       "    </tr>\n",
       "    <tr>\n",
       "      <td>3</td>\n",
       "      <td>2019-08-04</td>\n",
       "      <td>717</td>\n",
       "    </tr>\n",
       "    <tr>\n",
       "      <td>4</td>\n",
       "      <td>2019-08-05</td>\n",
       "      <td>756</td>\n",
       "    </tr>\n",
       "  </tbody>\n",
       "</table>\n",
       "</div>"
      ],
      "text/plain": [
       "        date  visitors\n",
       "0 2019-08-01       719\n",
       "1 2019-08-02       619\n",
       "2 2019-08-03       507\n",
       "3 2019-08-04       717\n",
       "4 2019-08-05       756"
      ]
     },
     "metadata": {},
     "output_type": "display_data"
    },
    {
     "data": {
      "text/html": [
       "<div>\n",
       "<style scoped>\n",
       "    .dataframe tbody tr th:only-of-type {\n",
       "        vertical-align: middle;\n",
       "    }\n",
       "\n",
       "    .dataframe tbody tr th {\n",
       "        vertical-align: top;\n",
       "    }\n",
       "\n",
       "    .dataframe thead th {\n",
       "        text-align: right;\n",
       "    }\n",
       "</style>\n",
       "<table border=\"1\" class=\"dataframe\">\n",
       "  <thead>\n",
       "    <tr style=\"text-align: right;\">\n",
       "      <th></th>\n",
       "      <th>date</th>\n",
       "      <th>visitors</th>\n",
       "    </tr>\n",
       "  </thead>\n",
       "  <tbody>\n",
       "    <tr>\n",
       "      <td>31</td>\n",
       "      <td>2019-08-01</td>\n",
       "      <td>713</td>\n",
       "    </tr>\n",
       "    <tr>\n",
       "      <td>32</td>\n",
       "      <td>2019-08-02</td>\n",
       "      <td>581</td>\n",
       "    </tr>\n",
       "    <tr>\n",
       "      <td>33</td>\n",
       "      <td>2019-08-03</td>\n",
       "      <td>509</td>\n",
       "    </tr>\n",
       "    <tr>\n",
       "      <td>34</td>\n",
       "      <td>2019-08-04</td>\n",
       "      <td>770</td>\n",
       "    </tr>\n",
       "    <tr>\n",
       "      <td>35</td>\n",
       "      <td>2019-08-05</td>\n",
       "      <td>707</td>\n",
       "    </tr>\n",
       "  </tbody>\n",
       "</table>\n",
       "</div>"
      ],
      "text/plain": [
       "         date  visitors\n",
       "31 2019-08-01       713\n",
       "32 2019-08-02       581\n",
       "33 2019-08-03       509\n",
       "34 2019-08-04       770\n",
       "35 2019-08-05       707"
      ]
     },
     "metadata": {},
     "output_type": "display_data"
    }
   ],
   "source": [
    "#найдем количество визитов для каждой даты проведения теста по группам\n",
    "visitors_day_a = visitors[visitors['group']=='A'][['date', 'visitors']]\n",
    "visitors_day_b = visitors[visitors['group']=='B'][['date', 'visitors']]\n",
    "\n",
    "display(visitors_day_a.head())\n",
    "display(visitors_day_b.head())"
   ]
  },
  {
   "cell_type": "code",
   "execution_count": 62,
   "metadata": {},
   "outputs": [],
   "source": [
    "#сохраним выборки с числомзаказов\n",
    "sample_a = (pd.concat([orders_buy_count_a['orders_count'],\n",
    "                      pd.Series(0, index=np.arange(visitors_day_a['visitors'].sum() \n",
    "                        - len(orders_buy_count_a['orders_count'])), name='orders_count')],axis=0))\n",
    "\n",
    "sample_b = (pd.concat([orders_buy_count_b['orders_count'],\n",
    "                      pd.Series(0, index=np.arange(visitors_day_b['visitors'].sum() \n",
    "                        - len(orders_buy_count_b['orders_count'])), name='orders_count')],axis=0))"
   ]
  },
  {
   "cell_type": "code",
   "execution_count": 63,
   "metadata": {},
   "outputs": [
    {
     "name": "stdout",
     "output_type": "stream",
     "text": [
      "Относительный прирост конверсии группы B по отношению к группе A: 16.0%\n",
      "P-value: 0.011018084110014691\n",
      "По \"сырым\" данным в конверсии групп A и B разница статистически значима, отвергаем нулевую гипотезу\n"
     ]
    }
   ],
   "source": [
    "#применим критерий Манна-Уитни и определеим статистическую значимость разницы конверсии\n",
    "print(\"Относительный прирост конверсии группы B по отношению к группе A: {:.1%}\".format(sample_b.mean() / sample_a.mean() - 1))\n",
    "\n",
    "#сформулируем гипотезы:\n",
    "#Н0 - разница между конверсиями статистически не значима, конверсии равны\n",
    "#Н1 - разница между конверсиями статистически значима, конверсии нельзя считать равными\n",
    "alpha = 0.05\n",
    "results = stats.mannwhitneyu(sample_a, sample_b, alternative='two-sided')\n",
    "print('P-value: {}'.format(results.pvalue))\n",
    "if results.pvalue < alpha:\n",
    "    print('По \"сырым\" данным в конверсии групп A и B разница статистически значима, отвергаем нулевую гипотезу')\n",
    "else:\n",
    "    print('По \"сырым\" данным различий в конверсии групп A и B не обнаружено, подтверждаем нулевую гипотезу')"
   ]
  },
  {
   "cell_type": "markdown",
   "metadata": {},
   "source": [
    "<div class=\"alert alert-block alert-warning\">\n",
    "    \n",
    "\n",
    "__Комментарий от ревьюера №1__\n",
    "\n",
    "А тут точно 'Разница в конверсии групп A и B, 0.008'?\n",
    "</div>"
   ]
  },
  {
   "cell_type": "markdown",
   "metadata": {},
   "source": [
    "<div class=\"alert alert-block alert-info\"> <b>Комментарий студента:</b> Ой, точно, чего-то я тут поплыл, ориентировался на пример из теории, 0,108 - это p-value, заодно отобразил относительный прирост сразу в %. Еще добавил параметр двухстороннего теста к методу. </div> "
   ]
  },
  {
   "cell_type": "markdown",
   "metadata": {},
   "source": [
    "<div class=\"alert alert-block alert-success\">\n",
    "    \n",
    "\n",
    "__Комментарий от ревьюера №2__\n",
    "\n",
    "👍\n",
    "</div>"
   ]
  },
  {
   "cell_type": "markdown",
   "metadata": {},
   "source": [
    "#### Вывод"
   ]
  },
  {
   "cell_type": "markdown",
   "metadata": {},
   "source": [
    "P-value меньше 0,05 поэтому нулевую гипотезу отвергаем, конверсии не равны, в конверсии между группами есть статистически значимая разница. Относительный прирост конверсии группы B по отношению к группе A составил 16%"
   ]
  },
  {
   "cell_type": "markdown",
   "metadata": {},
   "source": [
    "### Посчитаем статистическую значимость различий в среднем чеке заказа между группами по «сырым» данным\n",
    "<a id='18'></a>"
   ]
  },
  {
   "cell_type": "code",
   "execution_count": 64,
   "metadata": {},
   "outputs": [
    {
     "name": "stdout",
     "output_type": "stream",
     "text": [
      "Относительное изменение среднего чека в группе B по отношению к группе A: 1.287\n",
      "Размер среднего чека в группе А: 7189.436\n",
      "Размер среднего чека в группе B: 9249.949\n",
      "P-value: 0.8294908998149533\n",
      "Разница по \"сырым\" данным в средних чеках в группах A и B не обнаружена, подтверждаем нулевую гипотезу\n"
     ]
    }
   ],
   "source": [
    "mean_bill_a = orders[orders['group']=='A']['revenue'].mean()\n",
    "mean_bill_b = orders[orders['group']=='B']['revenue'].mean()\n",
    "\n",
    "difference_orders = mean_bill_b /(mean_bill_a - 1)\n",
    "print('Относительное изменение среднего чека в группе B по отношению к группе A: {:.3f}'.format(difference_orders))\n",
    "print('Размер среднего чека в группе А: {:.3f}'.format(mean_bill_a))\n",
    "print('Размер среднего чека в группе B: {:.3f}'.format(mean_bill_b))\n",
    "\n",
    "#сформулируем гипотезы:\n",
    "#Н0 - разница между размером среднего чека по группам статистически не значима, размеры среднего чека равны\n",
    "#Н1 - разница между размером среднего чека по группам статистически значима, размеры среднего чека не равны\n",
    "\n",
    "results = stats.mannwhitneyu(orders[orders['group']=='A']['revenue'], orders[orders['group']=='B']['revenue'], alternative='two-sided')\n",
    "print('P-value: {}'.format(results.pvalue))\n",
    "if results.pvalue < alpha:\n",
    "    print('Разница по \"сырым\" данным в средних чеках в группах A и B статистически значима, отвергаем нулевую гипотезу')\n",
    "else:\n",
    "    print('Разница по \"сырым\" данным в средних чеках в группах A и B не обнаружена, подтверждаем нулевую гипотезу')"
   ]
  },
  {
   "cell_type": "markdown",
   "metadata": {},
   "source": [
    "#### Вывод"
   ]
  },
  {
   "cell_type": "markdown",
   "metadata": {},
   "source": [
    "P-value больше 0,05 поэтому нулевую гипотезу не отвергаем, размеры среднего чека оказались статистически равны."
   ]
  },
  {
   "cell_type": "markdown",
   "metadata": {},
   "source": [
    "### Посчитаем статистическую значимость различий в конверсии между группами по «очищенным» данным\n",
    "<a id='19'></a>"
   ]
  },
  {
   "cell_type": "code",
   "execution_count": 65,
   "metadata": {},
   "outputs": [
    {
     "name": "stderr",
     "output_type": "stream",
     "text": [
      "/opt/conda/lib/python3.7/site-packages/ipykernel_launcher.py:9: UserWarning: Boolean Series key will be reindexed to match DataFrame index.\n",
      "  if __name__ == '__main__':\n"
     ]
    },
    {
     "data": {
      "text/plain": [
       "568     113298937\n",
       "1099    148427295\n",
       "928     204675465\n",
       "33      343208965\n",
       "684     358944393\n",
       "Name: visitorid, dtype: int64"
      ]
     },
     "metadata": {},
     "output_type": "display_data"
    },
    {
     "name": "stdout",
     "output_type": "stream",
     "text": [
      "Количество аномальных пользователей (58,)\n"
     ]
    }
   ],
   "source": [
    "#отфильтруем данные на основе предыдущих результатов по процентилям:\n",
    "#нормальное количество заказов - 2\n",
    "#нормальная предельная сумма заказа - 25785 рублей\n",
    "#узнаем количество аномальных пользователей\n",
    "\n",
    "usersWithManyOrders = pd.concat(\n",
    "    [\n",
    "        orders_buy_count_a[orders_buy_count_a['orders_count'] > 2]['visitorid'],\n",
    "        orders_buy_count_a[orders_buy_count_b['orders_count'] > 2]['visitorid'],\n",
    "    ],\n",
    "    axis=0,\n",
    ")\n",
    "usersWithExpensiveOrders = orders[orders['revenue'] > 26785]['visitorid']\n",
    "\n",
    "abnormalUsers = (\n",
    "    pd.concat([usersWithManyOrders, usersWithExpensiveOrders], axis=0)\n",
    "    .drop_duplicates()\n",
    "    .sort_values()\n",
    ")\n",
    "display(abnormalUsers.head(5))\n",
    "print(\"Количество аномальных пользователей\", abnormalUsers.shape) \n"
   ]
  },
  {
   "cell_type": "code",
   "execution_count": 68,
   "metadata": {},
   "outputs": [],
   "source": [
    "sample_a_filtr = (pd.concat([orders_buy_count_a[np.logical_not(orders_buy_count_a['visitorid'].isin(abnormalUsers))]['orders_count'],\n",
    "                             pd.Series(0, index=np.arange(visitors_day_a['visitors'].sum() \n",
    "                                                          - len(orders_buy_count_a['orders_count'])), name='orders_count')],axis=0))\n",
    "\n",
    "sample_b_filtr = (pd.concat([orders_buy_count_b[np.logical_not(orders_buy_count_b['visitorid'].isin(abnormalUsers))]['orders_count'],\n",
    "                             pd.Series(0, index=np.arange(visitors_day_b['visitors'].sum() \n",
    "                                                          - len(orders_buy_count_b['orders_count'])), name='orders_count')],axis=0))"
   ]
  },
  {
   "cell_type": "code",
   "execution_count": 69,
   "metadata": {},
   "outputs": [
    {
     "name": "stdout",
     "output_type": "stream",
     "text": [
      "Относительный прирост конверсии группы B по отношению к группе A после очитки данных,20.1%\n",
      "P-value: 0.008439454761565303\n",
      "По \"очищенным\" данным в конверсии групп A и B разница статистически значима, отвергаем нулевую гипотезу\n"
     ]
    }
   ],
   "source": [
    "#применим критерий Манна-Уитни и определеим статистическую значимость разницы конверсии\n",
    "print(\"Относительный прирост конверсии группы B по отношению к группе A после очитки данных,{:.1%}\"\n",
    "      .format(sample_b_filtr.mean() / sample_a_filtr.mean() - 1))\n",
    "\n",
    "#сформулируем гипотезы:\n",
    "#Н0 - разница между конверсиями статистически не значима, конверсии равны\n",
    "#Н1 - разница между конверсиями статистически значима, конверсии нельзя считать равными\n",
    "alpha = 0.05\n",
    "results = stats.mannwhitneyu(sample_a_filtr, sample_b_filtr, alternative='two-sided')\n",
    "print('P-value: {}'.format(results.pvalue))\n",
    "if results.pvalue < alpha:\n",
    "    print('По \"очищенным\" данным в конверсии групп A и B разница статистически значима, отвергаем нулевую гипотезу')\n",
    "else:\n",
    "    print('По \"очищенным\" данным различий в конверсии групп A и B не обнаружено, подтверждаем нулевую гипотезу')"
   ]
  },
  {
   "cell_type": "markdown",
   "metadata": {},
   "source": [
    "<div class=\"alert alert-block alert-warning\">\n",
    "    \n",
    "\n",
    "__Комментарий от ревьюера №1__\n",
    "\n",
    "Тут тоже вопрос про \"Разница в конверсии групп A и B после очистки данных, 0.003\". Это точно так?)\n",
    "</div>"
   ]
  },
  {
   "cell_type": "markdown",
   "metadata": {},
   "source": [
    "<div class=\"alert alert-block alert-info\"> <b>Комментарий студента:</b> Тут также исправил </div> "
   ]
  },
  {
   "cell_type": "markdown",
   "metadata": {},
   "source": [
    "<div class=\"alert alert-block alert-success\">\n",
    "    \n",
    "\n",
    "__Комментарий от ревьюера №2__\n",
    "\n",
    "👍\n",
    "</div>"
   ]
  },
  {
   "cell_type": "markdown",
   "metadata": {},
   "source": [
    "#### Вывод"
   ]
  },
  {
   "cell_type": "markdown",
   "metadata": {},
   "source": [
    "P-value по очищенным данным меньше 0,05 поэтому нулевую гипотезу отвергаем, конверсии не равны, в конверсии между группами есть статистически значимая разница. Относительный прирост по очищенным данным составил 20% вместо 16% по \"сырым\""
   ]
  },
  {
   "cell_type": "markdown",
   "metadata": {},
   "source": [
    "### Посчитатаем статистическую значимость различий в среднем чеке заказа между группами по «очищенным» данным\n",
    "<a id='20'></a>"
   ]
  },
  {
   "cell_type": "code",
   "execution_count": 72,
   "metadata": {
    "scrolled": true
   },
   "outputs": [
    {
     "name": "stdout",
     "output_type": "stream",
     "text": [
      "Размер среднего чека в группе А: 5093.879\n",
      "Размер среднего чека в группе B: 4894.233\n",
      "P-value: 0.7122626537809008\n",
      "Разница по очищенным данным в средних чеках в группах A и B не обнаружена, подтверждаем нулевую гипотезу\n"
     ]
    }
   ],
   "source": [
    "mean_bill_a_filtr = (orders[np.logical_and(orders['group']=='A',\n",
    "                                           np.logical_not(orders['visitorid'].isin(abnormalUsers)))]['revenue'].mean())\n",
    "mean_bill_b_filtr = (orders[np.logical_and(orders['group']=='B',\n",
    "                                           np.logical_not(orders['visitorid'].isin(abnormalUsers)))]['revenue'].mean())\n",
    "\n",
    "difference_orders = mean_bill_b_filtr /(mean_bill_a_filtr - 1)\n",
    "print('Размер среднего чека в группе А: {:.3f}'.format(mean_bill_a_filtr))\n",
    "print('Размер среднего чека в группе B: {:.3f}'.format(mean_bill_b_filtr))\n",
    "\n",
    "#сформулируем гипотезы:\n",
    "#Н0 - разница по очищенным данным между размером среднего чека по группам статистически не значима, размеры среднего чека равны\n",
    "#Н1 - разница по очищенным данным между размером среднего чека по группам статистически значима, размеры среднего чека не равны\n",
    "\n",
    "results = (stats.mannwhitneyu(orders[np.logical_and(orders['group']=='A', np.logical_not(orders['visitorid'].isin(abnormalUsers)))]['revenue'], \n",
    "                              orders[np.logical_and(orders['group']=='B', np.logical_not(orders['visitorid'].isin(abnormalUsers)))]['revenue'],\n",
    "          alternative ='two-sided'))\n",
    "print('P-value: {}'.format(results.pvalue))\n",
    "if results.pvalue < alpha:\n",
    "    print('Разница по очищенным данным в средних чеках в группах A и B статистически значима, отвергаем нулевую гипотезу')\n",
    "else:\n",
    "    print('Разница по очищенным данным в средних чеках в группах A и B не обнаружена, подтверждаем нулевую гипотезу')"
   ]
  },
  {
   "cell_type": "markdown",
   "metadata": {},
   "source": [
    "#### Вывод"
   ]
  },
  {
   "cell_type": "markdown",
   "metadata": {},
   "source": [
    "P-value больше 0,05 поэтому нулевую гипотезу не отвергаем, размеры среднего чека по очищенным данным оказались статистически равны."
   ]
  },
  {
   "cell_type": "markdown",
   "metadata": {},
   "source": [
    "<div class=\"alert alert-block alert-warning\">\n",
    "    \n",
    "\n",
    "__Комментарий от ревьюера №1__\n",
    "\n",
    "Сделана хорошая работа в А/Б-тесте, но есть у реализации метода Манн-Уитни в python есть одна особенность: его базовые настройки в python не предполагают проверку двухсторонней гипотезы, а это не соответствует гипотезам, проверяемым в проекте. Для корректной работы метода необходимо задать его параметр alternative = 'two-sided'.\n",
    "\n",
    "Подробнее о проверках можно почитать вот в этой [статье](http://www.stat.yale.edu/Courses/1997-98/101/sigtest.htm#:~:text=An%20alternative%20hypothesis%20may%20be,the%20direction%20does%20not%20matter.) \n",
    "    \n",
    "Обрати внимание, что значения p-value точно должны поменяться, если они остались такими же, то есть ошибка в коде.\n",
    "</div>"
   ]
  },
  {
   "cell_type": "markdown",
   "metadata": {},
   "source": [
    "<div class=\"alert alert-block alert-info\"> <b>Комментарий студента:</b> Добавил  </div> "
   ]
  },
  {
   "cell_type": "markdown",
   "metadata": {},
   "source": [
    "<div class=\"alert alert-block alert-success\">\n",
    "    \n",
    "\n",
    "__Комментарий от ревьюера №2__\n",
    "\n",
    "👍\n",
    "</div>"
   ]
  },
  {
   "cell_type": "markdown",
   "metadata": {},
   "source": [
    "### Решение по результатам теста\n",
    "<a id='21'></a>"
   ]
  },
  {
   "cell_type": "markdown",
   "metadata": {},
   "source": [
    "По результататам анализа предлагает:\n",
    "\n",
    "**Остановить тест, зафиксировать победу группы B**\n",
    "\n",
    "Проверка конверсии на основе \"сырых\" и \"очищенных\" данных в обоих случаях подвердила, что конверсия группы B выше конверсии группы A, что представляется перспективным с точки зрения увеличения количества покупателей при относительно стабильном размере визитов. Однако, стоит обратить внимание, что средние чеки статистически оказались равны, во втором случае (после очистки) чек группы B даже оказался незначительно ниже чека группы A. "
   ]
  },
  {
   "cell_type": "markdown",
   "metadata": {},
   "source": [
    "<div class=\"alert alert-block alert-warning\">\n",
    "    \n",
    "\n",
    "__Комментарий от ревьюера №1__\n",
    "\n",
    "А почему между группами нет различий, хотя по 2 из 4 тестов они есть?\n",
    "</div>"
   ]
  },
  {
   "cell_type": "markdown",
   "metadata": {},
   "source": [
    "<div class=\"alert alert-block alert-info\"> <b>Комментарий студента:</b> У меня здесь возникли сомнения. Я сначала написал остановить тест и  зафиксировать победу группы Б, так как у нее относительная конверсия выше, но потом подумал, что параметра чека является более значимым, а по группам он почти не отличается. Подумал и исправил </div> "
   ]
  },
  {
   "cell_type": "markdown",
   "metadata": {},
   "source": [
    "<div class=\"alert alert-block alert-success\">\n",
    "    \n",
    "\n",
    "__Комментарий от ревьюера №2__\n",
    "\n",
    "Если разницы в чеке нет, но конверсия выше, то мы на одного приведенного пользователя заработем больше.\n",
    "</div>"
   ]
  },
  {
   "cell_type": "markdown",
   "metadata": {},
   "source": [
    "## Общий вывод\n",
    "<a id='22'></a>"
   ]
  },
  {
   "cell_type": "markdown",
   "metadata": {},
   "source": [
    "Проведен анализ по представленным наборам данных. Были обнаружены ошибки: неверно указан тип данных в столбцах с датами. Пропущенных значений не обнаружено. В таблицах названия столбцов записаны разным регистром, необходимо привести названия к одному регистру. Проведена предобработка данных, в столбцах с датами изменен тип данных. Названия столбцов приведены к нижнему регистру. Данные проверены на наличие дубликатов. Проверка осуществлена не по каждому столбцу, а по всему датасету, так как все значения в столбцах являются идентифицирующими признаками события. Дубликатов не обнаружено.\n",
    "\n",
    "После применения метода RICE, к перспктивным гипотезам можно отнести: добавить форму подписки на все основные страницы, чтобы собрать базу клиентов для email-рассылок, добавить блоки рекомендаций товаров на сайт интернет магазина, чтобы повысить конверсию и средний чек заказа, добавить два новых канала привлечения трафика, что позволит привлекать на 30% больше пользователей, показать на главной странице баннеры с актуальными акциями и распродажами, чтобы увеличить конверсию.\n",
    "Сравнивя результаты применения методов RICE и ICE, можно отметить изменение приоритизации гипотез. Метод RICE вывел на первое место гипотезы, которые не были лидерами после применения ICE. Это произошло из-за параметра reach, который характеризует охват пользователей затронутых изменениями, которые планируется внести. Не попали в лидеры RICE по этому параметру гипотеза о запуске акции, дающую скидку на товар в день рождения - эта гипотеза имеет низкую оценку reach, так как, воззможно количество пользователей не дает стабильных продаж в рамках этой акции, или в сам день рождения пользователи не готовы совершать покупки, возможно, эсрок акции не должен ограничиваться только днем рождения, а включать какой-то период, например, 1-2 дня до дня рождения и после. Также может потребоваться дополнительный анализ поведения пользователей, чтобы оценить объем покупок, связанных с днем рождения пользователей. При этом стоит учитывать, что такие акции достаточно распространы в сфере услуг и торговле, как онлайн, так и оффлайн. Гипотезы \"Добавить форму подписки на все основные страницы, чтобы собрать базу клиентов для email-рассылок\" и \"Добавить блоки рекомендаций товаров на сайт интернет магазина, чтобы повысить конверсию и средний чек заказа\" лидируют так с этими изменениями столкнется каждый покупатель и эти изменения не являются дорогостоящими.\n",
    "\n",
    "При анализе результатов A/B теста до очитки данных от выбросов на первом графике кумулятивной выручки был обнаружен выброс в группе B 19 августа 2019 года. Был построен допллнительный график, где была проведена очитка данных, определена граница нормального значения для стоимости заказа. По графику кумулятивная выручка группы B выше, чем кумулятивная выручка группы A. Был проведен дополнительный анализ на предмет наличия выбросов в обоих группах (в группе B больше), проведена дополнительная обработка данных по исключение выбросов и посртроен новый график. Во втором случае результаты первого графика подтвердились, кмулятивная выручка группы B выше. Кумулятивное значение среднего чека по обеим группам (сособенно по группе Б) сильно колеблется. В группе Б на данные влияют выбросы в августе 2019 года. Конверсия группы А вначале тестирования имела большую конверсию, но начиная ориентировочно с 6-го дня проведения теста, конверсия группы Б стала выше. После 10 дней конверсии сталии более стабильны на протяжении оставшегося времени тестирования, конверсия группы Б сохранило свое лидерство.\n",
    "\n",
    "Были посчитаны  95-й и 99-й перцентили для стоимости заказов и количества заказов на 1 человека. Были определены нормальные значения по обоим параметрам. Проведен анализ статистической значимости по \"сырым\" и \"очищенным\" данным. \n",
    "\n",
    "По результататам анализа предлагает:\n",
    "\n",
    "**Остановить тест, зафиксировать победу группы B**\n",
    "\n",
    "Проверка конверсии на основе \"сырых\" и \"очищенных\" данных в обоих случаях подвердила, что конверсия группы B выше конверсии группы A, что представляется перспективным с точки зрения увеличения количества покупателей при относительно стабильном размере визитов. Однако, стоит обратить внимание, что средние чеки статистически оказались равны, во втором случае (после очистки) чек группы B даже оказался незначительно ниже чека группы A."
   ]
  },
  {
   "cell_type": "markdown",
   "metadata": {},
   "source": [
    "<div class=\"alert alert-block alert-success\">\n",
    "    \n",
    "\n",
    "__Комментарий от ревьюера №1__\n",
    "\n",
    "Хороший общий вывод.\n",
    "</div>"
   ]
  }
 ],
 "metadata": {
  "ExecuteTimeLog": [
   {
    "duration": 1214,
    "start_time": "2021-06-22T17:18:09.374Z"
   },
   {
    "duration": 107,
    "start_time": "2021-06-22T17:18:53.468Z"
   },
   {
    "duration": 2052,
    "start_time": "2021-06-22T17:51:16.350Z"
   },
   {
    "duration": 102,
    "start_time": "2021-06-22T17:51:21.668Z"
   },
   {
    "duration": 6,
    "start_time": "2021-06-22T17:58:21.410Z"
   },
   {
    "duration": 13,
    "start_time": "2021-06-22T17:58:37.920Z"
   },
   {
    "duration": 256,
    "start_time": "2021-06-22T18:05:32.463Z"
   },
   {
    "duration": 10,
    "start_time": "2021-06-22T18:05:40.997Z"
   },
   {
    "duration": 1585,
    "start_time": "2021-06-25T06:46:38.618Z"
   },
   {
    "duration": 19,
    "start_time": "2021-06-25T06:46:43.782Z"
   },
   {
    "duration": 14,
    "start_time": "2021-06-25T06:46:44.734Z"
   },
   {
    "duration": 17,
    "start_time": "2021-06-25T07:48:58.501Z"
   },
   {
    "duration": 25,
    "start_time": "2021-06-25T07:59:34.565Z"
   },
   {
    "duration": 14,
    "start_time": "2021-06-25T07:59:43.598Z"
   },
   {
    "duration": 15,
    "start_time": "2021-06-25T08:01:25.583Z"
   },
   {
    "duration": 18,
    "start_time": "2021-06-25T08:03:30.891Z"
   },
   {
    "duration": 103,
    "start_time": "2021-06-25T08:17:52.426Z"
   },
   {
    "duration": 105,
    "start_time": "2021-06-25T08:18:06.089Z"
   },
   {
    "duration": 24,
    "start_time": "2021-06-25T08:18:08.513Z"
   },
   {
    "duration": 12,
    "start_time": "2021-06-25T08:18:09.113Z"
   },
   {
    "duration": 14,
    "start_time": "2021-06-25T08:18:11.166Z"
   },
   {
    "duration": 102,
    "start_time": "2021-06-25T08:18:54.664Z"
   },
   {
    "duration": 14,
    "start_time": "2021-06-25T08:19:00.771Z"
   },
   {
    "duration": 476,
    "start_time": "2021-06-25T08:28:13.795Z"
   },
   {
    "duration": 16,
    "start_time": "2021-06-25T08:28:22.484Z"
   },
   {
    "duration": 20,
    "start_time": "2021-06-25T08:31:08.111Z"
   },
   {
    "duration": 16,
    "start_time": "2021-06-25T08:43:48.228Z"
   },
   {
    "duration": 18,
    "start_time": "2021-06-25T08:52:19.600Z"
   },
   {
    "duration": 18,
    "start_time": "2021-06-25T08:52:25.708Z"
   },
   {
    "duration": 18,
    "start_time": "2021-06-25T08:52:39.544Z"
   },
   {
    "duration": 19,
    "start_time": "2021-06-25T08:54:25.680Z"
   },
   {
    "duration": 126,
    "start_time": "2021-06-25T09:30:32.267Z"
   },
   {
    "duration": 35,
    "start_time": "2021-06-25T09:30:40.018Z"
   },
   {
    "duration": 13,
    "start_time": "2021-06-25T09:30:40.746Z"
   },
   {
    "duration": 18,
    "start_time": "2021-06-25T09:30:43.209Z"
   },
   {
    "duration": 20,
    "start_time": "2021-06-25T09:30:45.463Z"
   },
   {
    "duration": 3556,
    "start_time": "2021-06-25T12:52:00.192Z"
   },
   {
    "duration": 1809,
    "start_time": "2021-06-25T12:52:03.751Z"
   },
   {
    "duration": 25,
    "start_time": "2021-06-25T12:52:05.563Z"
   },
   {
    "duration": 17,
    "start_time": "2021-06-25T12:52:05.591Z"
   },
   {
    "duration": 22,
    "start_time": "2021-06-25T12:52:08.196Z"
   },
   {
    "duration": 20,
    "start_time": "2021-06-25T12:52:10.191Z"
   },
   {
    "duration": 114,
    "start_time": "2021-06-25T13:13:48.126Z"
   },
   {
    "duration": 101,
    "start_time": "2021-06-25T13:14:04.094Z"
   },
   {
    "duration": 102,
    "start_time": "2021-06-25T13:14:13.132Z"
   },
   {
    "duration": 107,
    "start_time": "2021-06-25T13:14:22.856Z"
   },
   {
    "duration": 93,
    "start_time": "2021-06-25T13:14:29.107Z"
   },
   {
    "duration": 37,
    "start_time": "2021-06-25T13:14:45.184Z"
   },
   {
    "duration": 24,
    "start_time": "2021-06-25T13:16:28.577Z"
   },
   {
    "duration": 478,
    "start_time": "2021-06-25T13:37:02.363Z"
   },
   {
    "duration": 271,
    "start_time": "2021-06-25T13:37:15.327Z"
   },
   {
    "duration": 17,
    "start_time": "2021-06-25T13:37:25.937Z"
   },
   {
    "duration": 21,
    "start_time": "2021-06-25T13:40:01.402Z"
   },
   {
    "duration": 270,
    "start_time": "2021-06-25T13:40:12.594Z"
   },
   {
    "duration": 18,
    "start_time": "2021-06-25T13:40:22.974Z"
   },
   {
    "duration": 18,
    "start_time": "2021-06-25T13:42:15.694Z"
   },
   {
    "duration": 783,
    "start_time": "2021-06-25T13:44:45.099Z"
   },
   {
    "duration": 774,
    "start_time": "2021-06-25T13:45:00.490Z"
   },
   {
    "duration": 753,
    "start_time": "2021-06-25T13:46:10.233Z"
   },
   {
    "duration": 767,
    "start_time": "2021-06-25T13:46:59.611Z"
   },
   {
    "duration": 972,
    "start_time": "2021-06-25T13:47:22.008Z"
   },
   {
    "duration": 829,
    "start_time": "2021-06-25T13:48:19.746Z"
   },
   {
    "duration": 816,
    "start_time": "2021-06-25T13:48:27.948Z"
   },
   {
    "duration": 6493,
    "start_time": "2021-06-25T13:55:20.099Z"
   },
   {
    "duration": 6993,
    "start_time": "2021-06-25T13:55:35.146Z"
   },
   {
    "duration": 21,
    "start_time": "2021-06-25T13:56:04.005Z"
   },
   {
    "duration": 18,
    "start_time": "2021-06-25T13:58:13.346Z"
   },
   {
    "duration": 415,
    "start_time": "2021-06-25T14:02:49.720Z"
   },
   {
    "duration": 408,
    "start_time": "2021-06-25T14:03:12.624Z"
   },
   {
    "duration": 712,
    "start_time": "2021-06-25T14:03:32.076Z"
   },
   {
    "duration": 692,
    "start_time": "2021-06-25T14:03:46.396Z"
   },
   {
    "duration": 708,
    "start_time": "2021-06-25T14:10:31.579Z"
   },
   {
    "duration": 714,
    "start_time": "2021-06-25T14:10:47.322Z"
   },
   {
    "duration": 727,
    "start_time": "2021-06-25T14:13:17.176Z"
   },
   {
    "duration": 1237,
    "start_time": "2021-06-25T14:19:55.618Z"
   },
   {
    "duration": 8,
    "start_time": "2021-06-25T14:24:29.216Z"
   },
   {
    "duration": 114,
    "start_time": "2021-06-25T14:26:21.411Z"
   },
   {
    "duration": 34,
    "start_time": "2021-06-25T14:28:05.807Z"
   },
   {
    "duration": 1230,
    "start_time": "2021-06-25T14:29:02.994Z"
   },
   {
    "duration": 51,
    "start_time": "2021-06-25T14:30:14.140Z"
   },
   {
    "duration": 803,
    "start_time": "2021-06-25T14:30:15.100Z"
   },
   {
    "duration": 79,
    "start_time": "2021-06-25T14:30:49.874Z"
   },
   {
    "duration": 816,
    "start_time": "2021-06-25T14:30:53.696Z"
   },
   {
    "duration": 267,
    "start_time": "2021-06-25T14:47:05.494Z"
   },
   {
    "duration": 22,
    "start_time": "2021-06-25T14:47:17.872Z"
   },
   {
    "duration": 3284,
    "start_time": "2021-06-25T18:25:12.457Z"
   },
   {
    "duration": 1497,
    "start_time": "2021-06-25T18:25:15.744Z"
   },
   {
    "duration": 25,
    "start_time": "2021-06-25T18:25:22.801Z"
   },
   {
    "duration": 12,
    "start_time": "2021-06-25T18:25:23.669Z"
   },
   {
    "duration": 27,
    "start_time": "2021-06-25T18:25:26.282Z"
   },
   {
    "duration": 19,
    "start_time": "2021-06-25T18:25:30.138Z"
   },
   {
    "duration": 25,
    "start_time": "2021-06-25T18:25:33.886Z"
   },
   {
    "duration": 18,
    "start_time": "2021-06-25T18:25:34.606Z"
   },
   {
    "duration": 17,
    "start_time": "2021-06-25T18:25:35.243Z"
   },
   {
    "duration": 748,
    "start_time": "2021-06-25T18:25:36.194Z"
   },
   {
    "duration": 18,
    "start_time": "2021-06-25T18:25:40.722Z"
   },
   {
    "duration": 625,
    "start_time": "2021-06-25T18:25:41.548Z"
   },
   {
    "duration": 36,
    "start_time": "2021-06-25T18:25:42.589Z"
   },
   {
    "duration": 746,
    "start_time": "2021-06-25T18:25:43.514Z"
   },
   {
    "duration": 18,
    "start_time": "2021-06-25T18:25:49.882Z"
   },
   {
    "duration": 6,
    "start_time": "2021-06-25T18:42:02.107Z"
   },
   {
    "duration": 9,
    "start_time": "2021-06-25T18:49:15.822Z"
   },
   {
    "duration": 420,
    "start_time": "2021-06-25T18:51:01.127Z"
   },
   {
    "duration": 708,
    "start_time": "2021-06-25T18:51:23.505Z"
   },
   {
    "duration": 102,
    "start_time": "2021-06-25T19:21:03.667Z"
   },
   {
    "duration": 935,
    "start_time": "2021-06-25T19:22:08.780Z"
   },
   {
    "duration": 91,
    "start_time": "2021-06-25T19:24:28.741Z"
   },
   {
    "duration": 100,
    "start_time": "2021-06-25T19:24:34.448Z"
   },
   {
    "duration": 707,
    "start_time": "2021-06-25T19:24:53.459Z"
   },
   {
    "duration": 762,
    "start_time": "2021-06-25T19:25:26.124Z"
   },
   {
    "duration": 770,
    "start_time": "2021-06-25T19:25:50.377Z"
   },
   {
    "duration": 672,
    "start_time": "2021-06-25T19:26:09.014Z"
   },
   {
    "duration": 653,
    "start_time": "2021-06-25T19:28:12.299Z"
   },
   {
    "duration": 784,
    "start_time": "2021-06-25T19:28:40.775Z"
   },
   {
    "duration": 97,
    "start_time": "2021-06-25T19:29:29.876Z"
   },
   {
    "duration": 907,
    "start_time": "2021-06-25T19:29:39.471Z"
   },
   {
    "duration": 784,
    "start_time": "2021-06-25T19:32:02.141Z"
   },
   {
    "duration": 730,
    "start_time": "2021-06-25T19:36:04.773Z"
   },
   {
    "duration": 764,
    "start_time": "2021-06-25T19:48:15.014Z"
   },
   {
    "duration": 797,
    "start_time": "2021-06-25T19:48:32.440Z"
   },
   {
    "duration": 855,
    "start_time": "2021-06-25T19:48:51.484Z"
   },
   {
    "duration": 834,
    "start_time": "2021-06-25T19:49:38.683Z"
   },
   {
    "duration": 819,
    "start_time": "2021-06-25T19:50:01.676Z"
   },
   {
    "duration": 3457,
    "start_time": "2021-06-26T09:57:17.748Z"
   },
   {
    "duration": 1502,
    "start_time": "2021-06-26T09:57:21.208Z"
   },
   {
    "duration": 24,
    "start_time": "2021-06-26T09:57:22.713Z"
   },
   {
    "duration": 25,
    "start_time": "2021-06-26T09:57:22.740Z"
   },
   {
    "duration": 22,
    "start_time": "2021-06-26T09:57:31.507Z"
   },
   {
    "duration": 19,
    "start_time": "2021-06-26T09:57:35.255Z"
   },
   {
    "duration": 25,
    "start_time": "2021-06-26T09:57:40.312Z"
   },
   {
    "duration": 419,
    "start_time": "2021-06-26T10:00:10.980Z"
   },
   {
    "duration": 19,
    "start_time": "2021-06-26T10:00:24.085Z"
   },
   {
    "duration": 18,
    "start_time": "2021-06-26T10:00:27.819Z"
   },
   {
    "duration": 761,
    "start_time": "2021-06-26T10:00:28.722Z"
   },
   {
    "duration": 16,
    "start_time": "2021-06-26T10:00:29.487Z"
   },
   {
    "duration": 667,
    "start_time": "2021-06-26T10:00:30.140Z"
   },
   {
    "duration": 32,
    "start_time": "2021-06-26T10:00:34.658Z"
   },
   {
    "duration": 749,
    "start_time": "2021-06-26T10:00:36.546Z"
   },
   {
    "duration": 9,
    "start_time": "2021-06-26T10:00:51.215Z"
   },
   {
    "duration": 738,
    "start_time": "2021-06-26T10:00:52.604Z"
   },
   {
    "duration": 785,
    "start_time": "2021-06-26T10:00:58.774Z"
   },
   {
    "duration": 15,
    "start_time": "2021-06-26T10:06:32.769Z"
   },
   {
    "duration": 20,
    "start_time": "2021-06-26T10:14:02.701Z"
   },
   {
    "duration": 34,
    "start_time": "2021-06-26T10:36:01.109Z"
   },
   {
    "duration": 69,
    "start_time": "2021-06-26T10:41:07.541Z"
   },
   {
    "duration": 74,
    "start_time": "2021-06-26T10:41:40.729Z"
   },
   {
    "duration": 34,
    "start_time": "2021-06-26T10:46:34.878Z"
   },
   {
    "duration": 568,
    "start_time": "2021-06-26T10:53:35.450Z"
   },
   {
    "duration": 724,
    "start_time": "2021-06-26T10:53:45.644Z"
   },
   {
    "duration": 716,
    "start_time": "2021-06-26T10:53:59.590Z"
   },
   {
    "duration": 612,
    "start_time": "2021-06-26T10:54:28.509Z"
   },
   {
    "duration": 625,
    "start_time": "2021-06-26T10:54:44.596Z"
   },
   {
    "duration": 789,
    "start_time": "2021-06-26T11:24:01.491Z"
   },
   {
    "duration": 19,
    "start_time": "2021-06-26T12:20:03.983Z"
   },
   {
    "duration": 18,
    "start_time": "2021-06-26T12:21:18.497Z"
   },
   {
    "duration": 18,
    "start_time": "2021-06-26T12:24:42.210Z"
   },
   {
    "duration": 333,
    "start_time": "2021-06-26T12:33:09.381Z"
   },
   {
    "duration": 281,
    "start_time": "2021-06-26T12:33:28.756Z"
   },
   {
    "duration": 25,
    "start_time": "2021-06-26T12:37:18.090Z"
   },
   {
    "duration": 13,
    "start_time": "2021-06-26T12:37:25.292Z"
   },
   {
    "duration": 18,
    "start_time": "2021-06-26T12:37:30.412Z"
   },
   {
    "duration": 17,
    "start_time": "2021-06-26T12:37:32.680Z"
   },
   {
    "duration": 6309,
    "start_time": "2021-06-26T12:37:37.801Z"
   },
   {
    "duration": 24,
    "start_time": "2021-06-26T12:42:11.608Z"
   },
   {
    "duration": 18,
    "start_time": "2021-06-26T12:42:14.984Z"
   },
   {
    "duration": 21,
    "start_time": "2021-06-26T12:42:17.679Z"
   },
   {
    "duration": 747,
    "start_time": "2021-06-26T12:42:19.374Z"
   },
   {
    "duration": 16,
    "start_time": "2021-06-26T12:42:21.417Z"
   },
   {
    "duration": 625,
    "start_time": "2021-06-26T12:42:22.311Z"
   },
   {
    "duration": 6637,
    "start_time": "2021-06-26T12:42:24.307Z"
   },
   {
    "duration": -107,
    "start_time": "2021-06-26T12:42:31.053Z"
   },
   {
    "duration": 34,
    "start_time": "2021-06-26T12:42:49.786Z"
   },
   {
    "duration": 731,
    "start_time": "2021-06-26T12:42:53.560Z"
   },
   {
    "duration": 9,
    "start_time": "2021-06-26T12:43:02.039Z"
   },
   {
    "duration": 750,
    "start_time": "2021-06-26T12:43:03.146Z"
   },
   {
    "duration": 840,
    "start_time": "2021-06-26T12:43:06.021Z"
   },
   {
    "duration": 65,
    "start_time": "2021-06-26T12:43:09.007Z"
   },
   {
    "duration": 33,
    "start_time": "2021-06-26T12:43:09.738Z"
   },
   {
    "duration": 735,
    "start_time": "2021-06-26T12:43:10.338Z"
   },
   {
    "duration": 871,
    "start_time": "2021-06-26T12:43:13.446Z"
   },
   {
    "duration": 275,
    "start_time": "2021-06-26T12:43:27.020Z"
   },
   {
    "duration": 18,
    "start_time": "2021-06-26T12:43:58.657Z"
   },
   {
    "duration": 13,
    "start_time": "2021-06-26T12:44:21.666Z"
   },
   {
    "duration": 30673,
    "start_time": "2021-06-26T12:46:52.519Z"
   },
   {
    "duration": 10625,
    "start_time": "2021-06-26T12:47:51.487Z"
   },
   {
    "duration": 608,
    "start_time": "2021-06-26T12:51:48.275Z"
   },
   {
    "duration": 577,
    "start_time": "2021-06-26T12:52:04.659Z"
   },
   {
    "duration": 657,
    "start_time": "2021-06-26T12:58:09.379Z"
   },
   {
    "duration": 6,
    "start_time": "2021-06-26T13:42:08.108Z"
   },
   {
    "duration": 17,
    "start_time": "2021-06-26T14:12:48.358Z"
   },
   {
    "duration": 701,
    "start_time": "2021-06-26T14:25:42.319Z"
   },
   {
    "duration": 648,
    "start_time": "2021-06-26T14:31:52.360Z"
   },
   {
    "duration": 1271,
    "start_time": "2021-06-26T14:32:10.425Z"
   },
   {
    "duration": 7,
    "start_time": "2021-06-26T14:39:38.030Z"
   },
   {
    "duration": 3804,
    "start_time": "2021-06-26T21:07:58.242Z"
   },
   {
    "duration": 1603,
    "start_time": "2021-06-26T21:08:02.049Z"
   },
   {
    "duration": 27,
    "start_time": "2021-06-26T21:08:35.138Z"
   },
   {
    "duration": 12,
    "start_time": "2021-06-26T21:08:46.969Z"
   },
   {
    "duration": 21,
    "start_time": "2021-06-26T21:08:49.678Z"
   },
   {
    "duration": 19,
    "start_time": "2021-06-26T21:08:52.243Z"
   },
   {
    "duration": 24,
    "start_time": "2021-06-26T21:08:56.275Z"
   },
   {
    "duration": 18,
    "start_time": "2021-06-26T21:08:57.093Z"
   },
   {
    "duration": 18,
    "start_time": "2021-06-26T21:08:58.144Z"
   },
   {
    "duration": 802,
    "start_time": "2021-06-26T21:08:58.802Z"
   },
   {
    "duration": 17,
    "start_time": "2021-06-26T21:09:00.865Z"
   },
   {
    "duration": 683,
    "start_time": "2021-06-26T21:09:01.523Z"
   },
   {
    "duration": 33,
    "start_time": "2021-06-26T21:09:02.454Z"
   },
   {
    "duration": 799,
    "start_time": "2021-06-26T21:09:03.145Z"
   },
   {
    "duration": 9,
    "start_time": "2021-06-26T21:09:06.396Z"
   },
   {
    "duration": 776,
    "start_time": "2021-06-26T21:09:06.760Z"
   },
   {
    "duration": 819,
    "start_time": "2021-06-26T21:09:22.386Z"
   },
   {
    "duration": 70,
    "start_time": "2021-06-26T21:09:24.662Z"
   },
   {
    "duration": 49,
    "start_time": "2021-06-26T21:09:25.317Z"
   },
   {
    "duration": 968,
    "start_time": "2021-06-26T21:09:25.869Z"
   },
   {
    "duration": 1218,
    "start_time": "2021-06-26T21:09:29.310Z"
   },
   {
    "duration": 33,
    "start_time": "2021-06-26T21:09:30.531Z"
   },
   {
    "duration": 895,
    "start_time": "2021-06-26T21:09:30.567Z"
   },
   {
    "duration": 980,
    "start_time": "2021-06-26T21:09:31.525Z"
   },
   {
    "duration": 7,
    "start_time": "2021-06-26T21:09:33.771Z"
   },
   {
    "duration": 682,
    "start_time": "2021-06-26T21:09:35.945Z"
   },
   {
    "duration": 789,
    "start_time": "2021-06-26T21:09:36.630Z"
   },
   {
    "duration": 6,
    "start_time": "2021-06-26T21:09:39.203Z"
   },
   {
    "duration": 3389,
    "start_time": "2021-06-27T07:31:58.970Z"
   },
   {
    "duration": 1591,
    "start_time": "2021-06-27T07:32:02.362Z"
   },
   {
    "duration": 25,
    "start_time": "2021-06-27T07:32:03.956Z"
   },
   {
    "duration": 13,
    "start_time": "2021-06-27T07:32:03.983Z"
   },
   {
    "duration": 21,
    "start_time": "2021-06-27T07:32:05.626Z"
   },
   {
    "duration": 18,
    "start_time": "2021-06-27T07:32:08.150Z"
   },
   {
    "duration": 23,
    "start_time": "2021-06-27T07:32:12.584Z"
   },
   {
    "duration": 17,
    "start_time": "2021-06-27T07:32:13.319Z"
   },
   {
    "duration": 16,
    "start_time": "2021-06-27T07:32:15.451Z"
   },
   {
    "duration": 752,
    "start_time": "2021-06-27T07:32:16.309Z"
   },
   {
    "duration": 16,
    "start_time": "2021-06-27T07:32:17.861Z"
   },
   {
    "duration": 619,
    "start_time": "2021-06-27T07:32:18.528Z"
   },
   {
    "duration": 32,
    "start_time": "2021-06-27T07:32:19.158Z"
   },
   {
    "duration": 762,
    "start_time": "2021-06-27T07:32:19.755Z"
   },
   {
    "duration": 10,
    "start_time": "2021-06-27T07:32:21.504Z"
   },
   {
    "duration": 720,
    "start_time": "2021-06-27T07:32:21.845Z"
   },
   {
    "duration": 773,
    "start_time": "2021-06-27T07:32:23.697Z"
   },
   {
    "duration": 65,
    "start_time": "2021-06-27T07:32:25.515Z"
   },
   {
    "duration": 35,
    "start_time": "2021-06-27T07:32:26.217Z"
   },
   {
    "duration": 611,
    "start_time": "2021-06-27T07:32:26.789Z"
   },
   {
    "duration": 838,
    "start_time": "2021-06-27T07:32:29.706Z"
   },
   {
    "duration": 14,
    "start_time": "2021-06-27T07:32:33.401Z"
   },
   {
    "duration": 555,
    "start_time": "2021-06-27T07:32:33.558Z"
   },
   {
    "duration": 689,
    "start_time": "2021-06-27T07:32:34.327Z"
   },
   {
    "duration": 7,
    "start_time": "2021-06-27T07:32:36.836Z"
   },
   {
    "duration": 604,
    "start_time": "2021-06-27T07:32:38.532Z"
   },
   {
    "duration": 707,
    "start_time": "2021-06-27T07:32:39.712Z"
   },
   {
    "duration": 7,
    "start_time": "2021-06-27T07:32:42.769Z"
   },
   {
    "duration": 683,
    "start_time": "2021-06-27T08:05:00.393Z"
   },
   {
    "duration": 97,
    "start_time": "2021-06-27T08:05:20.517Z"
   },
   {
    "duration": 103,
    "start_time": "2021-06-27T08:05:33.188Z"
   },
   {
    "duration": 19,
    "start_time": "2021-06-27T08:05:54.085Z"
   },
   {
    "duration": 26,
    "start_time": "2021-06-27T08:07:57.398Z"
   },
   {
    "duration": 15,
    "start_time": "2021-06-27T08:21:31.295Z"
   },
   {
    "duration": 22,
    "start_time": "2021-06-27T08:29:09.201Z"
   },
   {
    "duration": 6,
    "start_time": "2021-06-27T08:32:21.243Z"
   },
   {
    "duration": 26,
    "start_time": "2021-06-27T08:33:26.509Z"
   },
   {
    "duration": 154,
    "start_time": "2021-06-27T08:39:07.869Z"
   },
   {
    "duration": 26,
    "start_time": "2021-06-27T08:39:10.405Z"
   },
   {
    "duration": 12,
    "start_time": "2021-06-27T08:39:11.032Z"
   },
   {
    "duration": 17,
    "start_time": "2021-06-27T08:39:13.494Z"
   },
   {
    "duration": 19,
    "start_time": "2021-06-27T08:39:15.479Z"
   },
   {
    "duration": 23,
    "start_time": "2021-06-27T08:39:20.486Z"
   },
   {
    "duration": 18,
    "start_time": "2021-06-27T08:39:20.925Z"
   },
   {
    "duration": 21,
    "start_time": "2021-06-27T08:39:21.414Z"
   },
   {
    "duration": 757,
    "start_time": "2021-06-27T08:39:21.988Z"
   },
   {
    "duration": 16,
    "start_time": "2021-06-27T08:39:23.518Z"
   },
   {
    "duration": 684,
    "start_time": "2021-06-27T08:39:24.156Z"
   },
   {
    "duration": 41,
    "start_time": "2021-06-27T08:39:24.843Z"
   },
   {
    "duration": 810,
    "start_time": "2021-06-27T08:39:25.527Z"
   },
   {
    "duration": 18,
    "start_time": "2021-06-27T08:39:27.945Z"
   },
   {
    "duration": 744,
    "start_time": "2021-06-27T08:39:28.501Z"
   },
   {
    "duration": 971,
    "start_time": "2021-06-27T08:39:30.842Z"
   },
   {
    "duration": 70,
    "start_time": "2021-06-27T08:39:33.029Z"
   },
   {
    "duration": 34,
    "start_time": "2021-06-27T08:39:33.639Z"
   },
   {
    "duration": 617,
    "start_time": "2021-06-27T08:39:34.239Z"
   },
   {
    "duration": 816,
    "start_time": "2021-06-27T08:39:36.618Z"
   },
   {
    "duration": 14,
    "start_time": "2021-06-27T08:39:38.848Z"
   },
   {
    "duration": 550,
    "start_time": "2021-06-27T08:39:39.312Z"
   },
   {
    "duration": 704,
    "start_time": "2021-06-27T08:39:39.866Z"
   },
   {
    "duration": 7,
    "start_time": "2021-06-27T08:39:41.926Z"
   },
   {
    "duration": 618,
    "start_time": "2021-06-27T08:39:44.006Z"
   },
   {
    "duration": 713,
    "start_time": "2021-06-27T08:39:45.333Z"
   },
   {
    "duration": 7,
    "start_time": "2021-06-27T08:39:47.573Z"
   },
   {
    "duration": 26,
    "start_time": "2021-06-27T08:39:49.517Z"
   },
   {
    "duration": 22,
    "start_time": "2021-06-27T08:39:50.311Z"
   },
   {
    "duration": 8,
    "start_time": "2021-06-27T08:39:51.232Z"
   },
   {
    "duration": 373,
    "start_time": "2021-06-27T08:39:53.305Z"
   },
   {
    "duration": 10,
    "start_time": "2021-06-27T08:40:22.766Z"
   },
   {
    "duration": 279,
    "start_time": "2021-06-27T09:01:49.610Z"
   },
   {
    "duration": 14,
    "start_time": "2021-06-27T09:02:07.700Z"
   },
   {
    "duration": 14,
    "start_time": "2021-06-27T09:03:23.834Z"
   },
   {
    "duration": 14,
    "start_time": "2021-06-27T09:03:56.660Z"
   },
   {
    "duration": 14,
    "start_time": "2021-06-27T09:30:46.228Z"
   },
   {
    "duration": 17,
    "start_time": "2021-06-27T09:30:49.111Z"
   },
   {
    "duration": 17,
    "start_time": "2021-06-27T09:43:03.627Z"
   },
   {
    "duration": 6280,
    "start_time": "2021-06-27T10:05:05.517Z"
   },
   {
    "duration": 6350,
    "start_time": "2021-06-27T10:06:01.226Z"
   },
   {
    "duration": 15,
    "start_time": "2021-06-27T10:06:18.025Z"
   },
   {
    "duration": 19,
    "start_time": "2021-06-27T10:06:42.312Z"
   },
   {
    "duration": 17,
    "start_time": "2021-06-27T10:07:11.232Z"
   },
   {
    "duration": 9,
    "start_time": "2021-06-27T10:22:09.104Z"
   },
   {
    "duration": 21,
    "start_time": "2021-06-27T10:22:10.701Z"
   },
   {
    "duration": 17,
    "start_time": "2021-06-27T10:22:17.881Z"
   },
   {
    "duration": 17,
    "start_time": "2021-06-27T10:22:25.099Z"
   },
   {
    "duration": 15,
    "start_time": "2021-06-27T10:22:44.812Z"
   },
   {
    "duration": 15,
    "start_time": "2021-06-27T10:35:43.800Z"
   },
   {
    "duration": 1688,
    "start_time": "2021-06-27T11:19:46.691Z"
   },
   {
    "duration": 14,
    "start_time": "2021-06-27T11:21:11.490Z"
   },
   {
    "duration": 1778,
    "start_time": "2021-06-27T11:21:14.023Z"
   },
   {
    "duration": 1799,
    "start_time": "2021-06-27T11:22:01.674Z"
   },
   {
    "duration": 4856,
    "start_time": "2021-06-27T11:22:57.339Z"
   },
   {
    "duration": 17,
    "start_time": "2021-06-27T11:23:05.637Z"
   },
   {
    "duration": 11,
    "start_time": "2021-06-27T11:23:10.824Z"
   },
   {
    "duration": 15,
    "start_time": "2021-06-27T11:23:11.472Z"
   },
   {
    "duration": 2361,
    "start_time": "2021-06-27T11:23:13.757Z"
   },
   {
    "duration": 24,
    "start_time": "2021-06-27T11:24:32.058Z"
   },
   {
    "duration": 25,
    "start_time": "2021-06-27T11:28:26.747Z"
   },
   {
    "duration": 16,
    "start_time": "2021-06-27T11:33:53.199Z"
   },
   {
    "duration": 22,
    "start_time": "2021-06-27T11:34:19.037Z"
   },
   {
    "duration": 17,
    "start_time": "2021-06-27T11:35:02.867Z"
   },
   {
    "duration": 3880,
    "start_time": "2021-06-27T14:41:45.116Z"
   },
   {
    "duration": 1448,
    "start_time": "2021-06-27T14:41:48.999Z"
   },
   {
    "duration": 24,
    "start_time": "2021-06-27T14:41:50.450Z"
   },
   {
    "duration": 17,
    "start_time": "2021-06-27T14:41:50.477Z"
   },
   {
    "duration": 22,
    "start_time": "2021-06-27T14:41:50.497Z"
   },
   {
    "duration": 40,
    "start_time": "2021-06-27T14:41:50.521Z"
   },
   {
    "duration": 28,
    "start_time": "2021-06-27T14:41:50.563Z"
   },
   {
    "duration": 18,
    "start_time": "2021-06-27T14:41:50.595Z"
   },
   {
    "duration": 50,
    "start_time": "2021-06-27T14:41:50.617Z"
   },
   {
    "duration": 794,
    "start_time": "2021-06-27T14:41:50.670Z"
   },
   {
    "duration": 19,
    "start_time": "2021-06-27T14:41:51.467Z"
   },
   {
    "duration": 679,
    "start_time": "2021-06-27T14:41:51.489Z"
   },
   {
    "duration": 46,
    "start_time": "2021-06-27T14:41:52.171Z"
   },
   {
    "duration": 800,
    "start_time": "2021-06-27T14:41:52.220Z"
   },
   {
    "duration": 10,
    "start_time": "2021-06-27T14:41:53.022Z"
   },
   {
    "duration": 752,
    "start_time": "2021-06-27T14:41:53.034Z"
   },
   {
    "duration": 796,
    "start_time": "2021-06-27T14:41:53.789Z"
   },
   {
    "duration": 89,
    "start_time": "2021-06-27T14:41:54.587Z"
   },
   {
    "duration": 33,
    "start_time": "2021-06-27T14:41:54.678Z"
   },
   {
    "duration": 647,
    "start_time": "2021-06-27T14:41:54.714Z"
   },
   {
    "duration": 933,
    "start_time": "2021-06-27T14:41:55.364Z"
   },
   {
    "duration": 13,
    "start_time": "2021-06-27T14:41:56.299Z"
   },
   {
    "duration": 564,
    "start_time": "2021-06-27T14:41:56.318Z"
   },
   {
    "duration": 687,
    "start_time": "2021-06-27T14:41:56.885Z"
   },
   {
    "duration": 6,
    "start_time": "2021-06-27T14:41:57.575Z"
   },
   {
    "duration": 633,
    "start_time": "2021-06-27T14:41:57.584Z"
   },
   {
    "duration": 747,
    "start_time": "2021-06-27T14:41:58.219Z"
   },
   {
    "duration": 7,
    "start_time": "2021-06-27T14:41:58.968Z"
   },
   {
    "duration": 27,
    "start_time": "2021-06-27T14:41:58.977Z"
   },
   {
    "duration": 53,
    "start_time": "2021-06-27T14:41:59.007Z"
   },
   {
    "duration": 8,
    "start_time": "2021-06-27T14:41:59.062Z"
   },
   {
    "duration": 18,
    "start_time": "2021-06-27T14:41:59.072Z"
   },
   {
    "duration": 15,
    "start_time": "2021-06-27T14:41:59.093Z"
   },
   {
    "duration": 57,
    "start_time": "2021-06-27T14:41:59.111Z"
   },
   {
    "duration": 15,
    "start_time": "2021-06-27T14:41:59.171Z"
   },
   {
    "duration": 16,
    "start_time": "2021-06-27T14:41:59.188Z"
   },
   {
    "duration": 59,
    "start_time": "2021-06-27T14:41:59.206Z"
   },
   {
    "duration": 85,
    "start_time": "2021-06-27T14:42:45.264Z"
   },
   {
    "duration": 84,
    "start_time": "2021-06-27T14:46:22.244Z"
   },
   {
    "duration": 3349,
    "start_time": "2021-06-27T15:25:11.153Z"
   },
   {
    "duration": 1688,
    "start_time": "2021-06-27T15:25:14.505Z"
   },
   {
    "duration": 25,
    "start_time": "2021-06-27T15:25:16.196Z"
   },
   {
    "duration": 14,
    "start_time": "2021-06-27T15:25:16.224Z"
   },
   {
    "duration": 5,
    "start_time": "2021-06-27T15:25:17.713Z"
   },
   {
    "duration": 24,
    "start_time": "2021-06-27T15:25:20.791Z"
   },
   {
    "duration": 25,
    "start_time": "2021-06-27T15:25:23.626Z"
   },
   {
    "duration": 27,
    "start_time": "2021-06-27T15:25:32.438Z"
   },
   {
    "duration": 18,
    "start_time": "2021-06-27T15:25:32.971Z"
   },
   {
    "duration": 17,
    "start_time": "2021-06-27T15:25:33.550Z"
   },
   {
    "duration": 815,
    "start_time": "2021-06-27T15:25:34.095Z"
   },
   {
    "duration": 23,
    "start_time": "2021-06-27T15:25:35.834Z"
   },
   {
    "duration": 707,
    "start_time": "2021-06-27T15:25:36.410Z"
   },
   {
    "duration": 33,
    "start_time": "2021-06-27T15:25:37.124Z"
   },
   {
    "duration": 791,
    "start_time": "2021-06-27T15:25:37.552Z"
   },
   {
    "duration": 9,
    "start_time": "2021-06-27T15:25:41.665Z"
   },
   {
    "duration": 758,
    "start_time": "2021-06-27T15:25:42.367Z"
   },
   {
    "duration": 852,
    "start_time": "2021-06-27T15:25:44.528Z"
   },
   {
    "duration": 68,
    "start_time": "2021-06-27T15:25:47.281Z"
   },
   {
    "duration": 34,
    "start_time": "2021-06-27T15:25:47.862Z"
   },
   {
    "duration": 1028,
    "start_time": "2021-06-27T15:25:48.448Z"
   },
   {
    "duration": 1269,
    "start_time": "2021-06-27T15:25:50.535Z"
   },
   {
    "duration": 20,
    "start_time": "2021-06-27T15:25:53.272Z"
   },
   {
    "duration": 948,
    "start_time": "2021-06-27T15:25:53.730Z"
   },
   {
    "duration": 1045,
    "start_time": "2021-06-27T15:25:54.682Z"
   },
   {
    "duration": 8,
    "start_time": "2021-06-27T15:25:56.203Z"
   },
   {
    "duration": 654,
    "start_time": "2021-06-27T15:25:58.175Z"
   },
   {
    "duration": 734,
    "start_time": "2021-06-27T15:25:58.831Z"
   },
   {
    "duration": 7,
    "start_time": "2021-06-27T15:26:01.155Z"
   },
   {
    "duration": 27,
    "start_time": "2021-06-27T15:26:03.229Z"
   },
   {
    "duration": 21,
    "start_time": "2021-06-27T15:26:03.782Z"
   },
   {
    "duration": 9,
    "start_time": "2021-06-27T15:26:04.374Z"
   },
   {
    "duration": 22,
    "start_time": "2021-06-27T15:26:04.975Z"
   },
   {
    "duration": 20,
    "start_time": "2021-06-27T15:26:07.551Z"
   },
   {
    "duration": 18,
    "start_time": "2021-06-27T15:26:09.410Z"
   },
   {
    "duration": 12,
    "start_time": "2021-06-27T15:26:09.991Z"
   },
   {
    "duration": 13,
    "start_time": "2021-06-27T15:26:10.535Z"
   },
   {
    "duration": 23,
    "start_time": "2021-06-27T15:26:13.229Z"
   },
   {
    "duration": 8,
    "start_time": "2021-06-27T15:30:07.822Z"
   },
   {
    "duration": 10,
    "start_time": "2021-06-27T15:36:21.749Z"
   },
   {
    "duration": 9,
    "start_time": "2021-06-27T15:36:34.885Z"
   },
   {
    "duration": 11,
    "start_time": "2021-06-27T15:36:54.015Z"
   },
   {
    "duration": 11,
    "start_time": "2021-06-27T15:37:33.965Z"
   },
   {
    "duration": 422,
    "start_time": "2021-06-27T15:37:48.117Z"
   },
   {
    "duration": 10,
    "start_time": "2021-06-27T15:41:06.976Z"
   },
   {
    "duration": 10,
    "start_time": "2021-06-27T15:41:35.377Z"
   },
   {
    "duration": 11,
    "start_time": "2021-06-27T15:42:00.368Z"
   },
   {
    "duration": 14,
    "start_time": "2021-06-27T15:43:00.536Z"
   },
   {
    "duration": 95,
    "start_time": "2021-06-27T15:54:42.707Z"
   },
   {
    "duration": 490,
    "start_time": "2021-06-27T15:54:54.055Z"
   },
   {
    "duration": 287,
    "start_time": "2021-06-27T15:59:26.859Z"
   },
   {
    "duration": 49784,
    "start_time": "2021-06-27T16:02:47.279Z"
   },
   {
    "duration": 286,
    "start_time": "2021-06-27T16:07:02.864Z"
   },
   {
    "duration": 294,
    "start_time": "2021-06-27T16:07:15.331Z"
   },
   {
    "duration": 340,
    "start_time": "2021-06-27T16:07:38.714Z"
   },
   {
    "duration": 279,
    "start_time": "2021-06-27T16:08:20.995Z"
   },
   {
    "duration": 97,
    "start_time": "2021-06-27T16:08:28.746Z"
   },
   {
    "duration": 136,
    "start_time": "2021-06-27T16:08:41.689Z"
   },
   {
    "duration": 296,
    "start_time": "2021-06-27T16:08:51.793Z"
   },
   {
    "duration": 281,
    "start_time": "2021-06-27T16:09:08.826Z"
   },
   {
    "duration": 292,
    "start_time": "2021-06-27T16:09:15.649Z"
   },
   {
    "duration": 92,
    "start_time": "2021-06-27T16:13:06.721Z"
   },
   {
    "duration": 300,
    "start_time": "2021-06-27T16:13:15.116Z"
   },
   {
    "duration": 284,
    "start_time": "2021-06-27T16:13:29.470Z"
   },
   {
    "duration": 280,
    "start_time": "2021-06-27T16:13:37.096Z"
   },
   {
    "duration": 289,
    "start_time": "2021-06-27T16:14:24.871Z"
   },
   {
    "duration": 293,
    "start_time": "2021-06-27T16:16:36.366Z"
   },
   {
    "duration": 97,
    "start_time": "2021-06-27T16:16:52.212Z"
   },
   {
    "duration": 282,
    "start_time": "2021-06-27T16:16:58.438Z"
   },
   {
    "duration": 283,
    "start_time": "2021-06-27T16:19:06.872Z"
   },
   {
    "duration": 280,
    "start_time": "2021-06-27T16:23:55.659Z"
   },
   {
    "duration": 670,
    "start_time": "2021-06-27T16:24:41.798Z"
   },
   {
    "duration": 94,
    "start_time": "2021-06-27T16:24:48.945Z"
   },
   {
    "duration": 94,
    "start_time": "2021-06-27T16:25:00.982Z"
   },
   {
    "duration": 88,
    "start_time": "2021-06-27T16:25:06.402Z"
   },
   {
    "duration": 11,
    "start_time": "2021-06-27T16:37:29.210Z"
   },
   {
    "duration": 147,
    "start_time": "2021-06-27T16:38:44.900Z"
   },
   {
    "duration": 11,
    "start_time": "2021-06-27T16:38:51.728Z"
   },
   {
    "duration": 13,
    "start_time": "2021-06-27T16:40:24.135Z"
   },
   {
    "duration": 20,
    "start_time": "2021-06-27T16:41:44.376Z"
   },
   {
    "duration": 15,
    "start_time": "2021-06-27T16:42:01.220Z"
   },
   {
    "duration": 13,
    "start_time": "2021-06-27T16:45:34.846Z"
   },
   {
    "duration": 17,
    "start_time": "2021-06-27T16:47:14.790Z"
   },
   {
    "duration": 18,
    "start_time": "2021-06-27T16:47:28.186Z"
   },
   {
    "duration": 34,
    "start_time": "2021-06-27T16:47:34.741Z"
   },
   {
    "duration": 19,
    "start_time": "2021-06-27T16:47:42.340Z"
   },
   {
    "duration": 778,
    "start_time": "2021-06-27T16:49:18.969Z"
   },
   {
    "duration": 966,
    "start_time": "2021-06-27T16:49:56.504Z"
   },
   {
    "duration": 863,
    "start_time": "2021-06-27T16:50:36.053Z"
   },
   {
    "duration": 830,
    "start_time": "2021-06-27T16:51:57.553Z"
   },
   {
    "duration": 594,
    "start_time": "2021-06-27T16:52:33.451Z"
   },
   {
    "duration": 1039,
    "start_time": "2021-06-27T16:52:57.109Z"
   },
   {
    "duration": 846,
    "start_time": "2021-06-27T16:53:51.302Z"
   },
   {
    "duration": 1273,
    "start_time": "2021-06-27T16:54:16.413Z"
   },
   {
    "duration": 743,
    "start_time": "2021-06-27T16:54:38.586Z"
   },
   {
    "duration": 840,
    "start_time": "2021-06-27T16:55:49.816Z"
   },
   {
    "duration": 805,
    "start_time": "2021-06-27T16:56:05.184Z"
   },
   {
    "duration": 809,
    "start_time": "2021-06-27T16:56:15.710Z"
   },
   {
    "duration": 895,
    "start_time": "2021-06-27T16:56:40.532Z"
   },
   {
    "duration": 788,
    "start_time": "2021-06-27T16:57:02.766Z"
   },
   {
    "duration": 797,
    "start_time": "2021-06-27T16:57:53.610Z"
   },
   {
    "duration": 826,
    "start_time": "2021-06-27T17:04:30.237Z"
   },
   {
    "duration": 737,
    "start_time": "2021-06-27T17:07:09.803Z"
   },
   {
    "duration": 747,
    "start_time": "2021-06-27T17:08:14.580Z"
   },
   {
    "duration": 6,
    "start_time": "2021-06-27T17:08:22.575Z"
   },
   {
    "duration": 27,
    "start_time": "2021-06-27T17:08:27.545Z"
   },
   {
    "duration": 23,
    "start_time": "2021-06-27T17:08:28.306Z"
   },
   {
    "duration": 9,
    "start_time": "2021-06-27T17:08:29.073Z"
   },
   {
    "duration": 339,
    "start_time": "2021-06-27T17:11:30.173Z"
   },
   {
    "duration": 273,
    "start_time": "2021-06-27T17:11:42.231Z"
   },
   {
    "duration": 275,
    "start_time": "2021-06-27T17:12:04.664Z"
   },
   {
    "duration": 15,
    "start_time": "2021-06-27T17:12:27.510Z"
   },
   {
    "duration": 15,
    "start_time": "2021-06-27T17:13:26.840Z"
   },
   {
    "duration": 13,
    "start_time": "2021-06-27T17:13:50.692Z"
   },
   {
    "duration": 10,
    "start_time": "2021-06-27T17:14:52.041Z"
   },
   {
    "duration": 10,
    "start_time": "2021-06-27T17:16:28.127Z"
   },
   {
    "duration": 273,
    "start_time": "2021-06-27T17:16:38.765Z"
   },
   {
    "duration": 273,
    "start_time": "2021-06-27T17:16:48.955Z"
   },
   {
    "duration": 10,
    "start_time": "2021-06-27T17:16:54.491Z"
   },
   {
    "duration": 310,
    "start_time": "2021-06-27T17:17:08.507Z"
   },
   {
    "duration": 11,
    "start_time": "2021-06-27T17:17:15.377Z"
   },
   {
    "duration": 10,
    "start_time": "2021-06-27T17:18:27.116Z"
   },
   {
    "duration": 17,
    "start_time": "2021-06-27T17:21:23.720Z"
   },
   {
    "duration": 18,
    "start_time": "2021-06-27T17:21:26.819Z"
   },
   {
    "duration": 12,
    "start_time": "2021-06-27T17:21:30.870Z"
   },
   {
    "duration": 15,
    "start_time": "2021-06-27T17:21:31.617Z"
   },
   {
    "duration": 13,
    "start_time": "2021-06-27T17:23:44.607Z"
   },
   {
    "duration": 277,
    "start_time": "2021-06-27T17:24:09.880Z"
   },
   {
    "duration": 10,
    "start_time": "2021-06-27T17:24:31.483Z"
   },
   {
    "duration": 23,
    "start_time": "2021-06-27T17:25:12.758Z"
   },
   {
    "duration": 10,
    "start_time": "2021-06-27T17:41:45.640Z"
   },
   {
    "duration": 20,
    "start_time": "2021-06-27T17:48:09.677Z"
   },
   {
    "duration": 14,
    "start_time": "2021-06-27T17:48:29.329Z"
   },
   {
    "duration": 100,
    "start_time": "2021-06-27T17:49:00.581Z"
   },
   {
    "duration": 91,
    "start_time": "2021-06-27T17:49:21.919Z"
   },
   {
    "duration": 22,
    "start_time": "2021-06-27T17:49:28.891Z"
   },
   {
    "duration": 6,
    "start_time": "2021-06-27T18:17:27.124Z"
   },
   {
    "duration": 3872,
    "start_time": "2021-06-28T15:16:59.316Z"
   },
   {
    "duration": 1538,
    "start_time": "2021-06-28T15:17:03.192Z"
   },
   {
    "duration": 27,
    "start_time": "2021-06-28T15:17:04.734Z"
   },
   {
    "duration": 20,
    "start_time": "2021-06-28T15:17:04.764Z"
   },
   {
    "duration": 27,
    "start_time": "2021-06-28T15:17:04.787Z"
   },
   {
    "duration": 39,
    "start_time": "2021-06-28T15:17:04.816Z"
   },
   {
    "duration": 19,
    "start_time": "2021-06-28T15:17:04.857Z"
   },
   {
    "duration": 25,
    "start_time": "2021-06-28T15:17:04.880Z"
   },
   {
    "duration": 52,
    "start_time": "2021-06-28T15:17:04.908Z"
   },
   {
    "duration": 19,
    "start_time": "2021-06-28T15:17:04.962Z"
   },
   {
    "duration": 941,
    "start_time": "2021-06-28T15:17:04.984Z"
   },
   {
    "duration": 28,
    "start_time": "2021-06-28T15:17:05.928Z"
   },
   {
    "duration": 697,
    "start_time": "2021-06-28T15:17:05.958Z"
   },
   {
    "duration": 31,
    "start_time": "2021-06-28T15:17:06.658Z"
   },
   {
    "duration": 866,
    "start_time": "2021-06-28T15:17:06.692Z"
   },
   {
    "duration": 9,
    "start_time": "2021-06-28T15:17:07.561Z"
   },
   {
    "duration": 936,
    "start_time": "2021-06-28T15:17:07.573Z"
   },
   {
    "duration": 857,
    "start_time": "2021-06-28T15:17:08.511Z"
   },
   {
    "duration": 102,
    "start_time": "2021-06-28T15:17:09.371Z"
   },
   {
    "duration": 50,
    "start_time": "2021-06-28T15:17:09.476Z"
   },
   {
    "duration": 668,
    "start_time": "2021-06-28T15:17:09.556Z"
   },
   {
    "duration": 859,
    "start_time": "2021-06-28T15:17:10.226Z"
   },
   {
    "duration": 14,
    "start_time": "2021-06-28T15:17:11.090Z"
   },
   {
    "duration": 610,
    "start_time": "2021-06-28T15:17:11.107Z"
   },
   {
    "duration": 800,
    "start_time": "2021-06-28T15:17:11.720Z"
   },
   {
    "duration": 6,
    "start_time": "2021-06-28T15:17:12.523Z"
   },
   {
    "duration": 684,
    "start_time": "2021-06-28T15:17:12.532Z"
   },
   {
    "duration": 830,
    "start_time": "2021-06-28T15:17:13.218Z"
   },
   {
    "duration": 6,
    "start_time": "2021-06-28T15:17:14.054Z"
   },
   {
    "duration": 30,
    "start_time": "2021-06-28T15:17:14.063Z"
   },
   {
    "duration": 23,
    "start_time": "2021-06-28T15:17:14.096Z"
   },
   {
    "duration": 9,
    "start_time": "2021-06-28T15:17:14.153Z"
   },
   {
    "duration": 25,
    "start_time": "2021-06-28T15:17:14.165Z"
   },
   {
    "duration": 18,
    "start_time": "2021-06-28T15:17:14.192Z"
   },
   {
    "duration": 44,
    "start_time": "2021-06-28T15:17:14.212Z"
   },
   {
    "duration": 12,
    "start_time": "2021-06-28T15:17:14.258Z"
   },
   {
    "duration": 11,
    "start_time": "2021-06-28T15:17:14.273Z"
   },
   {
    "duration": 37,
    "start_time": "2021-06-28T15:17:14.286Z"
   },
   {
    "duration": 145,
    "start_time": "2021-06-28T15:18:21.709Z"
   },
   {
    "duration": 1721,
    "start_time": "2021-06-28T15:28:04.514Z"
   },
   {
    "duration": 25,
    "start_time": "2021-06-28T15:28:08.474Z"
   },
   {
    "duration": 13,
    "start_time": "2021-06-28T15:28:09.304Z"
   },
   {
    "duration": 19,
    "start_time": "2021-06-28T15:28:11.376Z"
   },
   {
    "duration": 10,
    "start_time": "2021-06-28T15:29:37.422Z"
   },
   {
    "duration": 496,
    "start_time": "2021-06-28T15:37:24.950Z"
   },
   {
    "duration": 19,
    "start_time": "2021-06-28T15:37:43.028Z"
   },
   {
    "duration": 18,
    "start_time": "2021-06-28T15:37:52.660Z"
   },
   {
    "duration": 15,
    "start_time": "2021-06-28T15:38:07.940Z"
   },
   {
    "duration": 19,
    "start_time": "2021-06-28T15:41:14.520Z"
   },
   {
    "duration": 21,
    "start_time": "2021-06-28T15:41:43.454Z"
   },
   {
    "duration": 28,
    "start_time": "2021-06-28T15:50:48.769Z"
   },
   {
    "duration": 32,
    "start_time": "2021-06-28T15:51:05.030Z"
   },
   {
    "duration": 32,
    "start_time": "2021-06-28T15:52:34.126Z"
   },
   {
    "duration": 18,
    "start_time": "2021-06-28T15:52:52.531Z"
   },
   {
    "duration": 19,
    "start_time": "2021-06-28T15:52:55.712Z"
   },
   {
    "duration": 25,
    "start_time": "2021-06-28T15:53:00.032Z"
   },
   {
    "duration": 20,
    "start_time": "2021-06-28T15:53:00.731Z"
   },
   {
    "duration": 20,
    "start_time": "2021-06-28T15:53:01.302Z"
   },
   {
    "duration": 889,
    "start_time": "2021-06-28T15:53:01.940Z"
   },
   {
    "duration": 16,
    "start_time": "2021-06-28T15:53:04.485Z"
   },
   {
    "duration": 669,
    "start_time": "2021-06-28T15:53:05.128Z"
   },
   {
    "duration": 57,
    "start_time": "2021-06-28T15:53:05.800Z"
   },
   {
    "duration": 830,
    "start_time": "2021-06-28T15:53:06.157Z"
   },
   {
    "duration": 9,
    "start_time": "2021-06-28T15:53:10.995Z"
   },
   {
    "duration": 822,
    "start_time": "2021-06-28T15:53:12.561Z"
   },
   {
    "duration": 775,
    "start_time": "2021-06-28T15:53:16.094Z"
   },
   {
    "duration": 70,
    "start_time": "2021-06-28T15:53:20.292Z"
   },
   {
    "duration": 34,
    "start_time": "2021-06-28T15:53:20.696Z"
   },
   {
    "duration": 636,
    "start_time": "2021-06-28T15:53:21.158Z"
   },
   {
    "duration": 988,
    "start_time": "2021-06-28T15:53:22.852Z"
   },
   {
    "duration": 16,
    "start_time": "2021-06-28T15:53:24.731Z"
   },
   {
    "duration": 620,
    "start_time": "2021-06-28T15:53:25.225Z"
   },
   {
    "duration": 754,
    "start_time": "2021-06-28T15:53:25.854Z"
   },
   {
    "duration": 27,
    "start_time": "2021-06-28T15:54:10.125Z"
   },
   {
    "duration": 19,
    "start_time": "2021-06-28T15:54:13.740Z"
   },
   {
    "duration": 18,
    "start_time": "2021-06-28T15:54:16.761Z"
   },
   {
    "duration": 18,
    "start_time": "2021-06-28T16:17:13.148Z"
   },
   {
    "duration": 18,
    "start_time": "2021-06-28T16:17:20.846Z"
   },
   {
    "duration": 18,
    "start_time": "2021-06-28T16:17:21.761Z"
   },
   {
    "duration": 1247,
    "start_time": "2021-06-28T16:17:22.419Z"
   },
   {
    "duration": 16,
    "start_time": "2021-06-28T16:17:25.608Z"
   },
   {
    "duration": 719,
    "start_time": "2021-06-28T16:17:25.784Z"
   },
   {
    "duration": 53,
    "start_time": "2021-06-28T16:17:26.506Z"
   },
   {
    "duration": 822,
    "start_time": "2021-06-28T16:17:26.904Z"
   },
   {
    "duration": 10,
    "start_time": "2021-06-28T16:17:30.464Z"
   },
   {
    "duration": 817,
    "start_time": "2021-06-28T16:17:31.554Z"
   },
   {
    "duration": 828,
    "start_time": "2021-06-28T16:17:33.894Z"
   },
   {
    "duration": 75,
    "start_time": "2021-06-28T16:17:37.948Z"
   },
   {
    "duration": 39,
    "start_time": "2021-06-28T16:17:38.741Z"
   },
   {
    "duration": 627,
    "start_time": "2021-06-28T16:17:40.072Z"
   },
   {
    "duration": 768,
    "start_time": "2021-06-28T16:17:45.292Z"
   },
   {
    "duration": 13,
    "start_time": "2021-06-28T16:17:49.120Z"
   },
   {
    "duration": 764,
    "start_time": "2021-06-28T16:17:50.011Z"
   },
   {
    "duration": 785,
    "start_time": "2021-06-28T16:17:50.807Z"
   },
   {
    "duration": 6,
    "start_time": "2021-06-28T16:17:57.219Z"
   },
   {
    "duration": 779,
    "start_time": "2021-06-28T16:17:59.860Z"
   },
   {
    "duration": 806,
    "start_time": "2021-06-28T16:18:01.367Z"
   },
   {
    "duration": 7,
    "start_time": "2021-06-28T16:18:06.438Z"
   },
   {
    "duration": 34,
    "start_time": "2021-06-28T16:25:24.374Z"
   },
   {
    "duration": 22,
    "start_time": "2021-06-28T16:25:25.805Z"
   },
   {
    "duration": 8,
    "start_time": "2021-06-28T16:25:29.041Z"
   },
   {
    "duration": 11,
    "start_time": "2021-06-28T16:25:34.747Z"
   },
   {
    "duration": 18,
    "start_time": "2021-06-28T16:26:00.684Z"
   },
   {
    "duration": 21,
    "start_time": "2021-06-28T16:26:39.306Z"
   },
   {
    "duration": 12,
    "start_time": "2021-06-28T16:26:51.887Z"
   },
   {
    "duration": 11,
    "start_time": "2021-06-28T16:26:52.299Z"
   },
   {
    "duration": 11,
    "start_time": "2021-06-28T16:26:57.866Z"
   },
   {
    "duration": 10,
    "start_time": "2021-06-28T16:26:58.684Z"
   },
   {
    "duration": 24,
    "start_time": "2021-06-28T16:28:33.582Z"
   },
   {
    "duration": 23,
    "start_time": "2021-06-28T16:29:05.041Z"
   },
   {
    "duration": 22,
    "start_time": "2021-06-28T16:29:18.588Z"
   },
   {
    "duration": 32,
    "start_time": "2021-06-28T16:30:40.194Z"
   },
   {
    "duration": 266,
    "start_time": "2021-06-28T16:31:39.484Z"
   },
   {
    "duration": 29,
    "start_time": "2021-06-28T16:31:51.232Z"
   },
   {
    "duration": 2111,
    "start_time": "2021-06-28T16:32:07.604Z"
   },
   {
    "duration": 27,
    "start_time": "2021-06-28T16:32:12.774Z"
   },
   {
    "duration": 15,
    "start_time": "2021-06-28T16:32:13.551Z"
   },
   {
    "duration": 20,
    "start_time": "2021-06-28T16:32:16.951Z"
   },
   {
    "duration": 33,
    "start_time": "2021-06-28T16:32:18.453Z"
   },
   {
    "duration": 427,
    "start_time": "2021-06-28T16:33:00.828Z"
   },
   {
    "duration": 290,
    "start_time": "2021-06-28T16:33:07.420Z"
   },
   {
    "duration": 282,
    "start_time": "2021-06-28T16:34:24.044Z"
   },
   {
    "duration": 287,
    "start_time": "2021-06-28T16:34:31.499Z"
   },
   {
    "duration": 82,
    "start_time": "2021-06-28T16:35:32.738Z"
   },
   {
    "duration": 268,
    "start_time": "2021-06-28T16:35:41.471Z"
   },
   {
    "duration": 264,
    "start_time": "2021-06-28T16:35:55.581Z"
   },
   {
    "duration": 281,
    "start_time": "2021-06-28T16:36:43.290Z"
   },
   {
    "duration": 88,
    "start_time": "2021-06-28T16:37:07.414Z"
   },
   {
    "duration": 297,
    "start_time": "2021-06-28T16:37:20.774Z"
   },
   {
    "duration": 291,
    "start_time": "2021-06-28T16:37:33.954Z"
   },
   {
    "duration": 34,
    "start_time": "2021-06-28T16:37:48.170Z"
   },
   {
    "duration": 276,
    "start_time": "2021-06-28T16:38:03.570Z"
   },
   {
    "duration": 280,
    "start_time": "2021-06-28T16:38:11.850Z"
   },
   {
    "duration": 86,
    "start_time": "2021-06-28T16:38:48.566Z"
   },
   {
    "duration": 39,
    "start_time": "2021-06-28T16:38:54.531Z"
   },
   {
    "duration": 39,
    "start_time": "2021-06-28T16:39:39.156Z"
   },
   {
    "duration": 1516,
    "start_time": "2021-06-28T16:39:51.822Z"
   },
   {
    "duration": 24,
    "start_time": "2021-06-28T16:39:55.286Z"
   },
   {
    "duration": 14,
    "start_time": "2021-06-28T16:39:56.056Z"
   },
   {
    "duration": 18,
    "start_time": "2021-06-28T16:39:57.906Z"
   },
   {
    "duration": 32,
    "start_time": "2021-06-28T16:39:58.502Z"
   }
  ],
  "kernelspec": {
   "display_name": "Python 3",
   "language": "python",
   "name": "python3"
  },
  "language_info": {
   "codemirror_mode": {
    "name": "ipython",
    "version": 3
   },
   "file_extension": ".py",
   "mimetype": "text/x-python",
   "name": "python",
   "nbconvert_exporter": "python",
   "pygments_lexer": "ipython3",
   "version": "3.8.5"
  },
  "toc": {
   "base_numbering": 1,
   "nav_menu": {},
   "number_sections": true,
   "sideBar": true,
   "skip_h1_title": true,
   "title_cell": "Table of Contents",
   "title_sidebar": "Contents",
   "toc_cell": false,
   "toc_position": {},
   "toc_section_display": true,
   "toc_window_display": false
  }
 },
 "nbformat": 4,
 "nbformat_minor": 2
}
