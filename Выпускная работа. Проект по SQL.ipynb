{
 "cells": [
  {
   "cell_type": "markdown",
   "metadata": {},
   "source": [
    "<div style=\"border-radius: 15px; box-shadow: 2px 2px 4px; border: 1px solid; background:#bdc3c7; padding: 20px\"> <h7 style=\"color:black; margin-bottom:20px\"> Денис, привет!)\n",
    " Мои комментарии и замечания далее по тексту помечены различными цветами:\n",
    "    \n",
    "---    \n",
    "<div class=\"alert alert-block alert-danger\">\n",
    "Критическое замечание, которые следует исправить.\n",
    "</div> \n",
    "    \n",
    "    \n",
    "---\n",
    "    \n",
    "<div class=\"alert alert-block alert-info\">\n",
    "Замечание\\совет на будущее.\n",
    "</div>\n",
    "    \n",
    "---\n",
    "    \n",
    "<div class=\"alert alert-block alert-success\">\n",
    "Когда всё сделано правильно.\n",
    "</div>\n",
    "    \n",
    "---\n",
    "    \n",
    "p.s.: не удаляй мои замечания, если предстоит что то доработать в проекте.</h7>"
   ]
  },
  {
   "cell_type": "markdown",
   "metadata": {},
   "source": [
    "<div class=\"alert alert-danger\" style=\"border-radius: 15px; box-shadow: 4px 4px 4px; border: 1px solid \" > <b>Комментарии от ревьюера: </b> \n",
    "\n",
    "Итог ревью - ты проделал хорошую работу. Почти все запросы корректные и дают правильный результат. Но есть одно задание, которое тебе предстоит доработать, чтобы я смог принять твой проект. Если возникнут вопросы по моим комментариям, пиши здесь - обязательно отвечу. Буду ждать!\n",
    "</div>"
   ]
  },
  {
   "cell_type": "markdown",
   "metadata": {},
   "source": [
    "<div class=\"alert alert-block alert-info\">\n",
    "    \n",
    "\n",
    "__Комментарий джуниора__\n",
    "\n",
    "Привет, Михаил! Благодарю за проверку работы и комментарии. Я внес исправления в свою работу, пометил их комментариями голубого цвета.\n",
    "</div>"
   ]
  },
  {
   "cell_type": "markdown",
   "metadata": {},
   "source": [
    "<div class=\"alert alert-success\" style=\"border-radius: 15px; box-shadow: 4px 4px 4px; border: 1px solid \" > <b>Комментарии от ревьюера v2: </b> \n",
    "\n",
    "Привет) Все замечания учтены. Успехов в дальнейшем обучении!\n",
    "</div>"
   ]
  },
  {
   "cell_type": "markdown",
   "metadata": {},
   "source": [
    "# Проект по SQL"
   ]
  },
  {
   "cell_type": "markdown",
   "metadata": {},
   "source": [
    "Наша компания решила быть на волне и купила крупный сервис для чтения книг по подписке. \n",
    "\n",
    "Задача: проанализировать базу данных. В ней — информация о книгах, издательствах, авторах, а также пользовательские обзоры книг. Эти данные помогут сформулировать ценностное предложение для нового продукта.\n",
    "\n",
    "**Описание данных**\n",
    "\n",
    "1. Таблица books\n",
    "Содержит данные о книгах:\n",
    "* book_id — идентификатор книги;\n",
    "* author_id — идентификатор автора;\n",
    "* title — название книги;\n",
    "* num_pages — количество страниц;\n",
    "* publication_date — дата публикации книги;\n",
    "* publisher_id — идентификатор издателя.\n",
    "\n",
    "\n",
    "2. Таблица authors\n",
    "Содержит данные об авторах:\n",
    "* author_id — идентификатор автора;\n",
    "* author — имя автора.\n",
    "\n",
    "\n",
    "3. Таблица publishers\n",
    "Содержит данные об издательствах:\n",
    "* publisher_id — идентификатор издательства;\n",
    "* publisher — название издательства;\n",
    "\n",
    "\n",
    "4. Таблица ratings\n",
    "Содержит данные о пользовательских оценках книг:\n",
    "* rating_id — идентификатор оценки;\n",
    "* book_id — идентификатор книги;\n",
    "* username — имя пользователя, оставившего оценку;\n",
    "* rating — оценка книги.\n",
    "\n",
    "\n",
    "5. Таблица reviews\n",
    "Содержит данные о пользовательских обзорах:\n",
    "* review_id — идентификатор обзора;\n",
    "* book_id — идентификатор книги;\n",
    "* username — имя автора обзора;\n",
    "* text — текст обзора.\n",
    "\n",
    "**Схема данных**\n",
    "<img src=\"files/scheme_1589269096.png\">\n",
    "\n",
    "\n",
    "\n",
    "Шаги для решения задачи:\n",
    "1. Посчитаем, сколько книг вышло после 1 января 2000 года;\n",
    "2. Для каждой книги посчитаем количество обзоров и среднюю оценку;\n",
    "3. Определим издательство, которое выпустило наибольшее число книг толще 50 страниц — так мы исключим из анализа брошюры;\n",
    "4. Определим автора с самой высокой средней оценкой книг — учитывайте только книги с 50 и более оценками;\n",
    "5. Посчитаем среднее количество обзоров от пользователей, которые поставили больше 50 оценок.\n",
    "\n",
    "\n",
    "Алгоритм выполнения работы:\n",
    "* Опишем цели исследования;\n",
    "* Исследуем таблицы — выведем первые строки;\n",
    "* Сделаем по одному SQL-запросу для решения каждого задания;\n",
    "* Выведем результаты каждого запроса в тетрадке;\n",
    "* Опишим выводы по каждой из решённых задач."
   ]
  },
  {
   "cell_type": "markdown",
   "metadata": {},
   "source": [
    "## Изучим информацию в базе данных"
   ]
  },
  {
   "cell_type": "code",
   "execution_count": 1,
   "metadata": {},
   "outputs": [],
   "source": [
    "# импортируем библиотеки\n",
    "import pandas as pd\n",
    "from sqlalchemy import create_engine "
   ]
  },
  {
   "cell_type": "code",
   "execution_count": 9,
   "metadata": {},
   "outputs": [],
   "source": [
    "# устанавливаем параметры\n",
    "db_config = {'user': 'praktikum_student', # имя пользователя\n",
    "             'pwd': 'Sdf4$2;d-d30pp', # пароль\n",
    "             'host': 'rc1b-wcoijxj3yxfsf3fs.mdb.yandexcloud.net',\n",
    "             'port': 6432, # порт подключения\n",
    "             'db': 'data-analyst-final-project-db'} # название базы данных\n",
    "connection_string = 'postgresql://{}:{}@{}:{}/{}'.format(db_config['user'],\n",
    "                                                         db_config['pwd'],\n",
    "                                                         db_config['host'],\n",
    "                                                         db_config['port'],\n",
    "                                                         db_config['db'])\n",
    "# сохраняем коннектор\n",
    "engine = create_engine(connection_string, connect_args={'sslmode':'require'})\n",
    "\n",
    "#создадим функцию для вывода SQL запроса\n",
    "def sql_result(query):\n",
    "    return pd.io.sql.read_sql(query, con = engine)"
   ]
  },
  {
   "cell_type": "code",
   "execution_count": 18,
   "metadata": {},
   "outputs": [
    {
     "data": {
      "text/html": [
       "<div>\n",
       "<style scoped>\n",
       "    .dataframe tbody tr th:only-of-type {\n",
       "        vertical-align: middle;\n",
       "    }\n",
       "\n",
       "    .dataframe tbody tr th {\n",
       "        vertical-align: top;\n",
       "    }\n",
       "\n",
       "    .dataframe thead th {\n",
       "        text-align: right;\n",
       "    }\n",
       "</style>\n",
       "<table border=\"1\" class=\"dataframe\">\n",
       "  <thead>\n",
       "    <tr style=\"text-align: right;\">\n",
       "      <th></th>\n",
       "      <th>book_id</th>\n",
       "      <th>author_id</th>\n",
       "      <th>title</th>\n",
       "      <th>num_pages</th>\n",
       "      <th>publication_date</th>\n",
       "      <th>publisher_id</th>\n",
       "    </tr>\n",
       "  </thead>\n",
       "  <tbody>\n",
       "    <tr>\n",
       "      <td>0</td>\n",
       "      <td>1</td>\n",
       "      <td>546</td>\n",
       "      <td>'Salem's Lot</td>\n",
       "      <td>594</td>\n",
       "      <td>2005-11-01</td>\n",
       "      <td>93</td>\n",
       "    </tr>\n",
       "    <tr>\n",
       "      <td>1</td>\n",
       "      <td>2</td>\n",
       "      <td>465</td>\n",
       "      <td>1 000 Places to See Before You Die</td>\n",
       "      <td>992</td>\n",
       "      <td>2003-05-22</td>\n",
       "      <td>336</td>\n",
       "    </tr>\n",
       "    <tr>\n",
       "      <td>2</td>\n",
       "      <td>3</td>\n",
       "      <td>407</td>\n",
       "      <td>13 Little Blue Envelopes (Little Blue Envelope...</td>\n",
       "      <td>322</td>\n",
       "      <td>2010-12-21</td>\n",
       "      <td>135</td>\n",
       "    </tr>\n",
       "    <tr>\n",
       "      <td>3</td>\n",
       "      <td>4</td>\n",
       "      <td>82</td>\n",
       "      <td>1491: New Revelations of the Americas Before C...</td>\n",
       "      <td>541</td>\n",
       "      <td>2006-10-10</td>\n",
       "      <td>309</td>\n",
       "    </tr>\n",
       "    <tr>\n",
       "      <td>4</td>\n",
       "      <td>5</td>\n",
       "      <td>125</td>\n",
       "      <td>1776</td>\n",
       "      <td>386</td>\n",
       "      <td>2006-07-04</td>\n",
       "      <td>268</td>\n",
       "    </tr>\n",
       "  </tbody>\n",
       "</table>\n",
       "</div>"
      ],
      "text/plain": [
       "   book_id  author_id                                              title  \\\n",
       "0        1        546                                       'Salem's Lot   \n",
       "1        2        465                 1 000 Places to See Before You Die   \n",
       "2        3        407  13 Little Blue Envelopes (Little Blue Envelope...   \n",
       "3        4         82  1491: New Revelations of the Americas Before C...   \n",
       "4        5        125                                               1776   \n",
       "\n",
       "   num_pages publication_date  publisher_id  \n",
       "0        594       2005-11-01            93  \n",
       "1        992       2003-05-22           336  \n",
       "2        322       2010-12-21           135  \n",
       "3        541       2006-10-10           309  \n",
       "4        386       2006-07-04           268  "
      ]
     },
     "metadata": {},
     "output_type": "display_data"
    },
    {
     "name": "stdout",
     "output_type": "stream",
     "text": [
      "<class 'pandas.core.frame.DataFrame'>\n",
      "RangeIndex: 1000 entries, 0 to 999\n",
      "Data columns (total 6 columns):\n",
      "book_id             1000 non-null int64\n",
      "author_id           1000 non-null int64\n",
      "title               1000 non-null object\n",
      "num_pages           1000 non-null int64\n",
      "publication_date    1000 non-null object\n",
      "publisher_id        1000 non-null int64\n",
      "dtypes: int64(4), object(2)\n",
      "memory usage: 47.0+ KB\n",
      "None\n"
     ]
    }
   ],
   "source": [
    "#изучим данные в таблице books:\n",
    "books = \"\"\"SELECT *\n",
    "           FROM books;\n",
    "        \"\"\"\n",
    "\n",
    "# выводим результат\n",
    "display(sql_result(books).head())\n",
    "print(sql_result(books).info())"
   ]
  },
  {
   "cell_type": "code",
   "execution_count": 19,
   "metadata": {},
   "outputs": [
    {
     "data": {
      "text/html": [
       "<div>\n",
       "<style scoped>\n",
       "    .dataframe tbody tr th:only-of-type {\n",
       "        vertical-align: middle;\n",
       "    }\n",
       "\n",
       "    .dataframe tbody tr th {\n",
       "        vertical-align: top;\n",
       "    }\n",
       "\n",
       "    .dataframe thead th {\n",
       "        text-align: right;\n",
       "    }\n",
       "</style>\n",
       "<table border=\"1\" class=\"dataframe\">\n",
       "  <thead>\n",
       "    <tr style=\"text-align: right;\">\n",
       "      <th></th>\n",
       "      <th>author_id</th>\n",
       "      <th>author</th>\n",
       "    </tr>\n",
       "  </thead>\n",
       "  <tbody>\n",
       "    <tr>\n",
       "      <td>0</td>\n",
       "      <td>1</td>\n",
       "      <td>A.S. Byatt</td>\n",
       "    </tr>\n",
       "    <tr>\n",
       "      <td>1</td>\n",
       "      <td>2</td>\n",
       "      <td>Aesop/Laura Harris/Laura Gibbs</td>\n",
       "    </tr>\n",
       "    <tr>\n",
       "      <td>2</td>\n",
       "      <td>3</td>\n",
       "      <td>Agatha Christie</td>\n",
       "    </tr>\n",
       "    <tr>\n",
       "      <td>3</td>\n",
       "      <td>4</td>\n",
       "      <td>Alan Brennert</td>\n",
       "    </tr>\n",
       "    <tr>\n",
       "      <td>4</td>\n",
       "      <td>5</td>\n",
       "      <td>Alan Moore/David   Lloyd</td>\n",
       "    </tr>\n",
       "  </tbody>\n",
       "</table>\n",
       "</div>"
      ],
      "text/plain": [
       "   author_id                          author\n",
       "0          1                      A.S. Byatt\n",
       "1          2  Aesop/Laura Harris/Laura Gibbs\n",
       "2          3                 Agatha Christie\n",
       "3          4                   Alan Brennert\n",
       "4          5        Alan Moore/David   Lloyd"
      ]
     },
     "metadata": {},
     "output_type": "display_data"
    },
    {
     "name": "stdout",
     "output_type": "stream",
     "text": [
      "<class 'pandas.core.frame.DataFrame'>\n",
      "RangeIndex: 636 entries, 0 to 635\n",
      "Data columns (total 2 columns):\n",
      "author_id    636 non-null int64\n",
      "author       636 non-null object\n",
      "dtypes: int64(1), object(1)\n",
      "memory usage: 10.1+ KB\n",
      "None\n"
     ]
    }
   ],
   "source": [
    "#изучим данные в таблице authors:\n",
    "authors = \"\"\"SELECT *\n",
    "           FROM authors;\n",
    "        \"\"\"\n",
    "\n",
    "display(sql_result(authors).head())\n",
    "print(sql_result(authors).info())"
   ]
  },
  {
   "cell_type": "code",
   "execution_count": 20,
   "metadata": {},
   "outputs": [
    {
     "data": {
      "text/html": [
       "<div>\n",
       "<style scoped>\n",
       "    .dataframe tbody tr th:only-of-type {\n",
       "        vertical-align: middle;\n",
       "    }\n",
       "\n",
       "    .dataframe tbody tr th {\n",
       "        vertical-align: top;\n",
       "    }\n",
       "\n",
       "    .dataframe thead th {\n",
       "        text-align: right;\n",
       "    }\n",
       "</style>\n",
       "<table border=\"1\" class=\"dataframe\">\n",
       "  <thead>\n",
       "    <tr style=\"text-align: right;\">\n",
       "      <th></th>\n",
       "      <th>publisher_id</th>\n",
       "      <th>publisher</th>\n",
       "    </tr>\n",
       "  </thead>\n",
       "  <tbody>\n",
       "    <tr>\n",
       "      <td>0</td>\n",
       "      <td>1</td>\n",
       "      <td>Ace</td>\n",
       "    </tr>\n",
       "    <tr>\n",
       "      <td>1</td>\n",
       "      <td>2</td>\n",
       "      <td>Ace Book</td>\n",
       "    </tr>\n",
       "    <tr>\n",
       "      <td>2</td>\n",
       "      <td>3</td>\n",
       "      <td>Ace Books</td>\n",
       "    </tr>\n",
       "    <tr>\n",
       "      <td>3</td>\n",
       "      <td>4</td>\n",
       "      <td>Ace Hardcover</td>\n",
       "    </tr>\n",
       "    <tr>\n",
       "      <td>4</td>\n",
       "      <td>5</td>\n",
       "      <td>Addison Wesley Publishing Company</td>\n",
       "    </tr>\n",
       "  </tbody>\n",
       "</table>\n",
       "</div>"
      ],
      "text/plain": [
       "   publisher_id                          publisher\n",
       "0             1                                Ace\n",
       "1             2                           Ace Book\n",
       "2             3                          Ace Books\n",
       "3             4                      Ace Hardcover\n",
       "4             5  Addison Wesley Publishing Company"
      ]
     },
     "metadata": {},
     "output_type": "display_data"
    },
    {
     "name": "stdout",
     "output_type": "stream",
     "text": [
      "<class 'pandas.core.frame.DataFrame'>\n",
      "RangeIndex: 340 entries, 0 to 339\n",
      "Data columns (total 2 columns):\n",
      "publisher_id    340 non-null int64\n",
      "publisher       340 non-null object\n",
      "dtypes: int64(1), object(1)\n",
      "memory usage: 5.4+ KB\n",
      "None\n"
     ]
    }
   ],
   "source": [
    "#изучим данные в таблице publishers:\n",
    "# формируем запрос\n",
    "publishers = \"\"\"SELECT *\n",
    "           FROM publishers;\n",
    "        \"\"\"\n",
    "\n",
    "# выводим результат\n",
    "display(sql_result(publishers).head())\n",
    "print(sql_result(publishers).info())"
   ]
  },
  {
   "cell_type": "code",
   "execution_count": 23,
   "metadata": {},
   "outputs": [
    {
     "data": {
      "text/html": [
       "<div>\n",
       "<style scoped>\n",
       "    .dataframe tbody tr th:only-of-type {\n",
       "        vertical-align: middle;\n",
       "    }\n",
       "\n",
       "    .dataframe tbody tr th {\n",
       "        vertical-align: top;\n",
       "    }\n",
       "\n",
       "    .dataframe thead th {\n",
       "        text-align: right;\n",
       "    }\n",
       "</style>\n",
       "<table border=\"1\" class=\"dataframe\">\n",
       "  <thead>\n",
       "    <tr style=\"text-align: right;\">\n",
       "      <th></th>\n",
       "      <th>rating_id</th>\n",
       "      <th>book_id</th>\n",
       "      <th>username</th>\n",
       "      <th>rating</th>\n",
       "    </tr>\n",
       "  </thead>\n",
       "  <tbody>\n",
       "    <tr>\n",
       "      <td>0</td>\n",
       "      <td>1</td>\n",
       "      <td>1</td>\n",
       "      <td>ryanfranco</td>\n",
       "      <td>4</td>\n",
       "    </tr>\n",
       "    <tr>\n",
       "      <td>1</td>\n",
       "      <td>2</td>\n",
       "      <td>1</td>\n",
       "      <td>grantpatricia</td>\n",
       "      <td>2</td>\n",
       "    </tr>\n",
       "    <tr>\n",
       "      <td>2</td>\n",
       "      <td>3</td>\n",
       "      <td>1</td>\n",
       "      <td>brandtandrea</td>\n",
       "      <td>5</td>\n",
       "    </tr>\n",
       "    <tr>\n",
       "      <td>3</td>\n",
       "      <td>4</td>\n",
       "      <td>2</td>\n",
       "      <td>lorichen</td>\n",
       "      <td>3</td>\n",
       "    </tr>\n",
       "    <tr>\n",
       "      <td>4</td>\n",
       "      <td>5</td>\n",
       "      <td>2</td>\n",
       "      <td>mariokeller</td>\n",
       "      <td>2</td>\n",
       "    </tr>\n",
       "  </tbody>\n",
       "</table>\n",
       "</div>"
      ],
      "text/plain": [
       "   rating_id  book_id       username  rating\n",
       "0          1        1     ryanfranco       4\n",
       "1          2        1  grantpatricia       2\n",
       "2          3        1   brandtandrea       5\n",
       "3          4        2       lorichen       3\n",
       "4          5        2    mariokeller       2"
      ]
     },
     "metadata": {},
     "output_type": "display_data"
    },
    {
     "name": "stdout",
     "output_type": "stream",
     "text": [
      "<class 'pandas.core.frame.DataFrame'>\n",
      "RangeIndex: 6456 entries, 0 to 6455\n",
      "Data columns (total 4 columns):\n",
      "rating_id    6456 non-null int64\n",
      "book_id      6456 non-null int64\n",
      "username     6456 non-null object\n",
      "rating       6456 non-null int64\n",
      "dtypes: int64(3), object(1)\n",
      "memory usage: 201.9+ KB\n",
      "None\n"
     ]
    }
   ],
   "source": [
    "#изучим данные в таблице ratings:\n",
    "# формируем запрос\n",
    "ratings = \"\"\"SELECT *\n",
    "           FROM ratings;\n",
    "        \"\"\"\n",
    "\n",
    "# выводим результат\n",
    "display(sql_result(ratings).head())\n",
    "print(sql_result(ratings).info())"
   ]
  },
  {
   "cell_type": "code",
   "execution_count": 22,
   "metadata": {},
   "outputs": [
    {
     "data": {
      "text/html": [
       "<div>\n",
       "<style scoped>\n",
       "    .dataframe tbody tr th:only-of-type {\n",
       "        vertical-align: middle;\n",
       "    }\n",
       "\n",
       "    .dataframe tbody tr th {\n",
       "        vertical-align: top;\n",
       "    }\n",
       "\n",
       "    .dataframe thead th {\n",
       "        text-align: right;\n",
       "    }\n",
       "</style>\n",
       "<table border=\"1\" class=\"dataframe\">\n",
       "  <thead>\n",
       "    <tr style=\"text-align: right;\">\n",
       "      <th></th>\n",
       "      <th>review_id</th>\n",
       "      <th>book_id</th>\n",
       "      <th>username</th>\n",
       "      <th>text</th>\n",
       "    </tr>\n",
       "  </thead>\n",
       "  <tbody>\n",
       "    <tr>\n",
       "      <td>0</td>\n",
       "      <td>1</td>\n",
       "      <td>1</td>\n",
       "      <td>brandtandrea</td>\n",
       "      <td>Mention society tell send professor analysis. ...</td>\n",
       "    </tr>\n",
       "    <tr>\n",
       "      <td>1</td>\n",
       "      <td>2</td>\n",
       "      <td>1</td>\n",
       "      <td>ryanfranco</td>\n",
       "      <td>Foot glass pretty audience hit themselves. Amo...</td>\n",
       "    </tr>\n",
       "    <tr>\n",
       "      <td>2</td>\n",
       "      <td>3</td>\n",
       "      <td>2</td>\n",
       "      <td>lorichen</td>\n",
       "      <td>Listen treat keep worry. Miss husband tax but ...</td>\n",
       "    </tr>\n",
       "    <tr>\n",
       "      <td>3</td>\n",
       "      <td>4</td>\n",
       "      <td>3</td>\n",
       "      <td>johnsonamanda</td>\n",
       "      <td>Finally month interesting blue could nature cu...</td>\n",
       "    </tr>\n",
       "    <tr>\n",
       "      <td>4</td>\n",
       "      <td>5</td>\n",
       "      <td>3</td>\n",
       "      <td>scotttamara</td>\n",
       "      <td>Nation purpose heavy give wait song will. List...</td>\n",
       "    </tr>\n",
       "  </tbody>\n",
       "</table>\n",
       "</div>"
      ],
      "text/plain": [
       "   review_id  book_id       username  \\\n",
       "0          1        1   brandtandrea   \n",
       "1          2        1     ryanfranco   \n",
       "2          3        2       lorichen   \n",
       "3          4        3  johnsonamanda   \n",
       "4          5        3    scotttamara   \n",
       "\n",
       "                                                text  \n",
       "0  Mention society tell send professor analysis. ...  \n",
       "1  Foot glass pretty audience hit themselves. Amo...  \n",
       "2  Listen treat keep worry. Miss husband tax but ...  \n",
       "3  Finally month interesting blue could nature cu...  \n",
       "4  Nation purpose heavy give wait song will. List...  "
      ]
     },
     "metadata": {},
     "output_type": "display_data"
    },
    {
     "name": "stdout",
     "output_type": "stream",
     "text": [
      "<class 'pandas.core.frame.DataFrame'>\n",
      "RangeIndex: 2793 entries, 0 to 2792\n",
      "Data columns (total 4 columns):\n",
      "review_id    2793 non-null int64\n",
      "book_id      2793 non-null int64\n",
      "username     2793 non-null object\n",
      "text         2793 non-null object\n",
      "dtypes: int64(2), object(2)\n",
      "memory usage: 87.4+ KB\n",
      "None\n"
     ]
    }
   ],
   "source": [
    "#изучим данные в таблице reviews:\n",
    "# формируем запрос\n",
    "reviews = \"\"\"SELECT *\n",
    "           FROM reviews;\n",
    "        \"\"\"\n",
    "\n",
    "# выводим результат\n",
    "display(sql_result(reviews).head())\n",
    "print(sql_result(reviews).info())"
   ]
  },
  {
   "cell_type": "markdown",
   "metadata": {},
   "source": [
    "### Вывод"
   ]
  },
  {
   "cell_type": "markdown",
   "metadata": {},
   "source": [
    "Изучены данные, выведены первые 5 строк каждой таблицы. Набор данных соответсвует описанию.\n",
    "\n",
    "Таблицы имеют следующий размер:\n",
    "* books - 1000 строк\n",
    "* authors - 636 строк\n",
    "* publishers - 340 строк\n",
    "* ratings - 6456 строк\n",
    "* reviews - 2793 строки"
   ]
  },
  {
   "cell_type": "markdown",
   "metadata": {},
   "source": [
    "<div class=\"alert alert-warning\" style=\"border-radius: 15px; box-shadow: 4px 4px 4px; border: 1px solid \" > <b>Комментарии от ревьюера: </b> \n",
    "\n",
    "Здесь всё хорошо. Ты корректно выгрузил данные и посмотрел их содержимое. Не помешало бы вывести еще информацию с помощью info(). Так у нас будет информация хотя бы о размерности датасетов\n",
    "</div>"
   ]
  },
  {
   "cell_type": "markdown",
   "metadata": {},
   "source": [
    "<div class=\"alert alert-block alert-info\">\n",
    "    \n",
    "\n",
    "__Комментарий джуниора__\n",
    "\n",
    "Поправил вывод таблиц и добавил общую информацию\n",
    "</div>"
   ]
  },
  {
   "cell_type": "markdown",
   "metadata": {},
   "source": [
    "<div class=\"alert alert-success\" style=\"border-radius: 15px; box-shadow: 4px 4px 4px; border: 1px solid \" > <b>Комментарии от ревьюера v2: </b> \n",
    "\n",
    "Спасибо, так гораздо информативнее\n",
    "</div>"
   ]
  },
  {
   "cell_type": "markdown",
   "metadata": {},
   "source": [
    "_______________________________________________________________________________________________________________________________"
   ]
  },
  {
   "cell_type": "markdown",
   "metadata": {},
   "source": [
    "## Анализ данных. SQL запросы"
   ]
  },
  {
   "cell_type": "markdown",
   "metadata": {},
   "source": [
    "### Посчитаем, сколько книг вышло после 1 января 2000 года;"
   ]
  },
  {
   "cell_type": "code",
   "execution_count": 24,
   "metadata": {},
   "outputs": [
    {
     "data": {
      "text/html": [
       "<div>\n",
       "<style scoped>\n",
       "    .dataframe tbody tr th:only-of-type {\n",
       "        vertical-align: middle;\n",
       "    }\n",
       "\n",
       "    .dataframe tbody tr th {\n",
       "        vertical-align: top;\n",
       "    }\n",
       "\n",
       "    .dataframe thead th {\n",
       "        text-align: right;\n",
       "    }\n",
       "</style>\n",
       "<table border=\"1\" class=\"dataframe\">\n",
       "  <thead>\n",
       "    <tr style=\"text-align: right;\">\n",
       "      <th></th>\n",
       "      <th>number_of_books_after_date</th>\n",
       "    </tr>\n",
       "  </thead>\n",
       "  <tbody>\n",
       "    <tr>\n",
       "      <td>0</td>\n",
       "      <td>819</td>\n",
       "    </tr>\n",
       "  </tbody>\n",
       "</table>\n",
       "</div>"
      ],
      "text/plain": [
       "   number_of_books_after_date\n",
       "0                         819"
      ]
     },
     "metadata": {},
     "output_type": "display_data"
    }
   ],
   "source": [
    "count_books = \"\"\" SELECT COUNT(book_id) AS number_of_books_after_date\n",
    "                FROM books\n",
    "                WHERE publication_date > '2000-01-01';\n",
    "                \"\"\"\n",
    "display(sql_result(count_books))"
   ]
  },
  {
   "cell_type": "markdown",
   "metadata": {},
   "source": [
    "<div class=\"alert alert-success\" style=\"border-radius: 15px; box-shadow: 4px 4px 4px; border: 1px solid \" > <b>Комментарии от ревьюера: </b> \n",
    "    \n",
    "Всё верно. Это правильный ответ\n",
    "\n",
    "</div>"
   ]
  },
  {
   "cell_type": "code",
   "execution_count": 25,
   "metadata": {},
   "outputs": [
    {
     "data": {
      "text/html": [
       "<div>\n",
       "<style scoped>\n",
       "    .dataframe tbody tr th:only-of-type {\n",
       "        vertical-align: middle;\n",
       "    }\n",
       "\n",
       "    .dataframe tbody tr th {\n",
       "        vertical-align: top;\n",
       "    }\n",
       "\n",
       "    .dataframe thead th {\n",
       "        text-align: right;\n",
       "    }\n",
       "</style>\n",
       "<table border=\"1\" class=\"dataframe\">\n",
       "  <thead>\n",
       "    <tr style=\"text-align: right;\">\n",
       "      <th></th>\n",
       "      <th>number_of_books_after_date</th>\n",
       "    </tr>\n",
       "  </thead>\n",
       "  <tbody>\n",
       "    <tr>\n",
       "      <td>0</td>\n",
       "      <td>1000</td>\n",
       "    </tr>\n",
       "  </tbody>\n",
       "</table>\n",
       "</div>"
      ],
      "text/plain": [
       "   number_of_books_after_date\n",
       "0                        1000"
      ]
     },
     "metadata": {},
     "output_type": "display_data"
    }
   ],
   "source": [
    "count_books_all = \"\"\"SELECT COUNT(book_id) AS number_of_books_after_date\n",
    "                   FROM books\n",
    "                \"\"\"\n",
    "display(sql_result(count_books_all))"
   ]
  },
  {
   "cell_type": "markdown",
   "metadata": {},
   "source": [
    "После 1 января 2000 года вышло 819 книг, что является значительным числом от общего количества книг в базе данных (1000)"
   ]
  },
  {
   "cell_type": "markdown",
   "metadata": {},
   "source": [
    "### Для каждой книги посчитаем количество обзоров и среднюю оценку;"
   ]
  },
  {
   "cell_type": "code",
   "execution_count": 49,
   "metadata": {},
   "outputs": [
    {
     "data": {
      "text/html": [
       "<div>\n",
       "<style scoped>\n",
       "    .dataframe tbody tr th:only-of-type {\n",
       "        vertical-align: middle;\n",
       "    }\n",
       "\n",
       "    .dataframe tbody tr th {\n",
       "        vertical-align: top;\n",
       "    }\n",
       "\n",
       "    .dataframe thead th {\n",
       "        text-align: right;\n",
       "    }\n",
       "</style>\n",
       "<table border=\"1\" class=\"dataframe\">\n",
       "  <thead>\n",
       "    <tr style=\"text-align: right;\">\n",
       "      <th></th>\n",
       "      <th>title</th>\n",
       "      <th>number_of_reviews</th>\n",
       "      <th>average_rating</th>\n",
       "    </tr>\n",
       "  </thead>\n",
       "  <tbody>\n",
       "    <tr>\n",
       "      <td>0</td>\n",
       "      <td>Anne Rice's The Vampire Lestat: A Graphic Novel</td>\n",
       "      <td>NaN</td>\n",
       "      <td>3.67</td>\n",
       "    </tr>\n",
       "    <tr>\n",
       "      <td>1</td>\n",
       "      <td>Disney's Beauty and the Beast (A Little Golden...</td>\n",
       "      <td>NaN</td>\n",
       "      <td>4.00</td>\n",
       "    </tr>\n",
       "    <tr>\n",
       "      <td>2</td>\n",
       "      <td>Essential Tales and Poems</td>\n",
       "      <td>NaN</td>\n",
       "      <td>4.00</td>\n",
       "    </tr>\n",
       "    <tr>\n",
       "      <td>3</td>\n",
       "      <td>Leonardo's Notebooks</td>\n",
       "      <td>NaN</td>\n",
       "      <td>4.00</td>\n",
       "    </tr>\n",
       "    <tr>\n",
       "      <td>4</td>\n",
       "      <td>The Cat in the Hat and Other Dr. Seuss Favorites</td>\n",
       "      <td>NaN</td>\n",
       "      <td>5.00</td>\n",
       "    </tr>\n",
       "    <tr>\n",
       "      <td>5</td>\n",
       "      <td>The Natural Way to Draw</td>\n",
       "      <td>NaN</td>\n",
       "      <td>3.00</td>\n",
       "    </tr>\n",
       "    <tr>\n",
       "      <td>6</td>\n",
       "      <td>Twilight (Twilight  #1)</td>\n",
       "      <td>7.0</td>\n",
       "      <td>3.66</td>\n",
       "    </tr>\n",
       "    <tr>\n",
       "      <td>7</td>\n",
       "      <td>Eat  Pray  Love</td>\n",
       "      <td>6.0</td>\n",
       "      <td>3.40</td>\n",
       "    </tr>\n",
       "    <tr>\n",
       "      <td>8</td>\n",
       "      <td>Harry Potter and the Chamber of Secrets (Harry...</td>\n",
       "      <td>6.0</td>\n",
       "      <td>4.29</td>\n",
       "    </tr>\n",
       "    <tr>\n",
       "      <td>9</td>\n",
       "      <td>Harry Potter and the Prisoner of Azkaban (Harr...</td>\n",
       "      <td>6.0</td>\n",
       "      <td>4.41</td>\n",
       "    </tr>\n",
       "    <tr>\n",
       "      <td>10</td>\n",
       "      <td>Outlander (Outlander  #1)</td>\n",
       "      <td>6.0</td>\n",
       "      <td>4.13</td>\n",
       "    </tr>\n",
       "    <tr>\n",
       "      <td>11</td>\n",
       "      <td>The Alchemist</td>\n",
       "      <td>6.0</td>\n",
       "      <td>3.79</td>\n",
       "    </tr>\n",
       "    <tr>\n",
       "      <td>12</td>\n",
       "      <td>The Book Thief</td>\n",
       "      <td>6.0</td>\n",
       "      <td>4.26</td>\n",
       "    </tr>\n",
       "    <tr>\n",
       "      <td>13</td>\n",
       "      <td>The Catcher in the Rye</td>\n",
       "      <td>6.0</td>\n",
       "      <td>3.83</td>\n",
       "    </tr>\n",
       "    <tr>\n",
       "      <td>14</td>\n",
       "      <td>The Curious Incident of the Dog in the Night-Time</td>\n",
       "      <td>6.0</td>\n",
       "      <td>4.08</td>\n",
       "    </tr>\n",
       "  </tbody>\n",
       "</table>\n",
       "</div>"
      ],
      "text/plain": [
       "                                                title  number_of_reviews  \\\n",
       "0     Anne Rice's The Vampire Lestat: A Graphic Novel                NaN   \n",
       "1   Disney's Beauty and the Beast (A Little Golden...                NaN   \n",
       "2                           Essential Tales and Poems                NaN   \n",
       "3                                Leonardo's Notebooks                NaN   \n",
       "4    The Cat in the Hat and Other Dr. Seuss Favorites                NaN   \n",
       "5                             The Natural Way to Draw                NaN   \n",
       "6                             Twilight (Twilight  #1)                7.0   \n",
       "7                                     Eat  Pray  Love                6.0   \n",
       "8   Harry Potter and the Chamber of Secrets (Harry...                6.0   \n",
       "9   Harry Potter and the Prisoner of Azkaban (Harr...                6.0   \n",
       "10                          Outlander (Outlander  #1)                6.0   \n",
       "11                                      The Alchemist                6.0   \n",
       "12                                     The Book Thief                6.0   \n",
       "13                             The Catcher in the Rye                6.0   \n",
       "14  The Curious Incident of the Dog in the Night-Time                6.0   \n",
       "\n",
       "    average_rating  \n",
       "0             3.67  \n",
       "1             4.00  \n",
       "2             4.00  \n",
       "3             4.00  \n",
       "4             5.00  \n",
       "5             3.00  \n",
       "6             3.66  \n",
       "7             3.40  \n",
       "8             4.29  \n",
       "9             4.41  \n",
       "10            4.13  \n",
       "11            3.79  \n",
       "12            4.26  \n",
       "13            3.83  \n",
       "14            4.08  "
      ]
     },
     "metadata": {},
     "output_type": "display_data"
    }
   ],
   "source": [
    "count_reviews = \"\"\"SELECT books.title AS title,\n",
    "                          SUBQ1.number_of_reviews,\n",
    "                          ROUND(SUBQ2.average_rating, 2) AS average_rating\n",
    "                   FROM books\n",
    "                   LEFT JOIN \n",
    "                        (SELECT book_id,\n",
    "                                COUNT(review_id) as number_of_reviews\n",
    "                         FROM reviews\n",
    "                         GROUP BY book_id) AS SUBQ1\n",
    "                                                 ON SUBQ1.book_id = books.book_id\n",
    "                   INNER JOIN \n",
    "                        (SELECT book_id,\n",
    "                                AVG(rating) as average_rating\n",
    "                         FROM ratings\n",
    "                         GROUP BY book_id) AS SUBQ2\n",
    "                                                 ON SUBQ2.book_id = books.book_id\n",
    "                   GROUP BY title,\n",
    "                            SUBQ1.number_of_reviews,\n",
    "                            average_rating\n",
    "                   ORDER BY SUBQ1.number_of_reviews DESC;\n",
    "                \"\"\"\n",
    "display(sql_result(count_reviews).head(15))"
   ]
  },
  {
   "cell_type": "markdown",
   "metadata": {},
   "source": [
    "<div class=\"alert alert-danger\" style=\"border-radius: 15px; box-shadow: 4px 4px 4px; border: 1px solid \" > <b>Комментарии от ревьюера: </b> \n",
    "    \n",
    "Почти корректно, но ты вывел только те книги, у которых есть текстовые отзывы reviews (если вывести твой запрос без limit), а ведь у книг без отзывов оценки то никуда не делись и их по задаче необходимо вывести. Доработай этот момент пожалуйста\n",
    "\n",
    "</div>"
   ]
  },
  {
   "cell_type": "markdown",
   "metadata": {},
   "source": [
    "<div class=\"alert alert-block alert-info\">\n",
    "    \n",
    "\n",
    "__Комментарий джуниора__\n",
    "\n",
    "Поправил в объединении таблиц, теперь есть все книги, по которым есть оценка\n",
    "</div>"
   ]
  },
  {
   "cell_type": "markdown",
   "metadata": {},
   "source": [
    "<div class=\"alert alert-success\" style=\"border-radius: 15px; box-shadow: 4px 4px 4px; border: 1px solid \" > <b>Комментарии от ревьюера v2: </b> \n",
    "\n",
    "Отлично. Теперь всё корректно)\n",
    "</div>"
   ]
  },
  {
   "cell_type": "markdown",
   "metadata": {},
   "source": [
    "Средняя количество отзывов топ-15 книг - 6, при этом оценки не высокие, т.е. большое количество отзывов скорее всего будет приводить к средним оценкам, даже если это бестселлер. В топ-15 книг по количеству отзывов преобладает фантастика, фэнтези и приключения, часть этих книг экранизирована, возможно этим обусловена их популярность."
   ]
  },
  {
   "cell_type": "markdown",
   "metadata": {},
   "source": [
    "### Определим издательство, которое выпустило наибольшее число книг толще 50 страниц — так мы исключим из анализа брошюры;"
   ]
  },
  {
   "cell_type": "code",
   "execution_count": 55,
   "metadata": {},
   "outputs": [
    {
     "data": {
      "text/html": [
       "<div>\n",
       "<style scoped>\n",
       "    .dataframe tbody tr th:only-of-type {\n",
       "        vertical-align: middle;\n",
       "    }\n",
       "\n",
       "    .dataframe tbody tr th {\n",
       "        vertical-align: top;\n",
       "    }\n",
       "\n",
       "    .dataframe thead th {\n",
       "        text-align: right;\n",
       "    }\n",
       "</style>\n",
       "<table border=\"1\" class=\"dataframe\">\n",
       "  <thead>\n",
       "    <tr style=\"text-align: right;\">\n",
       "      <th></th>\n",
       "      <th>publisher_name</th>\n",
       "      <th>number_of_books</th>\n",
       "    </tr>\n",
       "  </thead>\n",
       "  <tbody>\n",
       "    <tr>\n",
       "      <td>0</td>\n",
       "      <td>Penguin Books</td>\n",
       "      <td>42</td>\n",
       "    </tr>\n",
       "    <tr>\n",
       "      <td>1</td>\n",
       "      <td>Vintage</td>\n",
       "      <td>31</td>\n",
       "    </tr>\n",
       "    <tr>\n",
       "      <td>2</td>\n",
       "      <td>Grand Central Publishing</td>\n",
       "      <td>25</td>\n",
       "    </tr>\n",
       "    <tr>\n",
       "      <td>3</td>\n",
       "      <td>Penguin Classics</td>\n",
       "      <td>24</td>\n",
       "    </tr>\n",
       "    <tr>\n",
       "      <td>4</td>\n",
       "      <td>Ballantine Books</td>\n",
       "      <td>19</td>\n",
       "    </tr>\n",
       "    <tr>\n",
       "      <td>5</td>\n",
       "      <td>Bantam</td>\n",
       "      <td>19</td>\n",
       "    </tr>\n",
       "    <tr>\n",
       "      <td>6</td>\n",
       "      <td>Berkley</td>\n",
       "      <td>17</td>\n",
       "    </tr>\n",
       "    <tr>\n",
       "      <td>7</td>\n",
       "      <td>St. Martin's Press</td>\n",
       "      <td>14</td>\n",
       "    </tr>\n",
       "    <tr>\n",
       "      <td>8</td>\n",
       "      <td>Berkley Books</td>\n",
       "      <td>14</td>\n",
       "    </tr>\n",
       "    <tr>\n",
       "      <td>9</td>\n",
       "      <td>Delta</td>\n",
       "      <td>13</td>\n",
       "    </tr>\n",
       "  </tbody>\n",
       "</table>\n",
       "</div>"
      ],
      "text/plain": [
       "             publisher_name  number_of_books\n",
       "0             Penguin Books               42\n",
       "1                   Vintage               31\n",
       "2  Grand Central Publishing               25\n",
       "3          Penguin Classics               24\n",
       "4          Ballantine Books               19\n",
       "5                    Bantam               19\n",
       "6                   Berkley               17\n",
       "7        St. Martin's Press               14\n",
       "8             Berkley Books               14\n",
       "9                     Delta               13"
      ]
     },
     "metadata": {},
     "output_type": "display_data"
    }
   ],
   "source": [
    "count_publisher = \"\"\"SELECT publishers.publisher AS publisher_name,\n",
    "                  COUNT (SUBQ.book_id) AS number_of_books\n",
    "           FROM (\n",
    "               SELECT book_id,\n",
    "                      publisher_id\n",
    "               FROM books\n",
    "               WHERE num_pages > 50) AS SUBQ\n",
    "           INNER JOIN publishers ON publishers.publisher_id = SUBQ.publisher_id\n",
    "           GROUP BY publisher_name\n",
    "           ORDER BY number_of_books DESC;\n",
    "        \"\"\"\n",
    "display(sql_result(count_publisher).head(10))"
   ]
  },
  {
   "cell_type": "markdown",
   "metadata": {},
   "source": [
    "<div class=\"alert alert-success\" style=\"border-radius: 15px; box-shadow: 4px 4px 4px; border: 1px solid \" > <b>Комментарии от ревьюера: </b> \n",
    "    \n",
    "\n",
    "Согласен с результатом. Действительно данное издательство является лидером по выпущенным книгам\n",
    "\n",
    "</div>"
   ]
  },
  {
   "cell_type": "markdown",
   "metadata": {},
   "source": [
    "В базе данных самое часто встречающееся издательство - \"Penguin Books\", на втором месте Vintage, на третьем Grand Central Publishing. Эти издательства отличаются тем, что являются одними из старейших издательств, которые обладают правами на издание книг наиболее популярных авторов 20 и 21 века. "
   ]
  },
  {
   "cell_type": "markdown",
   "metadata": {},
   "source": [
    "### Определим автора с самой высокой средней оценкой книг — учитывайте только книги с 50 и более оценками;"
   ]
  },
  {
   "cell_type": "code",
   "execution_count": 56,
   "metadata": {},
   "outputs": [
    {
     "data": {
      "text/html": [
       "<div>\n",
       "<style scoped>\n",
       "    .dataframe tbody tr th:only-of-type {\n",
       "        vertical-align: middle;\n",
       "    }\n",
       "\n",
       "    .dataframe tbody tr th {\n",
       "        vertical-align: top;\n",
       "    }\n",
       "\n",
       "    .dataframe thead th {\n",
       "        text-align: right;\n",
       "    }\n",
       "</style>\n",
       "<table border=\"1\" class=\"dataframe\">\n",
       "  <thead>\n",
       "    <tr style=\"text-align: right;\">\n",
       "      <th></th>\n",
       "      <th>author_name</th>\n",
       "      <th>avg_rate</th>\n",
       "    </tr>\n",
       "  </thead>\n",
       "  <tbody>\n",
       "    <tr>\n",
       "      <td>0</td>\n",
       "      <td>J.K. Rowling/Mary GrandPré</td>\n",
       "      <td>4.284</td>\n",
       "    </tr>\n",
       "    <tr>\n",
       "      <td>1</td>\n",
       "      <td>Markus Zusak/Cao Xuân Việt Khương</td>\n",
       "      <td>4.264</td>\n",
       "    </tr>\n",
       "    <tr>\n",
       "      <td>2</td>\n",
       "      <td>J.R.R. Tolkien</td>\n",
       "      <td>4.258</td>\n",
       "    </tr>\n",
       "    <tr>\n",
       "      <td>3</td>\n",
       "      <td>Louisa May Alcott</td>\n",
       "      <td>4.192</td>\n",
       "    </tr>\n",
       "    <tr>\n",
       "      <td>4</td>\n",
       "      <td>Rick Riordan</td>\n",
       "      <td>4.081</td>\n",
       "    </tr>\n",
       "    <tr>\n",
       "      <td>5</td>\n",
       "      <td>William Golding</td>\n",
       "      <td>3.901</td>\n",
       "    </tr>\n",
       "    <tr>\n",
       "      <td>6</td>\n",
       "      <td>J.D. Salinger</td>\n",
       "      <td>3.826</td>\n",
       "    </tr>\n",
       "    <tr>\n",
       "      <td>7</td>\n",
       "      <td>Paulo Coelho/Alan R. Clarke/Özdemir İnce</td>\n",
       "      <td>3.789</td>\n",
       "    </tr>\n",
       "    <tr>\n",
       "      <td>8</td>\n",
       "      <td>William Shakespeare/Paul Werstine/Barbara A. M...</td>\n",
       "      <td>3.788</td>\n",
       "    </tr>\n",
       "    <tr>\n",
       "      <td>9</td>\n",
       "      <td>Dan Brown</td>\n",
       "      <td>3.755</td>\n",
       "    </tr>\n",
       "  </tbody>\n",
       "</table>\n",
       "</div>"
      ],
      "text/plain": [
       "                                         author_name  avg_rate\n",
       "0                         J.K. Rowling/Mary GrandPré     4.284\n",
       "1                  Markus Zusak/Cao Xuân Việt Khương     4.264\n",
       "2                                     J.R.R. Tolkien     4.258\n",
       "3                                  Louisa May Alcott     4.192\n",
       "4                                       Rick Riordan     4.081\n",
       "5                                    William Golding     3.901\n",
       "6                                      J.D. Salinger     3.826\n",
       "7           Paulo Coelho/Alan R. Clarke/Özdemir İnce     3.789\n",
       "8  William Shakespeare/Paul Werstine/Barbara A. M...     3.788\n",
       "9                                          Dan Brown     3.755"
      ]
     },
     "metadata": {},
     "output_type": "display_data"
    }
   ],
   "source": [
    "author_ratings = \"\"\"SELECT authors.author AS author_name,\n",
    "                  ROUND(AVG(SUBQ.average_rating), 3) AS avg_rate    \n",
    "           FROM books\n",
    "           LEFT JOIN (\n",
    "                   SELECT book_id,\n",
    "                          COUNT(rating) AS cnt,\n",
    "                          AVG(rating) AS average_rating\n",
    "                   FROM ratings\n",
    "                   GROUP BY book_id\n",
    "                   ) AS SUBQ\n",
    "                ON SUBQ.book_id = books.book_id\n",
    "           LEFT JOIN authors ON authors.author_id = books.author_id\n",
    "           WHERE SUBQ.cnt >= 50\n",
    "           GROUP BY author_name\n",
    "           ORDER BY avg_rate DESC;   \n",
    "        \"\"\"\n",
    "display(sql_result(author_ratings).head(10))"
   ]
  },
  {
   "cell_type": "markdown",
   "metadata": {},
   "source": [
    "<div class=\"alert alert-warning\" style=\"border-radius: 15px; box-shadow: 4px 4px 4px; border: 1px solid \" > <b>Комментарии от ревьюера: </b> \n",
    "    \n",
    "\n",
    "И здесь ты не ошибся. Ты верно отфильтровал книги и рассчитал средний рейтинг авторов (но округлять так грубо не совсем хороший ход, если взять до 3х цифр после запятой, то топ-2 и топ-3 поменяются местами)\n",
    "\n",
    "</div>"
   ]
  },
  {
   "cell_type": "markdown",
   "metadata": {},
   "source": [
    "<div class=\"alert alert-block alert-info\">\n",
    "    \n",
    "\n",
    "__Комментарий джуниора__\n",
    "\n",
    "Поправил округление\n",
    "</div>"
   ]
  },
  {
   "cell_type": "markdown",
   "metadata": {},
   "source": [
    "Наибольшая средняя оценка у LДж. Роллинг - автора книг о Гарри Поттере, затем идет Дж. Толкиен. Топ-10 по оценке авторов соотносятся с топом книг. "
   ]
  },
  {
   "cell_type": "markdown",
   "metadata": {},
   "source": [
    "### Посчитаем среднее количество обзоров от пользователей, которые поставили больше 50 оценок."
   ]
  },
  {
   "cell_type": "code",
   "execution_count": 53,
   "metadata": {},
   "outputs": [
    {
     "data": {
      "text/html": [
       "<div>\n",
       "<style scoped>\n",
       "    .dataframe tbody tr th:only-of-type {\n",
       "        vertical-align: middle;\n",
       "    }\n",
       "\n",
       "    .dataframe tbody tr th {\n",
       "        vertical-align: top;\n",
       "    }\n",
       "\n",
       "    .dataframe thead th {\n",
       "        text-align: right;\n",
       "    }\n",
       "</style>\n",
       "<table border=\"1\" class=\"dataframe\">\n",
       "  <thead>\n",
       "    <tr style=\"text-align: right;\">\n",
       "      <th></th>\n",
       "      <th>average_number_of_reviews</th>\n",
       "    </tr>\n",
       "  </thead>\n",
       "  <tbody>\n",
       "    <tr>\n",
       "      <td>0</td>\n",
       "      <td>24.33</td>\n",
       "    </tr>\n",
       "  </tbody>\n",
       "</table>\n",
       "</div>"
      ],
      "text/plain": [
       "   average_number_of_reviews\n",
       "0                      24.33"
      ]
     },
     "metadata": {},
     "output_type": "display_data"
    }
   ],
   "source": [
    "review_count_50 = \"\"\"SELECT ROUND(AVG(SUBQ2.review_cnt), 2) AS average_number_of_reviews\n",
    "                   FROM (\n",
    "                        SELECT username  \n",
    "                        FROM ratings\n",
    "                        GROUP BY username\n",
    "                        HAVING COUNT(rating_id) > 50) AS SUBQ1\n",
    "                   LEFT JOIN (\n",
    "                               SELECT username,\n",
    "                                      COUNT(review_id) AS review_cnt\n",
    "                               FROM reviews\n",
    "                               GROUP BY username) AS SUBQ2\n",
    "                    ON SUBQ2.username = SUBQ1.username\n",
    "                \"\"\"\n",
    "display(sql_result(review_count_50).head())"
   ]
  },
  {
   "cell_type": "code",
   "execution_count": 54,
   "metadata": {},
   "outputs": [
    {
     "data": {
      "text/html": [
       "<div>\n",
       "<style scoped>\n",
       "    .dataframe tbody tr th:only-of-type {\n",
       "        vertical-align: middle;\n",
       "    }\n",
       "\n",
       "    .dataframe tbody tr th {\n",
       "        vertical-align: top;\n",
       "    }\n",
       "\n",
       "    .dataframe thead th {\n",
       "        text-align: right;\n",
       "    }\n",
       "</style>\n",
       "<table border=\"1\" class=\"dataframe\">\n",
       "  <thead>\n",
       "    <tr style=\"text-align: right;\">\n",
       "      <th></th>\n",
       "      <th>average_number_of_reviews</th>\n",
       "    </tr>\n",
       "  </thead>\n",
       "  <tbody>\n",
       "    <tr>\n",
       "      <td>0</td>\n",
       "      <td>17.46</td>\n",
       "    </tr>\n",
       "  </tbody>\n",
       "</table>\n",
       "</div>"
      ],
      "text/plain": [
       "   average_number_of_reviews\n",
       "0                      17.46"
      ]
     },
     "metadata": {},
     "output_type": "display_data"
    }
   ],
   "source": [
    "#посомтрим общее количество обзоров\n",
    "review_count_all = \"\"\"SELECT ROUND(AVG(SUBQ2.review_cnt), 2) AS average_number_of_reviews\n",
    "                   FROM (\n",
    "                        SELECT username  \n",
    "                        FROM ratings\n",
    "                        GROUP BY username) AS SUBQ1\n",
    "                   LEFT JOIN (\n",
    "                               SELECT username,\n",
    "                                      COUNT(review_id) AS review_cnt\n",
    "                               FROM reviews\n",
    "                               GROUP BY username) AS SUBQ2\n",
    "                    ON SUBQ2.username = SUBQ1.username\n",
    "                \"\"\"\n",
    "display(sql_result(review_count_all).head())"
   ]
  },
  {
   "cell_type": "markdown",
   "metadata": {},
   "source": [
    "Среднее количество обзоров от пользователей, которые поставили больше 50 оценок - 24, что выше, чем общее количество обзоров от всех пользователей(17), но составляет всего 50% от \"оценочной\" активности. Возможно стоит как-то стимулровать пользователй писать обзоры при оценке. Среднее количество обзоров от активных пользователей - хорошая метрика, это повысит доверие к нашему продукту, сформирует сообщество вокруг сервиса и позволит другим покупателям подобрать себе книгу."
   ]
  },
  {
   "cell_type": "markdown",
   "metadata": {},
   "source": [
    "<div class=\"alert alert-success\" style=\"border-radius: 15px; box-shadow: 4px 4px 4px; border: 1px solid \" > <b>Комментарии от ревьюера: </b> \n",
    "    \n",
    "\n",
    "И это .. правильный ответ! Ты корректно отобрал пользователей и рассчитал их показатели. Еще и сравнил с общей статистикой по БД. Молодец!\n",
    "\n",
    "\n",
    "В итоге, 4\\5 с первой попытки - это достойный результат)\n",
    "\n",
    "</div>"
   ]
  },
  {
   "cell_type": "markdown",
   "metadata": {},
   "source": [
    "## Общий вывод"
   ]
  },
  {
   "cell_type": "markdown",
   "metadata": {},
   "source": [
    "При формулировании ценностного предложения для нового продукта, стоит ориентироваться на следующие факторы:\n",
    "* в качестве книг выбирать те, которые вышли после 1 января 2000, т.к. они составляют основной объем у конкурентов;\n",
    "* популярностью пользуются фантастика, фэнтези и приключения, стоит ориентироваться на экранизированые книги;\n",
    "* чаще встречаются книги от старейших американских и британских издательство - \"Penguin Books\", Vintage, Grand Central Publishing. Эти издательства обладают правами на издание книг наиболее популярных авторов 20 и 21 века.\n",
    "* наибольшая средняя оценка у авторов бестселлеров, топ-10 по оценке авторов соотносятся с топом книг. Популярность одной книги автора привлекает внимание к другим. \n",
    "* Стоит как-то стимулровать пользователй писать обзоры при оценке. Среднее количество обзоров от активных пользователей - хорошая метрика, это повысит доверие к нашему продукту, сформирует сообщество вокруг сервиса и позволит другим покупателям подобрать себе книгу."
   ]
  }
 ],
 "metadata": {
  "ExecuteTimeLog": [
   {
    "duration": 663,
    "start_time": "2021-10-22T13:15:49.613Z"
   },
   {
    "duration": 82,
    "start_time": "2021-10-22T13:16:11.000Z"
   },
   {
    "duration": 33,
    "start_time": "2021-10-22T13:17:25.640Z"
   },
   {
    "duration": 303,
    "start_time": "2021-10-22T13:17:48.639Z"
   },
   {
    "duration": 5,
    "start_time": "2021-10-22T15:39:14.641Z"
   },
   {
    "duration": 260,
    "start_time": "2021-10-22T15:42:21.040Z"
   },
   {
    "duration": 253,
    "start_time": "2021-10-22T15:42:37.562Z"
   },
   {
    "duration": 5,
    "start_time": "2021-10-22T15:42:48.300Z"
   },
   {
    "duration": 278,
    "start_time": "2021-10-22T15:42:58.665Z"
   },
   {
    "duration": 76,
    "start_time": "2021-10-22T15:48:48.746Z"
   },
   {
    "duration": 76,
    "start_time": "2021-10-22T15:49:18.183Z"
   },
   {
    "duration": 77,
    "start_time": "2021-10-22T15:49:57.367Z"
   },
   {
    "duration": 78,
    "start_time": "2021-10-22T15:50:26.761Z"
   },
   {
    "duration": 75,
    "start_time": "2021-10-22T16:30:04.570Z"
   },
   {
    "duration": 491,
    "start_time": "2021-10-22T19:05:45.180Z"
   },
   {
    "duration": 818,
    "start_time": "2021-10-22T19:05:53.111Z"
   },
   {
    "duration": 43,
    "start_time": "2021-10-22T19:05:54.736Z"
   },
   {
    "duration": 49,
    "start_time": "2021-10-22T19:05:56.465Z"
   },
   {
    "duration": 14,
    "start_time": "2021-10-22T19:05:57.146Z"
   },
   {
    "duration": 16,
    "start_time": "2021-10-22T19:05:58.595Z"
   },
   {
    "duration": 16,
    "start_time": "2021-10-22T19:06:01.349Z"
   },
   {
    "duration": 16,
    "start_time": "2021-10-22T19:06:02.168Z"
   },
   {
    "duration": 14,
    "start_time": "2021-10-22T19:06:05.743Z"
   },
   {
    "duration": 25,
    "start_time": "2021-10-22T19:06:09.444Z"
   },
   {
    "duration": 20,
    "start_time": "2021-10-22T19:08:35.904Z"
   },
   {
    "duration": 15,
    "start_time": "2021-10-22T19:09:50.727Z"
   },
   {
    "duration": 16,
    "start_time": "2021-10-22T19:19:52.461Z"
   },
   {
    "duration": 4,
    "start_time": "2021-10-22T19:20:00.384Z"
   },
   {
    "duration": 19,
    "start_time": "2021-10-22T19:20:13.144Z"
   },
   {
    "duration": 42,
    "start_time": "2021-10-22T19:20:18.780Z"
   },
   {
    "duration": 17,
    "start_time": "2021-10-22T19:21:17.849Z"
   },
   {
    "duration": 18,
    "start_time": "2021-10-22T19:26:18.263Z"
   },
   {
    "duration": 15,
    "start_time": "2021-10-22T19:26:35.937Z"
   },
   {
    "duration": 16,
    "start_time": "2021-10-22T19:26:47.273Z"
   },
   {
    "duration": 16,
    "start_time": "2021-10-22T19:27:00.487Z"
   },
   {
    "duration": 16,
    "start_time": "2021-10-22T19:27:58.234Z"
   },
   {
    "duration": 12,
    "start_time": "2021-10-22T19:32:27.441Z"
   },
   {
    "duration": 14,
    "start_time": "2021-10-22T19:33:00.387Z"
   },
   {
    "duration": 13,
    "start_time": "2021-10-22T19:33:49.748Z"
   },
   {
    "duration": 14,
    "start_time": "2021-10-22T19:34:18.260Z"
   },
   {
    "duration": 14,
    "start_time": "2021-10-22T19:35:18.669Z"
   },
   {
    "duration": 13,
    "start_time": "2021-10-22T19:35:35.476Z"
   },
   {
    "duration": 13,
    "start_time": "2021-10-22T19:35:57.244Z"
   },
   {
    "duration": 12,
    "start_time": "2021-10-22T19:35:57.946Z"
   },
   {
    "duration": 24,
    "start_time": "2021-10-22T19:42:22.709Z"
   },
   {
    "duration": 20,
    "start_time": "2021-10-22T19:42:51.180Z"
   },
   {
    "duration": 24,
    "start_time": "2021-10-22T19:46:54.173Z"
   },
   {
    "duration": 16,
    "start_time": "2021-10-22T20:04:51.138Z"
   },
   {
    "duration": 15,
    "start_time": "2021-10-22T20:04:57.632Z"
   },
   {
    "duration": 24,
    "start_time": "2021-10-22T20:11:09.459Z"
   },
   {
    "duration": 15,
    "start_time": "2021-10-22T20:11:32.051Z"
   },
   {
    "duration": 19,
    "start_time": "2021-10-22T20:12:17.225Z"
   },
   {
    "duration": 17,
    "start_time": "2021-10-22T20:13:46.354Z"
   },
   {
    "duration": 19,
    "start_time": "2021-10-22T20:14:14.801Z"
   },
   {
    "duration": 18,
    "start_time": "2021-10-22T20:16:54.930Z"
   },
   {
    "duration": 16,
    "start_time": "2021-10-22T20:17:55.211Z"
   },
   {
    "duration": 909,
    "start_time": "2021-10-22T20:18:55.003Z"
   },
   {
    "duration": 809,
    "start_time": "2021-10-22T20:19:27.559Z"
   },
   {
    "duration": 794,
    "start_time": "2021-10-22T20:19:46.250Z"
   },
   {
    "duration": 837,
    "start_time": "2021-10-22T20:20:13.109Z"
   },
   {
    "duration": 18,
    "start_time": "2021-10-22T20:20:51.341Z"
   },
   {
    "duration": 809,
    "start_time": "2021-10-22T20:21:25.844Z"
   },
   {
    "duration": 794,
    "start_time": "2021-10-22T20:21:58.333Z"
   },
   {
    "duration": 831,
    "start_time": "2021-10-22T20:23:03.352Z"
   },
   {
    "duration": 786,
    "start_time": "2021-10-22T20:23:22.403Z"
   },
   {
    "duration": 801,
    "start_time": "2021-10-22T20:24:01.800Z"
   },
   {
    "duration": 986,
    "start_time": "2021-10-22T20:24:22.101Z"
   },
   {
    "duration": 20,
    "start_time": "2021-10-22T20:24:48.484Z"
   },
   {
    "duration": 650,
    "start_time": "2021-10-23T05:28:03.934Z"
   },
   {
    "duration": 25,
    "start_time": "2021-10-23T05:28:04.586Z"
   },
   {
    "duration": 37,
    "start_time": "2021-10-23T05:28:04.614Z"
   },
   {
    "duration": 11,
    "start_time": "2021-10-23T05:28:04.653Z"
   },
   {
    "duration": 15,
    "start_time": "2021-10-23T05:28:04.665Z"
   },
   {
    "duration": 11,
    "start_time": "2021-10-23T05:28:04.681Z"
   },
   {
    "duration": 11,
    "start_time": "2021-10-23T05:28:04.694Z"
   },
   {
    "duration": 10,
    "start_time": "2021-10-23T05:28:04.708Z"
   },
   {
    "duration": 9,
    "start_time": "2021-10-23T05:28:04.720Z"
   },
   {
    "duration": 20,
    "start_time": "2021-10-23T05:28:04.731Z"
   },
   {
    "duration": 27,
    "start_time": "2021-10-23T05:28:04.753Z"
   },
   {
    "duration": 14,
    "start_time": "2021-10-23T05:28:04.782Z"
   },
   {
    "duration": 11,
    "start_time": "2021-10-23T05:28:04.798Z"
   },
   {
    "duration": 10,
    "start_time": "2021-10-23T05:28:04.811Z"
   },
   {
    "duration": 26,
    "start_time": "2021-10-23T05:28:41.582Z"
   },
   {
    "duration": 17,
    "start_time": "2021-10-23T05:28:44.618Z"
   },
   {
    "duration": 18,
    "start_time": "2021-10-23T05:30:10.314Z"
   },
   {
    "duration": 18,
    "start_time": "2021-10-23T05:30:12.844Z"
   },
   {
    "duration": 728,
    "start_time": "2021-10-23T06:37:51.450Z"
   },
   {
    "duration": 32,
    "start_time": "2021-10-23T06:37:52.888Z"
   },
   {
    "duration": 267,
    "start_time": "2021-10-23T06:37:54.080Z"
   },
   {
    "duration": 73,
    "start_time": "2021-10-23T06:37:55.279Z"
   },
   {
    "duration": 72,
    "start_time": "2021-10-23T06:37:56.183Z"
   },
   {
    "duration": 74,
    "start_time": "2021-10-23T06:37:57.431Z"
   },
   {
    "duration": 73,
    "start_time": "2021-10-23T06:37:58.351Z"
   },
   {
    "duration": 384,
    "start_time": "2021-10-23T06:41:28.737Z"
   },
   {
    "duration": 5,
    "start_time": "2021-10-23T06:41:32.958Z"
   },
   {
    "duration": 264,
    "start_time": "2021-10-23T06:41:33.975Z"
   },
   {
    "duration": 75,
    "start_time": "2021-10-23T06:41:35.281Z"
   },
   {
    "duration": 309,
    "start_time": "2021-10-23T06:41:43.039Z"
   },
   {
    "duration": 145,
    "start_time": "2021-10-23T06:41:59.968Z"
   },
   {
    "duration": 147,
    "start_time": "2021-10-23T06:42:16.102Z"
   },
   {
    "duration": 75,
    "start_time": "2021-10-23T06:42:48.728Z"
   },
   {
    "duration": 107,
    "start_time": "2021-10-23T06:43:15.839Z"
   },
   {
    "duration": 101,
    "start_time": "2021-10-23T06:43:35.712Z"
   },
   {
    "duration": 176,
    "start_time": "2021-10-23T06:44:11.424Z"
   },
   {
    "duration": 159,
    "start_time": "2021-10-23T06:44:41.213Z"
   },
   {
    "duration": 148,
    "start_time": "2021-10-23T06:45:57.312Z"
   },
   {
    "duration": 151,
    "start_time": "2021-10-23T07:28:39.228Z"
   },
   {
    "duration": 215,
    "start_time": "2021-10-23T07:35:24.588Z"
   },
   {
    "duration": 277,
    "start_time": "2021-10-23T07:49:02.276Z"
   },
   {
    "duration": 74,
    "start_time": "2021-10-23T07:50:13.100Z"
   },
   {
    "duration": 75,
    "start_time": "2021-10-23T07:50:37.987Z"
   },
   {
    "duration": 83,
    "start_time": "2021-10-23T07:51:01.693Z"
   },
   {
    "duration": 81,
    "start_time": "2021-10-23T07:51:10.132Z"
   },
   {
    "duration": 107,
    "start_time": "2021-10-23T08:01:28.653Z"
   },
   {
    "duration": 107,
    "start_time": "2021-10-23T08:04:20.261Z"
   },
   {
    "duration": 108,
    "start_time": "2021-10-23T08:41:04.672Z"
   },
   {
    "duration": 107,
    "start_time": "2021-10-23T08:41:14.488Z"
   },
   {
    "duration": 108,
    "start_time": "2021-10-23T08:41:28.832Z"
   },
   {
    "duration": 105,
    "start_time": "2021-10-23T08:41:38.416Z"
   },
   {
    "duration": 109,
    "start_time": "2021-10-23T08:41:46.480Z"
   },
   {
    "duration": 106,
    "start_time": "2021-10-23T08:42:04.889Z"
   },
   {
    "duration": 107,
    "start_time": "2021-10-23T08:42:14.232Z"
   },
   {
    "duration": 261,
    "start_time": "2021-10-23T08:42:30.640Z"
   },
   {
    "duration": 104,
    "start_time": "2021-10-23T08:42:43.737Z"
   },
   {
    "duration": 104,
    "start_time": "2021-10-23T08:48:52.329Z"
   },
   {
    "duration": 107,
    "start_time": "2021-10-23T08:49:12.873Z"
   },
   {
    "duration": 106,
    "start_time": "2021-10-23T08:49:26.546Z"
   },
   {
    "duration": 106,
    "start_time": "2021-10-23T08:50:07.480Z"
   },
   {
    "duration": 106,
    "start_time": "2021-10-23T08:50:26.833Z"
   },
   {
    "duration": 106,
    "start_time": "2021-10-23T08:50:48.896Z"
   },
   {
    "duration": 105,
    "start_time": "2021-10-23T08:50:58.025Z"
   },
   {
    "duration": 107,
    "start_time": "2021-10-23T08:51:16.992Z"
   },
   {
    "duration": 108,
    "start_time": "2021-10-23T08:51:27.881Z"
   },
   {
    "duration": 565,
    "start_time": "2021-10-23T08:52:03.537Z"
   },
   {
    "duration": 105,
    "start_time": "2021-10-23T08:52:18.307Z"
   },
   {
    "duration": 307,
    "start_time": "2021-10-23T09:13:21.753Z"
   },
   {
    "duration": 77,
    "start_time": "2021-10-23T09:13:28.561Z"
   },
   {
    "duration": 81,
    "start_time": "2021-10-23T09:14:32.418Z"
   },
   {
    "duration": 77,
    "start_time": "2021-10-23T09:15:52.378Z"
   },
   {
    "duration": 77,
    "start_time": "2021-10-23T09:16:05.665Z"
   },
   {
    "duration": 80,
    "start_time": "2021-10-23T09:17:01.731Z"
   },
   {
    "duration": 78,
    "start_time": "2021-10-23T09:17:08.186Z"
   }
  ],
  "kernelspec": {
   "display_name": "Python 3",
   "language": "python",
   "name": "python3"
  },
  "language_info": {
   "codemirror_mode": {
    "name": "ipython",
    "version": 3
   },
   "file_extension": ".py",
   "mimetype": "text/x-python",
   "name": "python",
   "nbconvert_exporter": "python",
   "pygments_lexer": "ipython3",
   "version": "3.8.5"
  },
  "toc": {
   "base_numbering": 1,
   "nav_menu": {},
   "number_sections": true,
   "sideBar": true,
   "skip_h1_title": true,
   "title_cell": "Table of Contents",
   "title_sidebar": "Contents",
   "toc_cell": false,
   "toc_position": {},
   "toc_section_display": true,
   "toc_window_display": false
  }
 },
 "nbformat": 4,
 "nbformat_minor": 2
}
