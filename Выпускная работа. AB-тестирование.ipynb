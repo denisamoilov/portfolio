{
 "cells": [
  {
   "cell_type": "markdown",
   "metadata": {},
   "source": [
    "<div style=\"border-radius: 15px; box-shadow: 2px 2px 4px; border: 1px solid; background:#dfe6e9; padding: 20px\"> <h7 style=\"color:black; margin-bottom:20px\">  Денис, привет! Это Михаил. Спасибо за работу)\n",
    "\n",
    "Мои комментарии и замечания далее по тексту помечены различными цветами:\n",
    "    \n",
    "---    \n",
    "<div class=\"alert alert-block alert-danger\">\n",
    "Критическое замечание, которые следует исправить.\n",
    "</div> \n",
    "    \n",
    "---\n",
    "    \n",
    "<div class=\"alert alert-block alert-warning\">\n",
    "Замечание\\совет на будущее.\n",
    "</div>\n",
    "    \n",
    "---\n",
    "    \n",
    "<div class=\"alert alert-block alert-success\">\n",
    "Когда всё сделано правильно.\n",
    "</div>\n",
    "    \n",
    "---\n",
    "\n",
    "Если возникнут вопросы по проекту или вопросы общего характера, то не стесняйся - задавай!) Для того, чтобы мне было легче их найти, то выделяй их пожалуйста с помощью цвета, например вот так - <font color=#e17055>\"вопрос, который не останется незамеченным\"</font>\n",
    "    \n",
    "Удачи!\n",
    "    \n",
    "p.s.: не удаляй мои замечания, если предстоит что то доработать в проекте.</h7>"
   ]
  },
  {
   "cell_type": "markdown",
   "metadata": {},
   "source": [
    "<div class=\"alert alert-danger\" style=\"border-radius: 15px; box-shadow: 4px 4px 4px; border: 1px solid \" > <b>Комментарии от ревьюера: </b> \n",
    "\n",
    "Итог ревью - ты проделал большую работу!. Есть четкая структура исследования, наглядные графики и логичные выводы. Но не хватает некоторых пунктов исследования. Оставил свои комментарии. Если возникнут вопросы, то всегда готов ответить) Буду ждать!\n",
    "</div>"
   ]
  },
  {
   "cell_type": "markdown",
   "metadata": {},
   "source": [
    "<div class=\"alert alert-block alert-info\">\n",
    "    \n",
    "\n",
    "__Комментарий джуниора__\n",
    "\n",
    "Привет, Михаил! Благодарю за проверку работы и комментарии, они мне помогли \"догнать\" задачу, так как я вначале не уловил образ результата. Я внес исправления в свою работу, пометил их комментариями голубого цвета.\n",
    "</div>"
   ]
  },
  {
   "cell_type": "markdown",
   "metadata": {},
   "source": [
    "<div class=\"alert alert-success\" style=\"border-radius: 15px; box-shadow: 4px 4px 4px; border: 1px solid \" > <b>Комментарии от ревьюера v2: </b> \n",
    "\n",
    "Привет. Все замечания учтены. Остался последний шаг - SQL\n",
    "</div>"
   ]
  },
  {
   "cell_type": "markdown",
   "metadata": {},
   "source": [
    "# A/B-тестирование"
   ]
  },
  {
   "cell_type": "markdown",
   "metadata": {},
   "source": [
    "**Задача:**\n",
    "\n",
    "провести оценку результатов A/B-теста. В нашем распоряжении есть датасет с действиями пользователей, техническое задание и несколько вспомогательных датасетов.\n",
    "\n",
    "**Что необходимо сделать:**\n",
    "- Оценить корректность проведения теста\n",
    "- Проанализировать результаты теста\n",
    "\n",
    "**Чтобы оценить корректность проведения теста, проверим:**\n",
    "\n",
    "- пересечение тестовой аудитории с конкурирующим тестом,\n",
    "- совпадение теста и маркетинговых событий, другие проблемы временных границ теста.\n",
    "\n",
    "**Техническое задание**\n",
    "\n",
    "- Название теста: `recommender_system_test`;\n",
    "- группы: А — контрольная, B — новая платёжная воронка;\n",
    "- дата запуска: 2020-12-07;\n",
    "- дата остановки набора новых пользователей: 2020-12-21;\n",
    "- дата остановки: 2021-01-04;\n",
    "- аудитория: 15% новых пользователей из региона EU;\n",
    "- назначение теста: тестирование изменений, связанных с внедрением улучшенной рекомендательной системы;\n",
    "- ожидаемое количество участников теста: 6000.\n",
    "- ожидаемый эффект: за 14 дней с момента регистрации пользователи покажут улучшение каждой метрики не менее, чем на 10%:\n",
    "    - конверсии в просмотр карточек товаров — событие `product_page`,\n",
    "    - просмотры корзины — `product_cart`,\n",
    "    - покупки — `purchase`.\n",
    "\n",
    "**Данные**\n",
    "\n",
    "[ab_project_marketing_events.csv](https://s3-us-west-2.amazonaws.com/secure.notion-static.com/82e86f15-c03e-4008-8e5e-19f672168027/final_ab_marketing_events.csv)\n",
    "\n",
    "[final_ab_new_users.csv](https://s3-us-west-2.amazonaws.com/secure.notion-static.com/7ba90abe-6cfd-4403-982e-1fd7d7cdb607/final_ab_new_users.csv)\n",
    "\n",
    "[final_ab_events.csv](https://s3-us-west-2.amazonaws.com/secure.notion-static.com/cca72975-1722-4600-908d-e3941dbb727e/final_ab_events.csv)\n",
    "\n",
    "[final_ab_participants.csv](https://s3-us-west-2.amazonaws.com/secure.notion-static.com/833205e1-e4c9-46dc-beb0-ddc639cbe6fd/final_ab_participants.csv)\n",
    "\n",
    "**Описание данных**\n",
    "\n",
    "`ab_project_marketing_events.csv` — календарь маркетинговых событий на 2020 год.\n",
    "\n",
    "Структура файла:\n",
    "\n",
    "- `name` — название маркетингового события;\n",
    "- `regions` — регионы, в которых будет проводиться рекламная кампания;\n",
    "- `start_dt` — дата начала кампании;\n",
    "- `finish_dt` — дата завершения кампании.\n",
    "\n",
    "`final_ab_new_users.csv` — пользователи, зарегистрировавшиеся с 7 по 21 декабря 2020 года.\n",
    "\n",
    "Структура файла:\n",
    "\n",
    "- `user_id` — идентификатор пользователя;\n",
    "- `first_date` — дата регистрации;\n",
    "- `region` — регион пользователя;\n",
    "- `device` — устройство, с которого происходила регистрация.\n",
    "\n",
    "`final_ab_events.csv` — действия новых пользователей в период с 7 декабря 2020 по 4 января 2021 года.\n",
    "\n",
    "Структура файла:\n",
    "\n",
    "- `user_id` — идентификатор пользователя;\n",
    "- `event_dt` — дата и время покупки;\n",
    "- `event_name` — тип события;\n",
    "- `details` — дополнительные данные о событии. Например, для покупок, `purchase,` в этом поле хранится стоимость покупки в долларах.\n",
    "\n",
    "`final_ab_participants.csv` — таблица участников тестов.\n",
    "\n",
    "Структура файла:\n",
    "\n",
    "- `user_id` — идентификатор пользователя;\n",
    "- `ab_test` — название теста;\n",
    "- `group` — группа пользователя.\n",
    "\n",
    "\n",
    "**Алгоритм выполнения работы**\n",
    "\n",
    "- Опишем цели исследования\n",
    "- Исследуем данные:\n",
    "    - Определим, требуется ли преобразование типов\n",
    "    - Опишем природу пропущенных значений и дубликатов при их обнаружении.\n",
    "- Проведем исследовательский анализ данных:\n",
    "    - Как меняется конверсия в воронке на разных этапах?\n",
    "    - Количество событий на пользователя одинаково распределены в выборках?\n",
    "    - В выборках встречаются одни и те же пользователи?\n",
    "    - Как число событий распределено по дням?\n",
    "    - Какие особенности данных нужно учесть, прежде чем приступать к A/B-тестированию?\n",
    "- Оценим результаты A/B-тестирования\n",
    "    - Что можно сказать про результаты A/В-тестирования?\n",
    "    - Проверим статистическую разницу долей z-критерием.\n",
    "- Опишем выводы по этапу исследовательского анализа данных и по проведённой оценке результатов A/B-тестирования."
   ]
  },
  {
   "cell_type": "markdown",
   "metadata": {},
   "source": [
    "## Загрузим данные и изучим их"
   ]
  },
  {
   "cell_type": "code",
   "execution_count": 97,
   "metadata": {},
   "outputs": [],
   "source": [
    "#импортируем библиотеки\n",
    "import pandas as pd\n",
    "import matplotlib.pyplot as plt\n",
    "import numpy as np\n",
    "import scipy.stats as st\n",
    "import seaborn as sns\n",
    "sns.set(color_codes=True)\n",
    "import math as mth\n",
    "from plotly import graph_objects as go\n",
    "from statsmodels.stats.proportion import proportions_ztest\n",
    "import warnings \n",
    "warnings.filterwarnings('ignore') "
   ]
  },
  {
   "cell_type": "code",
   "execution_count": 2,
   "metadata": {},
   "outputs": [],
   "source": [
    "#сохраним данные в переменных\n",
    "marketing_events = (pd.read_csv\n",
    "                    ('https://raw.githubusercontent.com/denisamoilov/learning/main/ab_project_marketing_events.csv')\n",
    "                   )\n",
    "new_users = pd.read_csv('https://raw.githubusercontent.com/denisamoilov/learning/main/final_ab_new_users.csv')\n",
    "final_events = pd.read_csv('https://raw.githubusercontent.com/denisamoilov/learning/main/final_ab_events.csv')\n",
    "final_participants = pd.read_csv('https://raw.githubusercontent.com/denisamoilov/learning/main/final_ab_participants.csv')"
   ]
  },
  {
   "cell_type": "code",
   "execution_count": 3,
   "metadata": {},
   "outputs": [
    {
     "data": {
      "text/html": [
       "<div>\n",
       "<style scoped>\n",
       "    .dataframe tbody tr th:only-of-type {\n",
       "        vertical-align: middle;\n",
       "    }\n",
       "\n",
       "    .dataframe tbody tr th {\n",
       "        vertical-align: top;\n",
       "    }\n",
       "\n",
       "    .dataframe thead th {\n",
       "        text-align: right;\n",
       "    }\n",
       "</style>\n",
       "<table border=\"1\" class=\"dataframe\">\n",
       "  <thead>\n",
       "    <tr style=\"text-align: right;\">\n",
       "      <th></th>\n",
       "      <th>name</th>\n",
       "      <th>regions</th>\n",
       "      <th>start_dt</th>\n",
       "      <th>finish_dt</th>\n",
       "    </tr>\n",
       "  </thead>\n",
       "  <tbody>\n",
       "    <tr>\n",
       "      <td>0</td>\n",
       "      <td>Christmas&amp;New Year Promo</td>\n",
       "      <td>EU, N.America</td>\n",
       "      <td>2020-12-25</td>\n",
       "      <td>2021-01-03</td>\n",
       "    </tr>\n",
       "    <tr>\n",
       "      <td>1</td>\n",
       "      <td>St. Valentine's Day Giveaway</td>\n",
       "      <td>EU, CIS, APAC, N.America</td>\n",
       "      <td>2020-02-14</td>\n",
       "      <td>2020-02-16</td>\n",
       "    </tr>\n",
       "    <tr>\n",
       "      <td>2</td>\n",
       "      <td>St. Patric's Day Promo</td>\n",
       "      <td>EU, N.America</td>\n",
       "      <td>2020-03-17</td>\n",
       "      <td>2020-03-19</td>\n",
       "    </tr>\n",
       "    <tr>\n",
       "      <td>3</td>\n",
       "      <td>Easter Promo</td>\n",
       "      <td>EU, CIS, APAC, N.America</td>\n",
       "      <td>2020-04-12</td>\n",
       "      <td>2020-04-19</td>\n",
       "    </tr>\n",
       "    <tr>\n",
       "      <td>4</td>\n",
       "      <td>4th of July Promo</td>\n",
       "      <td>N.America</td>\n",
       "      <td>2020-07-04</td>\n",
       "      <td>2020-07-11</td>\n",
       "    </tr>\n",
       "  </tbody>\n",
       "</table>\n",
       "</div>"
      ],
      "text/plain": [
       "                           name                   regions    start_dt  \\\n",
       "0      Christmas&New Year Promo             EU, N.America  2020-12-25   \n",
       "1  St. Valentine's Day Giveaway  EU, CIS, APAC, N.America  2020-02-14   \n",
       "2        St. Patric's Day Promo             EU, N.America  2020-03-17   \n",
       "3                  Easter Promo  EU, CIS, APAC, N.America  2020-04-12   \n",
       "4             4th of July Promo                 N.America  2020-07-04   \n",
       "\n",
       "    finish_dt  \n",
       "0  2021-01-03  \n",
       "1  2020-02-16  \n",
       "2  2020-03-19  \n",
       "3  2020-04-19  \n",
       "4  2020-07-11  "
      ]
     },
     "metadata": {},
     "output_type": "display_data"
    },
    {
     "name": "stdout",
     "output_type": "stream",
     "text": [
      "Общая информация о таблице с данными календаря маркетинговых событий за 2020 год\n",
      "<class 'pandas.core.frame.DataFrame'>\n",
      "RangeIndex: 14 entries, 0 to 13\n",
      "Data columns (total 4 columns):\n",
      "name         14 non-null object\n",
      "regions      14 non-null object\n",
      "start_dt     14 non-null object\n",
      "finish_dt    14 non-null object\n",
      "dtypes: object(4)\n",
      "memory usage: 576.0+ bytes\n",
      "None\n"
     ]
    }
   ],
   "source": [
    "#посмотрим общую информацию о таблцах\n",
    "display(marketing_events.head())\n",
    "print('Общая информация о таблице с данными календаря маркетинговых событий за 2020 год')\n",
    "print(marketing_events.info())"
   ]
  },
  {
   "cell_type": "code",
   "execution_count": 4,
   "metadata": {},
   "outputs": [
    {
     "data": {
      "text/html": [
       "<div>\n",
       "<style scoped>\n",
       "    .dataframe tbody tr th:only-of-type {\n",
       "        vertical-align: middle;\n",
       "    }\n",
       "\n",
       "    .dataframe tbody tr th {\n",
       "        vertical-align: top;\n",
       "    }\n",
       "\n",
       "    .dataframe thead th {\n",
       "        text-align: right;\n",
       "    }\n",
       "</style>\n",
       "<table border=\"1\" class=\"dataframe\">\n",
       "  <thead>\n",
       "    <tr style=\"text-align: right;\">\n",
       "      <th></th>\n",
       "      <th>user_id</th>\n",
       "      <th>first_date</th>\n",
       "      <th>region</th>\n",
       "      <th>device</th>\n",
       "    </tr>\n",
       "  </thead>\n",
       "  <tbody>\n",
       "    <tr>\n",
       "      <td>0</td>\n",
       "      <td>D72A72121175D8BE</td>\n",
       "      <td>2020-12-07</td>\n",
       "      <td>EU</td>\n",
       "      <td>PC</td>\n",
       "    </tr>\n",
       "    <tr>\n",
       "      <td>1</td>\n",
       "      <td>F1C668619DFE6E65</td>\n",
       "      <td>2020-12-07</td>\n",
       "      <td>N.America</td>\n",
       "      <td>Android</td>\n",
       "    </tr>\n",
       "    <tr>\n",
       "      <td>2</td>\n",
       "      <td>2E1BF1D4C37EA01F</td>\n",
       "      <td>2020-12-07</td>\n",
       "      <td>EU</td>\n",
       "      <td>PC</td>\n",
       "    </tr>\n",
       "    <tr>\n",
       "      <td>3</td>\n",
       "      <td>50734A22C0C63768</td>\n",
       "      <td>2020-12-07</td>\n",
       "      <td>EU</td>\n",
       "      <td>iPhone</td>\n",
       "    </tr>\n",
       "    <tr>\n",
       "      <td>4</td>\n",
       "      <td>E1BDDCE0DAFA2679</td>\n",
       "      <td>2020-12-07</td>\n",
       "      <td>N.America</td>\n",
       "      <td>iPhone</td>\n",
       "    </tr>\n",
       "  </tbody>\n",
       "</table>\n",
       "</div>"
      ],
      "text/plain": [
       "            user_id  first_date     region   device\n",
       "0  D72A72121175D8BE  2020-12-07         EU       PC\n",
       "1  F1C668619DFE6E65  2020-12-07  N.America  Android\n",
       "2  2E1BF1D4C37EA01F  2020-12-07         EU       PC\n",
       "3  50734A22C0C63768  2020-12-07         EU   iPhone\n",
       "4  E1BDDCE0DAFA2679  2020-12-07  N.America   iPhone"
      ]
     },
     "metadata": {},
     "output_type": "display_data"
    },
    {
     "name": "stdout",
     "output_type": "stream",
     "text": [
      "Общая информация о таблице с данными о пользователях, зарегистрировавшихся с 7 по 21 декабря 2020 года.\n",
      "<class 'pandas.core.frame.DataFrame'>\n",
      "RangeIndex: 61733 entries, 0 to 61732\n",
      "Data columns (total 4 columns):\n",
      "user_id       61733 non-null object\n",
      "first_date    61733 non-null object\n",
      "region        61733 non-null object\n",
      "device        61733 non-null object\n",
      "dtypes: object(4)\n",
      "memory usage: 1.9+ MB\n",
      "None\n"
     ]
    }
   ],
   "source": [
    "#посмотрим общую информацию о таблцах\n",
    "display(new_users.head())\n",
    "print('Общая информация о таблице с данными о пользователях, зарегистрировавшихся с 7 по 21 декабря 2020 года.')\n",
    "print(new_users.info())"
   ]
  },
  {
   "cell_type": "code",
   "execution_count": 5,
   "metadata": {},
   "outputs": [
    {
     "data": {
      "text/html": [
       "<div>\n",
       "<style scoped>\n",
       "    .dataframe tbody tr th:only-of-type {\n",
       "        vertical-align: middle;\n",
       "    }\n",
       "\n",
       "    .dataframe tbody tr th {\n",
       "        vertical-align: top;\n",
       "    }\n",
       "\n",
       "    .dataframe thead th {\n",
       "        text-align: right;\n",
       "    }\n",
       "</style>\n",
       "<table border=\"1\" class=\"dataframe\">\n",
       "  <thead>\n",
       "    <tr style=\"text-align: right;\">\n",
       "      <th></th>\n",
       "      <th>user_id</th>\n",
       "      <th>event_dt</th>\n",
       "      <th>event_name</th>\n",
       "      <th>details</th>\n",
       "    </tr>\n",
       "  </thead>\n",
       "  <tbody>\n",
       "    <tr>\n",
       "      <td>0</td>\n",
       "      <td>E1BDDCE0DAFA2679</td>\n",
       "      <td>2020-12-07 20:22:03</td>\n",
       "      <td>purchase</td>\n",
       "      <td>99.99</td>\n",
       "    </tr>\n",
       "    <tr>\n",
       "      <td>1</td>\n",
       "      <td>7B6452F081F49504</td>\n",
       "      <td>2020-12-07 09:22:53</td>\n",
       "      <td>purchase</td>\n",
       "      <td>9.99</td>\n",
       "    </tr>\n",
       "    <tr>\n",
       "      <td>2</td>\n",
       "      <td>9CD9F34546DF254C</td>\n",
       "      <td>2020-12-07 12:59:29</td>\n",
       "      <td>purchase</td>\n",
       "      <td>4.99</td>\n",
       "    </tr>\n",
       "    <tr>\n",
       "      <td>3</td>\n",
       "      <td>96F27A054B191457</td>\n",
       "      <td>2020-12-07 04:02:40</td>\n",
       "      <td>purchase</td>\n",
       "      <td>4.99</td>\n",
       "    </tr>\n",
       "    <tr>\n",
       "      <td>4</td>\n",
       "      <td>1FD7660FDF94CA1F</td>\n",
       "      <td>2020-12-07 10:15:09</td>\n",
       "      <td>purchase</td>\n",
       "      <td>4.99</td>\n",
       "    </tr>\n",
       "  </tbody>\n",
       "</table>\n",
       "</div>"
      ],
      "text/plain": [
       "            user_id             event_dt event_name  details\n",
       "0  E1BDDCE0DAFA2679  2020-12-07 20:22:03   purchase    99.99\n",
       "1  7B6452F081F49504  2020-12-07 09:22:53   purchase     9.99\n",
       "2  9CD9F34546DF254C  2020-12-07 12:59:29   purchase     4.99\n",
       "3  96F27A054B191457  2020-12-07 04:02:40   purchase     4.99\n",
       "4  1FD7660FDF94CA1F  2020-12-07 10:15:09   purchase     4.99"
      ]
     },
     "metadata": {},
     "output_type": "display_data"
    },
    {
     "name": "stdout",
     "output_type": "stream",
     "text": [
      "Общая информация о таблице с данными о действиях пользователей, зарегистрировавшихся с 7 по 21 декабря 2020 года.\n",
      "<class 'pandas.core.frame.DataFrame'>\n",
      "RangeIndex: 440317 entries, 0 to 440316\n",
      "Data columns (total 4 columns):\n",
      "user_id       440317 non-null object\n",
      "event_dt      440317 non-null object\n",
      "event_name    440317 non-null object\n",
      "details       62740 non-null float64\n",
      "dtypes: float64(1), object(3)\n",
      "memory usage: 13.4+ MB\n",
      "None\n"
     ]
    }
   ],
   "source": [
    "#посмотрим общую информацию о таблцах\n",
    "display(final_events.head())\n",
    "print('Общая информация о таблице с данными о действиях пользователей, зарегистрировавшихся с 7 по 21 декабря 2020 года.')\n",
    "print(final_events.info())"
   ]
  },
  {
   "cell_type": "code",
   "execution_count": 6,
   "metadata": {},
   "outputs": [
    {
     "data": {
      "text/html": [
       "<div>\n",
       "<style scoped>\n",
       "    .dataframe tbody tr th:only-of-type {\n",
       "        vertical-align: middle;\n",
       "    }\n",
       "\n",
       "    .dataframe tbody tr th {\n",
       "        vertical-align: top;\n",
       "    }\n",
       "\n",
       "    .dataframe thead th {\n",
       "        text-align: right;\n",
       "    }\n",
       "</style>\n",
       "<table border=\"1\" class=\"dataframe\">\n",
       "  <thead>\n",
       "    <tr style=\"text-align: right;\">\n",
       "      <th></th>\n",
       "      <th>user_id</th>\n",
       "      <th>group</th>\n",
       "      <th>ab_test</th>\n",
       "    </tr>\n",
       "  </thead>\n",
       "  <tbody>\n",
       "    <tr>\n",
       "      <td>0</td>\n",
       "      <td>D1ABA3E2887B6A73</td>\n",
       "      <td>A</td>\n",
       "      <td>recommender_system_test</td>\n",
       "    </tr>\n",
       "    <tr>\n",
       "      <td>1</td>\n",
       "      <td>A7A3664BD6242119</td>\n",
       "      <td>A</td>\n",
       "      <td>recommender_system_test</td>\n",
       "    </tr>\n",
       "    <tr>\n",
       "      <td>2</td>\n",
       "      <td>DABC14FDDFADD29E</td>\n",
       "      <td>A</td>\n",
       "      <td>recommender_system_test</td>\n",
       "    </tr>\n",
       "    <tr>\n",
       "      <td>3</td>\n",
       "      <td>04988C5DF189632E</td>\n",
       "      <td>A</td>\n",
       "      <td>recommender_system_test</td>\n",
       "    </tr>\n",
       "    <tr>\n",
       "      <td>4</td>\n",
       "      <td>482F14783456D21B</td>\n",
       "      <td>B</td>\n",
       "      <td>recommender_system_test</td>\n",
       "    </tr>\n",
       "  </tbody>\n",
       "</table>\n",
       "</div>"
      ],
      "text/plain": [
       "            user_id group                  ab_test\n",
       "0  D1ABA3E2887B6A73     A  recommender_system_test\n",
       "1  A7A3664BD6242119     A  recommender_system_test\n",
       "2  DABC14FDDFADD29E     A  recommender_system_test\n",
       "3  04988C5DF189632E     A  recommender_system_test\n",
       "4  482F14783456D21B     B  recommender_system_test"
      ]
     },
     "metadata": {},
     "output_type": "display_data"
    },
    {
     "name": "stdout",
     "output_type": "stream",
     "text": [
      "Общая информация о таблице с данными участников теста\n",
      "<class 'pandas.core.frame.DataFrame'>\n",
      "RangeIndex: 18268 entries, 0 to 18267\n",
      "Data columns (total 3 columns):\n",
      "user_id    18268 non-null object\n",
      "group      18268 non-null object\n",
      "ab_test    18268 non-null object\n",
      "dtypes: object(3)\n",
      "memory usage: 428.3+ KB\n",
      "None\n"
     ]
    }
   ],
   "source": [
    "#посмотрим общую информацию о таблцах\n",
    "display(final_participants.head())\n",
    "print('Общая информация о таблице с данными участников теста')\n",
    "print(final_participants.info())"
   ]
  },
  {
   "cell_type": "markdown",
   "metadata": {},
   "source": [
    "При первом ознакомлении с данными обнаружен неверный тип даты во всех 4-х таблицах. Пропуски обнаружены в столбце details в таблице final_events"
   ]
  },
  {
   "cell_type": "code",
   "execution_count": 7,
   "metadata": {},
   "outputs": [
    {
     "name": "stdout",
     "output_type": "stream",
     "text": [
      "Количество дубликатов в таблице marketing_events 0\n",
      "Количество дубликатов в таблице new_users 0\n",
      "Количество дубликатов в таблице final_events 0\n",
      "Количество дубликатов в таблице final_participants 0\n"
     ]
    }
   ],
   "source": [
    "#проверим наличие дубликатов\n",
    "print(\"Количество дубликатов в таблице marketing_events\", marketing_events.duplicated().sum())\n",
    "print(\"Количество дубликатов в таблице new_users\", new_users.duplicated().sum())\n",
    "print(\"Количество дубликатов в таблице final_events\", final_events.duplicated().sum())\n",
    "print(\"Количество дубликатов в таблице final_participants\", final_participants.duplicated().sum())"
   ]
  },
  {
   "cell_type": "code",
   "execution_count": 8,
   "metadata": {},
   "outputs": [
    {
     "name": "stdout",
     "output_type": "stream",
     "text": [
      "login           189552\n",
      "product_page    125563\n",
      "purchase         62740\n",
      "product_cart     62462\n",
      "Name: event_name, dtype: int64\n"
     ]
    },
    {
     "data": {
      "text/plain": [
       "event_name\n",
       "login               0\n",
       "product_cart        0\n",
       "product_page        0\n",
       "purchase        62740\n",
       "Name: details, dtype: int64"
      ]
     },
     "metadata": {},
     "output_type": "display_data"
    }
   ],
   "source": [
    "#изучим причину пропусков в таблице final_events\n",
    "#посотрим уникальные значения в столбце с именами событий\n",
    "print(final_events['event_name'].value_counts())\n",
    "\n",
    "#указаны события, которые совершают пользователи, в столбце details указаны суммы, что может относиться к событияю purchase\n",
    "display(final_events.groupby('event_name')['details'].count())"
   ]
  },
  {
   "cell_type": "code",
   "execution_count": 9,
   "metadata": {},
   "outputs": [
    {
     "data": {
      "text/html": [
       "<div>\n",
       "<style scoped>\n",
       "    .dataframe tbody tr th:only-of-type {\n",
       "        vertical-align: middle;\n",
       "    }\n",
       "\n",
       "    .dataframe tbody tr th {\n",
       "        vertical-align: top;\n",
       "    }\n",
       "\n",
       "    .dataframe thead th {\n",
       "        text-align: right;\n",
       "    }\n",
       "</style>\n",
       "<table border=\"1\" class=\"dataframe\">\n",
       "  <thead>\n",
       "    <tr style=\"text-align: right;\">\n",
       "      <th></th>\n",
       "      <th>user_id</th>\n",
       "      <th>ab_test</th>\n",
       "      <th>group</th>\n",
       "    </tr>\n",
       "  </thead>\n",
       "  <tbody>\n",
       "    <tr>\n",
       "      <td>0</td>\n",
       "      <td>0002CE61FF2C4011</td>\n",
       "      <td>interface_eu_test</td>\n",
       "      <td>1</td>\n",
       "    </tr>\n",
       "    <tr>\n",
       "      <td>12177</td>\n",
       "      <td>AA302D044EB2BED4</td>\n",
       "      <td>recommender_system_test</td>\n",
       "      <td>1</td>\n",
       "    </tr>\n",
       "    <tr>\n",
       "      <td>12183</td>\n",
       "      <td>AA55A2BDAE39BECC</td>\n",
       "      <td>recommender_system_test</td>\n",
       "      <td>1</td>\n",
       "    </tr>\n",
       "    <tr>\n",
       "      <td>12182</td>\n",
       "      <td>AA559B5A4F3F5E61</td>\n",
       "      <td>recommender_system_test</td>\n",
       "      <td>1</td>\n",
       "    </tr>\n",
       "    <tr>\n",
       "      <td>12181</td>\n",
       "      <td>AA49424D3F80982D</td>\n",
       "      <td>interface_eu_test</td>\n",
       "      <td>1</td>\n",
       "    </tr>\n",
       "  </tbody>\n",
       "</table>\n",
       "</div>"
      ],
      "text/plain": [
       "                user_id                  ab_test  group\n",
       "0      0002CE61FF2C4011        interface_eu_test      1\n",
       "12177  AA302D044EB2BED4  recommender_system_test      1\n",
       "12183  AA55A2BDAE39BECC  recommender_system_test      1\n",
       "12182  AA559B5A4F3F5E61  recommender_system_test      1\n",
       "12181  AA49424D3F80982D        interface_eu_test      1"
      ]
     },
     "metadata": {},
     "output_type": "display_data"
    },
    {
     "data": {
      "text/html": [
       "<div>\n",
       "<style scoped>\n",
       "    .dataframe tbody tr th:only-of-type {\n",
       "        vertical-align: middle;\n",
       "    }\n",
       "\n",
       "    .dataframe tbody tr th {\n",
       "        vertical-align: top;\n",
       "    }\n",
       "\n",
       "    .dataframe thead th {\n",
       "        text-align: right;\n",
       "    }\n",
       "</style>\n",
       "<table border=\"1\" class=\"dataframe\">\n",
       "  <thead>\n",
       "    <tr style=\"text-align: right;\">\n",
       "      <th></th>\n",
       "      <th>user_id</th>\n",
       "      <th>ab_test</th>\n",
       "      <th>group</th>\n",
       "    </tr>\n",
       "  </thead>\n",
       "  <tbody>\n",
       "  </tbody>\n",
       "</table>\n",
       "</div>"
      ],
      "text/plain": [
       "Empty DataFrame\n",
       "Columns: [user_id, ab_test, group]\n",
       "Index: []"
      ]
     },
     "metadata": {},
     "output_type": "display_data"
    },
    {
     "name": "stdout",
     "output_type": "stream",
     "text": [
      "Количество пользователей, попавших в обе группы в обоих тестах 0\n",
      "Доля дубликатов 0.0%\n"
     ]
    }
   ],
   "source": [
    "#проверим есть ли пользователи попавшие  обе группы и в оба теста\n",
    "\n",
    "final_participants_check = final_participants.groupby(['user_id', 'ab_test']).agg({'group': 'nunique'}).reset_index()\n",
    "display(final_participants_check.sort_values(by = 'group', ascending = False).head())\n",
    "\n",
    "final_participants_double = final_participants_check[final_participants_check['group'] == 2]\n",
    "display(final_participants_double.head())\n",
    "print(\"Количество пользователей, попавших в обе группы в обоих тестах\", final_participants_double['user_id'].count())\n",
    "print('Доля дубликатов {:.1%}'.format(final_participants_double['user_id'].count() / final_participants['user_id'].value_counts().sum()))"
   ]
  },
  {
   "cell_type": "markdown",
   "metadata": {},
   "source": [
    "### Вывод"
   ]
  },
  {
   "cell_type": "markdown",
   "metadata": {},
   "source": [
    "При первом ознакомлении с данными обнаружен неверный тип даты во всех 4-х таблицах. Пропуски обнаружены в столбце details в таблице final_events, в этом столбце указаны суммы покупок, поэтому информация есть только для этого события. Дубликатов не обнаружено. На следующем шаге нужно исправить типы данных и проверить ошибки в последовательности совершаемых событий. "
   ]
  },
  {
   "cell_type": "markdown",
   "metadata": {},
   "source": [
    "<div class=\"alert alert-success\" style=\"border-radius: 15px; box-shadow: 4px 4px 4px; border: 1px solid \" > <b>Комментарии от ревьюера: </b> \n",
    "\n",
    "На этом этапе всё хорошо - посмотрел данные и выполнил первичную проверку на пропуски и дубликаты. Идем дальше)\n",
    "   \n",
    "</div>"
   ]
  },
  {
   "cell_type": "markdown",
   "metadata": {},
   "source": [
    "_______________________________________________________________________________________________________________________________"
   ]
  },
  {
   "cell_type": "markdown",
   "metadata": {},
   "source": [
    "## Предобработка данных"
   ]
  },
  {
   "cell_type": "code",
   "execution_count": 10,
   "metadata": {},
   "outputs": [],
   "source": [
    "#исправим тип данных в датах\n",
    "marketing_events['finish_dt'] = pd.to_datetime(marketing_events['finish_dt'])\n",
    "marketing_events['start_dt'] = pd.to_datetime(marketing_events['start_dt'])\n",
    "new_users['first_date'] = pd.to_datetime(new_users['first_date'])\n",
    "final_events['event_dt'] = pd.to_datetime(final_events['event_dt'])"
   ]
  },
  {
   "cell_type": "code",
   "execution_count": 44,
   "metadata": {},
   "outputs": [],
   "source": [
    "#заменим пропуски в столбце со стоимостью заказов на 0\n",
    "final_events['details'] = final_events['details'].fillna(0)"
   ]
  },
  {
   "cell_type": "code",
   "execution_count": 45,
   "metadata": {},
   "outputs": [
    {
     "name": "stdout",
     "output_type": "stream",
     "text": [
      "Общая информация о таблице с данными календаря маркетинговых событий за 2020 год\n",
      "<class 'pandas.core.frame.DataFrame'>\n",
      "RangeIndex: 14 entries, 0 to 13\n",
      "Data columns (total 4 columns):\n",
      "name         14 non-null object\n",
      "regions      14 non-null object\n",
      "start_dt     14 non-null datetime64[ns]\n",
      "finish_dt    14 non-null datetime64[ns]\n",
      "dtypes: datetime64[ns](2), object(2)\n",
      "memory usage: 576.0+ bytes\n",
      "None\n",
      "Общая информация о таблице с данными о пользователях, зарегистрировавшихся с 7 по 21 декабря 2020 года.\n",
      "<class 'pandas.core.frame.DataFrame'>\n",
      "RangeIndex: 61733 entries, 0 to 61732\n",
      "Data columns (total 4 columns):\n",
      "user_id       61733 non-null object\n",
      "first_date    61733 non-null datetime64[ns]\n",
      "region        61733 non-null object\n",
      "device        61733 non-null object\n",
      "dtypes: datetime64[ns](1), object(3)\n",
      "memory usage: 1.9+ MB\n",
      "None\n",
      "Общая информация о таблице с данными о действиях пользователей, зарегистрировавшихся с 7 по 21 декабря 2020 года.\n",
      "<class 'pandas.core.frame.DataFrame'>\n",
      "RangeIndex: 440317 entries, 0 to 440316\n",
      "Data columns (total 5 columns):\n",
      "user_id       440317 non-null object\n",
      "event_dt      440317 non-null datetime64[ns]\n",
      "event_name    440317 non-null object\n",
      "details       440317 non-null float64\n",
      "event_date    440317 non-null datetime64[ns]\n",
      "dtypes: datetime64[ns](2), float64(1), object(2)\n",
      "memory usage: 16.8+ MB\n",
      "None\n",
      "Общая информация о таблице с данными участников теста\n",
      "<class 'pandas.core.frame.DataFrame'>\n",
      "RangeIndex: 18268 entries, 0 to 18267\n",
      "Data columns (total 3 columns):\n",
      "user_id    18268 non-null object\n",
      "group      18268 non-null object\n",
      "ab_test    18268 non-null object\n",
      "dtypes: object(3)\n",
      "memory usage: 428.3+ KB\n",
      "None\n"
     ]
    }
   ],
   "source": [
    "#посмотрим общую информацию о таблцах\n",
    "print('Общая информация о таблице с данными календаря маркетинговых событий за 2020 год')\n",
    "print(marketing_events.info())\n",
    "\n",
    "print('Общая информация о таблице с данными о пользователях, зарегистрировавшихся с 7 по 21 декабря 2020 года.')\n",
    "print(new_users.info())\n",
    "\n",
    "print('Общая информация о таблице с данными о действиях пользователей, зарегистрировавшихся с 7 по 21 декабря 2020 года.')\n",
    "print(final_events.info())\n",
    "\n",
    "print('Общая информация о таблице с данными участников теста')\n",
    "print(final_participants.info())"
   ]
  },
  {
   "cell_type": "code",
   "execution_count": 46,
   "metadata": {},
   "outputs": [
    {
     "data": {
      "text/html": [
       "<div>\n",
       "<style scoped>\n",
       "    .dataframe tbody tr th:only-of-type {\n",
       "        vertical-align: middle;\n",
       "    }\n",
       "\n",
       "    .dataframe tbody tr th {\n",
       "        vertical-align: top;\n",
       "    }\n",
       "\n",
       "    .dataframe thead th {\n",
       "        text-align: right;\n",
       "    }\n",
       "</style>\n",
       "<table border=\"1\" class=\"dataframe\">\n",
       "  <thead>\n",
       "    <tr style=\"text-align: right;\">\n",
       "      <th></th>\n",
       "      <th></th>\n",
       "      <th>event_dt</th>\n",
       "    </tr>\n",
       "    <tr>\n",
       "      <th>user_id</th>\n",
       "      <th>event_name</th>\n",
       "      <th></th>\n",
       "    </tr>\n",
       "  </thead>\n",
       "  <tbody>\n",
       "    <tr>\n",
       "      <td rowspan=\"3\" valign=\"top\">EB2D1E4A76B38E24</td>\n",
       "      <td>purchase</td>\n",
       "      <td>2020-12-07 00:00:33</td>\n",
       "    </tr>\n",
       "    <tr>\n",
       "      <td>login</td>\n",
       "      <td>2020-12-07 00:00:33</td>\n",
       "    </tr>\n",
       "    <tr>\n",
       "      <td>product_page</td>\n",
       "      <td>2020-12-07 00:00:34</td>\n",
       "    </tr>\n",
       "    <tr>\n",
       "      <td rowspan=\"2\" valign=\"top\">821D82C2BB74CBB2</td>\n",
       "      <td>product_page</td>\n",
       "      <td>2020-12-07 00:00:35</td>\n",
       "    </tr>\n",
       "    <tr>\n",
       "      <td>login</td>\n",
       "      <td>2020-12-07 00:00:35</td>\n",
       "    </tr>\n",
       "    <tr>\n",
       "      <td>CB807128858C6274</td>\n",
       "      <td>login</td>\n",
       "      <td>2020-12-07 00:01:19</td>\n",
       "    </tr>\n",
       "    <tr>\n",
       "      <td rowspan=\"3\" valign=\"top\">7F256CA122A4084C</td>\n",
       "      <td>login</td>\n",
       "      <td>2020-12-07 00:01:37</td>\n",
       "    </tr>\n",
       "    <tr>\n",
       "      <td>product_cart</td>\n",
       "      <td>2020-12-07 00:01:38</td>\n",
       "    </tr>\n",
       "    <tr>\n",
       "      <td>product_page</td>\n",
       "      <td>2020-12-07 00:01:40</td>\n",
       "    </tr>\n",
       "    <tr>\n",
       "      <td rowspan=\"3\" valign=\"top\">E4BF0599D6E802CA</td>\n",
       "      <td>login</td>\n",
       "      <td>2020-12-07 00:02:46</td>\n",
       "    </tr>\n",
       "    <tr>\n",
       "      <td>purchase</td>\n",
       "      <td>2020-12-07 00:02:46</td>\n",
       "    </tr>\n",
       "    <tr>\n",
       "      <td>product_page</td>\n",
       "      <td>2020-12-07 00:02:47</td>\n",
       "    </tr>\n",
       "    <tr>\n",
       "      <td>B13A53A1EB2038EE</td>\n",
       "      <td>login</td>\n",
       "      <td>2020-12-07 00:02:48</td>\n",
       "    </tr>\n",
       "    <tr>\n",
       "      <td rowspan=\"2\" valign=\"top\">4C4BA430AAA820F8</td>\n",
       "      <td>login</td>\n",
       "      <td>2020-12-07 00:03:18</td>\n",
       "    </tr>\n",
       "    <tr>\n",
       "      <td>product_page</td>\n",
       "      <td>2020-12-07 00:03:19</td>\n",
       "    </tr>\n",
       "    <tr>\n",
       "      <td rowspan=\"2\" valign=\"top\">09F174B3F246A000</td>\n",
       "      <td>login</td>\n",
       "      <td>2020-12-07 00:03:29</td>\n",
       "    </tr>\n",
       "    <tr>\n",
       "      <td>product_cart</td>\n",
       "      <td>2020-12-07 00:03:29</td>\n",
       "    </tr>\n",
       "    <tr>\n",
       "      <td rowspan=\"3\" valign=\"top\">C967DB4C341410A5</td>\n",
       "      <td>product_cart</td>\n",
       "      <td>2020-12-07 00:03:43</td>\n",
       "    </tr>\n",
       "    <tr>\n",
       "      <td>login</td>\n",
       "      <td>2020-12-07 00:03:43</td>\n",
       "    </tr>\n",
       "    <tr>\n",
       "      <td>product_page</td>\n",
       "      <td>2020-12-07 00:03:45</td>\n",
       "    </tr>\n",
       "  </tbody>\n",
       "</table>\n",
       "</div>"
      ],
      "text/plain": [
       "                                         event_dt\n",
       "user_id          event_name                      \n",
       "EB2D1E4A76B38E24 purchase     2020-12-07 00:00:33\n",
       "                 login        2020-12-07 00:00:33\n",
       "                 product_page 2020-12-07 00:00:34\n",
       "821D82C2BB74CBB2 product_page 2020-12-07 00:00:35\n",
       "                 login        2020-12-07 00:00:35\n",
       "CB807128858C6274 login        2020-12-07 00:01:19\n",
       "7F256CA122A4084C login        2020-12-07 00:01:37\n",
       "                 product_cart 2020-12-07 00:01:38\n",
       "                 product_page 2020-12-07 00:01:40\n",
       "E4BF0599D6E802CA login        2020-12-07 00:02:46\n",
       "                 purchase     2020-12-07 00:02:46\n",
       "                 product_page 2020-12-07 00:02:47\n",
       "B13A53A1EB2038EE login        2020-12-07 00:02:48\n",
       "4C4BA430AAA820F8 login        2020-12-07 00:03:18\n",
       "                 product_page 2020-12-07 00:03:19\n",
       "09F174B3F246A000 login        2020-12-07 00:03:29\n",
       "                 product_cart 2020-12-07 00:03:29\n",
       "C967DB4C341410A5 product_cart 2020-12-07 00:03:43\n",
       "                 login        2020-12-07 00:03:43\n",
       "                 product_page 2020-12-07 00:03:45"
      ]
     },
     "metadata": {},
     "output_type": "display_data"
    }
   ],
   "source": [
    "#проверим ошибки в последовательности действий пользователей\n",
    "user_first_event = (final_events.pivot_table(index=['user_id', 'event_name'], values='event_dt',\n",
    "                                             aggfunc='min').sort_values('event_dt')\n",
    "                   )\n",
    "display(user_first_event.head(20))\n"
   ]
  },
  {
   "cell_type": "markdown",
   "metadata": {},
   "source": [
    "### Вывод"
   ]
  },
  {
   "cell_type": "markdown",
   "metadata": {},
   "source": [
    "Преобразовыны типы данных в столбцах с датой. Обнаружены ошибки в последовательности событий. Например, у пользователя EB2D1E4A76B38E24 событие оплаты стоит одновременно с авторизацией и до просмотра страницы продукта. У других пользователей также наблюдается неверный порядок событий, что может говорить об ошибке сбора данных."
   ]
  },
  {
   "cell_type": "markdown",
   "metadata": {},
   "source": [
    "<div class=\"alert alert-warning\" style=\"border-radius: 15px; box-shadow: 4px 4px 4px; border: 1px solid \" > <b>Комментарии от ревьюера: </b> \n",
    "\n",
    "Какого рода ошибки? И почему ты считаешь это ошибкой. Хотелось бы больше пояснений\n",
    "   \n",
    "</div>"
   ]
  },
  {
   "cell_type": "markdown",
   "metadata": {},
   "source": [
    "<div class=\"alert alert-block alert-info\">\n",
    "    \n",
    "\n",
    "__Комментарий джуниора__\n",
    "\n",
    "Поправил вывод \n",
    "</div>"
   ]
  },
  {
   "cell_type": "markdown",
   "metadata": {},
   "source": [
    "<div class=\"alert alert-warning\" style=\"border-radius: 15px; box-shadow: 4px 4px 4px; border: 1px solid \" > <b>Комментарии от ревьюера v2: </b> \n",
    "\n",
    "Не только об ошибке. Здесь надо уточнять момент. Возможно на платформе нестрогая воронка продаж и есть возможности приобрести товар напрямуюЮ, минуя некоторые этапы\n",
    "</div>"
   ]
  },
  {
   "cell_type": "markdown",
   "metadata": {},
   "source": [
    "_______________________________________________________________________________________________________________________________"
   ]
  },
  {
   "cell_type": "markdown",
   "metadata": {},
   "source": [
    "## Исследовательский анализ данных"
   ]
  },
  {
   "cell_type": "markdown",
   "metadata": {},
   "source": [
    "<div class=\"alert alert-block alert-info\">\n",
    "    \n",
    "\n",
    "__Комментарий джуниора__\n",
    "\n",
    "Этот раздел я полностью переделал\n",
    "</div>"
   ]
  },
  {
   "cell_type": "markdown",
   "metadata": {},
   "source": [
    "По техничекому заданию извстно, что тест запущен 2020-12-07, дата остановки набора новых пользователей: 2020-12-21, дата остановки теста: 2021-01-04. Цель теста - 15% новых пользователей из Евросоюза. Назначение теста: тестирование изменений, связанных с внедрением улучшенной рекомендательной системы. Ожидаемое количество участников теста 6000 пользователей в обеих группах. Ожидаемый эффект: за 14 дней с момента регистрации пользователи покажут улучшение каждой метрики не менее, чем на 10%.\n",
    "\n",
    "Проведем исследовательский анализ данных:\n",
    "* Как меняется конверсия в воронке на разных этапах?\n",
    "* Количество событий на пользователя одинаково распределены в выборках?\n",
    "* В выборках встречаются одни и те же пользователи?\n",
    "* Как число событий распределено по дням?\n",
    "* Какие особенности данных нужно учесть, прежде чем приступать к A/B-тестированию?"
   ]
  },
  {
   "cell_type": "markdown",
   "metadata": {},
   "source": [
    "### Проверим данные по условию технического задания"
   ]
  },
  {
   "cell_type": "markdown",
   "metadata": {},
   "source": [
    "<div class=\"alert alert-block alert-info\">\n",
    "    \n",
    "\n",
    "__Комментарий джуниора__\n",
    "\n",
    "Новый раздел ниже\n",
    "</div>"
   ]
  },
  {
   "cell_type": "code",
   "execution_count": 47,
   "metadata": {},
   "outputs": [
    {
     "data": {
      "text/html": [
       "<div>\n",
       "<style scoped>\n",
       "    .dataframe tbody tr th:only-of-type {\n",
       "        vertical-align: middle;\n",
       "    }\n",
       "\n",
       "    .dataframe tbody tr th {\n",
       "        vertical-align: top;\n",
       "    }\n",
       "\n",
       "    .dataframe thead th {\n",
       "        text-align: right;\n",
       "    }\n",
       "</style>\n",
       "<table border=\"1\" class=\"dataframe\">\n",
       "  <thead>\n",
       "    <tr style=\"text-align: right;\">\n",
       "      <th></th>\n",
       "      <th>user_id</th>\n",
       "      <th>event_dt</th>\n",
       "      <th>event_name</th>\n",
       "      <th>details</th>\n",
       "      <th>event_date</th>\n",
       "    </tr>\n",
       "  </thead>\n",
       "  <tbody>\n",
       "    <tr>\n",
       "      <td>0</td>\n",
       "      <td>E1BDDCE0DAFA2679</td>\n",
       "      <td>2020-12-07 20:22:03</td>\n",
       "      <td>purchase</td>\n",
       "      <td>99.99</td>\n",
       "      <td>2020-12-07</td>\n",
       "    </tr>\n",
       "  </tbody>\n",
       "</table>\n",
       "</div>"
      ],
      "text/plain": [
       "            user_id            event_dt event_name  details event_date\n",
       "0  E1BDDCE0DAFA2679 2020-12-07 20:22:03   purchase    99.99 2020-12-07"
      ]
     },
     "metadata": {},
     "output_type": "display_data"
    },
    {
     "name": "stdout",
     "output_type": "stream",
     "text": [
      "Период, за которые у нас есть данные в таблице с логами\n",
      "2020-12-07 00:00:00 - 2020-12-30 00:00:00\n",
      "Период, за которые у нас есть данные в таблице с данными о новых пользователях\n",
      "2020-12-07 00:00:00 - 2020-12-23 00:00:00\n"
     ]
    }
   ],
   "source": [
    "#проверим за какоей период у нас есть данные\n",
    "#сохраним дату\n",
    "final_events['event_date'] = pd.DatetimeIndex(pd.to_datetime(final_events['event_dt'], format = '%Y.%m.%d')).date\n",
    "final_events['event_date'] = pd.to_datetime(final_events['event_date'])\n",
    "display(final_events.head(1))\n",
    "\n",
    "#посмотрим, за какой период у нас есть данные\n",
    "print('Период, за которые у нас есть данные в таблице с логами')\n",
    "print(final_events['event_date'].min(), '-', final_events['event_date'].max())\n",
    "\n",
    "print('Период, за которые у нас есть данные в таблице с данными о новых пользователях')\n",
    "print(new_users['first_date'].min(), '-', new_users['first_date'].max())"
   ]
  },
  {
   "cell_type": "markdown",
   "metadata": {},
   "source": [
    "Данные в логах есть только до 30 декабря 2020 года, при этом тест был остановлен только 4 января 2021 года. Фактически не хватает данных для теста за 5 дней. Набор пользователей фактически был остановлен 23 декабря 2020 года вместо 21 декабря, как это предусмотрено ТЗ"
   ]
  },
  {
   "cell_type": "code",
   "execution_count": 48,
   "metadata": {},
   "outputs": [
    {
     "data": {
      "text/html": [
       "<div>\n",
       "<style scoped>\n",
       "    .dataframe tbody tr th:only-of-type {\n",
       "        vertical-align: middle;\n",
       "    }\n",
       "\n",
       "    .dataframe tbody tr th {\n",
       "        vertical-align: top;\n",
       "    }\n",
       "\n",
       "    .dataframe thead th {\n",
       "        text-align: right;\n",
       "    }\n",
       "</style>\n",
       "<table border=\"1\" class=\"dataframe\">\n",
       "  <thead>\n",
       "    <tr style=\"text-align: right;\">\n",
       "      <th></th>\n",
       "      <th>region</th>\n",
       "      <th>users_count</th>\n",
       "      <th>users%</th>\n",
       "    </tr>\n",
       "  </thead>\n",
       "  <tbody>\n",
       "    <tr>\n",
       "      <td>0</td>\n",
       "      <td>APAC</td>\n",
       "      <td>3153</td>\n",
       "      <td>5.1</td>\n",
       "    </tr>\n",
       "    <tr>\n",
       "      <td>1</td>\n",
       "      <td>CIS</td>\n",
       "      <td>3155</td>\n",
       "      <td>5.1</td>\n",
       "    </tr>\n",
       "    <tr>\n",
       "      <td>2</td>\n",
       "      <td>EU</td>\n",
       "      <td>46270</td>\n",
       "      <td>75.0</td>\n",
       "    </tr>\n",
       "    <tr>\n",
       "      <td>3</td>\n",
       "      <td>N.America</td>\n",
       "      <td>9155</td>\n",
       "      <td>14.8</td>\n",
       "    </tr>\n",
       "  </tbody>\n",
       "</table>\n",
       "</div>"
      ],
      "text/plain": [
       "      region  users_count  users%\n",
       "0       APAC         3153     5.1\n",
       "1        CIS         3155     5.1\n",
       "2         EU        46270    75.0\n",
       "3  N.America         9155    14.8"
      ]
     },
     "metadata": {},
     "output_type": "display_data"
    }
   ],
   "source": [
    "#узнаем количество новых пользователей из Евросоюза\n",
    "user_region = (new_users.groupby('region')['user_id'].nunique().reset_index()\n",
    "               .rename({'user_id':'users_count'}, axis = 1)\n",
    "              )\n",
    "#посчитаем долю пользователей по регионам\n",
    "user_region['users%'] = (user_region['users_count'] / user_region['users_count'].sum() *100).round(1)\n",
    "\n",
    "display(user_region)"
   ]
  },
  {
   "cell_type": "markdown",
   "metadata": {},
   "source": [
    "Требование ТЗ в 15% новых пользователей из Евросоюза выполнено, из этого региона у наc 75%"
   ]
  },
  {
   "cell_type": "markdown",
   "metadata": {},
   "source": [
    "<div class=\"alert alert-warning\" style=\"border-radius: 15px; box-shadow: 4px 4px 4px; border: 1px solid \" > <b>Комментарии от ревьюера v2: </b> \n",
    "\n",
    "Не совсем. В этом пункте имеется в виду, что доля новых пользователей в тесте recommender_system_test из EU оставляет 15%\n",
    "</div>"
   ]
  },
  {
   "cell_type": "code",
   "execution_count": 49,
   "metadata": {},
   "outputs": [
    {
     "name": "stdout",
     "output_type": "stream",
     "text": [
      "Названия тестов ['recommender_system_test' 'interface_eu_test']\n"
     ]
    }
   ],
   "source": [
    "##узнаем необходимое количество пользователей в тесте recommender_system_test\n",
    "#узнаем, данные о каких тестах у нас есть\n",
    "print('Названия тестов', final_participants['ab_test'].unique())"
   ]
  },
  {
   "cell_type": "markdown",
   "metadata": {},
   "source": [
    "У нас есть данные о двух проведенных тестах, recommender_system_test - тот, который интересует нас в рамках ТЗ и interface_eu_test - видимо тест, который качается изменения интфейса для пользователей Евросоюза"
   ]
  },
  {
   "cell_type": "code",
   "execution_count": 50,
   "metadata": {},
   "outputs": [
    {
     "data": {
      "text/html": [
       "<div>\n",
       "<style scoped>\n",
       "    .dataframe tbody tr th:only-of-type {\n",
       "        vertical-align: middle;\n",
       "    }\n",
       "\n",
       "    .dataframe tbody tr th {\n",
       "        vertical-align: top;\n",
       "    }\n",
       "\n",
       "    .dataframe thead th {\n",
       "        text-align: right;\n",
       "    }\n",
       "</style>\n",
       "<table border=\"1\" class=\"dataframe\">\n",
       "  <thead>\n",
       "    <tr style=\"text-align: right;\">\n",
       "      <th></th>\n",
       "      <th>group</th>\n",
       "      <th>ab_test</th>\n",
       "      <th>user_id</th>\n",
       "    </tr>\n",
       "  </thead>\n",
       "  <tbody>\n",
       "    <tr>\n",
       "      <td>0</td>\n",
       "      <td>A</td>\n",
       "      <td>interface_eu_test</td>\n",
       "      <td>5831</td>\n",
       "    </tr>\n",
       "    <tr>\n",
       "      <td>1</td>\n",
       "      <td>A</td>\n",
       "      <td>recommender_system_test</td>\n",
       "      <td>3824</td>\n",
       "    </tr>\n",
       "    <tr>\n",
       "      <td>2</td>\n",
       "      <td>B</td>\n",
       "      <td>interface_eu_test</td>\n",
       "      <td>5736</td>\n",
       "    </tr>\n",
       "    <tr>\n",
       "      <td>3</td>\n",
       "      <td>B</td>\n",
       "      <td>recommender_system_test</td>\n",
       "      <td>2877</td>\n",
       "    </tr>\n",
       "  </tbody>\n",
       "</table>\n",
       "</div>"
      ],
      "text/plain": [
       "  group                  ab_test  user_id\n",
       "0     A        interface_eu_test     5831\n",
       "1     A  recommender_system_test     3824\n",
       "2     B        interface_eu_test     5736\n",
       "3     B  recommender_system_test     2877"
      ]
     },
     "metadata": {},
     "output_type": "display_data"
    },
    {
     "data": {
      "image/png": "[encoded data removed]",
      "text/plain": [
       "<Figure size 1440x504 with 1 Axes>"
      ]
     },
     "metadata": {},
     "output_type": "display_data"
    },
    {
     "data": {
      "text/html": [
       "<div>\n",
       "<style scoped>\n",
       "    .dataframe tbody tr th:only-of-type {\n",
       "        vertical-align: middle;\n",
       "    }\n",
       "\n",
       "    .dataframe tbody tr th {\n",
       "        vertical-align: top;\n",
       "    }\n",
       "\n",
       "    .dataframe thead th {\n",
       "        text-align: right;\n",
       "    }\n",
       "</style>\n",
       "<table border=\"1\" class=\"dataframe\">\n",
       "  <thead>\n",
       "    <tr style=\"text-align: right;\">\n",
       "      <th>group</th>\n",
       "      <th>A</th>\n",
       "      <th>B</th>\n",
       "      <th>test_users_count</th>\n",
       "      <th>difference_%</th>\n",
       "    </tr>\n",
       "    <tr>\n",
       "      <th>ab_test</th>\n",
       "      <th></th>\n",
       "      <th></th>\n",
       "      <th></th>\n",
       "      <th></th>\n",
       "    </tr>\n",
       "  </thead>\n",
       "  <tbody>\n",
       "    <tr>\n",
       "      <td>interface_eu_test</td>\n",
       "      <td>5831</td>\n",
       "      <td>5736</td>\n",
       "      <td>11567</td>\n",
       "      <td>1.63</td>\n",
       "    </tr>\n",
       "    <tr>\n",
       "      <td>recommender_system_test</td>\n",
       "      <td>3824</td>\n",
       "      <td>2877</td>\n",
       "      <td>6701</td>\n",
       "      <td>24.76</td>\n",
       "    </tr>\n",
       "  </tbody>\n",
       "</table>\n",
       "</div>"
      ],
      "text/plain": [
       "group                       A     B  test_users_count  difference_%\n",
       "ab_test                                                            \n",
       "interface_eu_test        5831  5736             11567          1.63\n",
       "recommender_system_test  3824  2877              6701         24.76"
      ]
     },
     "metadata": {},
     "output_type": "display_data"
    }
   ],
   "source": [
    "#узнаем количество пользователей в каждом тесте\n",
    "count_group = final_participants.groupby(['group', 'ab_test']).agg({'user_id': 'nunique'}).reset_index()\n",
    "\n",
    "display(count_group)\n",
    "\n",
    "#построим график количетва пользователей в группах\n",
    "plt.figure(figsize = (20, 7))\n",
    "sns.barplot(data = count_group, x = 'ab_test', y = 'user_id', hue = 'group')\n",
    "plt.xlabel(\"Название теста\", fontsize = 25)\n",
    "plt.ylabel(\"Количество пользователей\", fontsize = 25)\n",
    "plt.title(\"Количество пользователей по группам, принявших участие в A/B - тесте\", fontsize = 25)\n",
    "plt.show()\n",
    "\n",
    "#посомтрим насколко отличается количество пользоватеей в каждой группе в каждом тесте\n",
    "test_pivot = count_group.pivot_table(index = 'ab_test', columns = 'group', values = 'user_id')\n",
    "test_pivot['test_users_count'] = test_pivot['A'] + test_pivot['B']\n",
    "test_pivot['difference_%'] = (100 - (test_pivot['B'] / test_pivot['A'] * 100)).round(2)\n",
    "display(test_pivot)"
   ]
  },
  {
   "cell_type": "markdown",
   "metadata": {},
   "source": [
    "Количество пользователей, принявших участие в тестах различается. Есть различия и в группах в каждом тесте, в тесте interface_eu_test разница в количестве польователей составляет 3,6%, что является незначительным показателем для проведения анализа, а в тесте recommender_system_test разница составялет почти 25%, при этом у нас набирается необходимое количество пользователей: 6701"
   ]
  },
  {
   "cell_type": "code",
   "execution_count": 51,
   "metadata": {},
   "outputs": [
    {
     "name": "stdout",
     "output_type": "stream",
     "text": [
      "Количество пользователей, принявших участие в обоих тестах 1602\n"
     ]
    }
   ],
   "source": [
    "#проверим, есть ли пользователи, принявшие участие в обоих тестах \n",
    "two_tests = final_participants.groupby('user_id').agg({'ab_test':'count'}).reset_index()\n",
    "\n",
    "#создаем список пользователей, участвовавших в двух тестах\n",
    "two_tests_users = two_tests[two_tests['ab_test'] == 2]['user_id']\n",
    "\n",
    "print('Количество пользователей, принявших участие в обоих тестах', two_tests_users.count())"
   ]
  },
  {
   "cell_type": "markdown",
   "metadata": {},
   "source": [
    "У нас есть пользователи, которые приняли участие в обоих тестах, это означает, что интересующая нас конверсия в тесте recommender_system_test могла возникнуть от второго теста, учитывая, что в нашем фокусе пользователи из Евросоюза, а тест, судя по названию проводился там же. Считаю, что необходимо очистить выборку от этих пользователей и еще раз посмотреть на данные по количеству пользователей в тестах. "
   ]
  },
  {
   "cell_type": "markdown",
   "metadata": {},
   "source": [
    "<div class=\"alert alert-warning\" style=\"border-radius: 15px; box-shadow: 4px 4px 4px; border: 1px solid \" > <b>Комментарии от ревьюера v2: </b> \n",
    "\n",
    "Всё верно по расчетам, но не совсем согласен с решением исключить данных пользователей. В реальной практике при такой ситуации  надо идти к заказчикам и объяснять ситуацию, а там уже решать, что делать с этими пользователями. \n",
    "    \n",
    "Удаление данных это самая крайняя мера, когда других вариантов нет. Также стоит учитывать, что чистого теста добиться в реальной жизни сложно и в любом случае какие то внешние факторы будут влиять на пользователей.\n",
    "    \n",
    "Наиболее корректным вариантом является проверка, в какие именно группы теста interface_eu_test попали пользователи теста recommender_system_test. Ведь если они попали только в контрольную группу - это значит, что тест interface_eu_test никак на них не повлиял\n",
    "</div>"
   ]
  },
  {
   "cell_type": "code",
   "execution_count": 52,
   "metadata": {},
   "outputs": [
    {
     "name": "stdout",
     "output_type": "stream",
     "text": [
      "<class 'pandas.core.frame.DataFrame'>\n",
      "Int64Index: 15064 entries, 0 to 18267\n",
      "Data columns (total 3 columns):\n",
      "user_id    15064 non-null object\n",
      "group      15064 non-null object\n",
      "ab_test    15064 non-null object\n",
      "dtypes: object(3)\n",
      "memory usage: 470.8+ KB\n",
      "None\n"
     ]
    }
   ],
   "source": [
    "#сохраним пользователей, попавших в оба теста в список\n",
    "two_tests_users = list(two_tests_users)\n",
    "\n",
    "#почистим таблицу с данными о тестировании\n",
    "final_participants_clean = final_participants.query('user_id != @two_tests_users')\n",
    "\n",
    "print(final_participants_clean.info())"
   ]
  },
  {
   "cell_type": "code",
   "execution_count": 53,
   "metadata": {},
   "outputs": [
    {
     "data": {
      "text/html": [
       "<div>\n",
       "<style scoped>\n",
       "    .dataframe tbody tr th:only-of-type {\n",
       "        vertical-align: middle;\n",
       "    }\n",
       "\n",
       "    .dataframe tbody tr th {\n",
       "        vertical-align: top;\n",
       "    }\n",
       "\n",
       "    .dataframe thead th {\n",
       "        text-align: right;\n",
       "    }\n",
       "</style>\n",
       "<table border=\"1\" class=\"dataframe\">\n",
       "  <thead>\n",
       "    <tr style=\"text-align: right;\">\n",
       "      <th></th>\n",
       "      <th>group</th>\n",
       "      <th>ab_test</th>\n",
       "      <th>user_id</th>\n",
       "    </tr>\n",
       "  </thead>\n",
       "  <tbody>\n",
       "    <tr>\n",
       "      <td>0</td>\n",
       "      <td>A</td>\n",
       "      <td>interface_eu_test</td>\n",
       "      <td>5012</td>\n",
       "    </tr>\n",
       "    <tr>\n",
       "      <td>1</td>\n",
       "      <td>A</td>\n",
       "      <td>recommender_system_test</td>\n",
       "      <td>2903</td>\n",
       "    </tr>\n",
       "    <tr>\n",
       "      <td>2</td>\n",
       "      <td>B</td>\n",
       "      <td>interface_eu_test</td>\n",
       "      <td>4953</td>\n",
       "    </tr>\n",
       "    <tr>\n",
       "      <td>3</td>\n",
       "      <td>B</td>\n",
       "      <td>recommender_system_test</td>\n",
       "      <td>2196</td>\n",
       "    </tr>\n",
       "  </tbody>\n",
       "</table>\n",
       "</div>"
      ],
      "text/plain": [
       "  group                  ab_test  user_id\n",
       "0     A        interface_eu_test     5012\n",
       "1     A  recommender_system_test     2903\n",
       "2     B        interface_eu_test     4953\n",
       "3     B  recommender_system_test     2196"
      ]
     },
     "metadata": {},
     "output_type": "display_data"
    },
    {
     "data": {
      "image/png": "[encoded data removed]",
      "text/plain": [
       "<Figure size 1440x504 with 1 Axes>"
      ]
     },
     "metadata": {},
     "output_type": "display_data"
    },
    {
     "data": {
      "text/html": [
       "<div>\n",
       "<style scoped>\n",
       "    .dataframe tbody tr th:only-of-type {\n",
       "        vertical-align: middle;\n",
       "    }\n",
       "\n",
       "    .dataframe tbody tr th {\n",
       "        vertical-align: top;\n",
       "    }\n",
       "\n",
       "    .dataframe thead th {\n",
       "        text-align: right;\n",
       "    }\n",
       "</style>\n",
       "<table border=\"1\" class=\"dataframe\">\n",
       "  <thead>\n",
       "    <tr style=\"text-align: right;\">\n",
       "      <th>group</th>\n",
       "      <th>A</th>\n",
       "      <th>B</th>\n",
       "      <th>test_users_count</th>\n",
       "      <th>difference_%</th>\n",
       "    </tr>\n",
       "    <tr>\n",
       "      <th>ab_test</th>\n",
       "      <th></th>\n",
       "      <th></th>\n",
       "      <th></th>\n",
       "      <th></th>\n",
       "    </tr>\n",
       "  </thead>\n",
       "  <tbody>\n",
       "    <tr>\n",
       "      <td>interface_eu_test</td>\n",
       "      <td>5012</td>\n",
       "      <td>4953</td>\n",
       "      <td>9965</td>\n",
       "      <td>1.18</td>\n",
       "    </tr>\n",
       "    <tr>\n",
       "      <td>recommender_system_test</td>\n",
       "      <td>2903</td>\n",
       "      <td>2196</td>\n",
       "      <td>5099</td>\n",
       "      <td>24.35</td>\n",
       "    </tr>\n",
       "  </tbody>\n",
       "</table>\n",
       "</div>"
      ],
      "text/plain": [
       "group                       A     B  test_users_count  difference_%\n",
       "ab_test                                                            \n",
       "interface_eu_test        5012  4953              9965          1.18\n",
       "recommender_system_test  2903  2196              5099         24.35"
      ]
     },
     "metadata": {},
     "output_type": "display_data"
    }
   ],
   "source": [
    "#проверим еще раз данные по пользователям\n",
    "#узнаем количество пользователей в каждом тесте\n",
    "count_group = final_participants_clean.groupby(['group', 'ab_test']).agg({'user_id': 'nunique'}).reset_index()\n",
    "\n",
    "display(count_group)\n",
    "\n",
    "#построим график количетва пользователей в группах\n",
    "plt.figure(figsize = (20, 7))\n",
    "sns.barplot(data = count_group, x = 'ab_test', y = 'user_id', hue = 'group')\n",
    "plt.xlabel(\"Название теста\", fontsize = 25)\n",
    "plt.ylabel(\"Количество пользователей\", fontsize = 25)\n",
    "plt.title(\"Количество пользователей по группам, принявших участие в A/B - тесте\", fontsize = 25)\n",
    "plt.show()\n",
    "\n",
    "#посомтрим насколко отличается количество пользоватеей в каждой группе в каждом тесте\n",
    "test_pivot = count_group.pivot_table(index = 'ab_test', columns = 'group', values = 'user_id')\n",
    "test_pivot['test_users_count'] = test_pivot['A'] + test_pivot['B']\n",
    "test_pivot['difference_%'] = (100 - (test_pivot['B'] / test_pivot['A'] * 100)).round(2)\n",
    "display(test_pivot)"
   ]
  },
  {
   "cell_type": "markdown",
   "metadata": {},
   "source": [
    "После очистки данных у нас количество пользователей в интересующем тесте 5099, что почти на 1000 меньше, чем сказано в ТЗ"
   ]
  },
  {
   "cell_type": "code",
   "execution_count": 54,
   "metadata": {},
   "outputs": [
    {
     "data": {
      "text/html": [
       "<div>\n",
       "<style scoped>\n",
       "    .dataframe tbody tr th:only-of-type {\n",
       "        vertical-align: middle;\n",
       "    }\n",
       "\n",
       "    .dataframe tbody tr th {\n",
       "        vertical-align: top;\n",
       "    }\n",
       "\n",
       "    .dataframe thead th {\n",
       "        text-align: right;\n",
       "    }\n",
       "</style>\n",
       "<table border=\"1\" class=\"dataframe\">\n",
       "  <thead>\n",
       "    <tr style=\"text-align: right;\">\n",
       "      <th></th>\n",
       "      <th>name</th>\n",
       "      <th>regions</th>\n",
       "      <th>start_dt</th>\n",
       "      <th>finish_dt</th>\n",
       "      <th>timedelta</th>\n",
       "    </tr>\n",
       "  </thead>\n",
       "  <tbody>\n",
       "    <tr>\n",
       "      <td>0</td>\n",
       "      <td>Christmas&amp;New Year Promo</td>\n",
       "      <td>EU, N.America</td>\n",
       "      <td>2020-12-25</td>\n",
       "      <td>2021-01-03</td>\n",
       "      <td>9 days</td>\n",
       "    </tr>\n",
       "  </tbody>\n",
       "</table>\n",
       "</div>"
      ],
      "text/plain": [
       "                       name        regions   start_dt  finish_dt timedelta\n",
       "0  Christmas&New Year Promo  EU, N.America 2020-12-25 2021-01-03    9 days"
      ]
     },
     "metadata": {},
     "output_type": "display_data"
    }
   ],
   "source": [
    "#посомотрим какие маркетинговые события происходили в период проведения теста\n",
    "#сделаем срез податам проведения теста\n",
    "marketing_events_period = marketing_events.query('start_dt >= \"2020-12-21\" and finish_dt <= \"2021-01-04\"')\n",
    "marketing_events_period['timedelta'] = marketing_events_period['finish_dt'] - marketing_events_period['start_dt']\n",
    "display(marketing_events_period)"
   ]
  },
  {
   "cell_type": "code",
   "execution_count": 68,
   "metadata": {},
   "outputs": [
    {
     "data": {
      "image/png": "[encoded data removed]",
      "text/plain": [
       "<Figure size 1440x504 with 1 Axes>"
      ]
     },
     "metadata": {},
     "output_type": "display_data"
    }
   ],
   "source": [
    "#проверим распредление дат регистраций пользователей\n",
    "new_users_count = new_users.groupby('first_date')['user_id'].count().reset_index()\n",
    "\n",
    "plt.figure(figsize = (20, 7))\n",
    "sns.lineplot(data = new_users_count, x = 'first_date', y = 'user_id')\n",
    "plt.xlabel(\"Дата\", fontsize = 25)\n",
    "plt.ylabel(\"Количество пользователей\", fontsize = 25)\n",
    "plt.title(\"Количество зарегистрировавшихся пользователнй по дням\", fontsize = 25)\n",
    "plt.show()\n"
   ]
  },
  {
   "cell_type": "markdown",
   "metadata": {},
   "source": [
    "В период проведения теста проводилась рождественская промо-акция,  которая длилась 9 дней в период с 25 декабря 2020 год по 3 января 2021 года. "
   ]
  },
  {
   "cell_type": "markdown",
   "metadata": {},
   "source": [
    "#### Вывод"
   ]
  },
  {
   "cell_type": "markdown",
   "metadata": {},
   "source": [
    "При проверки данных на соответствие требованиям ТЗ удалось обнаружить следующее:\n",
    "\n",
    "* Данные в логах есть только до 30 декабря 2020 года, при этом тест был остановлен только 4 января 2021 года. Фактически не хватает данных для теста за 5 дней. Набор пользователей фактически был остановлен 23 декабря 2020 года вместо 21 декабря, как это предусмотрено ТЗ\n",
    "* Требование ТЗ в 15% новых пользователей из Евросоюза выполнено, из этого региона у наc 75%\n",
    "* У нас есть данные о двух проведенных тестах, recommender_system_test - тот, который интересует нас в рамках ТЗ и interface_eu_test - видимо тест, который качается изменения интфейса для пользователей Евросоюза. Есть различия и в группах в каждом тесте, в тесте interface_eu_test разница в количестве польователей составляет 3,6%, что является незначительным показателем для проведения анализа, а в тесте recommender_system_test разница составялет почти 25%, при этом у нас набирается необходимое количество пользователей: 6701 \n",
    "* Есть пользователи, которые приняли участие в обоих тестах, это означает, что интересующая нас конверсия в тесте recommender_system_test могла возникнуть от второго теста, учитывая, что в нашем фокусе пользователи из Евросоюза, а тест, судя по названию проводился там же. Провели очистки данных от таких пользователей, после которой количество пользователей в интересующем тесте 5099, что почти на 1000 меньше, чем сказано в ТЗ\n",
    "* В период проведения теста проводилась рождественская промо-акция, которая длилась 9 дней в период с 25 декабря 2020 год по 3 января 2021 года, которая могла повлиять на окупательскую активность пользователей, в т.ч. из Евросоюза.\n",
    "\n",
    "**Резюме**\n",
    "\n",
    "У нас фактически есть данные для теста с 23 по 30 декабря 2020 года, т.е. 7 дней, а не 14, общее количество пользователей 5099, что меньше, чем тредуется ТЗ. Высокая разница между группамми А и B в тесте. В период теста проводилась маркетинговая акция, которая могла повлиять на покупательскую активность в обеих группах. Необходимо либо уточнить ТЗ, либо переделать тест. Проведем дополнительный анализ данных."
   ]
  },
  {
   "cell_type": "markdown",
   "metadata": {},
   "source": [
    "<div class=\"alert alert-warning\" style=\"border-radius: 15px; box-shadow: 4px 4px 4px; border: 1px solid \" > <b>Комментарии от ревьюера: </b> \n",
    "\n",
    "Здесь я тебе советую сначала проверить данные по условию ТЗ. Корректно ли был произведен сбор данных (т.к. не ты этим занимался), а потом уже исследовать эти данные по обозначенным пунктам\n",
    "   \n",
    "</div>"
   ]
  },
  {
   "cell_type": "markdown",
   "metadata": {},
   "source": [
    "<div class=\"alert alert-block alert-info\">\n",
    "    \n",
    "\n",
    "__Комментарий джуниора__\n",
    "\n",
    "Добавил эту часть выше\n",
    "</div>"
   ]
  },
  {
   "cell_type": "markdown",
   "metadata": {},
   "source": [
    "<div class=\"alert alert-success\" style=\"border-radius: 15px; box-shadow: 4px 4px 4px; border: 1px solid \" > <b>Комментарии от ревьюера v2: </b> \n",
    "\n",
    "Грамотно проведенный этап. Хорошее дополнгение. Молодец!\n",
    "</div>"
   ]
  },
  {
   "cell_type": "markdown",
   "metadata": {},
   "source": [
    "### Изменение конверсии в воронке на разных этапах"
   ]
  },
  {
   "cell_type": "markdown",
   "metadata": {},
   "source": [
    "<div class=\"alert alert-danger\" style=\"border-radius: 15px; box-shadow: 4px 4px 4px; border: 1px solid \" > <b>Комментарии от ревьюера: </b> \n",
    "\n",
    "<s>Ты проводишь сейчас анализ по всем данным, когда нас интересует только определенная группа пользователей, участвующих в тесте recommender_system_test. Поэтому надо будет дальнейший анализ подкорректировать\n",
    "   \n",
    "</div>"
   ]
  },
  {
   "cell_type": "markdown",
   "metadata": {},
   "source": [
    "<div class=\"alert alert-block alert-info\">\n",
    "    \n",
    "\n",
    "__Комментарий джуниора__\n",
    "\n",
    "Сделал необходимый срез\n",
    "</div>"
   ]
  },
  {
   "cell_type": "code",
   "execution_count": 74,
   "metadata": {},
   "outputs": [
    {
     "data": {
      "text/html": [
       "<div>\n",
       "<style scoped>\n",
       "    .dataframe tbody tr th:only-of-type {\n",
       "        vertical-align: middle;\n",
       "    }\n",
       "\n",
       "    .dataframe tbody tr th {\n",
       "        vertical-align: top;\n",
       "    }\n",
       "\n",
       "    .dataframe thead th {\n",
       "        text-align: right;\n",
       "    }\n",
       "</style>\n",
       "<table border=\"1\" class=\"dataframe\">\n",
       "  <thead>\n",
       "    <tr style=\"text-align: right;\">\n",
       "      <th></th>\n",
       "      <th>user_id</th>\n",
       "      <th>ab_test</th>\n",
       "      <th>group</th>\n",
       "    </tr>\n",
       "  </thead>\n",
       "  <tbody>\n",
       "    <tr>\n",
       "      <td>0</td>\n",
       "      <td>000ABE35EE11412F</td>\n",
       "      <td>recommender_system_test</td>\n",
       "      <td>1</td>\n",
       "    </tr>\n",
       "    <tr>\n",
       "      <td>3396</td>\n",
       "      <td>AA116D67C4F48D50</td>\n",
       "      <td>recommender_system_test</td>\n",
       "      <td>1</td>\n",
       "    </tr>\n",
       "    <tr>\n",
       "      <td>3403</td>\n",
       "      <td>AA55A2BDAE39BECC</td>\n",
       "      <td>recommender_system_test</td>\n",
       "      <td>1</td>\n",
       "    </tr>\n",
       "    <tr>\n",
       "      <td>3402</td>\n",
       "      <td>AA559B5A4F3F5E61</td>\n",
       "      <td>recommender_system_test</td>\n",
       "      <td>1</td>\n",
       "    </tr>\n",
       "    <tr>\n",
       "      <td>3401</td>\n",
       "      <td>AA493C70B4CA47F6</td>\n",
       "      <td>recommender_system_test</td>\n",
       "      <td>1</td>\n",
       "    </tr>\n",
       "  </tbody>\n",
       "</table>\n",
       "</div>"
      ],
      "text/plain": [
       "               user_id                  ab_test  group\n",
       "0     000ABE35EE11412F  recommender_system_test      1\n",
       "3396  AA116D67C4F48D50  recommender_system_test      1\n",
       "3403  AA55A2BDAE39BECC  recommender_system_test      1\n",
       "3402  AA559B5A4F3F5E61  recommender_system_test      1\n",
       "3401  AA493C70B4CA47F6  recommender_system_test      1"
      ]
     },
     "metadata": {},
     "output_type": "display_data"
    },
    {
     "data": {
      "text/html": [
       "<div>\n",
       "<style scoped>\n",
       "    .dataframe tbody tr th:only-of-type {\n",
       "        vertical-align: middle;\n",
       "    }\n",
       "\n",
       "    .dataframe tbody tr th {\n",
       "        vertical-align: top;\n",
       "    }\n",
       "\n",
       "    .dataframe thead th {\n",
       "        text-align: right;\n",
       "    }\n",
       "</style>\n",
       "<table border=\"1\" class=\"dataframe\">\n",
       "  <thead>\n",
       "    <tr style=\"text-align: right;\">\n",
       "      <th></th>\n",
       "      <th>user_id</th>\n",
       "      <th>ab_test</th>\n",
       "      <th>group</th>\n",
       "    </tr>\n",
       "  </thead>\n",
       "  <tbody>\n",
       "  </tbody>\n",
       "</table>\n",
       "</div>"
      ],
      "text/plain": [
       "Empty DataFrame\n",
       "Columns: [user_id, ab_test, group]\n",
       "Index: []"
      ]
     },
     "metadata": {},
     "output_type": "display_data"
    },
    {
     "name": "stdout",
     "output_type": "stream",
     "text": [
      "Количество пользователей, попавших в обе группы в обоих тестах 0\n",
      "Доля дубликатов 0.0%\n"
     ]
    },
    {
     "data": {
      "text/html": [
       "<div>\n",
       "<style scoped>\n",
       "    .dataframe tbody tr th:only-of-type {\n",
       "        vertical-align: middle;\n",
       "    }\n",
       "\n",
       "    .dataframe tbody tr th {\n",
       "        vertical-align: top;\n",
       "    }\n",
       "\n",
       "    .dataframe thead th {\n",
       "        text-align: right;\n",
       "    }\n",
       "</style>\n",
       "<table border=\"1\" class=\"dataframe\">\n",
       "  <thead>\n",
       "    <tr style=\"text-align: right;\">\n",
       "      <th></th>\n",
       "      <th>user_id</th>\n",
       "      <th>event_dt</th>\n",
       "      <th>event_name</th>\n",
       "      <th>details</th>\n",
       "      <th>event_date</th>\n",
       "      <th>group</th>\n",
       "      <th>ab_test</th>\n",
       "    </tr>\n",
       "  </thead>\n",
       "  <tbody>\n",
       "    <tr>\n",
       "      <td>0</td>\n",
       "      <td>831887FE7F2D6CBA</td>\n",
       "      <td>2020-12-07 06:50:29</td>\n",
       "      <td>purchase</td>\n",
       "      <td>4.99</td>\n",
       "      <td>2020-12-07</td>\n",
       "      <td>A</td>\n",
       "      <td>recommender_system_test</td>\n",
       "    </tr>\n",
       "    <tr>\n",
       "      <td>1</td>\n",
       "      <td>831887FE7F2D6CBA</td>\n",
       "      <td>2020-12-09 02:19:17</td>\n",
       "      <td>purchase</td>\n",
       "      <td>99.99</td>\n",
       "      <td>2020-12-09</td>\n",
       "      <td>A</td>\n",
       "      <td>recommender_system_test</td>\n",
       "    </tr>\n",
       "    <tr>\n",
       "      <td>2</td>\n",
       "      <td>831887FE7F2D6CBA</td>\n",
       "      <td>2020-12-07 06:50:30</td>\n",
       "      <td>product_cart</td>\n",
       "      <td>0.00</td>\n",
       "      <td>2020-12-07</td>\n",
       "      <td>A</td>\n",
       "      <td>recommender_system_test</td>\n",
       "    </tr>\n",
       "    <tr>\n",
       "      <td>3</td>\n",
       "      <td>831887FE7F2D6CBA</td>\n",
       "      <td>2020-12-08 10:52:27</td>\n",
       "      <td>product_cart</td>\n",
       "      <td>0.00</td>\n",
       "      <td>2020-12-08</td>\n",
       "      <td>A</td>\n",
       "      <td>recommender_system_test</td>\n",
       "    </tr>\n",
       "    <tr>\n",
       "      <td>4</td>\n",
       "      <td>831887FE7F2D6CBA</td>\n",
       "      <td>2020-12-09 02:19:17</td>\n",
       "      <td>product_cart</td>\n",
       "      <td>0.00</td>\n",
       "      <td>2020-12-09</td>\n",
       "      <td>A</td>\n",
       "      <td>recommender_system_test</td>\n",
       "    </tr>\n",
       "  </tbody>\n",
       "</table>\n",
       "</div>"
      ],
      "text/plain": [
       "            user_id            event_dt    event_name  details event_date  \\\n",
       "0  831887FE7F2D6CBA 2020-12-07 06:50:29      purchase     4.99 2020-12-07   \n",
       "1  831887FE7F2D6CBA 2020-12-09 02:19:17      purchase    99.99 2020-12-09   \n",
       "2  831887FE7F2D6CBA 2020-12-07 06:50:30  product_cart     0.00 2020-12-07   \n",
       "3  831887FE7F2D6CBA 2020-12-08 10:52:27  product_cart     0.00 2020-12-08   \n",
       "4  831887FE7F2D6CBA 2020-12-09 02:19:17  product_cart     0.00 2020-12-09   \n",
       "\n",
       "  group                  ab_test  \n",
       "0     A  recommender_system_test  \n",
       "1     A  recommender_system_test  \n",
       "2     A  recommender_system_test  \n",
       "3     A  recommender_system_test  \n",
       "4     A  recommender_system_test  "
      ]
     },
     "metadata": {},
     "output_type": "display_data"
    },
    {
     "name": "stdout",
     "output_type": "stream",
     "text": [
      "<class 'pandas.core.frame.DataFrame'>\n",
      "Int64Index: 17526 entries, 0 to 17525\n",
      "Data columns (total 7 columns):\n",
      "user_id       17526 non-null object\n",
      "event_dt      17526 non-null datetime64[ns]\n",
      "event_name    17526 non-null object\n",
      "details       17526 non-null float64\n",
      "event_date    17526 non-null datetime64[ns]\n",
      "group         17526 non-null object\n",
      "ab_test       17526 non-null object\n",
      "dtypes: datetime64[ns](2), float64(1), object(4)\n",
      "memory usage: 1.1+ MB\n",
      "None\n"
     ]
    }
   ],
   "source": [
    "#сделаем срез в данных по параметрам ТЗ\n",
    "#пользователи из Евросоюза\n",
    "eu_users = list(new_users[new_users['region'] == 'EU']['user_id'])\n",
    "#данные о тесте\n",
    "recommender_test = final_participants_clean[final_participants_clean['ab_test'] == 'recommender_system_test']\n",
    "\n",
    "#проверим, нет ли одних и тех же пользователей в разных группах\n",
    "recommender_test_check = recommender_test.groupby(['user_id', 'ab_test']).agg({'group': 'nunique'}).reset_index()\n",
    "display(recommender_test_check.sort_values(by = 'group', ascending = False).head())\n",
    "\n",
    "recommender_test_double = recommender_test_check[recommender_test_check['group'] == 2]\n",
    "display(recommender_test_double.head())\n",
    "print(\"Количество пользователей, попавших в обе группы в обоих тестах\", recommender_test_double['user_id'].count())\n",
    "print('Доля дубликатов {:.1%}'.format(recommender_test_double['user_id'].count() / recommender_test['user_id'].value_counts().sum()))\n",
    "\n",
    "#сделаем срез по пользователям из евросоюза\n",
    "final_events_eu = final_events.query('user_id == @eu_users')\n",
    "\n",
    "#объединим итоговые данные с данными теста. так, чтобы остались пользователи, принявшие участие в тесте\n",
    "data = final_events_eu.merge(recommender_test, on = 'user_id')\n",
    "\n",
    "display(user_data.head())\n",
    "print(user_data.info())"
   ]
  },
  {
   "cell_type": "code",
   "execution_count": 83,
   "metadata": {},
   "outputs": [
    {
     "data": {
      "text/html": [
       "<div>\n",
       "<style scoped>\n",
       "    .dataframe tbody tr th:only-of-type {\n",
       "        vertical-align: middle;\n",
       "    }\n",
       "\n",
       "    .dataframe tbody tr th {\n",
       "        vertical-align: top;\n",
       "    }\n",
       "\n",
       "    .dataframe thead th {\n",
       "        text-align: right;\n",
       "    }\n",
       "</style>\n",
       "<table border=\"1\" class=\"dataframe\">\n",
       "  <thead>\n",
       "    <tr style=\"text-align: right;\">\n",
       "      <th></th>\n",
       "      <th>user_id</th>\n",
       "      <th>event_dt</th>\n",
       "      <th>event_name</th>\n",
       "      <th>details</th>\n",
       "      <th>event_date</th>\n",
       "      <th>group</th>\n",
       "      <th>ab_test</th>\n",
       "      <th>first_date</th>\n",
       "      <th>timedelta</th>\n",
       "    </tr>\n",
       "  </thead>\n",
       "  <tbody>\n",
       "    <tr>\n",
       "      <td>0</td>\n",
       "      <td>831887FE7F2D6CBA</td>\n",
       "      <td>2020-12-07 06:50:29</td>\n",
       "      <td>purchase</td>\n",
       "      <td>4.99</td>\n",
       "      <td>2020-12-07</td>\n",
       "      <td>A</td>\n",
       "      <td>recommender_system_test</td>\n",
       "      <td>2020-12-07</td>\n",
       "      <td>0 days</td>\n",
       "    </tr>\n",
       "    <tr>\n",
       "      <td>1</td>\n",
       "      <td>831887FE7F2D6CBA</td>\n",
       "      <td>2020-12-09 02:19:17</td>\n",
       "      <td>purchase</td>\n",
       "      <td>99.99</td>\n",
       "      <td>2020-12-09</td>\n",
       "      <td>A</td>\n",
       "      <td>recommender_system_test</td>\n",
       "      <td>2020-12-07</td>\n",
       "      <td>2 days</td>\n",
       "    </tr>\n",
       "    <tr>\n",
       "      <td>2</td>\n",
       "      <td>831887FE7F2D6CBA</td>\n",
       "      <td>2020-12-07 06:50:30</td>\n",
       "      <td>product_cart</td>\n",
       "      <td>0.00</td>\n",
       "      <td>2020-12-07</td>\n",
       "      <td>A</td>\n",
       "      <td>recommender_system_test</td>\n",
       "      <td>2020-12-07</td>\n",
       "      <td>0 days</td>\n",
       "    </tr>\n",
       "    <tr>\n",
       "      <td>3</td>\n",
       "      <td>831887FE7F2D6CBA</td>\n",
       "      <td>2020-12-08 10:52:27</td>\n",
       "      <td>product_cart</td>\n",
       "      <td>0.00</td>\n",
       "      <td>2020-12-08</td>\n",
       "      <td>A</td>\n",
       "      <td>recommender_system_test</td>\n",
       "      <td>2020-12-07</td>\n",
       "      <td>1 days</td>\n",
       "    </tr>\n",
       "    <tr>\n",
       "      <td>4</td>\n",
       "      <td>831887FE7F2D6CBA</td>\n",
       "      <td>2020-12-09 02:19:17</td>\n",
       "      <td>product_cart</td>\n",
       "      <td>0.00</td>\n",
       "      <td>2020-12-09</td>\n",
       "      <td>A</td>\n",
       "      <td>recommender_system_test</td>\n",
       "      <td>2020-12-07</td>\n",
       "      <td>2 days</td>\n",
       "    </tr>\n",
       "  </tbody>\n",
       "</table>\n",
       "</div>"
      ],
      "text/plain": [
       "            user_id            event_dt    event_name  details event_date  \\\n",
       "0  831887FE7F2D6CBA 2020-12-07 06:50:29      purchase     4.99 2020-12-07   \n",
       "1  831887FE7F2D6CBA 2020-12-09 02:19:17      purchase    99.99 2020-12-09   \n",
       "2  831887FE7F2D6CBA 2020-12-07 06:50:30  product_cart     0.00 2020-12-07   \n",
       "3  831887FE7F2D6CBA 2020-12-08 10:52:27  product_cart     0.00 2020-12-08   \n",
       "4  831887FE7F2D6CBA 2020-12-09 02:19:17  product_cart     0.00 2020-12-09   \n",
       "\n",
       "  group                  ab_test first_date timedelta  \n",
       "0     A  recommender_system_test 2020-12-07    0 days  \n",
       "1     A  recommender_system_test 2020-12-07    2 days  \n",
       "2     A  recommender_system_test 2020-12-07    0 days  \n",
       "3     A  recommender_system_test 2020-12-07    1 days  \n",
       "4     A  recommender_system_test 2020-12-07    2 days  "
      ]
     },
     "metadata": {},
     "output_type": "display_data"
    }
   ],
   "source": [
    "#отфильтрумем данные по 14-дневному сроку с момента регисттрации\n",
    "#добавим к данным с логами столбец с датой регистрации\n",
    "user_data = data.merge(new_users[['user_id', 'first_date']], on = 'user_id')\n",
    "#посчитаем таймдельту для событий и первой регистрации\n",
    "user_data['timedelta'] = user_data['event_date'] - user_data['first_date']\n",
    "#сделам срез по таймдельте, уберем данные, если таймдельта больше 14 дней\n",
    "user_data = user_data.query('timedelta <= \"14 days\"')\n",
    "display(user_data.head())"
   ]
  },
  {
   "cell_type": "code",
   "execution_count": 84,
   "metadata": {},
   "outputs": [
    {
     "name": "stdout",
     "output_type": "stream",
     "text": [
      "Количество пользователей из Евросоюза, принявших участие в тесте 2594\n"
     ]
    }
   ],
   "source": [
    "#узнаем количество уникальных пользователей\n",
    "print('Количество пользователей из Евросоюза, принявших участие в тесте', user_data['user_id'].nunique())"
   ]
  },
  {
   "cell_type": "code",
   "execution_count": 85,
   "metadata": {},
   "outputs": [
    {
     "name": "stdout",
     "output_type": "stream",
     "text": [
      "Период, за который у нас есть данные 2020-12-07 00:00:00 2020-12-29 00:00:00\n"
     ]
    }
   ],
   "source": [
    "#узнаем за какой период у нас есть данные\n",
    "print('Период, за который у нас есть данные', user_data['event_date'].min(), user_data['event_date'].max())"
   ]
  },
  {
   "cell_type": "code",
   "execution_count": 86,
   "metadata": {},
   "outputs": [
    {
     "name": "stdout",
     "output_type": "stream",
     "text": [
      "Общее количество событий в логе 17087\n"
     ]
    },
    {
     "data": {
      "text/html": [
       "<div>\n",
       "<style scoped>\n",
       "    .dataframe tbody tr th:only-of-type {\n",
       "        vertical-align: middle;\n",
       "    }\n",
       "\n",
       "    .dataframe tbody tr th {\n",
       "        vertical-align: top;\n",
       "    }\n",
       "\n",
       "    .dataframe thead th {\n",
       "        text-align: right;\n",
       "    }\n",
       "</style>\n",
       "<table border=\"1\" class=\"dataframe\">\n",
       "  <thead>\n",
       "    <tr style=\"text-align: right;\">\n",
       "      <th></th>\n",
       "      <th>event_name</th>\n",
       "      <th>event_count</th>\n",
       "    </tr>\n",
       "  </thead>\n",
       "  <tbody>\n",
       "    <tr>\n",
       "      <td>0</td>\n",
       "      <td>login</td>\n",
       "      <td>7694</td>\n",
       "    </tr>\n",
       "    <tr>\n",
       "      <td>1</td>\n",
       "      <td>product_cart</td>\n",
       "      <td>2305</td>\n",
       "    </tr>\n",
       "    <tr>\n",
       "      <td>2</td>\n",
       "      <td>product_page</td>\n",
       "      <td>4794</td>\n",
       "    </tr>\n",
       "    <tr>\n",
       "      <td>3</td>\n",
       "      <td>purchase</td>\n",
       "      <td>2294</td>\n",
       "    </tr>\n",
       "  </tbody>\n",
       "</table>\n",
       "</div>"
      ],
      "text/plain": [
       "     event_name  event_count\n",
       "0         login         7694\n",
       "1  product_cart         2305\n",
       "2  product_page         4794\n",
       "3      purchase         2294"
      ]
     },
     "metadata": {},
     "output_type": "display_data"
    },
    {
     "data": {
      "image/png": "[encoded data removed]",
      "text/plain": [
       "<Figure size 1440x504 with 1 Axes>"
      ]
     },
     "metadata": {},
     "output_type": "display_data"
    }
   ],
   "source": [
    "#посчитаем общее количество событий в логе в т.ч. по типам\n",
    "print('Общее количество событий в логе', user_data['event_name'].count())\n",
    "\n",
    "group_event = user_data.groupby('event_name')['user_id'].count().reset_index().rename({'user_id':'event_count'}, axis = 1)\n",
    "display(group_event)\n",
    "\n",
    "#построим график количетва событий в логе\n",
    "plt.figure(figsize = (20, 7))\n",
    "sns.barplot(data = group_event.sort_values(by = 'event_count', ascending = False), x = 'event_name', y = 'event_count')\n",
    "plt.xlabel(\"Событие\", fontsize = 25)\n",
    "plt.ylabel(\"Количество событий\", fontsize = 25)\n",
    "plt.title(\"Количество событий в логе по типам\", fontsize = 25)\n",
    "plt.show()"
   ]
  },
  {
   "cell_type": "markdown",
   "metadata": {},
   "source": [
    "По количеству события распределелись в следующем порядке: вход - просмотр страницы продукта - покупка - корзина. Причем, здесь, видмо есть ошибка, так как добавление продукта в корзину обычно предшествует оплате"
   ]
  },
  {
   "cell_type": "code",
   "execution_count": 87,
   "metadata": {},
   "outputs": [
    {
     "data": {
      "text/html": [
       "<div>\n",
       "<style scoped>\n",
       "    .dataframe tbody tr th:only-of-type {\n",
       "        vertical-align: middle;\n",
       "    }\n",
       "\n",
       "    .dataframe tbody tr th {\n",
       "        vertical-align: top;\n",
       "    }\n",
       "\n",
       "    .dataframe thead th {\n",
       "        text-align: right;\n",
       "    }\n",
       "</style>\n",
       "<table border=\"1\" class=\"dataframe\">\n",
       "  <thead>\n",
       "    <tr style=\"text-align: right;\">\n",
       "      <th></th>\n",
       "      <th>event_name</th>\n",
       "      <th>event_count</th>\n",
       "      <th>event_mean_user</th>\n",
       "    </tr>\n",
       "  </thead>\n",
       "  <tbody>\n",
       "    <tr>\n",
       "      <td>0</td>\n",
       "      <td>login</td>\n",
       "      <td>7694</td>\n",
       "      <td>3.0</td>\n",
       "    </tr>\n",
       "    <tr>\n",
       "      <td>1</td>\n",
       "      <td>product_cart</td>\n",
       "      <td>2305</td>\n",
       "      <td>1.0</td>\n",
       "    </tr>\n",
       "    <tr>\n",
       "      <td>2</td>\n",
       "      <td>product_page</td>\n",
       "      <td>4794</td>\n",
       "      <td>2.0</td>\n",
       "    </tr>\n",
       "    <tr>\n",
       "      <td>3</td>\n",
       "      <td>purchase</td>\n",
       "      <td>2294</td>\n",
       "      <td>1.0</td>\n",
       "    </tr>\n",
       "  </tbody>\n",
       "</table>\n",
       "</div>"
      ],
      "text/plain": [
       "     event_name  event_count  event_mean_user\n",
       "0         login         7694              3.0\n",
       "1  product_cart         2305              1.0\n",
       "2  product_page         4794              2.0\n",
       "3      purchase         2294              1.0"
      ]
     },
     "metadata": {},
     "output_type": "display_data"
    }
   ],
   "source": [
    "#посмотрим сколько в среднем событий приходиться на пользовтеля\n",
    "group_event['event_mean_user'] = (group_event['event_count'] / user_data['user_id'].nunique()).round(0)\n",
    "display(group_event)"
   ]
  },
  {
   "cell_type": "markdown",
   "metadata": {},
   "source": [
    "<div class=\"alert alert-warning\" style=\"border-radius: 15px; box-shadow: 4px 4px 4px; border: 1px solid \" > <b>Комментарии от ревьюера v2: </b> \n",
    "\n",
    "А зачем округлять среднее значение? Так ты теряешь часть информации\n",
    "</div>"
   ]
  },
  {
   "cell_type": "markdown",
   "metadata": {},
   "source": [
    "В среднем на 1 пользователя приходится 3 авторизации, 2 прсмотра страницы продукта и по 1 добавлению товара в корзину и оплата его"
   ]
  },
  {
   "cell_type": "code",
   "execution_count": 88,
   "metadata": {},
   "outputs": [
    {
     "data": {
      "text/html": [
       "<div>\n",
       "<style scoped>\n",
       "    .dataframe tbody tr th:only-of-type {\n",
       "        vertical-align: middle;\n",
       "    }\n",
       "\n",
       "    .dataframe tbody tr th {\n",
       "        vertical-align: top;\n",
       "    }\n",
       "\n",
       "    .dataframe thead th {\n",
       "        text-align: right;\n",
       "    }\n",
       "</style>\n",
       "<table border=\"1\" class=\"dataframe\">\n",
       "  <thead>\n",
       "    <tr style=\"text-align: right;\">\n",
       "      <th></th>\n",
       "      <th>event_name</th>\n",
       "      <th>total_users</th>\n",
       "      <th>percent%</th>\n",
       "    </tr>\n",
       "  </thead>\n",
       "  <tbody>\n",
       "    <tr>\n",
       "      <td>0</td>\n",
       "      <td>login</td>\n",
       "      <td>2593</td>\n",
       "      <td>100.0</td>\n",
       "    </tr>\n",
       "    <tr>\n",
       "      <td>1</td>\n",
       "      <td>product_page</td>\n",
       "      <td>1632</td>\n",
       "      <td>63.0</td>\n",
       "    </tr>\n",
       "    <tr>\n",
       "      <td>2</td>\n",
       "      <td>purchase</td>\n",
       "      <td>804</td>\n",
       "      <td>31.0</td>\n",
       "    </tr>\n",
       "    <tr>\n",
       "      <td>3</td>\n",
       "      <td>product_cart</td>\n",
       "      <td>773</td>\n",
       "      <td>30.0</td>\n",
       "    </tr>\n",
       "  </tbody>\n",
       "</table>\n",
       "</div>"
      ],
      "text/plain": [
       "     event_name  total_users  percent%\n",
       "0         login         2593     100.0\n",
       "1  product_page         1632      63.0\n",
       "2      purchase          804      31.0\n",
       "3  product_cart          773      30.0"
      ]
     },
     "metadata": {},
     "output_type": "display_data"
    },
    {
     "data": {
      "application/vnd.plotly.v1+json": {
       "config": {
        "plotlyServerURL": "https://plot.ly"
       },
       "data": [
        {
         "type": "funnel",
         "x": [
          100,
          63,
          31,
          30
         ],
         "y": [
          "login",
          "product_page",
          "purchase",
          "product_cart"
         ]
        }
       ],
       "layout": {
        "template": {
         "data": {
          "bar": [
           {
            "error_x": {
             "color": "#2a3f5f"
            },
            "error_y": {
             "color": "#2a3f5f"
            },
            "marker": {
             "line": {
              "color": "#E5ECF6",
              "width": 0.5
             }
            },
            "type": "bar"
           }
          ],
          "barpolar": [
           {
            "marker": {
             "line": {
              "color": "#E5ECF6",
              "width": 0.5
             }
            },
            "type": "barpolar"
           }
          ],
          "carpet": [
           {
            "aaxis": {
             "endlinecolor": "#2a3f5f",
             "gridcolor": "white",
             "linecolor": "white",
             "minorgridcolor": "white",
             "startlinecolor": "#2a3f5f"
            },
            "baxis": {
             "endlinecolor": "#2a3f5f",
             "gridcolor": "white",
             "linecolor": "white",
             "minorgridcolor": "white",
             "startlinecolor": "#2a3f5f"
            },
            "type": "carpet"
           }
          ],
          "choropleth": [
           {
            "colorbar": {
             "outlinewidth": 0,
             "ticks": ""
            },
            "type": "choropleth"
           }
          ],
          "contour": [
           {
            "colorbar": {
             "outlinewidth": 0,
             "ticks": ""
            },
            "colorscale": [
             [
              0,
              "#0d0887"
             ],
             [
              0.1111111111,
              "#46039f"
             ],
             [
              0.2222222222,
              "#7201a8"
             ],
             [
              0.3333333333,
              "#9c179e"
             ],
             [
              0.4444444444,
              "#bd3786"
             ],
             [
              0.5555555556,
              "#d8576b"
             ],
             [
              0.6666666667,
              "#ed7953"
             ],
             [
              0.7777777778,
              "#fb9f3a"
             ],
             [
              0.8888888889,
              "#fdca26"
             ],
             [
              1,
              "#f0f921"
             ]
            ],
            "type": "contour"
           }
          ],
          "contourcarpet": [
           {
            "colorbar": {
             "outlinewidth": 0,
             "ticks": ""
            },
            "type": "contourcarpet"
           }
          ],
          "heatmap": [
           {
            "colorbar": {
             "outlinewidth": 0,
             "ticks": ""
            },
            "colorscale": [
             [
              0,
              "#0d0887"
             ],
             [
              0.1111111111,
              "#46039f"
             ],
             [
              0.2222222222,
              "#7201a8"
             ],
             [
              0.3333333333,
              "#9c179e"
             ],
             [
              0.4444444444,
              "#bd3786"
             ],
             [
              0.5555555556,
              "#d8576b"
             ],
             [
              0.6666666667,
              "#ed7953"
             ],
             [
              0.7777777778,
              "#fb9f3a"
             ],
             [
              0.8888888889,
              "#fdca26"
             ],
             [
              1,
              "#f0f921"
             ]
            ],
            "type": "heatmap"
           }
          ],
          "heatmapgl": [
           {
            "colorbar": {
             "outlinewidth": 0,
             "ticks": ""
            },
            "colorscale": [
             [
              0,
              "#0d0887"
             ],
             [
              0.1111111111,
              "#46039f"
             ],
             [
              0.2222222222,
              "#7201a8"
             ],
             [
              0.3333333333,
              "#9c179e"
             ],
             [
              0.4444444444,
              "#bd3786"
             ],
             [
              0.5555555556,
              "#d8576b"
             ],
             [
              0.6666666667,
              "#ed7953"
             ],
             [
              0.7777777778,
              "#fb9f3a"
             ],
             [
              0.8888888889,
              "#fdca26"
             ],
             [
              1,
              "#f0f921"
             ]
            ],
            "type": "heatmapgl"
           }
          ],
          "histogram": [
           {
            "marker": {
             "colorbar": {
              "outlinewidth": 0,
              "ticks": ""
             }
            },
            "type": "histogram"
           }
          ],
          "histogram2d": [
           {
            "colorbar": {
             "outlinewidth": 0,
             "ticks": ""
            },
            "colorscale": [
             [
              0,
              "#0d0887"
             ],
             [
              0.1111111111,
              "#46039f"
             ],
             [
              0.2222222222,
              "#7201a8"
             ],
             [
              0.3333333333,
              "#9c179e"
             ],
             [
              0.4444444444,
              "#bd3786"
             ],
             [
              0.5555555556,
              "#d8576b"
             ],
             [
              0.6666666667,
              "#ed7953"
             ],
             [
              0.7777777778,
              "#fb9f3a"
             ],
             [
              0.8888888889,
              "#fdca26"
             ],
             [
              1,
              "#f0f921"
             ]
            ],
            "type": "histogram2d"
           }
          ],
          "histogram2dcontour": [
           {
            "colorbar": {
             "outlinewidth": 0,
             "ticks": ""
            },
            "colorscale": [
             [
              0,
              "#0d0887"
             ],
             [
              0.1111111111,
              "#46039f"
             ],
             [
              0.2222222222,
              "#7201a8"
             ],
             [
              0.3333333333,
              "#9c179e"
             ],
             [
              0.4444444444,
              "#bd3786"
             ],
             [
              0.5555555556,
              "#d8576b"
             ],
             [
              0.6666666667,
              "#ed7953"
             ],
             [
              0.7777777778,
              "#fb9f3a"
             ],
             [
              0.8888888889,
              "#fdca26"
             ],
             [
              1,
              "#f0f921"
             ]
            ],
            "type": "histogram2dcontour"
           }
          ],
          "mesh3d": [
           {
            "colorbar": {
             "outlinewidth": 0,
             "ticks": ""
            },
            "type": "mesh3d"
           }
          ],
          "parcoords": [
           {
            "line": {
             "colorbar": {
              "outlinewidth": 0,
              "ticks": ""
             }
            },
            "type": "parcoords"
           }
          ],
          "scatter": [
           {
            "marker": {
             "colorbar": {
              "outlinewidth": 0,
              "ticks": ""
             }
            },
            "type": "scatter"
           }
          ],
          "scatter3d": [
           {
            "line": {
             "colorbar": {
              "outlinewidth": 0,
              "ticks": ""
             }
            },
            "marker": {
             "colorbar": {
              "outlinewidth": 0,
              "ticks": ""
             }
            },
            "type": "scatter3d"
           }
          ],
          "scattercarpet": [
           {
            "marker": {
             "colorbar": {
              "outlinewidth": 0,
              "ticks": ""
             }
            },
            "type": "scattercarpet"
           }
          ],
          "scattergeo": [
           {
            "marker": {
             "colorbar": {
              "outlinewidth": 0,
              "ticks": ""
             }
            },
            "type": "scattergeo"
           }
          ],
          "scattergl": [
           {
            "marker": {
             "colorbar": {
              "outlinewidth": 0,
              "ticks": ""
             }
            },
            "type": "scattergl"
           }
          ],
          "scattermapbox": [
           {
            "marker": {
             "colorbar": {
              "outlinewidth": 0,
              "ticks": ""
             }
            },
            "type": "scattermapbox"
           }
          ],
          "scatterpolar": [
           {
            "marker": {
             "colorbar": {
              "outlinewidth": 0,
              "ticks": ""
             }
            },
            "type": "scatterpolar"
           }
          ],
          "scatterpolargl": [
           {
            "marker": {
             "colorbar": {
              "outlinewidth": 0,
              "ticks": ""
             }
            },
            "type": "scatterpolargl"
           }
          ],
          "scatterternary": [
           {
            "marker": {
             "colorbar": {
              "outlinewidth": 0,
              "ticks": ""
             }
            },
            "type": "scatterternary"
           }
          ],
          "surface": [
           {
            "colorbar": {
             "outlinewidth": 0,
             "ticks": ""
            },
            "colorscale": [
             [
              0,
              "#0d0887"
             ],
             [
              0.1111111111,
              "#46039f"
             ],
             [
              0.2222222222,
              "#7201a8"
             ],
             [
              0.3333333333,
              "#9c179e"
             ],
             [
              0.4444444444,
              "#bd3786"
             ],
             [
              0.5555555556,
              "#d8576b"
             ],
             [
              0.6666666667,
              "#ed7953"
             ],
             [
              0.7777777778,
              "#fb9f3a"
             ],
             [
              0.8888888889,
              "#fdca26"
             ],
             [
              1,
              "#f0f921"
             ]
            ],
            "type": "surface"
           }
          ],
          "table": [
           {
            "cells": {
             "fill": {
              "color": "#EBF0F8"
             },
             "line": {
              "color": "white"
             }
            },
            "header": {
             "fill": {
              "color": "#C8D4E3"
             },
             "line": {
              "color": "white"
             }
            },
            "type": "table"
           }
          ]
         },
         "layout": {
          "annotationdefaults": {
           "arrowcolor": "#2a3f5f",
           "arrowhead": 0,
           "arrowwidth": 1
          },
          "colorscale": {
           "diverging": [
            [
             0,
             "#8e0152"
            ],
            [
             0.1,
             "#c51b7d"
            ],
            [
             0.2,
             "#de77ae"
            ],
            [
             0.3,
             "#f1b6da"
            ],
            [
             0.4,
             "#fde0ef"
            ],
            [
             0.5,
             "#f7f7f7"
            ],
            [
             0.6,
             "#e6f5d0"
            ],
            [
             0.7,
             "#b8e186"
            ],
            [
             0.8,
             "#7fbc41"
            ],
            [
             0.9,
             "#4d9221"
            ],
            [
             1,
             "#276419"
            ]
           ],
           "sequential": [
            [
             0,
             "#0d0887"
            ],
            [
             0.1111111111,
             "#46039f"
            ],
            [
             0.2222222222,
             "#7201a8"
            ],
            [
             0.3333333333,
             "#9c179e"
            ],
            [
             0.4444444444,
             "#bd3786"
            ],
            [
             0.5555555556,
             "#d8576b"
            ],
            [
             0.6666666667,
             "#ed7953"
            ],
            [
             0.7777777778,
             "#fb9f3a"
            ],
            [
             0.8888888889,
             "#fdca26"
            ],
            [
             1,
             "#f0f921"
            ]
           ],
           "sequentialminus": [
            [
             0,
             "#0d0887"
            ],
            [
             0.1111111111,
             "#46039f"
            ],
            [
             0.2222222222,
             "#7201a8"
            ],
            [
             0.3333333333,
             "#9c179e"
            ],
            [
             0.4444444444,
             "#bd3786"
            ],
            [
             0.5555555556,
             "#d8576b"
            ],
            [
             0.6666666667,
             "#ed7953"
            ],
            [
             0.7777777778,
             "#fb9f3a"
            ],
            [
             0.8888888889,
             "#fdca26"
            ],
            [
             1,
             "#f0f921"
            ]
           ]
          },
          "colorway": [
           "#636efa",
           "#EF553B",
           "#00cc96",
           "#ab63fa",
           "#FFA15A",
           "#19d3f3",
           "#FF6692",
           "#B6E880",
           "#FF97FF",
           "#FECB52"
          ],
          "font": {
           "color": "#2a3f5f"
          },
          "geo": {
           "bgcolor": "white",
           "lakecolor": "white",
           "landcolor": "#E5ECF6",
           "showlakes": true,
           "showland": true,
           "subunitcolor": "white"
          },
          "hoverlabel": {
           "align": "left"
          },
          "hovermode": "closest",
          "mapbox": {
           "style": "light"
          },
          "paper_bgcolor": "white",
          "plot_bgcolor": "#E5ECF6",
          "polar": {
           "angularaxis": {
            "gridcolor": "white",
            "linecolor": "white",
            "ticks": ""
           },
           "bgcolor": "#E5ECF6",
           "radialaxis": {
            "gridcolor": "white",
            "linecolor": "white",
            "ticks": ""
           }
          },
          "scene": {
           "xaxis": {
            "backgroundcolor": "#E5ECF6",
            "gridcolor": "white",
            "gridwidth": 2,
            "linecolor": "white",
            "showbackground": true,
            "ticks": "",
            "zerolinecolor": "white"
           },
           "yaxis": {
            "backgroundcolor": "#E5ECF6",
            "gridcolor": "white",
            "gridwidth": 2,
            "linecolor": "white",
            "showbackground": true,
            "ticks": "",
            "zerolinecolor": "white"
           },
           "zaxis": {
            "backgroundcolor": "#E5ECF6",
            "gridcolor": "white",
            "gridwidth": 2,
            "linecolor": "white",
            "showbackground": true,
            "ticks": "",
            "zerolinecolor": "white"
           }
          },
          "shapedefaults": {
           "line": {
            "color": "#2a3f5f"
           }
          },
          "ternary": {
           "aaxis": {
            "gridcolor": "white",
            "linecolor": "white",
            "ticks": ""
           },
           "baxis": {
            "gridcolor": "white",
            "linecolor": "white",
            "ticks": ""
           },
           "bgcolor": "#E5ECF6",
           "caxis": {
            "gridcolor": "white",
            "linecolor": "white",
            "ticks": ""
           }
          },
          "title": {
           "x": 0.05
          },
          "xaxis": {
           "automargin": true,
           "gridcolor": "white",
           "linecolor": "white",
           "ticks": "",
           "zerolinecolor": "white",
           "zerolinewidth": 2
          },
          "yaxis": {
           "automargin": true,
           "gridcolor": "white",
           "linecolor": "white",
           "ticks": "",
           "zerolinecolor": "white",
           "zerolinewidth": 2
          }
         }
        }
       }
      },
      "text/html": [
       "<div>\n",
       "        \n",
       "        \n",
       "            <div id=\"e2f96c65-be6f-41f7-a1d6-703eff5288d1\" class=\"plotly-graph-div\" style=\"height:525px; width:100%;\"></div>\n",
       "            <script type=\"text/javascript\">\n",
       "                require([\"plotly\"], function(Plotly) {\n",
       "                    window.PLOTLYENV=window.PLOTLYENV || {};\n",
       "                    \n",
       "                if (document.getElementById(\"e2f96c65-be6f-41f7-a1d6-703eff5288d1\")) {\n",
       "                    Plotly.newPlot(\n",
       "                        'e2f96c65-be6f-41f7-a1d6-703eff5288d1',\n",
       "                        [{\"type\": \"funnel\", \"x\": [100.0, 63.0, 31.0, 30.0], \"y\": [\"login\", \"product_page\", \"purchase\", \"product_cart\"]}],\n",
       "                        {\"template\": {\"data\": {\"bar\": [{\"error_x\": {\"color\": \"#2a3f5f\"}, \"error_y\": {\"color\": \"#2a3f5f\"}, \"marker\": {\"line\": {\"color\": \"#E5ECF6\", \"width\": 0.5}}, \"type\": \"bar\"}], \"barpolar\": [{\"marker\": {\"line\": {\"color\": \"#E5ECF6\", \"width\": 0.5}}, \"type\": \"barpolar\"}], \"carpet\": [{\"aaxis\": {\"endlinecolor\": \"#2a3f5f\", \"gridcolor\": \"white\", \"linecolor\": \"white\", \"minorgridcolor\": \"white\", \"startlinecolor\": \"#2a3f5f\"}, \"baxis\": {\"endlinecolor\": \"#2a3f5f\", \"gridcolor\": \"white\", \"linecolor\": \"white\", \"minorgridcolor\": \"white\", \"startlinecolor\": \"#2a3f5f\"}, \"type\": \"carpet\"}], \"choropleth\": [{\"colorbar\": {\"outlinewidth\": 0, \"ticks\": \"\"}, \"type\": \"choropleth\"}], \"contour\": [{\"colorbar\": {\"outlinewidth\": 0, \"ticks\": \"\"}, \"colorscale\": [[0.0, \"#0d0887\"], [0.1111111111111111, \"#46039f\"], [0.2222222222222222, \"#7201a8\"], [0.3333333333333333, \"#9c179e\"], [0.4444444444444444, \"#bd3786\"], [0.5555555555555556, \"#d8576b\"], [0.6666666666666666, \"#ed7953\"], [0.7777777777777778, \"#fb9f3a\"], [0.8888888888888888, \"#fdca26\"], [1.0, \"#f0f921\"]], \"type\": \"contour\"}], \"contourcarpet\": [{\"colorbar\": {\"outlinewidth\": 0, \"ticks\": \"\"}, \"type\": \"contourcarpet\"}], \"heatmap\": [{\"colorbar\": {\"outlinewidth\": 0, \"ticks\": \"\"}, \"colorscale\": [[0.0, \"#0d0887\"], [0.1111111111111111, \"#46039f\"], [0.2222222222222222, \"#7201a8\"], [0.3333333333333333, \"#9c179e\"], [0.4444444444444444, \"#bd3786\"], [0.5555555555555556, \"#d8576b\"], [0.6666666666666666, \"#ed7953\"], [0.7777777777777778, \"#fb9f3a\"], [0.8888888888888888, \"#fdca26\"], [1.0, \"#f0f921\"]], \"type\": \"heatmap\"}], \"heatmapgl\": [{\"colorbar\": {\"outlinewidth\": 0, \"ticks\": \"\"}, \"colorscale\": [[0.0, \"#0d0887\"], [0.1111111111111111, \"#46039f\"], [0.2222222222222222, \"#7201a8\"], [0.3333333333333333, \"#9c179e\"], [0.4444444444444444, \"#bd3786\"], [0.5555555555555556, \"#d8576b\"], [0.6666666666666666, \"#ed7953\"], [0.7777777777777778, \"#fb9f3a\"], [0.8888888888888888, \"#fdca26\"], [1.0, \"#f0f921\"]], \"type\": \"heatmapgl\"}], \"histogram\": [{\"marker\": {\"colorbar\": {\"outlinewidth\": 0, \"ticks\": \"\"}}, \"type\": \"histogram\"}], \"histogram2d\": [{\"colorbar\": {\"outlinewidth\": 0, \"ticks\": \"\"}, \"colorscale\": [[0.0, \"#0d0887\"], [0.1111111111111111, \"#46039f\"], [0.2222222222222222, \"#7201a8\"], [0.3333333333333333, \"#9c179e\"], [0.4444444444444444, \"#bd3786\"], [0.5555555555555556, \"#d8576b\"], [0.6666666666666666, \"#ed7953\"], [0.7777777777777778, \"#fb9f3a\"], [0.8888888888888888, \"#fdca26\"], [1.0, \"#f0f921\"]], \"type\": \"histogram2d\"}], \"histogram2dcontour\": [{\"colorbar\": {\"outlinewidth\": 0, \"ticks\": \"\"}, \"colorscale\": [[0.0, \"#0d0887\"], [0.1111111111111111, \"#46039f\"], [0.2222222222222222, \"#7201a8\"], [0.3333333333333333, \"#9c179e\"], [0.4444444444444444, \"#bd3786\"], [0.5555555555555556, \"#d8576b\"], [0.6666666666666666, \"#ed7953\"], [0.7777777777777778, \"#fb9f3a\"], [0.8888888888888888, \"#fdca26\"], [1.0, \"#f0f921\"]], \"type\": \"histogram2dcontour\"}], \"mesh3d\": [{\"colorbar\": {\"outlinewidth\": 0, \"ticks\": \"\"}, \"type\": \"mesh3d\"}], \"parcoords\": [{\"line\": {\"colorbar\": {\"outlinewidth\": 0, \"ticks\": \"\"}}, \"type\": \"parcoords\"}], \"scatter\": [{\"marker\": {\"colorbar\": {\"outlinewidth\": 0, \"ticks\": \"\"}}, \"type\": \"scatter\"}], \"scatter3d\": [{\"line\": {\"colorbar\": {\"outlinewidth\": 0, \"ticks\": \"\"}}, \"marker\": {\"colorbar\": {\"outlinewidth\": 0, \"ticks\": \"\"}}, \"type\": \"scatter3d\"}], \"scattercarpet\": [{\"marker\": {\"colorbar\": {\"outlinewidth\": 0, \"ticks\": \"\"}}, \"type\": \"scattercarpet\"}], \"scattergeo\": [{\"marker\": {\"colorbar\": {\"outlinewidth\": 0, \"ticks\": \"\"}}, \"type\": \"scattergeo\"}], \"scattergl\": [{\"marker\": {\"colorbar\": {\"outlinewidth\": 0, \"ticks\": \"\"}}, \"type\": \"scattergl\"}], \"scattermapbox\": [{\"marker\": {\"colorbar\": {\"outlinewidth\": 0, \"ticks\": \"\"}}, \"type\": \"scattermapbox\"}], \"scatterpolar\": [{\"marker\": {\"colorbar\": {\"outlinewidth\": 0, \"ticks\": \"\"}}, \"type\": \"scatterpolar\"}], \"scatterpolargl\": [{\"marker\": {\"colorbar\": {\"outlinewidth\": 0, \"ticks\": \"\"}}, \"type\": \"scatterpolargl\"}], \"scatterternary\": [{\"marker\": {\"colorbar\": {\"outlinewidth\": 0, \"ticks\": \"\"}}, \"type\": \"scatterternary\"}], \"surface\": [{\"colorbar\": {\"outlinewidth\": 0, \"ticks\": \"\"}, \"colorscale\": [[0.0, \"#0d0887\"], [0.1111111111111111, \"#46039f\"], [0.2222222222222222, \"#7201a8\"], [0.3333333333333333, \"#9c179e\"], [0.4444444444444444, \"#bd3786\"], [0.5555555555555556, \"#d8576b\"], [0.6666666666666666, \"#ed7953\"], [0.7777777777777778, \"#fb9f3a\"], [0.8888888888888888, \"#fdca26\"], [1.0, \"#f0f921\"]], \"type\": \"surface\"}], \"table\": [{\"cells\": {\"fill\": {\"color\": \"#EBF0F8\"}, \"line\": {\"color\": \"white\"}}, \"header\": {\"fill\": {\"color\": \"#C8D4E3\"}, \"line\": {\"color\": \"white\"}}, \"type\": \"table\"}]}, \"layout\": {\"annotationdefaults\": {\"arrowcolor\": \"#2a3f5f\", \"arrowhead\": 0, \"arrowwidth\": 1}, \"colorscale\": {\"diverging\": [[0, \"#8e0152\"], [0.1, \"#c51b7d\"], [0.2, \"#de77ae\"], [0.3, \"#f1b6da\"], [0.4, \"#fde0ef\"], [0.5, \"#f7f7f7\"], [0.6, \"#e6f5d0\"], [0.7, \"#b8e186\"], [0.8, \"#7fbc41\"], [0.9, \"#4d9221\"], [1, \"#276419\"]], \"sequential\": [[0.0, \"#0d0887\"], [0.1111111111111111, \"#46039f\"], [0.2222222222222222, \"#7201a8\"], [0.3333333333333333, \"#9c179e\"], [0.4444444444444444, \"#bd3786\"], [0.5555555555555556, \"#d8576b\"], [0.6666666666666666, \"#ed7953\"], [0.7777777777777778, \"#fb9f3a\"], [0.8888888888888888, \"#fdca26\"], [1.0, \"#f0f921\"]], \"sequentialminus\": [[0.0, \"#0d0887\"], [0.1111111111111111, \"#46039f\"], [0.2222222222222222, \"#7201a8\"], [0.3333333333333333, \"#9c179e\"], [0.4444444444444444, \"#bd3786\"], [0.5555555555555556, \"#d8576b\"], [0.6666666666666666, \"#ed7953\"], [0.7777777777777778, \"#fb9f3a\"], [0.8888888888888888, \"#fdca26\"], [1.0, \"#f0f921\"]]}, \"colorway\": [\"#636efa\", \"#EF553B\", \"#00cc96\", \"#ab63fa\", \"#FFA15A\", \"#19d3f3\", \"#FF6692\", \"#B6E880\", \"#FF97FF\", \"#FECB52\"], \"font\": {\"color\": \"#2a3f5f\"}, \"geo\": {\"bgcolor\": \"white\", \"lakecolor\": \"white\", \"landcolor\": \"#E5ECF6\", \"showlakes\": true, \"showland\": true, \"subunitcolor\": \"white\"}, \"hoverlabel\": {\"align\": \"left\"}, \"hovermode\": \"closest\", \"mapbox\": {\"style\": \"light\"}, \"paper_bgcolor\": \"white\", \"plot_bgcolor\": \"#E5ECF6\", \"polar\": {\"angularaxis\": {\"gridcolor\": \"white\", \"linecolor\": \"white\", \"ticks\": \"\"}, \"bgcolor\": \"#E5ECF6\", \"radialaxis\": {\"gridcolor\": \"white\", \"linecolor\": \"white\", \"ticks\": \"\"}}, \"scene\": {\"xaxis\": {\"backgroundcolor\": \"#E5ECF6\", \"gridcolor\": \"white\", \"gridwidth\": 2, \"linecolor\": \"white\", \"showbackground\": true, \"ticks\": \"\", \"zerolinecolor\": \"white\"}, \"yaxis\": {\"backgroundcolor\": \"#E5ECF6\", \"gridcolor\": \"white\", \"gridwidth\": 2, \"linecolor\": \"white\", \"showbackground\": true, \"ticks\": \"\", \"zerolinecolor\": \"white\"}, \"zaxis\": {\"backgroundcolor\": \"#E5ECF6\", \"gridcolor\": \"white\", \"gridwidth\": 2, \"linecolor\": \"white\", \"showbackground\": true, \"ticks\": \"\", \"zerolinecolor\": \"white\"}}, \"shapedefaults\": {\"line\": {\"color\": \"#2a3f5f\"}}, \"ternary\": {\"aaxis\": {\"gridcolor\": \"white\", \"linecolor\": \"white\", \"ticks\": \"\"}, \"baxis\": {\"gridcolor\": \"white\", \"linecolor\": \"white\", \"ticks\": \"\"}, \"bgcolor\": \"#E5ECF6\", \"caxis\": {\"gridcolor\": \"white\", \"linecolor\": \"white\", \"ticks\": \"\"}}, \"title\": {\"x\": 0.05}, \"xaxis\": {\"automargin\": true, \"gridcolor\": \"white\", \"linecolor\": \"white\", \"ticks\": \"\", \"zerolinecolor\": \"white\", \"zerolinewidth\": 2}, \"yaxis\": {\"automargin\": true, \"gridcolor\": \"white\", \"linecolor\": \"white\", \"ticks\": \"\", \"zerolinecolor\": \"white\", \"zerolinewidth\": 2}}}},\n",
       "                        {\"responsive\": true}\n",
       "                    ).then(function(){\n",
       "                            \n",
       "var gd = document.getElementById('e2f96c65-be6f-41f7-a1d6-703eff5288d1');\n",
       "var x = new MutationObserver(function (mutations, observer) {{\n",
       "        var display = window.getComputedStyle(gd).display;\n",
       "        if (!display || display === 'none') {{\n",
       "            console.log([gd, 'removed!']);\n",
       "            Plotly.purge(gd);\n",
       "            observer.disconnect();\n",
       "        }}\n",
       "}});\n",
       "\n",
       "// Listen for the removal of the full notebook cells\n",
       "var notebookContainer = gd.closest('#notebook-container');\n",
       "if (notebookContainer) {{\n",
       "    x.observe(notebookContainer, {childList: true});\n",
       "}}\n",
       "\n",
       "// Listen for the clearing of the current output cell\n",
       "var outputEl = gd.closest('.output');\n",
       "if (outputEl) {{\n",
       "    x.observe(outputEl, {childList: true});\n",
       "}}\n",
       "\n",
       "                        })\n",
       "                };\n",
       "                });\n",
       "            </script>\n",
       "        </div>"
      ]
     },
     "metadata": {},
     "output_type": "display_data"
    }
   ],
   "source": [
    "#посчитаем конверсию по событиям по всем пользователям\n",
    "funnel = (user_data.groupby('event_name')['user_id'].nunique().sort_values(ascending=False)\n",
    "          .to_frame().reset_index().rename(columns={'user_id': 'total_users'})\n",
    "         )\n",
    "\n",
    "funnel['percent%'] = (funnel['total_users'] / user_data['user_id'].nunique() * 100).round()\n",
    "display(funnel)\n",
    "\n",
    "fig = go.Figure()\n",
    "fig = go.Figure(go.Funnel(\n",
    "    y = funnel['event_name'],\n",
    "    x = funnel['percent%']))\n",
    "fig.show()"
   ]
  },
  {
   "cell_type": "markdown",
   "metadata": {},
   "source": [
    "Только 30-31% всех пользователей доходит до добавления товара в корзину и оплаты. "
   ]
  },
  {
   "cell_type": "code",
   "execution_count": 89,
   "metadata": {},
   "outputs": [
    {
     "data": {
      "application/vnd.plotly.v1+json": {
       "config": {
        "plotlyServerURL": "https://plot.ly"
       },
       "data": [
        {
         "name": "a",
         "type": "funnel",
         "x": [
          100,
          65,
          32,
          30
         ],
         "y": [
          "login",
          "product_page",
          "purchase",
          "product_cart"
         ]
        },
        {
         "name": "b",
         "type": "funnel",
         "x": [
          100,
          56,
          29,
          28
         ],
         "y": [
          "login",
          "product_page",
          "purchase",
          "product_cart"
         ]
        }
       ],
       "layout": {
        "template": {
         "data": {
          "bar": [
           {
            "error_x": {
             "color": "#2a3f5f"
            },
            "error_y": {
             "color": "#2a3f5f"
            },
            "marker": {
             "line": {
              "color": "#E5ECF6",
              "width": 0.5
             }
            },
            "type": "bar"
           }
          ],
          "barpolar": [
           {
            "marker": {
             "line": {
              "color": "#E5ECF6",
              "width": 0.5
             }
            },
            "type": "barpolar"
           }
          ],
          "carpet": [
           {
            "aaxis": {
             "endlinecolor": "#2a3f5f",
             "gridcolor": "white",
             "linecolor": "white",
             "minorgridcolor": "white",
             "startlinecolor": "#2a3f5f"
            },
            "baxis": {
             "endlinecolor": "#2a3f5f",
             "gridcolor": "white",
             "linecolor": "white",
             "minorgridcolor": "white",
             "startlinecolor": "#2a3f5f"
            },
            "type": "carpet"
           }
          ],
          "choropleth": [
           {
            "colorbar": {
             "outlinewidth": 0,
             "ticks": ""
            },
            "type": "choropleth"
           }
          ],
          "contour": [
           {
            "colorbar": {
             "outlinewidth": 0,
             "ticks": ""
            },
            "colorscale": [
             [
              0,
              "#0d0887"
             ],
             [
              0.1111111111,
              "#46039f"
             ],
             [
              0.2222222222,
              "#7201a8"
             ],
             [
              0.3333333333,
              "#9c179e"
             ],
             [
              0.4444444444,
              "#bd3786"
             ],
             [
              0.5555555556,
              "#d8576b"
             ],
             [
              0.6666666667,
              "#ed7953"
             ],
             [
              0.7777777778,
              "#fb9f3a"
             ],
             [
              0.8888888889,
              "#fdca26"
             ],
             [
              1,
              "#f0f921"
             ]
            ],
            "type": "contour"
           }
          ],
          "contourcarpet": [
           {
            "colorbar": {
             "outlinewidth": 0,
             "ticks": ""
            },
            "type": "contourcarpet"
           }
          ],
          "heatmap": [
           {
            "colorbar": {
             "outlinewidth": 0,
             "ticks": ""
            },
            "colorscale": [
             [
              0,
              "#0d0887"
             ],
             [
              0.1111111111,
              "#46039f"
             ],
             [
              0.2222222222,
              "#7201a8"
             ],
             [
              0.3333333333,
              "#9c179e"
             ],
             [
              0.4444444444,
              "#bd3786"
             ],
             [
              0.5555555556,
              "#d8576b"
             ],
             [
              0.6666666667,
              "#ed7953"
             ],
             [
              0.7777777778,
              "#fb9f3a"
             ],
             [
              0.8888888889,
              "#fdca26"
             ],
             [
              1,
              "#f0f921"
             ]
            ],
            "type": "heatmap"
           }
          ],
          "heatmapgl": [
           {
            "colorbar": {
             "outlinewidth": 0,
             "ticks": ""
            },
            "colorscale": [
             [
              0,
              "#0d0887"
             ],
             [
              0.1111111111,
              "#46039f"
             ],
             [
              0.2222222222,
              "#7201a8"
             ],
             [
              0.3333333333,
              "#9c179e"
             ],
             [
              0.4444444444,
              "#bd3786"
             ],
             [
              0.5555555556,
              "#d8576b"
             ],
             [
              0.6666666667,
              "#ed7953"
             ],
             [
              0.7777777778,
              "#fb9f3a"
             ],
             [
              0.8888888889,
              "#fdca26"
             ],
             [
              1,
              "#f0f921"
             ]
            ],
            "type": "heatmapgl"
           }
          ],
          "histogram": [
           {
            "marker": {
             "colorbar": {
              "outlinewidth": 0,
              "ticks": ""
             }
            },
            "type": "histogram"
           }
          ],
          "histogram2d": [
           {
            "colorbar": {
             "outlinewidth": 0,
             "ticks": ""
            },
            "colorscale": [
             [
              0,
              "#0d0887"
             ],
             [
              0.1111111111,
              "#46039f"
             ],
             [
              0.2222222222,
              "#7201a8"
             ],
             [
              0.3333333333,
              "#9c179e"
             ],
             [
              0.4444444444,
              "#bd3786"
             ],
             [
              0.5555555556,
              "#d8576b"
             ],
             [
              0.6666666667,
              "#ed7953"
             ],
             [
              0.7777777778,
              "#fb9f3a"
             ],
             [
              0.8888888889,
              "#fdca26"
             ],
             [
              1,
              "#f0f921"
             ]
            ],
            "type": "histogram2d"
           }
          ],
          "histogram2dcontour": [
           {
            "colorbar": {
             "outlinewidth": 0,
             "ticks": ""
            },
            "colorscale": [
             [
              0,
              "#0d0887"
             ],
             [
              0.1111111111,
              "#46039f"
             ],
             [
              0.2222222222,
              "#7201a8"
             ],
             [
              0.3333333333,
              "#9c179e"
             ],
             [
              0.4444444444,
              "#bd3786"
             ],
             [
              0.5555555556,
              "#d8576b"
             ],
             [
              0.6666666667,
              "#ed7953"
             ],
             [
              0.7777777778,
              "#fb9f3a"
             ],
             [
              0.8888888889,
              "#fdca26"
             ],
             [
              1,
              "#f0f921"
             ]
            ],
            "type": "histogram2dcontour"
           }
          ],
          "mesh3d": [
           {
            "colorbar": {
             "outlinewidth": 0,
             "ticks": ""
            },
            "type": "mesh3d"
           }
          ],
          "parcoords": [
           {
            "line": {
             "colorbar": {
              "outlinewidth": 0,
              "ticks": ""
             }
            },
            "type": "parcoords"
           }
          ],
          "scatter": [
           {
            "marker": {
             "colorbar": {
              "outlinewidth": 0,
              "ticks": ""
             }
            },
            "type": "scatter"
           }
          ],
          "scatter3d": [
           {
            "line": {
             "colorbar": {
              "outlinewidth": 0,
              "ticks": ""
             }
            },
            "marker": {
             "colorbar": {
              "outlinewidth": 0,
              "ticks": ""
             }
            },
            "type": "scatter3d"
           }
          ],
          "scattercarpet": [
           {
            "marker": {
             "colorbar": {
              "outlinewidth": 0,
              "ticks": ""
             }
            },
            "type": "scattercarpet"
           }
          ],
          "scattergeo": [
           {
            "marker": {
             "colorbar": {
              "outlinewidth": 0,
              "ticks": ""
             }
            },
            "type": "scattergeo"
           }
          ],
          "scattergl": [
           {
            "marker": {
             "colorbar": {
              "outlinewidth": 0,
              "ticks": ""
             }
            },
            "type": "scattergl"
           }
          ],
          "scattermapbox": [
           {
            "marker": {
             "colorbar": {
              "outlinewidth": 0,
              "ticks": ""
             }
            },
            "type": "scattermapbox"
           }
          ],
          "scatterpolar": [
           {
            "marker": {
             "colorbar": {
              "outlinewidth": 0,
              "ticks": ""
             }
            },
            "type": "scatterpolar"
           }
          ],
          "scatterpolargl": [
           {
            "marker": {
             "colorbar": {
              "outlinewidth": 0,
              "ticks": ""
             }
            },
            "type": "scatterpolargl"
           }
          ],
          "scatterternary": [
           {
            "marker": {
             "colorbar": {
              "outlinewidth": 0,
              "ticks": ""
             }
            },
            "type": "scatterternary"
           }
          ],
          "surface": [
           {
            "colorbar": {
             "outlinewidth": 0,
             "ticks": ""
            },
            "colorscale": [
             [
              0,
              "#0d0887"
             ],
             [
              0.1111111111,
              "#46039f"
             ],
             [
              0.2222222222,
              "#7201a8"
             ],
             [
              0.3333333333,
              "#9c179e"
             ],
             [
              0.4444444444,
              "#bd3786"
             ],
             [
              0.5555555556,
              "#d8576b"
             ],
             [
              0.6666666667,
              "#ed7953"
             ],
             [
              0.7777777778,
              "#fb9f3a"
             ],
             [
              0.8888888889,
              "#fdca26"
             ],
             [
              1,
              "#f0f921"
             ]
            ],
            "type": "surface"
           }
          ],
          "table": [
           {
            "cells": {
             "fill": {
              "color": "#EBF0F8"
             },
             "line": {
              "color": "white"
             }
            },
            "header": {
             "fill": {
              "color": "#C8D4E3"
             },
             "line": {
              "color": "white"
             }
            },
            "type": "table"
           }
          ]
         },
         "layout": {
          "annotationdefaults": {
           "arrowcolor": "#2a3f5f",
           "arrowhead": 0,
           "arrowwidth": 1
          },
          "colorscale": {
           "diverging": [
            [
             0,
             "#8e0152"
            ],
            [
             0.1,
             "#c51b7d"
            ],
            [
             0.2,
             "#de77ae"
            ],
            [
             0.3,
             "#f1b6da"
            ],
            [
             0.4,
             "#fde0ef"
            ],
            [
             0.5,
             "#f7f7f7"
            ],
            [
             0.6,
             "#e6f5d0"
            ],
            [
             0.7,
             "#b8e186"
            ],
            [
             0.8,
             "#7fbc41"
            ],
            [
             0.9,
             "#4d9221"
            ],
            [
             1,
             "#276419"
            ]
           ],
           "sequential": [
            [
             0,
             "#0d0887"
            ],
            [
             0.1111111111,
             "#46039f"
            ],
            [
             0.2222222222,
             "#7201a8"
            ],
            [
             0.3333333333,
             "#9c179e"
            ],
            [
             0.4444444444,
             "#bd3786"
            ],
            [
             0.5555555556,
             "#d8576b"
            ],
            [
             0.6666666667,
             "#ed7953"
            ],
            [
             0.7777777778,
             "#fb9f3a"
            ],
            [
             0.8888888889,
             "#fdca26"
            ],
            [
             1,
             "#f0f921"
            ]
           ],
           "sequentialminus": [
            [
             0,
             "#0d0887"
            ],
            [
             0.1111111111,
             "#46039f"
            ],
            [
             0.2222222222,
             "#7201a8"
            ],
            [
             0.3333333333,
             "#9c179e"
            ],
            [
             0.4444444444,
             "#bd3786"
            ],
            [
             0.5555555556,
             "#d8576b"
            ],
            [
             0.6666666667,
             "#ed7953"
            ],
            [
             0.7777777778,
             "#fb9f3a"
            ],
            [
             0.8888888889,
             "#fdca26"
            ],
            [
             1,
             "#f0f921"
            ]
           ]
          },
          "colorway": [
           "#636efa",
           "#EF553B",
           "#00cc96",
           "#ab63fa",
           "#FFA15A",
           "#19d3f3",
           "#FF6692",
           "#B6E880",
           "#FF97FF",
           "#FECB52"
          ],
          "font": {
           "color": "#2a3f5f"
          },
          "geo": {
           "bgcolor": "white",
           "lakecolor": "white",
           "landcolor": "#E5ECF6",
           "showlakes": true,
           "showland": true,
           "subunitcolor": "white"
          },
          "hoverlabel": {
           "align": "left"
          },
          "hovermode": "closest",
          "mapbox": {
           "style": "light"
          },
          "paper_bgcolor": "white",
          "plot_bgcolor": "#E5ECF6",
          "polar": {
           "angularaxis": {
            "gridcolor": "white",
            "linecolor": "white",
            "ticks": ""
           },
           "bgcolor": "#E5ECF6",
           "radialaxis": {
            "gridcolor": "white",
            "linecolor": "white",
            "ticks": ""
           }
          },
          "scene": {
           "xaxis": {
            "backgroundcolor": "#E5ECF6",
            "gridcolor": "white",
            "gridwidth": 2,
            "linecolor": "white",
            "showbackground": true,
            "ticks": "",
            "zerolinecolor": "white"
           },
           "yaxis": {
            "backgroundcolor": "#E5ECF6",
            "gridcolor": "white",
            "gridwidth": 2,
            "linecolor": "white",
            "showbackground": true,
            "ticks": "",
            "zerolinecolor": "white"
           },
           "zaxis": {
            "backgroundcolor": "#E5ECF6",
            "gridcolor": "white",
            "gridwidth": 2,
            "linecolor": "white",
            "showbackground": true,
            "ticks": "",
            "zerolinecolor": "white"
           }
          },
          "shapedefaults": {
           "line": {
            "color": "#2a3f5f"
           }
          },
          "ternary": {
           "aaxis": {
            "gridcolor": "white",
            "linecolor": "white",
            "ticks": ""
           },
           "baxis": {
            "gridcolor": "white",
            "linecolor": "white",
            "ticks": ""
           },
           "bgcolor": "#E5ECF6",
           "caxis": {
            "gridcolor": "white",
            "linecolor": "white",
            "ticks": ""
           }
          },
          "title": {
           "x": 0.05
          },
          "xaxis": {
           "automargin": true,
           "gridcolor": "white",
           "linecolor": "white",
           "ticks": "",
           "zerolinecolor": "white",
           "zerolinewidth": 2
          },
          "yaxis": {
           "automargin": true,
           "gridcolor": "white",
           "linecolor": "white",
           "ticks": "",
           "zerolinecolor": "white",
           "zerolinewidth": 2
          }
         }
        }
       }
      },
      "text/html": [
       "<div>\n",
       "        \n",
       "        \n",
       "            <div id=\"a1a6a28e-03b2-4466-9b2c-a39c971914e0\" class=\"plotly-graph-div\" style=\"height:525px; width:100%;\"></div>\n",
       "            <script type=\"text/javascript\">\n",
       "                require([\"plotly\"], function(Plotly) {\n",
       "                    window.PLOTLYENV=window.PLOTLYENV || {};\n",
       "                    \n",
       "                if (document.getElementById(\"a1a6a28e-03b2-4466-9b2c-a39c971914e0\")) {\n",
       "                    Plotly.newPlot(\n",
       "                        'a1a6a28e-03b2-4466-9b2c-a39c971914e0',\n",
       "                        [{\"name\": \"a\", \"type\": \"funnel\", \"x\": [100.0, 65.0, 32.0, 30.0], \"y\": [\"login\", \"product_page\", \"purchase\", \"product_cart\"]}, {\"name\": \"b\", \"type\": \"funnel\", \"x\": [100.0, 56.0, 29.0, 28.0], \"y\": [\"login\", \"product_page\", \"purchase\", \"product_cart\"]}],\n",
       "                        {\"template\": {\"data\": {\"bar\": [{\"error_x\": {\"color\": \"#2a3f5f\"}, \"error_y\": {\"color\": \"#2a3f5f\"}, \"marker\": {\"line\": {\"color\": \"#E5ECF6\", \"width\": 0.5}}, \"type\": \"bar\"}], \"barpolar\": [{\"marker\": {\"line\": {\"color\": \"#E5ECF6\", \"width\": 0.5}}, \"type\": \"barpolar\"}], \"carpet\": [{\"aaxis\": {\"endlinecolor\": \"#2a3f5f\", \"gridcolor\": \"white\", \"linecolor\": \"white\", \"minorgridcolor\": \"white\", \"startlinecolor\": \"#2a3f5f\"}, \"baxis\": {\"endlinecolor\": \"#2a3f5f\", \"gridcolor\": \"white\", \"linecolor\": \"white\", \"minorgridcolor\": \"white\", \"startlinecolor\": \"#2a3f5f\"}, \"type\": \"carpet\"}], \"choropleth\": [{\"colorbar\": {\"outlinewidth\": 0, \"ticks\": \"\"}, \"type\": \"choropleth\"}], \"contour\": [{\"colorbar\": {\"outlinewidth\": 0, \"ticks\": \"\"}, \"colorscale\": [[0.0, \"#0d0887\"], [0.1111111111111111, \"#46039f\"], [0.2222222222222222, \"#7201a8\"], [0.3333333333333333, \"#9c179e\"], [0.4444444444444444, \"#bd3786\"], [0.5555555555555556, \"#d8576b\"], [0.6666666666666666, \"#ed7953\"], [0.7777777777777778, \"#fb9f3a\"], [0.8888888888888888, \"#fdca26\"], [1.0, \"#f0f921\"]], \"type\": \"contour\"}], \"contourcarpet\": [{\"colorbar\": {\"outlinewidth\": 0, \"ticks\": \"\"}, \"type\": \"contourcarpet\"}], \"heatmap\": [{\"colorbar\": {\"outlinewidth\": 0, \"ticks\": \"\"}, \"colorscale\": [[0.0, \"#0d0887\"], [0.1111111111111111, \"#46039f\"], [0.2222222222222222, \"#7201a8\"], [0.3333333333333333, \"#9c179e\"], [0.4444444444444444, \"#bd3786\"], [0.5555555555555556, \"#d8576b\"], [0.6666666666666666, \"#ed7953\"], [0.7777777777777778, \"#fb9f3a\"], [0.8888888888888888, \"#fdca26\"], [1.0, \"#f0f921\"]], \"type\": \"heatmap\"}], \"heatmapgl\": [{\"colorbar\": {\"outlinewidth\": 0, \"ticks\": \"\"}, \"colorscale\": [[0.0, \"#0d0887\"], [0.1111111111111111, \"#46039f\"], [0.2222222222222222, \"#7201a8\"], [0.3333333333333333, \"#9c179e\"], [0.4444444444444444, \"#bd3786\"], [0.5555555555555556, \"#d8576b\"], [0.6666666666666666, \"#ed7953\"], [0.7777777777777778, \"#fb9f3a\"], [0.8888888888888888, \"#fdca26\"], [1.0, \"#f0f921\"]], \"type\": \"heatmapgl\"}], \"histogram\": [{\"marker\": {\"colorbar\": {\"outlinewidth\": 0, \"ticks\": \"\"}}, \"type\": \"histogram\"}], \"histogram2d\": [{\"colorbar\": {\"outlinewidth\": 0, \"ticks\": \"\"}, \"colorscale\": [[0.0, \"#0d0887\"], [0.1111111111111111, \"#46039f\"], [0.2222222222222222, \"#7201a8\"], [0.3333333333333333, \"#9c179e\"], [0.4444444444444444, \"#bd3786\"], [0.5555555555555556, \"#d8576b\"], [0.6666666666666666, \"#ed7953\"], [0.7777777777777778, \"#fb9f3a\"], [0.8888888888888888, \"#fdca26\"], [1.0, \"#f0f921\"]], \"type\": \"histogram2d\"}], \"histogram2dcontour\": [{\"colorbar\": {\"outlinewidth\": 0, \"ticks\": \"\"}, \"colorscale\": [[0.0, \"#0d0887\"], [0.1111111111111111, \"#46039f\"], [0.2222222222222222, \"#7201a8\"], [0.3333333333333333, \"#9c179e\"], [0.4444444444444444, \"#bd3786\"], [0.5555555555555556, \"#d8576b\"], [0.6666666666666666, \"#ed7953\"], [0.7777777777777778, \"#fb9f3a\"], [0.8888888888888888, \"#fdca26\"], [1.0, \"#f0f921\"]], \"type\": \"histogram2dcontour\"}], \"mesh3d\": [{\"colorbar\": {\"outlinewidth\": 0, \"ticks\": \"\"}, \"type\": \"mesh3d\"}], \"parcoords\": [{\"line\": {\"colorbar\": {\"outlinewidth\": 0, \"ticks\": \"\"}}, \"type\": \"parcoords\"}], \"scatter\": [{\"marker\": {\"colorbar\": {\"outlinewidth\": 0, \"ticks\": \"\"}}, \"type\": \"scatter\"}], \"scatter3d\": [{\"line\": {\"colorbar\": {\"outlinewidth\": 0, \"ticks\": \"\"}}, \"marker\": {\"colorbar\": {\"outlinewidth\": 0, \"ticks\": \"\"}}, \"type\": \"scatter3d\"}], \"scattercarpet\": [{\"marker\": {\"colorbar\": {\"outlinewidth\": 0, \"ticks\": \"\"}}, \"type\": \"scattercarpet\"}], \"scattergeo\": [{\"marker\": {\"colorbar\": {\"outlinewidth\": 0, \"ticks\": \"\"}}, \"type\": \"scattergeo\"}], \"scattergl\": [{\"marker\": {\"colorbar\": {\"outlinewidth\": 0, \"ticks\": \"\"}}, \"type\": \"scattergl\"}], \"scattermapbox\": [{\"marker\": {\"colorbar\": {\"outlinewidth\": 0, \"ticks\": \"\"}}, \"type\": \"scattermapbox\"}], \"scatterpolar\": [{\"marker\": {\"colorbar\": {\"outlinewidth\": 0, \"ticks\": \"\"}}, \"type\": \"scatterpolar\"}], \"scatterpolargl\": [{\"marker\": {\"colorbar\": {\"outlinewidth\": 0, \"ticks\": \"\"}}, \"type\": \"scatterpolargl\"}], \"scatterternary\": [{\"marker\": {\"colorbar\": {\"outlinewidth\": 0, \"ticks\": \"\"}}, \"type\": \"scatterternary\"}], \"surface\": [{\"colorbar\": {\"outlinewidth\": 0, \"ticks\": \"\"}, \"colorscale\": [[0.0, \"#0d0887\"], [0.1111111111111111, \"#46039f\"], [0.2222222222222222, \"#7201a8\"], [0.3333333333333333, \"#9c179e\"], [0.4444444444444444, \"#bd3786\"], [0.5555555555555556, \"#d8576b\"], [0.6666666666666666, \"#ed7953\"], [0.7777777777777778, \"#fb9f3a\"], [0.8888888888888888, \"#fdca26\"], [1.0, \"#f0f921\"]], \"type\": \"surface\"}], \"table\": [{\"cells\": {\"fill\": {\"color\": \"#EBF0F8\"}, \"line\": {\"color\": \"white\"}}, \"header\": {\"fill\": {\"color\": \"#C8D4E3\"}, \"line\": {\"color\": \"white\"}}, \"type\": \"table\"}]}, \"layout\": {\"annotationdefaults\": {\"arrowcolor\": \"#2a3f5f\", \"arrowhead\": 0, \"arrowwidth\": 1}, \"colorscale\": {\"diverging\": [[0, \"#8e0152\"], [0.1, \"#c51b7d\"], [0.2, \"#de77ae\"], [0.3, \"#f1b6da\"], [0.4, \"#fde0ef\"], [0.5, \"#f7f7f7\"], [0.6, \"#e6f5d0\"], [0.7, \"#b8e186\"], [0.8, \"#7fbc41\"], [0.9, \"#4d9221\"], [1, \"#276419\"]], \"sequential\": [[0.0, \"#0d0887\"], [0.1111111111111111, \"#46039f\"], [0.2222222222222222, \"#7201a8\"], [0.3333333333333333, \"#9c179e\"], [0.4444444444444444, \"#bd3786\"], [0.5555555555555556, \"#d8576b\"], [0.6666666666666666, \"#ed7953\"], [0.7777777777777778, \"#fb9f3a\"], [0.8888888888888888, \"#fdca26\"], [1.0, \"#f0f921\"]], \"sequentialminus\": [[0.0, \"#0d0887\"], [0.1111111111111111, \"#46039f\"], [0.2222222222222222, \"#7201a8\"], [0.3333333333333333, \"#9c179e\"], [0.4444444444444444, \"#bd3786\"], [0.5555555555555556, \"#d8576b\"], [0.6666666666666666, \"#ed7953\"], [0.7777777777777778, \"#fb9f3a\"], [0.8888888888888888, \"#fdca26\"], [1.0, \"#f0f921\"]]}, \"colorway\": [\"#636efa\", \"#EF553B\", \"#00cc96\", \"#ab63fa\", \"#FFA15A\", \"#19d3f3\", \"#FF6692\", \"#B6E880\", \"#FF97FF\", \"#FECB52\"], \"font\": {\"color\": \"#2a3f5f\"}, \"geo\": {\"bgcolor\": \"white\", \"lakecolor\": \"white\", \"landcolor\": \"#E5ECF6\", \"showlakes\": true, \"showland\": true, \"subunitcolor\": \"white\"}, \"hoverlabel\": {\"align\": \"left\"}, \"hovermode\": \"closest\", \"mapbox\": {\"style\": \"light\"}, \"paper_bgcolor\": \"white\", \"plot_bgcolor\": \"#E5ECF6\", \"polar\": {\"angularaxis\": {\"gridcolor\": \"white\", \"linecolor\": \"white\", \"ticks\": \"\"}, \"bgcolor\": \"#E5ECF6\", \"radialaxis\": {\"gridcolor\": \"white\", \"linecolor\": \"white\", \"ticks\": \"\"}}, \"scene\": {\"xaxis\": {\"backgroundcolor\": \"#E5ECF6\", \"gridcolor\": \"white\", \"gridwidth\": 2, \"linecolor\": \"white\", \"showbackground\": true, \"ticks\": \"\", \"zerolinecolor\": \"white\"}, \"yaxis\": {\"backgroundcolor\": \"#E5ECF6\", \"gridcolor\": \"white\", \"gridwidth\": 2, \"linecolor\": \"white\", \"showbackground\": true, \"ticks\": \"\", \"zerolinecolor\": \"white\"}, \"zaxis\": {\"backgroundcolor\": \"#E5ECF6\", \"gridcolor\": \"white\", \"gridwidth\": 2, \"linecolor\": \"white\", \"showbackground\": true, \"ticks\": \"\", \"zerolinecolor\": \"white\"}}, \"shapedefaults\": {\"line\": {\"color\": \"#2a3f5f\"}}, \"ternary\": {\"aaxis\": {\"gridcolor\": \"white\", \"linecolor\": \"white\", \"ticks\": \"\"}, \"baxis\": {\"gridcolor\": \"white\", \"linecolor\": \"white\", \"ticks\": \"\"}, \"bgcolor\": \"#E5ECF6\", \"caxis\": {\"gridcolor\": \"white\", \"linecolor\": \"white\", \"ticks\": \"\"}}, \"title\": {\"x\": 0.05}, \"xaxis\": {\"automargin\": true, \"gridcolor\": \"white\", \"linecolor\": \"white\", \"ticks\": \"\", \"zerolinecolor\": \"white\", \"zerolinewidth\": 2}, \"yaxis\": {\"automargin\": true, \"gridcolor\": \"white\", \"linecolor\": \"white\", \"ticks\": \"\", \"zerolinecolor\": \"white\", \"zerolinewidth\": 2}}}},\n",
       "                        {\"responsive\": true}\n",
       "                    ).then(function(){\n",
       "                            \n",
       "var gd = document.getElementById('a1a6a28e-03b2-4466-9b2c-a39c971914e0');\n",
       "var x = new MutationObserver(function (mutations, observer) {{\n",
       "        var display = window.getComputedStyle(gd).display;\n",
       "        if (!display || display === 'none') {{\n",
       "            console.log([gd, 'removed!']);\n",
       "            Plotly.purge(gd);\n",
       "            observer.disconnect();\n",
       "        }}\n",
       "}});\n",
       "\n",
       "// Listen for the removal of the full notebook cells\n",
       "var notebookContainer = gd.closest('#notebook-container');\n",
       "if (notebookContainer) {{\n",
       "    x.observe(notebookContainer, {childList: true});\n",
       "}}\n",
       "\n",
       "// Listen for the clearing of the current output cell\n",
       "var outputEl = gd.closest('.output');\n",
       "if (outputEl) {{\n",
       "    x.observe(outputEl, {childList: true});\n",
       "}}\n",
       "\n",
       "                        })\n",
       "                };\n",
       "                });\n",
       "            </script>\n",
       "        </div>"
      ]
     },
     "metadata": {},
     "output_type": "display_data"
    }
   ],
   "source": [
    "a = user_data[(user_data['group'] == 'A')]\n",
    "b = user_data[(user_data['group'] == 'B')]\n",
    "funnel_a = a.groupby('event_name')['user_id'].nunique().sort_values(ascending=False).to_frame().reset_index()\\\n",
    "        .rename(columns={'user_id': 'total_users'})\n",
    "funnel_a['percent%'] = (funnel_a['total_users'] / a['user_id'].nunique() * 100).round()\n",
    "\n",
    "funnel_b = b.groupby('event_name')['user_id'].nunique().sort_values(ascending=False).to_frame().reset_index()\\\n",
    "        .rename(columns={'user_id': 'total_users'})\n",
    "funnel_b['percent%'] = (funnel_b['total_users'] / b['user_id'].nunique() * 100).round()\n",
    "\n",
    "fig = go.Figure()\n",
    "\n",
    "fig.add_trace(go.Funnel(\n",
    "    name = 'a',\n",
    "    y = funnel_a['event_name'],\n",
    "    x = funnel_a['percent%'],\n",
    "    ))\n",
    "\n",
    "fig.add_trace(go.Funnel(\n",
    "    name = 'b',\n",
    "    y = funnel_b['event_name'],\n",
    "    x = funnel_b['percent%'],\n",
    "    ))\n",
    "\n",
    "fig.show()"
   ]
  },
  {
   "cell_type": "markdown",
   "metadata": {},
   "source": [
    "Сравнили конверсию по группам. По данным конверсия группы B немного меньше, чем в группе А, при этом, вано учитывать, что в группе B у нас пользователей на 25% меньше. "
   ]
  },
  {
   "cell_type": "markdown",
   "metadata": {},
   "source": [
    "### Распределение количества событий на пользователя в выборках"
   ]
  },
  {
   "cell_type": "code",
   "execution_count": 90,
   "metadata": {
    "scrolled": false
   },
   "outputs": [
    {
     "data": {
      "text/html": [
       "<div>\n",
       "<style scoped>\n",
       "    .dataframe tbody tr th:only-of-type {\n",
       "        vertical-align: middle;\n",
       "    }\n",
       "\n",
       "    .dataframe tbody tr th {\n",
       "        vertical-align: top;\n",
       "    }\n",
       "\n",
       "    .dataframe thead th {\n",
       "        text-align: right;\n",
       "    }\n",
       "</style>\n",
       "<table border=\"1\" class=\"dataframe\">\n",
       "  <thead>\n",
       "    <tr style=\"text-align: right;\">\n",
       "      <th></th>\n",
       "      <th>event_name</th>\n",
       "      <th>group</th>\n",
       "      <th>event_count</th>\n",
       "    </tr>\n",
       "  </thead>\n",
       "  <tbody>\n",
       "    <tr>\n",
       "      <td>0</td>\n",
       "      <td>login</td>\n",
       "      <td>A</td>\n",
       "      <td>5963</td>\n",
       "    </tr>\n",
       "    <tr>\n",
       "      <td>1</td>\n",
       "      <td>login</td>\n",
       "      <td>B</td>\n",
       "      <td>1731</td>\n",
       "    </tr>\n",
       "    <tr>\n",
       "      <td>2</td>\n",
       "      <td>product_cart</td>\n",
       "      <td>A</td>\n",
       "      <td>1826</td>\n",
       "    </tr>\n",
       "    <tr>\n",
       "      <td>3</td>\n",
       "      <td>product_cart</td>\n",
       "      <td>B</td>\n",
       "      <td>479</td>\n",
       "    </tr>\n",
       "    <tr>\n",
       "      <td>4</td>\n",
       "      <td>product_page</td>\n",
       "      <td>A</td>\n",
       "      <td>3873</td>\n",
       "    </tr>\n",
       "    <tr>\n",
       "      <td>5</td>\n",
       "      <td>product_page</td>\n",
       "      <td>B</td>\n",
       "      <td>921</td>\n",
       "    </tr>\n",
       "    <tr>\n",
       "      <td>6</td>\n",
       "      <td>purchase</td>\n",
       "      <td>A</td>\n",
       "      <td>1827</td>\n",
       "    </tr>\n",
       "    <tr>\n",
       "      <td>7</td>\n",
       "      <td>purchase</td>\n",
       "      <td>B</td>\n",
       "      <td>467</td>\n",
       "    </tr>\n",
       "  </tbody>\n",
       "</table>\n",
       "</div>"
      ],
      "text/plain": [
       "     event_name group  event_count\n",
       "0         login     A         5963\n",
       "1         login     B         1731\n",
       "2  product_cart     A         1826\n",
       "3  product_cart     B          479\n",
       "4  product_page     A         3873\n",
       "5  product_page     B          921\n",
       "6      purchase     A         1827\n",
       "7      purchase     B          467"
      ]
     },
     "metadata": {},
     "output_type": "display_data"
    },
    {
     "data": {
      "image/png": "[encoded data removed]",
      "text/plain": [
       "<Figure size 1440x504 with 1 Axes>"
      ]
     },
     "metadata": {},
     "output_type": "display_data"
    }
   ],
   "source": [
    "#посчитаем количество событий по типам для групп по тестам\n",
    "events_tests = (user_data.groupby(['event_name', 'group'])['user_id'].count().reset_index()\n",
    "                .rename({'user_id': 'event_count'}, axis = 1)\n",
    "               )\n",
    "\n",
    "display(events_tests)\n",
    "\n",
    "#построим график \n",
    "\n",
    "plt.figure(figsize = (20, 7))\n",
    "sns.barplot(data = events_tests.sort_values(by = 'event_count', ascending = False), x = 'event_name', y = 'event_count', hue = 'group')\n",
    "plt.xlabel(\"Событие\", fontsize = 25)\n",
    "plt.ylabel(\"Количество событий\", fontsize = 25)\n",
    "plt.title(\"Количество событий в логе по группам\", fontsize = 25)\n",
    "plt.show()"
   ]
  },
  {
   "cell_type": "markdown",
   "metadata": {},
   "source": [
    "Мы видим, что событий в логе по группе B существенно меньше, чем по группе A"
   ]
  },
  {
   "cell_type": "code",
   "execution_count": 91,
   "metadata": {},
   "outputs": [
    {
     "data": {
      "image/png": "[encoded data removed]",
      "text/plain": [
       "<Figure size 1440x504 with 1 Axes>"
      ]
     },
     "metadata": {},
     "output_type": "display_data"
    }
   ],
   "source": [
    "#посмотрим распределение событий на пользователя\n",
    "user_test_event = (user_data.groupby(['user_id', 'group', 'ab_test'])['event_name'].count().reset_index()\n",
    "                   .rename({'event_name': 'event_count'}, axis = 1)\n",
    "                  )\n",
    "\n",
    "plt.figure(figsize = (20, 7))\n",
    "sns.distplot(user_test_event[user_test_event['group'] == \"A\"]['event_count'])\n",
    "sns.distplot(user_test_event[user_test_event['group'] == \"B\"]['event_count'])\n",
    "plt.xlabel(\"Распределение\", fontsize = 25)\n",
    "plt.ylabel(\"Количество событий\", fontsize = 25)\n",
    "plt.title(\"Распределение количества событий в логе по группам\", fontsize = 25)\n",
    "plt.legend(['Группа А', 'Группа B'])\n",
    "plt.show()"
   ]
  },
  {
   "cell_type": "markdown",
   "metadata": {},
   "source": [
    "Распределение нормальное, есть хвост в сторону максимлаьных значений. В среднем на пользователя в обеих группах приходиться 6 событий. "
   ]
  },
  {
   "cell_type": "markdown",
   "metadata": {},
   "source": [
    "<div class=\"alert alert-danger\" style=\"border-radius: 15px; box-shadow: 4px 4px 4px; border: 1px solid \" > <b>Комментарии от ревьюера: </b> \n",
    "\n",
    "<s>Другой тест нас вообще не интересует, только в плане есть ли с ним пересечение пользователей\n",
    "   \n",
    "</div>"
   ]
  },
  {
   "cell_type": "markdown",
   "metadata": {},
   "source": [
    "<div class=\"alert alert-block alert-info\">\n",
    "    \n",
    "\n",
    "__Комментарий джуниора__\n",
    "\n",
    "Сделал срез\n",
    "</div>"
   ]
  },
  {
   "cell_type": "markdown",
   "metadata": {},
   "source": [
    "### Узнаем, как число событий распределено по дням"
   ]
  },
  {
   "cell_type": "code",
   "execution_count": 92,
   "metadata": {},
   "outputs": [
    {
     "data": {
      "text/html": [
       "<div>\n",
       "<style scoped>\n",
       "    .dataframe tbody tr th:only-of-type {\n",
       "        vertical-align: middle;\n",
       "    }\n",
       "\n",
       "    .dataframe tbody tr th {\n",
       "        vertical-align: top;\n",
       "    }\n",
       "\n",
       "    .dataframe thead th {\n",
       "        text-align: right;\n",
       "    }\n",
       "</style>\n",
       "<table border=\"1\" class=\"dataframe\">\n",
       "  <thead>\n",
       "    <tr style=\"text-align: right;\">\n",
       "      <th></th>\n",
       "      <th>event_date</th>\n",
       "      <th>event_name</th>\n",
       "      <th>event_count</th>\n",
       "    </tr>\n",
       "  </thead>\n",
       "  <tbody>\n",
       "    <tr>\n",
       "      <td>0</td>\n",
       "      <td>2020-12-07</td>\n",
       "      <td>login</td>\n",
       "      <td>217</td>\n",
       "    </tr>\n",
       "    <tr>\n",
       "      <td>1</td>\n",
       "      <td>2020-12-07</td>\n",
       "      <td>product_cart</td>\n",
       "      <td>56</td>\n",
       "    </tr>\n",
       "    <tr>\n",
       "      <td>2</td>\n",
       "      <td>2020-12-07</td>\n",
       "      <td>product_page</td>\n",
       "      <td>142</td>\n",
       "    </tr>\n",
       "    <tr>\n",
       "      <td>3</td>\n",
       "      <td>2020-12-07</td>\n",
       "      <td>purchase</td>\n",
       "      <td>74</td>\n",
       "    </tr>\n",
       "    <tr>\n",
       "      <td>4</td>\n",
       "      <td>2020-12-08</td>\n",
       "      <td>login</td>\n",
       "      <td>189</td>\n",
       "    </tr>\n",
       "  </tbody>\n",
       "</table>\n",
       "</div>"
      ],
      "text/plain": [
       "  event_date    event_name  event_count\n",
       "0 2020-12-07         login          217\n",
       "1 2020-12-07  product_cart           56\n",
       "2 2020-12-07  product_page          142\n",
       "3 2020-12-07      purchase           74\n",
       "4 2020-12-08         login          189"
      ]
     },
     "metadata": {},
     "output_type": "display_data"
    }
   ],
   "source": [
    "events_day = (user_data.groupby(['event_date', 'event_name'])['user_id'].count().reset_index()\n",
    "              .rename({'user_id': 'event_count'}, axis = 1)\n",
    "             )\n",
    "display(events_day.head())"
   ]
  },
  {
   "cell_type": "markdown",
   "metadata": {},
   "source": [
    "<div class=\"alert alert-warning\" style=\"border-radius: 15px; box-shadow: 4px 4px 4px; border: 1px solid \" > <b>Комментарии от ревьюера: </b> \n",
    "    \n",
    "Чтобы скрыть все warnings, можно использовать следующую конструкцию\n",
    "```\n",
    "import warnings\n",
    "warnings.filterwarnings('ignore')\n",
    "```\n",
    "\n",
    "Так предупреждения не будут мешать читать твой проект\n",
    "</div>"
   ]
  },
  {
   "cell_type": "markdown",
   "metadata": {},
   "source": [
    "<div class=\"alert alert-block alert-info\">\n",
    "    \n",
    "\n",
    "__Комментарий джуниора__\n",
    "\n",
    "Спасибо\n",
    "</div>"
   ]
  },
  {
   "cell_type": "code",
   "execution_count": 93,
   "metadata": {},
   "outputs": [
    {
     "data": {
      "image/png": "[encoded data removed]",
      "text/plain": [
       "<Figure size 1440x504 with 1 Axes>"
      ]
     },
     "metadata": {},
     "output_type": "display_data"
    }
   ],
   "source": [
    "#Построим график распределение событий по дням\n",
    "plt.figure(figsize = (20, 7))\n",
    "sns.lineplot(data = events_day, x = 'event_date', y = 'event_count', hue = 'event_name')\n",
    "plt.xlim(pd.to_datetime('2020-12-07'),\n",
    "        pd.to_datetime('2020-12-30'))\n",
    "plt.xlabel(\"Дата\", fontsize = 25)\n",
    "plt.ylabel(\"Количество событий\", fontsize = 25)\n",
    "plt.title(\"Количество событий по дням\", fontsize = 25)\n",
    "plt.annotate('Начало маркетинговой акции', xy=('2020-12-25', 300), xytext=('2020-12-25', 500),\n",
    "            arrowprops=dict(facecolor='g'))\n",
    "plt.annotate('Окончание набора пользователей по ТЗ', xy=('2020-12-21', 200), xytext=('2020-12-21', 0),\n",
    "            arrowprops=dict(facecolor='r')) \n",
    "plt.show()"
   ]
  },
  {
   "cell_type": "markdown",
   "metadata": {},
   "source": [
    "Пик событий приходится на 21 декабря 2020 года,  когда был окончен набор пользователей о ТЗ. После этого идет постепенное снижение активности пользователей. Маркетинговая акция незначительно, но повлияла на увеличение количества всех событий, однако роста покупок это не принесло. "
   ]
  },
  {
   "cell_type": "markdown",
   "metadata": {},
   "source": [
    "<div class=\"alert alert-danger\" style=\"border-radius: 15px; box-shadow: 4px 4px 4px; border: 1px solid \" > <b>Комментарии от ревьюера: </b> \n",
    "\n",
    "<s>Я думаю ты уже понял основную ошибку в данном проекте. Но помимо этого тебе надо предварительно оценить всё таки данные по пунктам ТЗ\n",
    "\n",
    "- Совпадал ли тест по времени с какими-нибудь маркетинговыми событиями?\n",
    "- Не пересекалась ли аудитория теста с конкурирующими тестами (это ты нашел, не сказал что с этим сделать);\n",
    "- Была ли аудитория теста сформирована правильно;\n",
    "- Было ли распределение по тестовым группам равномерно.\n",
    "    \n",
    "    \n",
    "Очень важным моментом перед проверкой гипотез это учесть следующий пункт \n",
    "    \n",
    "    Ожидаемый эффект: за 14 дней с момента регистрации в системе пользователи покажут улучшение каждой метрики не менее, чем на 10%\n",
    "    \n",
    "Т.е. надо будет отфильтровать события, которые превышают двух недельный срок с момента регистрации для чистоты эксперимента\n",
    "   \n",
    "</div>"
   ]
  },
  {
   "cell_type": "markdown",
   "metadata": {},
   "source": [
    "<div class=\"alert alert-block alert-info\">\n",
    "    \n",
    "\n",
    "__Комментарий джуниора__\n",
    "\n",
    "Благодар за акценты на подзадачах, сделал в соответствии с твоими рекомендациями\n",
    "</div>"
   ]
  },
  {
   "cell_type": "markdown",
   "metadata": {},
   "source": [
    "<div class=\"alert alert-success\" style=\"border-radius: 15px; box-shadow: 4px 4px 4px; border: 1px solid \" > <b>Комментарии от ревьюера v2: </b> \n",
    "\n",
    "Совсем другое дело. Последовательность логичная и структура корректная)\n",
    "</div>"
   ]
  },
  {
   "cell_type": "markdown",
   "metadata": {},
   "source": [
    "### Вывод"
   ]
  },
  {
   "cell_type": "markdown",
   "metadata": {},
   "source": [
    "При проверки данных на соответствие требованиям ТЗ удалось обнаружить следующее:\n",
    "\n",
    "* Данные в логах есть только до 29 декабря 2020 года, при этом тест был остановлен только 4 января 2021 года. Фактически не хватает данных для теста за 5 дней. Набор пользователей фактически был остановлен 23 декабря 2020 года вместо 21 декабря, как это предусмотрено ТЗ\n",
    "* Требование ТЗ в 15% новых пользователей из Евросоюза выполнено, из этого региона у наc 75%\n",
    "* У нас есть данные о двух проведенных тестах, recommender_system_test - тот, который интересует нас в рамках ТЗ и interface_eu_test - видимо тест, который качается изменения интфейса для пользователей Евросоюза. Есть различия и в группах в каждом тесте, в тесте interface_eu_test разница в количестве польователей составляет 3,6%, что является незначительным показателем для проведения анализа, а в тесте recommender_system_test разница составялет почти 25%, при этом у нас набирается необходимое количество пользователей: 6701\n",
    "* Есть пользователи, которые приняли участие в обоих тестах, это означает, что интересующая нас конверсия в тесте recommender_system_test могла возникнуть от второго теста, учитывая, что в нашем фокусе пользователи из Евросоюза, а тест, судя по названию проводился там же. Провели очистки данных от таких пользователей, после которой количество пользователей в интересующем тесте 5099, что почти на 1000 меньше, чем сказано в ТЗ\n",
    "* В период проведения теста проводилась рождественская промо-акция, которая длилась 9 дней в период с 25 декабря 2020 год по 3 января 2021 года, которая могла повлиять на окупательскую активность пользователей, в т.ч. из Евросоюза.\n",
    "\n",
    "У нас фактически есть данные для теста с 23 по 30 декабря 2020 года, т.е. 7 дней, а не 14, общее количество пользователей 5099, что меньше, чем тредуется ТЗ. Высокая разница между группамми А и B в тесте. В период теста проводилась маркетинговая акция, которая могла повлиять на покупательскую активность в обеих группах. Необходимо либо уточнить ТЗ, либо переделать тест. Проведем дополнительный анализ данных.\n",
    "\n",
    "Проведен исследовательский анализ данных. \n",
    "\n",
    "* сделан срез данных по условиям ТЗ, оставлены логи пользователй из Евросоюза, участников теста recommender_system_test.\n",
    "* период, за которые у нас есть данные в таблице с логами: 2020-12-07 - 2020-12-30\n",
    "* количество пользователей из Евросоюза, принявших участие в тесте 2594\n",
    "* общее количество событий в логе 17526\n",
    "* по количеству события распределелись в следующем порядке: вход - просмотр страницы продукта - покупка - корзина. Причем, здесь, видмо есть ошибка, так как добавление продукта в корзину обычно предшествует оплате. \n",
    "* только 30% всех пользователей доходит до добавления товара в корзину и оплаты. \n",
    "* в обеих группах распределение нормальное, есть хвост в сторону максимлаьных значений. В среднем на пользователя в обоих тестах приходиться 6 событий. \n",
    "* пик событий приходится на 21 декабря 2020 года, после этого к концу периода идет постепенное снижение. При этом маркетинговая акция с 24 декабря 2020 года, видимо, не повлияля на пользователей, так как всплекса событий в ее период не наблюдается."
   ]
  },
  {
   "cell_type": "markdown",
   "metadata": {},
   "source": [
    "_______________________________________________________________________________________________________________________________"
   ]
  },
  {
   "cell_type": "markdown",
   "metadata": {},
   "source": [
    "<div class=\"alert alert-danger\" style=\"border-radius: 15px; box-shadow: 4px 4px 4px; border: 1px solid \" > <b>Комментарии от ревьюера: </b> \n",
    "\n",
    "А где этап проверки AB теста?    \n",
    "    \n",
    "    Проведите оценку результатов A/B-тестирования:\n",
    "    Проверьте статистическую разницу долей z-критерием;\n",
    "    Что можно сказать про результаты A/B-тестирования?\n",
    "\n",
    "</div>"
   ]
  },
  {
   "cell_type": "markdown",
   "metadata": {},
   "source": [
    "<div class=\"alert alert-block alert-info\">\n",
    "    \n",
    "\n",
    "__Комментарий джуниора__\n",
    "\n",
    "Добавил ниже\n",
    "</div>"
   ]
  },
  {
   "cell_type": "markdown",
   "metadata": {},
   "source": [
    "## Анализ результатов A/B теста"
   ]
  },
  {
   "cell_type": "code",
   "execution_count": 107,
   "metadata": {},
   "outputs": [],
   "source": [
    "#создадим функцию для првоерки z-тестом\n",
    "events = list(user_data['event_name'].dropna().unique())\n",
    "\n",
    "def check_z(data, events, alpha):\n",
    "    count = data.groupby('group').agg({'user_id':'nunique'}).reset_index()\n",
    "    count.columns = ['group', 'total_users']\n",
    "    for event in events:\n",
    "        nobs = data[(data['event_name'] == event) & (data['group'].isin(count['group']))].groupby('group').agg({\n",
    "            'user_id':'nunique'}).reset_index()\n",
    "        nobs.columns = ['group', event]\n",
    "        pivot_z = pd.merge(count, nobs, on = 'group')\n",
    "        pivot_z['conversions'] = round(pivot_z[event] / pivot_z['total_users'], 2)\n",
    "\n",
    "        stat, p_value = proportions_ztest(pivot_z[event].values,pivot_z['total_users'].values)\n",
    "        \n",
    "        display(pivot_z)\n",
    "\n",
    "        if p_value >= alpha:\n",
    "            print('p value = {0:.10f}'.format(p_value))\n",
    "            print('Нулевая гипотеза не отвергается: между группами нет различий конверсии по событию {}'.format(event))\n",
    "        else:\n",
    "            print('p value = {0:.10f}'.format(p_value))\n",
    "            print('Нулевая гипотеза отвергается: между группами есть различия конверсии по событию {}'.format(event))"
   ]
  },
  {
   "cell_type": "code",
   "execution_count": 109,
   "metadata": {},
   "outputs": [
    {
     "data": {
      "text/html": [
       "<div>\n",
       "<style scoped>\n",
       "    .dataframe tbody tr th:only-of-type {\n",
       "        vertical-align: middle;\n",
       "    }\n",
       "\n",
       "    .dataframe tbody tr th {\n",
       "        vertical-align: top;\n",
       "    }\n",
       "\n",
       "    .dataframe thead th {\n",
       "        text-align: right;\n",
       "    }\n",
       "</style>\n",
       "<table border=\"1\" class=\"dataframe\">\n",
       "  <thead>\n",
       "    <tr style=\"text-align: right;\">\n",
       "      <th></th>\n",
       "      <th>group</th>\n",
       "      <th>total_users</th>\n",
       "      <th>purchase</th>\n",
       "      <th>conversions</th>\n",
       "    </tr>\n",
       "  </thead>\n",
       "  <tbody>\n",
       "    <tr>\n",
       "      <td>0</td>\n",
       "      <td>A</td>\n",
       "      <td>1939</td>\n",
       "      <td>613</td>\n",
       "      <td>0.32</td>\n",
       "    </tr>\n",
       "    <tr>\n",
       "      <td>1</td>\n",
       "      <td>B</td>\n",
       "      <td>655</td>\n",
       "      <td>191</td>\n",
       "      <td>0.29</td>\n",
       "    </tr>\n",
       "  </tbody>\n",
       "</table>\n",
       "</div>"
      ],
      "text/plain": [
       "  group  total_users  purchase  conversions\n",
       "0     A         1939       613         0.32\n",
       "1     B          655       191         0.29"
      ]
     },
     "metadata": {},
     "output_type": "display_data"
    },
    {
     "name": "stdout",
     "output_type": "stream",
     "text": [
      "p value = 0.2403583627\n",
      "Нулевая гипотеза не отвергается: между группами нет различий конверсии по событию purchase\n"
     ]
    },
    {
     "data": {
      "text/html": [
       "<div>\n",
       "<style scoped>\n",
       "    .dataframe tbody tr th:only-of-type {\n",
       "        vertical-align: middle;\n",
       "    }\n",
       "\n",
       "    .dataframe tbody tr th {\n",
       "        vertical-align: top;\n",
       "    }\n",
       "\n",
       "    .dataframe thead th {\n",
       "        text-align: right;\n",
       "    }\n",
       "</style>\n",
       "<table border=\"1\" class=\"dataframe\">\n",
       "  <thead>\n",
       "    <tr style=\"text-align: right;\">\n",
       "      <th></th>\n",
       "      <th>group</th>\n",
       "      <th>total_users</th>\n",
       "      <th>product_cart</th>\n",
       "      <th>conversions</th>\n",
       "    </tr>\n",
       "  </thead>\n",
       "  <tbody>\n",
       "    <tr>\n",
       "      <td>0</td>\n",
       "      <td>A</td>\n",
       "      <td>1939</td>\n",
       "      <td>589</td>\n",
       "      <td>0.30</td>\n",
       "    </tr>\n",
       "    <tr>\n",
       "      <td>1</td>\n",
       "      <td>B</td>\n",
       "      <td>655</td>\n",
       "      <td>184</td>\n",
       "      <td>0.28</td>\n",
       "    </tr>\n",
       "  </tbody>\n",
       "</table>\n",
       "</div>"
      ],
      "text/plain": [
       "  group  total_users  product_cart  conversions\n",
       "0     A         1939           589         0.30\n",
       "1     B          655           184         0.28"
      ]
     },
     "metadata": {},
     "output_type": "display_data"
    },
    {
     "name": "stdout",
     "output_type": "stream",
     "text": [
      "p value = 0.2689932558\n",
      "Нулевая гипотеза не отвергается: между группами нет различий конверсии по событию product_cart\n"
     ]
    },
    {
     "data": {
      "text/html": [
       "<div>\n",
       "<style scoped>\n",
       "    .dataframe tbody tr th:only-of-type {\n",
       "        vertical-align: middle;\n",
       "    }\n",
       "\n",
       "    .dataframe tbody tr th {\n",
       "        vertical-align: top;\n",
       "    }\n",
       "\n",
       "    .dataframe thead th {\n",
       "        text-align: right;\n",
       "    }\n",
       "</style>\n",
       "<table border=\"1\" class=\"dataframe\">\n",
       "  <thead>\n",
       "    <tr style=\"text-align: right;\">\n",
       "      <th></th>\n",
       "      <th>group</th>\n",
       "      <th>total_users</th>\n",
       "      <th>login</th>\n",
       "      <th>conversions</th>\n",
       "    </tr>\n",
       "  </thead>\n",
       "  <tbody>\n",
       "    <tr>\n",
       "      <td>0</td>\n",
       "      <td>A</td>\n",
       "      <td>1939</td>\n",
       "      <td>1939</td>\n",
       "      <td>1.0</td>\n",
       "    </tr>\n",
       "    <tr>\n",
       "      <td>1</td>\n",
       "      <td>B</td>\n",
       "      <td>655</td>\n",
       "      <td>654</td>\n",
       "      <td>1.0</td>\n",
       "    </tr>\n",
       "  </tbody>\n",
       "</table>\n",
       "</div>"
      ],
      "text/plain": [
       "  group  total_users  login  conversions\n",
       "0     A         1939   1939          1.0\n",
       "1     B          655    654          1.0"
      ]
     },
     "metadata": {},
     "output_type": "display_data"
    },
    {
     "name": "stdout",
     "output_type": "stream",
     "text": [
      "p value = 0.0852715984\n",
      "Нулевая гипотеза не отвергается: между группами нет различий конверсии по событию login\n"
     ]
    },
    {
     "data": {
      "text/html": [
       "<div>\n",
       "<style scoped>\n",
       "    .dataframe tbody tr th:only-of-type {\n",
       "        vertical-align: middle;\n",
       "    }\n",
       "\n",
       "    .dataframe tbody tr th {\n",
       "        vertical-align: top;\n",
       "    }\n",
       "\n",
       "    .dataframe thead th {\n",
       "        text-align: right;\n",
       "    }\n",
       "</style>\n",
       "<table border=\"1\" class=\"dataframe\">\n",
       "  <thead>\n",
       "    <tr style=\"text-align: right;\">\n",
       "      <th></th>\n",
       "      <th>group</th>\n",
       "      <th>total_users</th>\n",
       "      <th>product_page</th>\n",
       "      <th>conversions</th>\n",
       "    </tr>\n",
       "  </thead>\n",
       "  <tbody>\n",
       "    <tr>\n",
       "      <td>0</td>\n",
       "      <td>A</td>\n",
       "      <td>1939</td>\n",
       "      <td>1265</td>\n",
       "      <td>0.65</td>\n",
       "    </tr>\n",
       "    <tr>\n",
       "      <td>1</td>\n",
       "      <td>B</td>\n",
       "      <td>655</td>\n",
       "      <td>367</td>\n",
       "      <td>0.56</td>\n",
       "    </tr>\n",
       "  </tbody>\n",
       "</table>\n",
       "</div>"
      ],
      "text/plain": [
       "  group  total_users  product_page  conversions\n",
       "0     A         1939          1265         0.65\n",
       "1     B          655           367         0.56"
      ]
     },
     "metadata": {},
     "output_type": "display_data"
    },
    {
     "name": "stdout",
     "output_type": "stream",
     "text": [
      "p value = 0.0000245779\n",
      "Нулевая гипотеза отвергается: между группами есть различия конверсии по событию product_page\n"
     ]
    }
   ],
   "source": [
    "# сформируем гипотезу и посмотрим на равенство или отличие долей\n",
    "#H0 - Между группами А и В нет различий конверсии по событиям\n",
    "# H1 - Между группами А и В есть различия конверсии по событиям\n",
    "check_z(user_data, events, 0.05)"
   ]
  },
  {
   "cell_type": "markdown",
   "metadata": {},
   "source": [
    "<div class=\"alert alert-success\" style=\"border-radius: 15px; box-shadow: 4px 4px 4px; border: 1px solid \" > <b>Комментарии от ревьюера v2: </b> \n",
    "\n",
    "Методологически всё верно. Был еще вариант рассматривать не от количества залогинившихся, а от общего количества пользователей в группах, даже которые не совершали действий. Возможно нововвдеение изменило конверсию таких пользователей в события\n",
    "</div>"
   ]
  },
  {
   "cell_type": "markdown",
   "metadata": {},
   "source": [
    "### Вывод"
   ]
  },
  {
   "cell_type": "markdown",
   "metadata": {},
   "source": [
    "По событиям purchase, product_cart, login статистической разницы в конверсии нет, есть различия в product_page, причем группа показывает более худшие результаты, конверсия меньше на 9%. \n",
    "Ожидаемого эффекта, что за 14 дней с момента регистрации в системе пользователи покажут улучшение каждой метрики не менее, чем на 10% не достигнуто. \n",
    "\n",
    "Исходя из предудщего анализа данных у нас отсутствуют данные за 5 дней теста, разница в количестве пользователей между группам высокая, 25%, а одним из условий теста является сопосотавимость численности групп. Предлагаю признать тест некорректным и непоказательным. Дальнейшая проработка и интерпретация результатов повлечет за собой неправильные выводы, которые могут привести к неправильным решениям для комапнии. Необходимо проведение теста в течение непраздничного периода для объективных замеров, а также настроить систему сбора данных. "
   ]
  },
  {
   "cell_type": "markdown",
   "metadata": {},
   "source": [
    "## Общий вывод"
   ]
  },
  {
   "cell_type": "markdown",
   "metadata": {},
   "source": [
    "При проверки данных на соответствие требованиям ТЗ удалось обнаружить следующее:\n",
    "\n",
    "* Данные в логах есть только до 29 декабря 2020 года, при этом тест был остановлен только 4 января 2021 года. Фактически не хватает данных для теста за 5 дней. Набор пользователей фактически был остановлен 23 декабря 2020 года вместо 21 декабря, как это предусмотрено ТЗ\n",
    "* Требование ТЗ в 15% новых пользователей из Евросоюза выполнено, из этого региона у наc 75%\n",
    "* У нас есть данные о двух проведенных тестах, recommender_system_test - тот, который интересует нас в рамках ТЗ и interface_eu_test - видимо тест, который качается изменения интфейса для пользователей Евросоюза. Есть различия и в группах в каждом тесте, в тесте interface_eu_test разница в количестве польователей составляет 3,6%, что является незначительным показателем для проведения анализа, а в тесте recommender_system_test разница составялет почти 25%, при этом у нас набирается необходимое количество пользователей: 6701\n",
    "* Есть пользователи, которые приняли участие в обоих тестах, это означает, что интересующая нас конверсия в тесте recommender_system_test могла возникнуть от второго теста, учитывая, что в нашем фокусе пользователи из Евросоюза, а тест, судя по названию проводился там же. Провели очистки данных от таких пользователей, после которой количество пользователей в интересующем тесте 5099, что почти на 1000 меньше, чем сказано в ТЗ\n",
    "* В период проведения теста проводилась рождественская промо-акция, которая длилась 9 дней в период с 25 декабря 2020 год по 3 января 2021 года, которая могла повлиять на окупательскую активность пользователей, в т.ч. из Евросоюза.\n",
    "\n",
    "У нас фактически есть данные для теста с 23 по 30 декабря 2020 года, т.е. 7 дней, а не 14, общее количество пользователей 5099, что меньше, чем тредуется ТЗ. Высокая разница между группамми А и B в тесте. В период теста проводилась маркетинговая акция, которая могла повлиять на покупательскую активность в обеих группах. Необходимо либо уточнить ТЗ, либо переделать тест. Проведем дополнительный анализ данных.\n",
    "\n",
    "Проведен исследовательский анализ данных. \n",
    "\n",
    "* сделан срез данных по условиям ТЗ, оставлены логи пользователй из Евросоюза, участников теста recommender_system_test.\n",
    "* период, за которые у нас есть данные в таблице с логами: 2020-12-07 - 2020-12-30\n",
    "* количество пользователей из Евросоюза, принявших участие в тесте 2594\n",
    "* общее количество событий в логе 17526\n",
    "* по количеству события распределелись в следующем порядке: вход - просмотр страницы продукта - покупка - корзина. Причем, здесь, видмо есть ошибка, так как добавление продукта в корзину обычно предшествует оплате. \n",
    "* только 30% всех пользователей доходит до добавления товара в корзину и оплаты. \n",
    "* в обеих группах распределение нормальное, есть хвост в сторону максимлаьных значений. В среднем на пользователя в обоих тестах приходиться 6 событий. \n",
    "* пик событий приходится на 21 декабря 2020 года, после этого к концу периода идет постепенное снижение. При этом маркетинговая акция с 24 декабря 2020 года, видимо, не повлияля на пользователей, так как всплекса событий в ее период не наблюдается.\n",
    "\n",
    "\n",
    "При проведении статистического сравнения по событиям purchase, product_cart, login статистической разницы в конверсии нет, есть различия в product_page, причем группа показывает более худшие результаты, конверсия меньше на 9%. \n",
    "Ожидаемого эффекта, что за 14 дней с момента регистрации в системе пользователи покажут улучшение каждой метрики не менее, чем на 10% не достигнуто. \n",
    "\n",
    "Исходя из предудщего анализа данных у нас отсутствуют данные за 5 дней теста, разница в количестве пользователей между группам высокая, 25%, а одним из условий теста является сопосотавимость численности групп. Предлагаю признать тест некорректным и непоказательным. Дальнейшая проработка и интерпретация результатов повлечет за собой неправильные выводы, которые могут привести к неправильным решениям для комапнии. Необходимо проведение теста в течение непраздничного периода для объективных замеров, а также настроить систему сбора данных. "
   ]
  },
  {
   "cell_type": "markdown",
   "metadata": {},
   "source": [
    "<div class=\"alert alert-success\" style=\"border-radius: 15px; box-shadow: 4px 4px 4px; border: 1px solid \" > <b>Комментарии от ревьюера v2: </b> \n",
    "\n",
    "Итоговый вывод завершает твоё исследования. Ты вывел основные результаты и дал рекомендации. Отлично!\n",
    "</div>"
   ]
  },
  {
   "cell_type": "code",
   "execution_count": null,
   "metadata": {},
   "outputs": [],
   "source": []
  }
 ],
 "metadata": {
  "ExecuteTimeLog": [
   {
    "duration": 1068,
    "start_time": "2021-10-16T14:03:35.241Z"
   },
   {
    "duration": 3455,
    "start_time": "2021-10-16T14:03:46.301Z"
   },
   {
    "duration": 20,
    "start_time": "2021-10-16T14:03:59.341Z"
   },
   {
    "duration": 19,
    "start_time": "2021-10-16T14:11:23.727Z"
   },
   {
    "duration": 65,
    "start_time": "2021-10-16T14:11:35.543Z"
   },
   {
    "duration": 12,
    "start_time": "2021-10-16T14:11:45.471Z"
   },
   {
    "duration": 246,
    "start_time": "2021-10-16T14:12:11.175Z"
   },
   {
    "duration": 53,
    "start_time": "2021-10-16T14:12:51.960Z"
   },
   {
    "duration": 42,
    "start_time": "2021-10-16T14:13:15.527Z"
   },
   {
    "duration": 102,
    "start_time": "2021-10-16T14:19:40.705Z"
   },
   {
    "duration": 90,
    "start_time": "2021-10-16T14:19:47.961Z"
   },
   {
    "duration": 58,
    "start_time": "2021-10-16T14:19:56.137Z"
   },
   {
    "duration": 228,
    "start_time": "2021-10-16T14:21:35.241Z"
   },
   {
    "duration": 992,
    "start_time": "2021-10-17T07:32:44.489Z"
   },
   {
    "duration": 3477,
    "start_time": "2021-10-17T07:32:46.093Z"
   },
   {
    "duration": 13,
    "start_time": "2021-10-17T07:32:49.572Z"
   },
   {
    "duration": 19,
    "start_time": "2021-10-17T07:32:51.197Z"
   },
   {
    "duration": 56,
    "start_time": "2021-10-17T07:32:51.926Z"
   },
   {
    "duration": 12,
    "start_time": "2021-10-17T07:32:52.495Z"
   },
   {
    "duration": 241,
    "start_time": "2021-10-17T07:32:53.695Z"
   },
   {
    "duration": 55,
    "start_time": "2021-10-17T07:32:54.326Z"
   },
   {
    "duration": 42,
    "start_time": "2021-10-17T07:32:54.959Z"
   },
   {
    "duration": 103,
    "start_time": "2021-10-17T07:32:58.444Z"
   },
   {
    "duration": 84,
    "start_time": "2021-10-17T07:32:59.301Z"
   },
   {
    "duration": 55,
    "start_time": "2021-10-17T07:33:01.270Z"
   },
   {
    "duration": 233,
    "start_time": "2021-10-17T07:33:03.248Z"
   },
   {
    "duration": 234,
    "start_time": "2021-10-17T09:12:29.736Z"
   },
   {
    "duration": 272,
    "start_time": "2021-10-17T09:13:19.461Z"
   },
   {
    "duration": 439,
    "start_time": "2021-10-17T09:14:20.954Z"
   },
   {
    "duration": 704,
    "start_time": "2021-10-17T09:22:05.449Z"
   },
   {
    "duration": 395,
    "start_time": "2021-10-17T09:22:12.004Z"
   },
   {
    "duration": 595,
    "start_time": "2021-10-17T09:48:48.551Z"
   },
   {
    "duration": 10,
    "start_time": "2021-10-17T09:48:58.281Z"
   },
   {
    "duration": 78,
    "start_time": "2021-10-17T09:48:59.628Z"
   },
   {
    "duration": 55,
    "start_time": "2021-10-17T09:49:00.941Z"
   },
   {
    "duration": 292,
    "start_time": "2021-10-17T09:49:01.973Z"
   },
   {
    "duration": 1222,
    "start_time": "2021-10-17T09:49:06.229Z"
   },
   {
    "duration": 19,
    "start_time": "2021-10-17T09:49:17.533Z"
   },
   {
    "duration": 24,
    "start_time": "2021-10-17T09:49:29.949Z"
   },
   {
    "duration": 47,
    "start_time": "2021-10-17T09:58:33.104Z"
   },
   {
    "duration": 44,
    "start_time": "2021-10-17T09:59:49.664Z"
   },
   {
    "duration": 10,
    "start_time": "2021-10-17T10:00:25.501Z"
   },
   {
    "duration": 58,
    "start_time": "2021-10-17T10:00:34.036Z"
   },
   {
    "duration": 234,
    "start_time": "2021-10-17T10:00:41.254Z"
   },
   {
    "duration": 24,
    "start_time": "2021-10-17T10:01:00.174Z"
   },
   {
    "duration": 446,
    "start_time": "2021-10-17T10:14:36.076Z"
   },
   {
    "duration": 458,
    "start_time": "2021-10-17T10:14:47.730Z"
   },
   {
    "duration": 357,
    "start_time": "2021-10-17T10:14:57.712Z"
   },
   {
    "duration": 307,
    "start_time": "2021-10-17T10:15:04.470Z"
   },
   {
    "duration": 297,
    "start_time": "2021-10-17T10:19:27.312Z"
   },
   {
    "duration": 322,
    "start_time": "2021-10-17T10:23:42.581Z"
   },
   {
    "duration": 315,
    "start_time": "2021-10-17T10:23:54.162Z"
   },
   {
    "duration": 387,
    "start_time": "2021-10-17T10:26:40.522Z"
   },
   {
    "duration": 324,
    "start_time": "2021-10-17T10:27:18.538Z"
   },
   {
    "duration": 1457,
    "start_time": "2021-10-17T12:35:14.223Z"
   },
   {
    "duration": 4089,
    "start_time": "2021-10-17T12:35:16.365Z"
   },
   {
    "duration": 26,
    "start_time": "2021-10-17T12:35:21.896Z"
   },
   {
    "duration": 39,
    "start_time": "2021-10-17T12:35:22.678Z"
   },
   {
    "duration": 78,
    "start_time": "2021-10-17T12:35:23.190Z"
   },
   {
    "duration": 19,
    "start_time": "2021-10-17T12:35:23.646Z"
   },
   {
    "duration": 348,
    "start_time": "2021-10-17T12:35:24.574Z"
   },
   {
    "duration": 78,
    "start_time": "2021-10-17T12:35:25.031Z"
   },
   {
    "duration": 74,
    "start_time": "2021-10-17T12:35:25.636Z"
   },
   {
    "duration": 146,
    "start_time": "2021-10-17T12:35:27.765Z"
   },
   {
    "duration": 79,
    "start_time": "2021-10-17T12:35:28.325Z"
   },
   {
    "duration": 358,
    "start_time": "2021-10-17T12:35:28.990Z"
   },
   {
    "duration": 552,
    "start_time": "2021-10-17T12:35:31.975Z"
   },
   {
    "duration": 34,
    "start_time": "2021-10-17T12:50:10.797Z"
   },
   {
    "duration": 32,
    "start_time": "2021-10-17T12:52:47.725Z"
   },
   {
    "duration": 8,
    "start_time": "2021-10-17T13:17:04.855Z"
   },
   {
    "duration": 7,
    "start_time": "2021-10-17T13:17:16.984Z"
   },
   {
    "duration": 5,
    "start_time": "2021-10-17T13:25:46.683Z"
   },
   {
    "duration": 3895,
    "start_time": "2021-10-17T13:25:47.467Z"
   },
   {
    "duration": 16,
    "start_time": "2021-10-17T13:25:51.365Z"
   },
   {
    "duration": 28,
    "start_time": "2021-10-17T13:25:52.011Z"
   },
   {
    "duration": 79,
    "start_time": "2021-10-17T13:25:52.731Z"
   },
   {
    "duration": 19,
    "start_time": "2021-10-17T13:25:53.316Z"
   },
   {
    "duration": 343,
    "start_time": "2021-10-17T13:25:54.379Z"
   },
   {
    "duration": 77,
    "start_time": "2021-10-17T13:25:54.899Z"
   },
   {
    "duration": 74,
    "start_time": "2021-10-17T13:25:55.580Z"
   },
   {
    "duration": 153,
    "start_time": "2021-10-17T13:25:58.410Z"
   },
   {
    "duration": 74,
    "start_time": "2021-10-17T13:25:59.083Z"
   },
   {
    "duration": 359,
    "start_time": "2021-10-17T13:25:59.555Z"
   },
   {
    "duration": 93,
    "start_time": "2021-10-17T13:26:02.131Z"
   },
   {
    "duration": 5,
    "start_time": "2021-10-17T13:26:02.947Z"
   },
   {
    "duration": 407,
    "start_time": "2021-10-17T13:26:30.903Z"
   },
   {
    "duration": 7144,
    "start_time": "2021-10-17T13:26:47.555Z"
   },
   {
    "duration": 7472,
    "start_time": "2021-10-17T13:27:45.660Z"
   },
   {
    "duration": 288,
    "start_time": "2021-10-17T13:28:52.925Z"
   },
   {
    "duration": 24,
    "start_time": "2021-10-17T13:31:27.027Z"
   },
   {
    "duration": 86,
    "start_time": "2021-10-17T13:43:59.941Z"
   },
   {
    "duration": 397,
    "start_time": "2021-10-17T13:45:31.188Z"
   },
   {
    "duration": 446,
    "start_time": "2021-10-17T13:46:00.878Z"
   },
   {
    "duration": 709,
    "start_time": "2021-10-17T13:46:16.992Z"
   },
   {
    "duration": 626,
    "start_time": "2021-10-17T13:46:17.703Z"
   },
   {
    "duration": 587,
    "start_time": "2021-10-17T13:47:59.900Z"
   },
   {
    "duration": 335,
    "start_time": "2021-10-17T14:14:23.509Z"
   },
   {
    "duration": 74,
    "start_time": "2021-10-17T14:14:32.135Z"
   },
   {
    "duration": 119,
    "start_time": "2021-10-17T14:15:02.663Z"
   },
   {
    "duration": 71,
    "start_time": "2021-10-17T14:15:29.830Z"
   },
   {
    "duration": 713,
    "start_time": "2021-10-17T14:25:47.847Z"
   },
   {
    "duration": 714,
    "start_time": "2021-10-17T14:28:03.130Z"
   },
   {
    "duration": 1738,
    "start_time": "2021-10-17T14:29:12.998Z"
   },
   {
    "duration": 1658,
    "start_time": "2021-10-17T14:29:37.326Z"
   },
   {
    "duration": 1165,
    "start_time": "2021-10-17T14:30:09.007Z"
   },
   {
    "duration": 1060,
    "start_time": "2021-10-17T14:32:20.887Z"
   },
   {
    "duration": 1250,
    "start_time": "2021-10-17T14:46:59.344Z"
   },
   {
    "duration": 7502,
    "start_time": "2021-10-17T14:47:16.999Z"
   },
   {
    "duration": 1117,
    "start_time": "2021-10-17T14:47:28.816Z"
   },
   {
    "duration": 600,
    "start_time": "2021-10-17T14:58:58.232Z"
   },
   {
    "duration": 24,
    "start_time": "2021-10-17T15:00:33.328Z"
   },
   {
    "duration": 431,
    "start_time": "2021-10-17T15:02:47.875Z"
   },
   {
    "duration": 48,
    "start_time": "2021-10-17T15:13:16.066Z"
   },
   {
    "duration": 50,
    "start_time": "2021-10-17T15:14:25.235Z"
   },
   {
    "duration": 9834,
    "start_time": "2021-10-17T15:19:07.180Z"
   },
   {
    "duration": 6073,
    "start_time": "2021-10-17T15:20:37.988Z"
   },
   {
    "duration": 1208,
    "start_time": "2021-10-17T15:21:06.629Z"
   },
   {
    "duration": 141,
    "start_time": "2021-10-17T15:30:18.634Z"
   },
   {
    "duration": 343,
    "start_time": "2021-10-17T15:30:24.310Z"
   },
   {
    "duration": 80,
    "start_time": "2021-10-17T15:30:30.994Z"
   },
   {
    "duration": 513,
    "start_time": "2021-10-17T15:36:07.796Z"
   },
   {
    "duration": 321,
    "start_time": "2021-10-17T15:36:19.162Z"
   },
   {
    "duration": 403,
    "start_time": "2021-10-17T15:36:33.338Z"
   },
   {
    "duration": 828,
    "start_time": "2021-10-17T15:36:41.594Z"
   },
   {
    "duration": 329,
    "start_time": "2021-10-17T15:37:41.538Z"
   },
   {
    "duration": 347,
    "start_time": "2021-10-17T15:38:25.842Z"
   },
   {
    "duration": 318,
    "start_time": "2021-10-17T15:58:10.120Z"
   },
   {
    "duration": 6,
    "start_time": "2021-10-17T15:58:40.908Z"
   },
   {
    "duration": 4067,
    "start_time": "2021-10-17T15:58:44.707Z"
   },
   {
    "duration": 17,
    "start_time": "2021-10-17T15:58:54.628Z"
   },
   {
    "duration": 27,
    "start_time": "2021-10-17T15:58:55.387Z"
   },
   {
    "duration": 82,
    "start_time": "2021-10-17T15:58:55.852Z"
   },
   {
    "duration": 22,
    "start_time": "2021-10-17T15:58:56.278Z"
   },
   {
    "duration": 350,
    "start_time": "2021-10-17T15:58:57.187Z"
   },
   {
    "duration": 77,
    "start_time": "2021-10-17T15:58:57.643Z"
   },
   {
    "duration": 79,
    "start_time": "2021-10-17T15:58:58.052Z"
   },
   {
    "duration": 150,
    "start_time": "2021-10-17T15:59:00.011Z"
   },
   {
    "duration": 78,
    "start_time": "2021-10-17T15:59:00.421Z"
   },
   {
    "duration": 396,
    "start_time": "2021-10-17T15:59:00.963Z"
   },
   {
    "duration": 335,
    "start_time": "2021-10-17T15:59:04.091Z"
   },
   {
    "duration": 556,
    "start_time": "2021-10-17T15:59:05.548Z"
   },
   {
    "duration": 72,
    "start_time": "2021-10-17T15:59:07.174Z"
   },
   {
    "duration": 1061,
    "start_time": "2021-10-17T15:59:11.851Z"
   },
   {
    "duration": 1915,
    "start_time": "2021-10-17T15:59:24.300Z"
   },
   {
    "duration": 1047,
    "start_time": "2021-10-17T15:59:35.356Z"
   },
   {
    "duration": 492,
    "start_time": "2021-10-17T15:59:40.987Z"
   },
   {
    "duration": 1183,
    "start_time": "2021-10-17T15:59:42.326Z"
   },
   {
    "duration": 108598,
    "start_time": "2021-10-17T15:59:43.511Z"
   },
   {
    "duration": 214,
    "start_time": "2021-10-17T16:01:31.898Z"
   },
   {
    "duration": 72,
    "start_time": "2021-10-17T16:03:05.566Z"
   },
   {
    "duration": 76,
    "start_time": "2021-10-17T16:03:11.923Z"
   },
   {
    "duration": 14083,
    "start_time": "2021-10-17T16:04:05.740Z"
   },
   {
    "duration": 150222,
    "start_time": "2021-10-17T16:08:52.441Z"
   },
   {
    "duration": 69,
    "start_time": "2021-10-17T16:13:05.374Z"
   },
   {
    "duration": 9165,
    "start_time": "2021-10-17T16:13:13.276Z"
   },
   {
    "duration": 81,
    "start_time": "2021-10-17T16:13:33.060Z"
   },
   {
    "duration": 356,
    "start_time": "2021-10-17T16:14:01.988Z"
   },
   {
    "duration": 78,
    "start_time": "2021-10-17T16:14:12.565Z"
   },
   {
    "duration": 363,
    "start_time": "2021-10-17T16:14:34.847Z"
   },
   {
    "duration": 268975,
    "start_time": "2021-10-17T16:14:56.378Z"
   },
   {
    "duration": 268,
    "start_time": "2021-10-17T16:19:25.088Z"
   },
   {
    "duration": 2238,
    "start_time": "2021-10-17T16:19:40.845Z"
   },
   {
    "duration": 1793,
    "start_time": "2021-10-17T16:20:24.789Z"
   },
   {
    "duration": 1898,
    "start_time": "2021-10-17T16:22:16.644Z"
   },
   {
    "duration": 1956,
    "start_time": "2021-10-17T16:22:56.181Z"
   },
   {
    "duration": 2435,
    "start_time": "2021-10-17T16:23:13.676Z"
   },
   {
    "duration": 551,
    "start_time": "2021-10-17T16:27:21.230Z"
   },
   {
    "duration": 34,
    "start_time": "2021-10-17T16:28:32.437Z"
   },
   {
    "duration": 33,
    "start_time": "2021-10-17T16:29:04.165Z"
   },
   {
    "duration": 93,
    "start_time": "2021-10-17T16:48:57.725Z"
   },
   {
    "duration": 114,
    "start_time": "2021-10-17T16:49:03.469Z"
   },
   {
    "duration": 75,
    "start_time": "2021-10-17T16:49:11.972Z"
   },
   {
    "duration": 93,
    "start_time": "2021-10-17T16:49:38.396Z"
   },
   {
    "duration": 764,
    "start_time": "2021-10-17T16:55:55.437Z"
   },
   {
    "duration": 24,
    "start_time": "2021-10-17T16:56:52.829Z"
   },
   {
    "duration": 89,
    "start_time": "2021-10-17T16:57:42.029Z"
   },
   {
    "duration": 86,
    "start_time": "2021-10-17T16:57:50.110Z"
   },
   {
    "duration": 761,
    "start_time": "2021-10-17T16:57:50.711Z"
   },
   {
    "duration": 832,
    "start_time": "2021-10-17T17:00:21.126Z"
   },
   {
    "duration": 784,
    "start_time": "2021-10-17T17:00:48.046Z"
   },
   {
    "duration": 30266,
    "start_time": "2021-10-18T15:40:57.041Z"
   },
   {
    "duration": 11698,
    "start_time": "2021-10-18T15:41:27.310Z"
   },
   {
    "duration": 21,
    "start_time": "2021-10-18T15:41:39.012Z"
   },
   {
    "duration": 43,
    "start_time": "2021-10-18T15:41:39.036Z"
   },
   {
    "duration": 97,
    "start_time": "2021-10-18T15:41:39.081Z"
   },
   {
    "duration": 18,
    "start_time": "2021-10-18T15:41:39.181Z"
   },
   {
    "duration": 402,
    "start_time": "2021-10-18T15:41:39.201Z"
   },
   {
    "duration": 92,
    "start_time": "2021-10-18T15:41:39.607Z"
   },
   {
    "duration": 107,
    "start_time": "2021-10-18T15:41:39.703Z"
   },
   {
    "duration": 175,
    "start_time": "2021-10-18T15:41:39.813Z"
   },
   {
    "duration": 91,
    "start_time": "2021-10-18T15:41:39.990Z"
   },
   {
    "duration": 472,
    "start_time": "2021-10-18T15:41:40.085Z"
   },
   {
    "duration": 306,
    "start_time": "2021-10-18T15:41:40.560Z"
   },
   {
    "duration": 583,
    "start_time": "2021-10-18T15:41:40.869Z"
   },
   {
    "duration": 75,
    "start_time": "2021-10-18T15:41:41.458Z"
   },
   {
    "duration": 1800,
    "start_time": "2021-10-18T15:41:41.535Z"
   },
   {
    "duration": 598,
    "start_time": "2021-10-18T15:41:43.337Z"
   },
   {
    "duration": 1182,
    "start_time": "2021-10-18T15:41:43.937Z"
   },
   {
    "duration": 2186,
    "start_time": "2021-10-18T15:41:45.123Z"
   },
   {
    "duration": 568,
    "start_time": "2021-10-18T15:41:47.311Z"
   },
   {
    "duration": 31,
    "start_time": "2021-10-18T15:41:47.882Z"
   },
   {
    "duration": 119,
    "start_time": "2021-10-18T15:41:47.915Z"
   },
   {
    "duration": 826,
    "start_time": "2021-10-18T15:41:48.039Z"
   },
   {
    "duration": 1508,
    "start_time": "2021-10-18T17:59:47.738Z"
   },
   {
    "duration": 9591,
    "start_time": "2021-10-18T17:59:56.392Z"
   },
   {
    "duration": 15,
    "start_time": "2021-10-18T18:00:05.985Z"
   },
   {
    "duration": 22,
    "start_time": "2021-10-18T18:00:09.157Z"
   },
   {
    "duration": 56,
    "start_time": "2021-10-18T18:00:09.940Z"
   },
   {
    "duration": 12,
    "start_time": "2021-10-18T18:00:10.816Z"
   },
   {
    "duration": 280,
    "start_time": "2021-10-18T18:00:12.212Z"
   },
   {
    "duration": 66,
    "start_time": "2021-10-18T18:00:13.205Z"
   },
   {
    "duration": 49,
    "start_time": "2021-10-18T18:00:14.623Z"
   },
   {
    "duration": 100,
    "start_time": "2021-10-18T18:00:26.932Z"
   },
   {
    "duration": 57,
    "start_time": "2021-10-18T18:00:27.873Z"
   },
   {
    "duration": 264,
    "start_time": "2021-10-18T18:00:31.606Z"
   },
   {
    "duration": 8757,
    "start_time": "2021-10-18T20:04:04.626Z"
   },
   {
    "duration": 95,
    "start_time": "2021-10-18T20:04:38.995Z"
   },
   {
    "duration": 81,
    "start_time": "2021-10-18T20:05:59.623Z"
   },
   {
    "duration": 355,
    "start_time": "2021-10-18T20:12:52.814Z"
   },
   {
    "duration": 11,
    "start_time": "2021-10-18T20:19:20.976Z"
   },
   {
    "duration": 338,
    "start_time": "2021-10-18T20:20:49.023Z"
   },
   {
    "duration": 22,
    "start_time": "2021-10-18T20:26:32.654Z"
   },
   {
    "duration": 440,
    "start_time": "2021-10-18T20:37:25.659Z"
   },
   {
    "duration": 25,
    "start_time": "2021-10-18T20:38:00.882Z"
   },
   {
    "duration": 7,
    "start_time": "2021-10-18T20:38:12.579Z"
   },
   {
    "duration": 3,
    "start_time": "2021-10-18T20:38:28.602Z"
   },
   {
    "duration": 14,
    "start_time": "2021-10-18T20:38:34.055Z"
   },
   {
    "duration": 3,
    "start_time": "2021-10-18T20:38:56.843Z"
   },
   {
    "duration": 7,
    "start_time": "2021-10-18T20:43:42.296Z"
   },
   {
    "duration": 13,
    "start_time": "2021-10-18T20:45:40.165Z"
   },
   {
    "duration": 364,
    "start_time": "2021-10-18T20:46:44.461Z"
   },
   {
    "duration": 2365,
    "start_time": "2021-10-19T16:14:18.589Z"
   },
   {
    "duration": 3738,
    "start_time": "2021-10-19T16:14:25.671Z"
   },
   {
    "duration": 27,
    "start_time": "2021-10-19T16:14:29.412Z"
   },
   {
    "duration": 54,
    "start_time": "2021-10-19T16:14:29.442Z"
   },
   {
    "duration": 83,
    "start_time": "2021-10-19T16:14:30.334Z"
   },
   {
    "duration": 18,
    "start_time": "2021-10-19T16:14:31.126Z"
   },
   {
    "duration": 336,
    "start_time": "2021-10-19T16:14:32.215Z"
   },
   {
    "duration": 79,
    "start_time": "2021-10-19T16:14:33.214Z"
   },
   {
    "duration": 76,
    "start_time": "2021-10-19T16:14:34.065Z"
   },
   {
    "duration": 157,
    "start_time": "2021-10-19T16:14:43.829Z"
   },
   {
    "duration": 77,
    "start_time": "2021-10-19T16:14:44.366Z"
   },
   {
    "duration": 379,
    "start_time": "2021-10-19T16:14:45.263Z"
   },
   {
    "duration": 349,
    "start_time": "2021-10-19T16:23:26.734Z"
   },
   {
    "duration": 97,
    "start_time": "2021-10-19T16:23:31.815Z"
   },
   {
    "duration": 5,
    "start_time": "2021-10-19T16:23:34.089Z"
   },
   {
    "duration": 544,
    "start_time": "2021-10-19T16:23:35.502Z"
   },
   {
    "duration": 31,
    "start_time": "2021-10-19T16:23:39.494Z"
   },
   {
    "duration": 17,
    "start_time": "2021-10-19T16:23:54.019Z"
   },
   {
    "duration": 577,
    "start_time": "2021-10-19T16:23:55.064Z"
   },
   {
    "duration": 18,
    "start_time": "2021-10-19T16:29:27.706Z"
   },
   {
    "duration": 1612,
    "start_time": "2021-10-19T16:41:27.735Z"
   },
   {
    "duration": 14,
    "start_time": "2021-10-19T16:43:51.754Z"
   },
   {
    "duration": 631,
    "start_time": "2021-10-19T17:06:53.209Z"
   },
   {
    "duration": 939,
    "start_time": "2021-10-19T17:07:03.279Z"
   },
   {
    "duration": 13,
    "start_time": "2021-10-19T17:11:41.756Z"
   },
   {
    "duration": 438,
    "start_time": "2021-10-19T17:12:33.152Z"
   },
   {
    "duration": 319,
    "start_time": "2021-10-19T17:12:52.421Z"
   },
   {
    "duration": 478,
    "start_time": "2021-10-19T17:13:21.100Z"
   },
   {
    "duration": 292,
    "start_time": "2021-10-19T17:14:46.539Z"
   },
   {
    "duration": 14,
    "start_time": "2021-10-19T17:14:54.442Z"
   },
   {
    "duration": 6,
    "start_time": "2021-10-19T17:18:33.710Z"
   },
   {
    "duration": 18,
    "start_time": "2021-10-19T17:18:40.802Z"
   },
   {
    "duration": 17,
    "start_time": "2021-10-19T17:20:19.788Z"
   },
   {
    "duration": 303,
    "start_time": "2021-10-19T17:29:50.416Z"
   },
   {
    "duration": 289,
    "start_time": "2021-10-19T17:30:06.517Z"
   },
   {
    "duration": 16,
    "start_time": "2021-10-19T17:30:52.037Z"
   },
   {
    "duration": 16,
    "start_time": "2021-10-19T17:34:02.696Z"
   },
   {
    "duration": 463,
    "start_time": "2021-10-19T17:36:23.882Z"
   },
   {
    "duration": 409,
    "start_time": "2021-10-19T17:36:35.783Z"
   },
   {
    "duration": 1075,
    "start_time": "2021-10-19T17:36:44.847Z"
   },
   {
    "duration": 1031,
    "start_time": "2021-10-19T17:36:54.367Z"
   },
   {
    "duration": 1358,
    "start_time": "2021-10-19T17:37:29.839Z"
   },
   {
    "duration": 16,
    "start_time": "2021-10-19T17:37:34.887Z"
   },
   {
    "duration": 15,
    "start_time": "2021-10-19T17:48:03.015Z"
   },
   {
    "duration": 525,
    "start_time": "2021-10-19T17:48:06.273Z"
   },
   {
    "duration": 16,
    "start_time": "2021-10-19T17:48:08.520Z"
   },
   {
    "duration": 101,
    "start_time": "2021-10-19T17:56:10.468Z"
   },
   {
    "duration": 9,
    "start_time": "2021-10-19T17:56:35.507Z"
   },
   {
    "duration": 16,
    "start_time": "2021-10-19T17:56:49.239Z"
   },
   {
    "duration": 19,
    "start_time": "2021-10-19T17:59:14.297Z"
   },
   {
    "duration": 680,
    "start_time": "2021-10-19T18:42:26.926Z"
   },
   {
    "duration": 18,
    "start_time": "2021-10-19T18:42:36.599Z"
   },
   {
    "duration": 21,
    "start_time": "2021-10-19T18:58:05.042Z"
   },
   {
    "duration": 129,
    "start_time": "2021-10-19T19:11:42.823Z"
   },
   {
    "duration": 213,
    "start_time": "2021-10-19T19:14:03.527Z"
   },
   {
    "duration": 253,
    "start_time": "2021-10-19T19:14:30.315Z"
   },
   {
    "duration": 10,
    "start_time": "2021-10-19T20:14:52.203Z"
   },
   {
    "duration": 99,
    "start_time": "2021-10-19T20:19:43.570Z"
   },
   {
    "duration": 7,
    "start_time": "2021-10-19T20:19:49.718Z"
   },
   {
    "duration": 492,
    "start_time": "2021-10-19T20:27:05.103Z"
   },
   {
    "duration": 15,
    "start_time": "2021-10-19T20:30:12.518Z"
   },
   {
    "duration": 1069,
    "start_time": "2021-10-19T20:30:49.438Z"
   },
   {
    "duration": 349,
    "start_time": "2021-10-19T20:31:06.015Z"
   },
   {
    "duration": 275,
    "start_time": "2021-10-19T20:38:03.652Z"
   },
   {
    "duration": 430,
    "start_time": "2021-10-19T20:40:55.399Z"
   },
   {
    "duration": 1118,
    "start_time": "2021-10-19T20:41:27.972Z"
   },
   {
    "duration": 535,
    "start_time": "2021-10-19T20:43:37.048Z"
   },
   {
    "duration": 555,
    "start_time": "2021-10-19T20:44:16.249Z"
   },
   {
    "duration": 614,
    "start_time": "2021-10-19T20:44:36.435Z"
   },
   {
    "duration": 270,
    "start_time": "2021-10-19T20:44:49.138Z"
   },
   {
    "duration": 8,
    "start_time": "2021-10-19T20:44:52.456Z"
   },
   {
    "duration": 469,
    "start_time": "2021-10-19T20:44:53.073Z"
   },
   {
    "duration": 17,
    "start_time": "2021-10-19T20:44:55.415Z"
   },
   {
    "duration": 343,
    "start_time": "2021-10-19T20:44:58.321Z"
   },
   {
    "duration": 535,
    "start_time": "2021-10-19T20:45:06.496Z"
   },
   {
    "duration": 1518,
    "start_time": "2021-10-19T20:46:46.456Z"
   },
   {
    "duration": 1131,
    "start_time": "2021-10-19T20:47:31.073Z"
   },
   {
    "duration": 852,
    "start_time": "2021-10-19T20:48:11.513Z"
   },
   {
    "duration": 22,
    "start_time": "2021-10-19T20:53:23.136Z"
   },
   {
    "duration": 797,
    "start_time": "2021-10-19T20:53:34.816Z"
   },
   {
    "duration": 842,
    "start_time": "2021-10-19T20:55:26.466Z"
   },
   {
    "duration": 787,
    "start_time": "2021-10-19T20:55:36.338Z"
   },
   {
    "duration": 1965,
    "start_time": "2021-10-20T14:15:14.473Z"
   },
   {
    "duration": 6812,
    "start_time": "2021-10-20T14:15:17.230Z"
   },
   {
    "duration": 22,
    "start_time": "2021-10-20T14:15:24.045Z"
   },
   {
    "duration": 29,
    "start_time": "2021-10-20T14:15:26.653Z"
   },
   {
    "duration": 86,
    "start_time": "2021-10-20T14:15:28.004Z"
   },
   {
    "duration": 19,
    "start_time": "2021-10-20T14:15:29.058Z"
   },
   {
    "duration": 387,
    "start_time": "2021-10-20T14:15:32.453Z"
   },
   {
    "duration": 82,
    "start_time": "2021-10-20T14:15:33.581Z"
   },
   {
    "duration": 76,
    "start_time": "2021-10-20T14:15:34.501Z"
   },
   {
    "duration": 159,
    "start_time": "2021-10-20T14:16:51.374Z"
   },
   {
    "duration": 80,
    "start_time": "2021-10-20T14:16:52.325Z"
   },
   {
    "duration": 371,
    "start_time": "2021-10-20T14:16:54.823Z"
   },
   {
    "duration": 298,
    "start_time": "2021-10-20T14:17:04.134Z"
   },
   {
    "duration": 99,
    "start_time": "2021-10-20T14:17:05.854Z"
   },
   {
    "duration": 7,
    "start_time": "2021-10-20T14:17:07.157Z"
   },
   {
    "duration": 570,
    "start_time": "2021-10-20T14:17:14.710Z"
   },
   {
    "duration": 35,
    "start_time": "2021-10-20T14:17:17.951Z"
   },
   {
    "duration": 17,
    "start_time": "2021-10-20T14:17:19.165Z"
   },
   {
    "duration": 568,
    "start_time": "2021-10-20T14:17:19.734Z"
   },
   {
    "duration": 22,
    "start_time": "2021-10-20T14:17:21.477Z"
   },
   {
    "duration": 364,
    "start_time": "2021-10-20T14:17:32.806Z"
   },
   {
    "duration": 8,
    "start_time": "2021-10-20T14:17:36.885Z"
   },
   {
    "duration": 511,
    "start_time": "2021-10-20T14:17:37.637Z"
   },
   {
    "duration": 17,
    "start_time": "2021-10-20T14:17:39.253Z"
   },
   {
    "duration": 1065,
    "start_time": "2021-10-20T14:17:41.358Z"
   },
   {
    "duration": 560,
    "start_time": "2021-10-20T14:17:47.086Z"
   },
   {
    "duration": 877,
    "start_time": "2021-10-20T14:17:48.828Z"
   },
   {
    "duration": 906,
    "start_time": "2021-10-20T14:26:29.694Z"
   },
   {
    "duration": 29,
    "start_time": "2021-10-20T14:26:38.223Z"
   },
   {
    "duration": 845,
    "start_time": "2021-10-20T14:26:41.680Z"
   },
   {
    "duration": 129,
    "start_time": "2021-10-20T14:27:50.065Z"
   },
   {
    "duration": 111,
    "start_time": "2021-10-20T14:28:07.224Z"
   },
   {
    "duration": 7,
    "start_time": "2021-10-20T14:29:00.969Z"
   },
   {
    "duration": 7462,
    "start_time": "2021-10-20T14:29:03.798Z"
   },
   {
    "duration": 18,
    "start_time": "2021-10-20T14:29:11.263Z"
   },
   {
    "duration": 32,
    "start_time": "2021-10-20T14:29:13.711Z"
   },
   {
    "duration": 81,
    "start_time": "2021-10-20T14:29:14.517Z"
   },
   {
    "duration": 19,
    "start_time": "2021-10-20T14:29:15.688Z"
   },
   {
    "duration": 385,
    "start_time": "2021-10-20T14:29:18.603Z"
   },
   {
    "duration": 82,
    "start_time": "2021-10-20T14:29:19.536Z"
   },
   {
    "duration": 85,
    "start_time": "2021-10-20T14:29:21.168Z"
   },
   {
    "duration": 156,
    "start_time": "2021-10-20T14:29:29.041Z"
   },
   {
    "duration": 80,
    "start_time": "2021-10-20T14:29:29.721Z"
   },
   {
    "duration": 398,
    "start_time": "2021-10-20T14:29:31.819Z"
   },
   {
    "duration": 300,
    "start_time": "2021-10-20T14:29:43.817Z"
   },
   {
    "duration": 92,
    "start_time": "2021-10-20T14:29:45.217Z"
   },
   {
    "duration": 6,
    "start_time": "2021-10-20T14:29:49.598Z"
   },
   {
    "duration": 571,
    "start_time": "2021-10-20T14:30:35.399Z"
   },
   {
    "duration": 38,
    "start_time": "2021-10-20T14:30:41.926Z"
   },
   {
    "duration": 19,
    "start_time": "2021-10-20T14:30:43.262Z"
   },
   {
    "duration": 555,
    "start_time": "2021-10-20T14:30:44.457Z"
   },
   {
    "duration": 19,
    "start_time": "2021-10-20T14:30:56.215Z"
   },
   {
    "duration": 361,
    "start_time": "2021-10-20T14:31:02.568Z"
   },
   {
    "duration": 7,
    "start_time": "2021-10-20T14:31:03.415Z"
   },
   {
    "duration": 505,
    "start_time": "2021-10-20T14:31:04.190Z"
   },
   {
    "duration": 15,
    "start_time": "2021-10-20T14:31:11.608Z"
   },
   {
    "duration": 518,
    "start_time": "2021-10-20T14:31:13.158Z"
   },
   {
    "duration": 558,
    "start_time": "2021-10-20T14:31:15.687Z"
   },
   {
    "duration": 885,
    "start_time": "2021-10-20T14:31:16.752Z"
   },
   {
    "duration": 22,
    "start_time": "2021-10-20T14:31:21.424Z"
   },
   {
    "duration": 806,
    "start_time": "2021-10-20T14:31:23.143Z"
   },
   {
    "duration": 8,
    "start_time": "2021-10-20T14:50:14.328Z"
   },
   {
    "duration": 6,
    "start_time": "2021-10-20T14:50:15.628Z"
   },
   {
    "duration": 6,
    "start_time": "2021-10-20T14:50:36.308Z"
   },
   {
    "duration": 129,
    "start_time": "2021-10-20T17:07:56.077Z"
   },
   {
    "duration": 135,
    "start_time": "2021-10-20T17:08:44.933Z"
   },
   {
    "duration": 1976,
    "start_time": "2021-10-20T19:06:47.044Z"
   },
   {
    "duration": 6420,
    "start_time": "2021-10-20T19:06:49.022Z"
   },
   {
    "duration": 23,
    "start_time": "2021-10-20T19:07:50.315Z"
   },
   {
    "duration": 31,
    "start_time": "2021-10-20T19:07:51.587Z"
   },
   {
    "duration": 84,
    "start_time": "2021-10-20T19:07:52.853Z"
   },
   {
    "duration": 20,
    "start_time": "2021-10-20T19:07:54.700Z"
   },
   {
    "duration": 343,
    "start_time": "2021-10-20T19:07:56.283Z"
   },
   {
    "duration": 81,
    "start_time": "2021-10-20T19:07:57.067Z"
   },
   {
    "duration": 78,
    "start_time": "2021-10-20T19:07:57.876Z"
   },
   {
    "duration": 176,
    "start_time": "2021-10-20T19:08:01.178Z"
   },
   {
    "duration": 79,
    "start_time": "2021-10-20T19:08:01.810Z"
   },
   {
    "duration": 356,
    "start_time": "2021-10-20T19:08:02.763Z"
   },
   {
    "duration": 290,
    "start_time": "2021-10-20T19:08:09.899Z"
   },
   {
    "duration": 99,
    "start_time": "2021-10-20T19:08:10.987Z"
   },
   {
    "duration": 6,
    "start_time": "2021-10-20T19:08:11.979Z"
   },
   {
    "duration": 543,
    "start_time": "2021-10-20T19:08:12.980Z"
   },
   {
    "duration": 36,
    "start_time": "2021-10-20T19:08:13.850Z"
   },
   {
    "duration": 16,
    "start_time": "2021-10-20T19:08:15.042Z"
   },
   {
    "duration": 525,
    "start_time": "2021-10-20T19:08:15.539Z"
   },
   {
    "duration": 18,
    "start_time": "2021-10-20T19:08:16.604Z"
   },
   {
    "duration": 260,
    "start_time": "2021-10-20T19:08:37.207Z"
   },
   {
    "duration": 8,
    "start_time": "2021-10-20T19:08:38.037Z"
   },
   {
    "duration": 5,
    "start_time": "2021-10-20T19:08:39.238Z"
   },
   {
    "duration": 484,
    "start_time": "2021-10-20T19:08:40.350Z"
   },
   {
    "duration": 15,
    "start_time": "2021-10-20T19:08:42.074Z"
   },
   {
    "duration": 1036,
    "start_time": "2021-10-20T19:08:44.346Z"
   },
   {
    "duration": 524,
    "start_time": "2021-10-20T19:22:39.602Z"
   },
   {
    "duration": 216,
    "start_time": "2021-10-20T19:23:09.215Z"
   },
   {
    "duration": 234,
    "start_time": "2021-10-20T19:25:51.903Z"
   },
   {
    "duration": 628,
    "start_time": "2021-10-20T19:29:46.931Z"
   },
   {
    "duration": 1086,
    "start_time": "2021-10-20T19:29:48.199Z"
   },
   {
    "duration": 26,
    "start_time": "2021-10-20T19:29:55.863Z"
   },
   {
    "duration": 877,
    "start_time": "2021-10-20T19:29:57.799Z"
   },
   {
    "duration": 1008,
    "start_time": "2021-10-20T19:31:27.829Z"
   },
   {
    "duration": 1013,
    "start_time": "2021-10-20T19:31:41.899Z"
   },
   {
    "duration": 818,
    "start_time": "2021-10-20T19:32:21.024Z"
   },
   {
    "duration": 770,
    "start_time": "2021-10-20T19:34:45.039Z"
   },
   {
    "duration": 847,
    "start_time": "2021-10-20T19:36:04.897Z"
   },
   {
    "duration": 889,
    "start_time": "2021-10-20T19:36:16.926Z"
   },
   {
    "duration": 970,
    "start_time": "2021-10-20T19:39:03.984Z"
   },
   {
    "duration": 859,
    "start_time": "2021-10-20T19:40:49.896Z"
   },
   {
    "duration": 8,
    "start_time": "2021-10-20T19:49:10.440Z"
   },
   {
    "duration": 11,
    "start_time": "2021-10-20T19:50:10.480Z"
   },
   {
    "duration": 11,
    "start_time": "2021-10-20T19:52:13.747Z"
   },
   {
    "duration": 74,
    "start_time": "2021-10-20T19:52:21.067Z"
   },
   {
    "duration": 347,
    "start_time": "2021-10-20T19:52:27.224Z"
   },
   {
    "duration": 288,
    "start_time": "2021-10-20T19:52:33.530Z"
   },
   {
    "duration": 90,
    "start_time": "2021-10-20T19:52:35.443Z"
   },
   {
    "duration": 6,
    "start_time": "2021-10-20T19:52:40.298Z"
   },
   {
    "duration": 558,
    "start_time": "2021-10-20T19:52:40.308Z"
   },
   {
    "duration": 34,
    "start_time": "2021-10-20T19:52:40.881Z"
   },
   {
    "duration": 15,
    "start_time": "2021-10-20T19:52:42.489Z"
   },
   {
    "duration": 527,
    "start_time": "2021-10-20T19:52:43.098Z"
   },
   {
    "duration": 20,
    "start_time": "2021-10-20T19:52:45.675Z"
   },
   {
    "duration": 278,
    "start_time": "2021-10-20T19:52:49.572Z"
   },
   {
    "duration": 7,
    "start_time": "2021-10-20T19:52:50.171Z"
   },
   {
    "duration": 6,
    "start_time": "2021-10-20T19:52:50.636Z"
   },
   {
    "duration": 478,
    "start_time": "2021-10-20T19:52:51.063Z"
   },
   {
    "duration": 15,
    "start_time": "2021-10-20T19:52:51.946Z"
   },
   {
    "duration": 503,
    "start_time": "2021-10-20T19:52:52.908Z"
   },
   {
    "duration": 214,
    "start_time": "2021-10-20T19:52:53.820Z"
   },
   {
    "duration": 556,
    "start_time": "2021-10-20T19:52:55.365Z"
   },
   {
    "duration": 847,
    "start_time": "2021-10-20T19:52:57.411Z"
   },
   {
    "duration": 25,
    "start_time": "2021-10-20T19:53:00.154Z"
   },
   {
    "duration": 917,
    "start_time": "2021-10-20T19:53:01.363Z"
   },
   {
    "duration": 14,
    "start_time": "2021-10-20T20:17:38.141Z"
   },
   {
    "duration": 648,
    "start_time": "2021-10-20T20:18:21.315Z"
   },
   {
    "duration": 639,
    "start_time": "2021-10-20T20:19:20.455Z"
   },
   {
    "duration": 25,
    "start_time": "2021-10-20T20:24:21.088Z"
   },
   {
    "duration": 9425,
    "start_time": "2021-10-20T20:37:35.944Z"
   },
   {
    "duration": 12198,
    "start_time": "2021-10-20T20:38:00.095Z"
   },
   {
    "duration": 7463,
    "start_time": "2021-10-20T20:38:15.484Z"
   },
   {
    "duration": 432,
    "start_time": "2021-10-20T20:38:39.101Z"
   },
   {
    "duration": 325,
    "start_time": "2021-10-20T20:40:56.142Z"
   },
   {
    "duration": 44,
    "start_time": "2021-10-20T20:41:07.282Z"
   },
   {
    "duration": 66,
    "start_time": "2021-10-20T20:41:17.002Z"
   },
   {
    "duration": 49,
    "start_time": "2021-10-20T20:42:37.620Z"
   },
   {
    "duration": 75,
    "start_time": "2021-10-20T20:42:44.597Z"
   },
   {
    "duration": 376,
    "start_time": "2021-10-20T20:44:00.557Z"
   },
   {
    "duration": 140,
    "start_time": "2021-10-20T20:44:14.308Z"
   },
   {
    "duration": 59,
    "start_time": "2021-10-20T20:44:28.268Z"
   },
   {
    "duration": 77,
    "start_time": "2021-10-20T20:44:35.203Z"
   },
   {
    "duration": 68,
    "start_time": "2021-10-20T20:44:53.868Z"
   },
   {
    "duration": 8,
    "start_time": "2021-10-20T20:44:54.996Z"
   },
   {
    "duration": 6,
    "start_time": "2021-10-20T20:44:58.786Z"
   },
   {
    "duration": 584,
    "start_time": "2021-10-20T20:45:05.307Z"
   },
   {
    "duration": 15,
    "start_time": "2021-10-20T20:45:10.618Z"
   },
   {
    "duration": 532,
    "start_time": "2021-10-20T20:45:16.731Z"
   },
   {
    "duration": 212,
    "start_time": "2021-10-20T20:45:22.357Z"
   },
   {
    "duration": 528,
    "start_time": "2021-10-20T20:45:29.259Z"
   },
   {
    "duration": 823,
    "start_time": "2021-10-20T20:45:33.034Z"
   },
   {
    "duration": 23,
    "start_time": "2021-10-20T20:45:41.307Z"
   },
   {
    "duration": 869,
    "start_time": "2021-10-20T20:45:45.458Z"
   },
   {
    "duration": 14,
    "start_time": "2021-10-20T20:54:26.702Z"
   },
   {
    "duration": 13,
    "start_time": "2021-10-20T20:54:29.096Z"
   },
   {
    "duration": 632,
    "start_time": "2021-10-20T20:56:09.326Z"
   },
   {
    "duration": 9,
    "start_time": "2021-10-20T20:57:10.641Z"
   },
   {
    "duration": 12,
    "start_time": "2021-10-20T20:57:17.430Z"
   },
   {
    "duration": 85,
    "start_time": "2021-10-20T20:57:20.086Z"
   },
   {
    "duration": 12,
    "start_time": "2021-10-20T20:58:03.766Z"
   },
   {
    "duration": 615,
    "start_time": "2021-10-20T20:58:04.848Z"
   },
   {
    "duration": 13,
    "start_time": "2021-10-20T20:58:18.432Z"
   },
   {
    "duration": 123,
    "start_time": "2021-10-20T20:58:19.077Z"
   },
   {
    "duration": 12,
    "start_time": "2021-10-20T20:58:43.151Z"
   },
   {
    "duration": 12,
    "start_time": "2021-10-20T20:59:08.950Z"
   },
   {
    "duration": 129,
    "start_time": "2021-10-20T20:59:11.678Z"
   },
   {
    "duration": 12,
    "start_time": "2021-10-20T20:59:47.095Z"
   },
   {
    "duration": 113,
    "start_time": "2021-10-20T20:59:50.143Z"
   },
   {
    "duration": 116,
    "start_time": "2021-10-20T21:01:23.048Z"
   }
  ],
  "kernelspec": {
   "display_name": "Python 3",
   "language": "python",
   "name": "python3"
  },
  "language_info": {
   "codemirror_mode": {
    "name": "ipython",
    "version": 3
   },
   "file_extension": ".py",
   "mimetype": "text/x-python",
   "name": "python",
   "nbconvert_exporter": "python",
   "pygments_lexer": "ipython3",
   "version": "3.8.5"
  },
  "toc": {
   "base_numbering": 1,
   "nav_menu": {},
   "number_sections": true,
   "sideBar": true,
   "skip_h1_title": true,
   "title_cell": "Table of Contents",
   "title_sidebar": "Contents",
   "toc_cell": false,
   "toc_position": {},
   "toc_section_display": true,
   "toc_window_display": false
  }
 },
 "nbformat": 4,
 "nbformat_minor": 2
}
