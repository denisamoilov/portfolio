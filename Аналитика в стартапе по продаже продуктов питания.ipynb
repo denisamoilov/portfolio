{
 "cells": [
  {
   "cell_type": "markdown",
   "metadata": {},
   "source": [
    "<div class=\"alert alert-success\">\n",
    "<font size=\"5\"><b>Комментарий ревьюера 3</b></font>\n",
    "\n",
    "Привет. Отлично, формулировки теперь полностью правильные. Помарки исправлены, и теперь работа выполнена хорошо. Классный проект вышел, молодец. Поздравляю со сданным проектом. Надеюсь, он был интересен и познавателен. Спасибо за оставленные комментарии по исправлениям. Успехов в дальнейшем пути :)\n",
    "\n",
    "</div>"
   ]
  },
  {
   "cell_type": "markdown",
   "metadata": {},
   "source": [
    "<div class=\"alert alert-info\">\n",
    "<font size=\"5\"><b>Комментарий ревьюера 2</b></font>\n",
    "\n",
    "Привет еще раз. Спасибо, что доделал работу. Оформление комментариев по работе сохраняется. Только обозначим, что это вторая итерация. \n",
    "\n",
    "</div>"
   ]
  },
  {
   "cell_type": "markdown",
   "metadata": {},
   "source": [
    "<div class=\"alert alert-info\">\n",
    "<font size=\"5\"><b>Комментарий ревьюера</b></font>\n",
    "\n",
    "Привет, Денис! Спасибо, что прислал задание:) Мы с тобой уже знакомы) Меня зовут Слепцов Артем и я буду проверять твой проект. Ты проделал большую работу над проектом. Он выполнен уже на достойном уровне. Однако есть моменты, которые еще можно улучшить. Будет здорово, если ты, надеюсь, не против, если я буду на ты, будешь отвечать на комментарии и участвовать в диалоге. Если обращение на ты неприемлемо, то прошу сообщить. \n",
    "\n",
    "Мои комментарии обозначены пометкой **Комментарий ревьюера**. Далее в файле ты сможешь найти их в похожих ячейках:\n",
    "    \n",
    "<div class=\"alert alert-success\">Если фон комментария зелёный - всё сделано правильно. Рекомендации укажу таким же цветом;</div>\n",
    "        \n",
    "<div class=\"alert alert-warning\">Оранжевый - некритичные замечания. Если таких замечаний меньше трех - проект может быть принят без их отработки;</div>\n",
    "        \n",
    "<div class=\"alert alert-danger\">Красный - нужно переделать. </div>\n",
    "        \n",
    "Не удаляй эти комментарии и постарайся учесть их в ходе выполнения данного проекта. Свои же комментарии ты можешь обозначать любым заметным способом. \n",
    "\n",
    "</div>"
   ]
  },
  {
   "cell_type": "markdown",
   "metadata": {},
   "source": [
    "<div style=\"border:solid red 2px; padding: 20px\">\n",
    "<font size=\"5\"><b>Комментарий студента</b></font>\n",
    "    \n",
    "Привет, Артём! Рад снова с тобой поработать. Благодарю за проверку моей работы и ценные комментарии. Свои ответы я буду помещать в красную рамку.\n",
    "\n",
    "Также поделюсь общим впечталением от задания. Задание очень интересное и позволят использовать знания из спринта и в целом из курса. Однако, есть небольшой минус. Это связано с последовательностью шагов и формулировках задания. С одной стороны инструкция позволяет идти по шагам, чтобы не запутаться и выполнить все, что требуется. С другой стороны очень сильно усложняет задачу и заставляет сомневаться в правильности собственных действий, что очень сильно тормозит процесс. Например, какие то шаги из раздела по воронке я сделал еше на этапе проверки данных, потому что мне показалось это логичным, и из-за структуры задания пришлось периодически повторяться. Из-за этого мне самому эта работа видиться слегка громоздкой. \n",
    "    \n",
    "</div>"
   ]
  },
  {
   "cell_type": "markdown",
   "metadata": {},
   "source": [
    "<div class=\"alert alert-success\">\n",
    "<font size=\"5\"><b>Комментарий ревьюера 2</b></font>\n",
    "\n",
    "План работы на данном этапе обучения - уже ориентир. Его полное неукоснительное соблюдение не так важно. Также ты можешь выполнить дополнительные исследования, если они кажется тебе нужными при выполнении проекта. \n",
    "</div>"
   ]
  },
  {
   "cell_type": "markdown",
   "metadata": {},
   "source": [
    "# Аналитика в стартапе по продаже продуктов питания"
   ]
  },
  {
   "cell_type": "markdown",
   "metadata": {},
   "source": [
    "Необходимо провести исследование для стартапа, который продаёт продукты питания. \n",
    "\n",
    "**Цель:** Оценить, как ведут себя пользователи мобильного приложения.\n",
    "\n",
    "**Задачи:** \n",
    "1. Изучить воронку продаж, узнать, как пользователи доходят до покупки, сколько пользователей доходит до покупки, а сколько — «застревает» на предыдущих шагах и на каких именно.\n",
    "2. Исследовать результаты A/A/B-эксперимента по использованию новых шрифтов в приложении.Пользователи разбиты на 3 группы: 2 контрольные со старыми шрифтами и 1 экспериментальная — с новыми. Необходимо выяснить, какой шрифт лучше.\n",
    "\n",
    "**Описание данных**\n",
    "Каждая запись в логе — это действие пользователя, или событие.\n",
    "* EventName — название события;\n",
    "* DeviceIDHash — уникальный идентификатор пользователя;\n",
    "* EventTimestamp — время события;\n",
    "* ExpId — номер эксперимента: 246 и 247 — контрольные группы, а 248 — экспериментальная."
   ]
  },
  {
   "cell_type": "markdown",
   "metadata": {},
   "source": [
    "## Оглавление"
   ]
  },
  {
   "cell_type": "markdown",
   "metadata": {},
   "source": [
    "1. [Откроем файл с данными и изучим общую информацию](#1)\n",
    "2. [Подготовим данные](#2)\n",
    "3. [Изучим и проверим данные](#3)\n",
    "    * [Изучим количество событий в логе](#4)\n",
    "    * [Узнаем количество пользователей в логе](#5)\n",
    "    * [Узнаем, сколько событий в среднем происходит на пользователя](#6)\n",
    "    * [Узнаем, данными за какой период мы распологаем](#7)\n",
    "    * [Удалим старые данные и узнаем, много ли событий и пользователей мы потеряли, отбросив старые данные](#8)\n",
    "    * [Проверим, что у нас есть пользователи из всех трех групп](#9)\n",
    "    * [Вывод по разделу](#10)\n",
    "4. [Изучим воронку событий](#11)\n",
    "    * [Посмотрим, какие события есть в логах, как часто они встречаются](#12)\n",
    "    * [Посчитаем, сколько пользователей совершали каждое из этих событий](#13)\n",
    "    * [Предположим, в каком порядке происходят события](#14)\n",
    "    * [По воронке событий посчитаем, какая доля пользователей проходит на следующий шаг воронки](#15)\n",
    "    * [На каком шаге теряете больше всего пользователей? Какая доля пользователей доходит от первого события до оплаты](#16)\n",
    "    * [Вывод по разделу](#17)\n",
    "5. [Изучим результаты эксперимента](#18)\n",
    "    * [Определим, сколько пользователей в каждой из контрольных групп](#19)\n",
    "    * [Проверим, находят ли статистические критерии разницу между выборками контрольных групп](#20)\n",
    "    * [Проверим, находят ли статистические критерии разницу между выборками контрольных групп по конкретным событиям](#21)\n",
    "    * [Сравним результаты экспериментальной группы с каждой из контрольных групп в отдельности и совокупно по каждому событию](#22)\n",
    "    * [Вывод по разделу](#23)\n",
    "6. [Общий вывод](#24)"
   ]
  },
  {
   "cell_type": "markdown",
   "metadata": {},
   "source": [
    "<div class=\"alert alert-success\">\n",
    "<font size=\"5\"><b>Комментарий ревьюера</b></font>\n",
    "\n",
    "Вступление в работу очень важно. Так ты поясняешь то, чему она посвящена. Здорово, что каждому пункту вводной информации ты уделил внимание. \n",
    "\n",
    "</div>"
   ]
  },
  {
   "cell_type": "markdown",
   "metadata": {},
   "source": [
    "<a id='1'></a>\n",
    "## Откроем файл с данными и изучим общую информацию"
   ]
  },
  {
   "cell_type": "markdown",
   "metadata": {},
   "source": [
    "<div class=\"alert alert-warning\">\n",
    "<font size=\"5\"><b>Комментарий ревьюера 2</b></font>\n",
    "\n",
    "Я заметил, что ячейки в твоей тетрадке идут не по порядку. Перед отправкой работы рекомендую перезапускать ноутбук, чтобы убедиться, что все ячейки выполняются корректно.\n",
    "\n",
    "</div>"
   ]
  },
  {
   "cell_type": "code",
   "execution_count": 474,
   "metadata": {},
   "outputs": [],
   "source": [
    "#обновим библиотеку seaborn, чтобы делать красивые графики\n",
    "!pip install -q seaborn "
   ]
  },
  {
   "cell_type": "code",
   "execution_count": 475,
   "metadata": {},
   "outputs": [
    {
     "data": {
      "text/html": [
       "<div>\n",
       "<style scoped>\n",
       "    .dataframe tbody tr th:only-of-type {\n",
       "        vertical-align: middle;\n",
       "    }\n",
       "\n",
       "    .dataframe tbody tr th {\n",
       "        vertical-align: top;\n",
       "    }\n",
       "\n",
       "    .dataframe thead th {\n",
       "        text-align: right;\n",
       "    }\n",
       "</style>\n",
       "<table border=\"1\" class=\"dataframe\">\n",
       "  <thead>\n",
       "    <tr style=\"text-align: right;\">\n",
       "      <th></th>\n",
       "      <th>EventName</th>\n",
       "      <th>DeviceIDHash</th>\n",
       "      <th>EventTimestamp</th>\n",
       "      <th>ExpId</th>\n",
       "    </tr>\n",
       "  </thead>\n",
       "  <tbody>\n",
       "    <tr>\n",
       "      <td>0</td>\n",
       "      <td>MainScreenAppear</td>\n",
       "      <td>4575588528974610257</td>\n",
       "      <td>1564029816</td>\n",
       "      <td>246</td>\n",
       "    </tr>\n",
       "    <tr>\n",
       "      <td>1</td>\n",
       "      <td>MainScreenAppear</td>\n",
       "      <td>7416695313311560658</td>\n",
       "      <td>1564053102</td>\n",
       "      <td>246</td>\n",
       "    </tr>\n",
       "    <tr>\n",
       "      <td>2</td>\n",
       "      <td>PaymentScreenSuccessful</td>\n",
       "      <td>3518123091307005509</td>\n",
       "      <td>1564054127</td>\n",
       "      <td>248</td>\n",
       "    </tr>\n",
       "    <tr>\n",
       "      <td>3</td>\n",
       "      <td>CartScreenAppear</td>\n",
       "      <td>3518123091307005509</td>\n",
       "      <td>1564054127</td>\n",
       "      <td>248</td>\n",
       "    </tr>\n",
       "    <tr>\n",
       "      <td>4</td>\n",
       "      <td>PaymentScreenSuccessful</td>\n",
       "      <td>6217807653094995999</td>\n",
       "      <td>1564055322</td>\n",
       "      <td>248</td>\n",
       "    </tr>\n",
       "  </tbody>\n",
       "</table>\n",
       "</div>"
      ],
      "text/plain": [
       "                 EventName         DeviceIDHash  EventTimestamp  ExpId\n",
       "0  MainScreenAppear         4575588528974610257  1564029816      246  \n",
       "1  MainScreenAppear         7416695313311560658  1564053102      246  \n",
       "2  PaymentScreenSuccessful  3518123091307005509  1564054127      248  \n",
       "3  CartScreenAppear         3518123091307005509  1564054127      248  \n",
       "4  PaymentScreenSuccessful  6217807653094995999  1564055322      248  "
      ]
     },
     "metadata": {},
     "output_type": "display_data"
    },
    {
     "name": "stdout",
     "output_type": "stream",
     "text": [
      "<class 'pandas.core.frame.DataFrame'>\n",
      "RangeIndex: 244126 entries, 0 to 244125\n",
      "Data columns (total 4 columns):\n",
      "EventName         244126 non-null object\n",
      "DeviceIDHash      244126 non-null int64\n",
      "EventTimestamp    244126 non-null int64\n",
      "ExpId             244126 non-null int64\n",
      "dtypes: int64(3), object(1)\n",
      "memory usage: 7.5+ MB\n",
      "413\n",
      "Доля дубликатов от общего количества данных 0.17%\n",
      "Уникальные события ['MainScreenAppear' 'PaymentScreenSuccessful' 'CartScreenAppear'\n",
      " 'OffersScreenAppear' 'Tutorial']\n"
     ]
    }
   ],
   "source": [
    "#импортируем библиотеки\n",
    "import pandas as pd\n",
    "from datetime import timedelta\n",
    "import matplotlib.pyplot as plt\n",
    "import scipy.stats as stats\n",
    "import numpy as np\n",
    "import math as mth\n",
    "import seaborn as sns\n",
    "sns.set(color_codes=True)\n",
    "import plotly.express as px\n",
    "from plotly import graph_objects as go\n",
    "pd.set_option('display.max_colwidth', -1)\n",
    "\n",
    "#сохраним данные в переменную\n",
    "data = pd.read_csv('/datasets/logs_exp.csv', sep= \"\\t\")\n",
    "display(data.head())\n",
    "data.info()\n",
    "\n",
    "#найдем дубликаты\n",
    "print(data.duplicated().sum())\n",
    "part = data.duplicated().sum() / data['EventName'].count()\n",
    "print('Доля дубликатов от общего количества данных {:.2%}'.format(part))\n",
    "\n",
    "#узнаем сколько уникальных событий\n",
    "print('Уникальные события', data['EventName'].unique())"
   ]
  },
  {
   "cell_type": "markdown",
   "metadata": {},
   "source": [
    "<div class=\"alert alert-success\">\n",
    "<font size=\"5\"><b>Комментарий ревьюера</b></font>\n",
    "\n",
    "Правильно, что весь импорт ты проводишь в первой ячейке работы. Так твой коллега, запускающий работу, будет в курсе используемых в ней библиотек и сможет при необходимости быстро настроить окружение. \n",
    "\n",
    "</div>"
   ]
  },
  {
   "cell_type": "code",
   "execution_count": 476,
   "metadata": {},
   "outputs": [
    {
     "data": {
      "text/html": [
       "<div>\n",
       "<style scoped>\n",
       "    .dataframe tbody tr th:only-of-type {\n",
       "        vertical-align: middle;\n",
       "    }\n",
       "\n",
       "    .dataframe tbody tr th {\n",
       "        vertical-align: top;\n",
       "    }\n",
       "\n",
       "    .dataframe thead th {\n",
       "        text-align: right;\n",
       "    }\n",
       "</style>\n",
       "<table border=\"1\" class=\"dataframe\">\n",
       "  <thead>\n",
       "    <tr style=\"text-align: right;\">\n",
       "      <th></th>\n",
       "      <th>DeviceIDHash</th>\n",
       "      <th>ExpId</th>\n",
       "    </tr>\n",
       "  </thead>\n",
       "  <tbody>\n",
       "    <tr>\n",
       "      <td>0</td>\n",
       "      <td>6888746892508752</td>\n",
       "      <td>1</td>\n",
       "    </tr>\n",
       "    <tr>\n",
       "      <td>5030</td>\n",
       "      <td>6207768971558512760</td>\n",
       "      <td>1</td>\n",
       "    </tr>\n",
       "    <tr>\n",
       "      <td>5042</td>\n",
       "      <td>6217807653094995999</td>\n",
       "      <td>1</td>\n",
       "    </tr>\n",
       "    <tr>\n",
       "      <td>5041</td>\n",
       "      <td>6217295124800833842</td>\n",
       "      <td>1</td>\n",
       "    </tr>\n",
       "    <tr>\n",
       "      <td>5040</td>\n",
       "      <td>6216080220799726690</td>\n",
       "      <td>1</td>\n",
       "    </tr>\n",
       "  </tbody>\n",
       "</table>\n",
       "</div>"
      ],
      "text/plain": [
       "             DeviceIDHash  ExpId\n",
       "0     6888746892508752     1    \n",
       "5030  6207768971558512760  1    \n",
       "5042  6217807653094995999  1    \n",
       "5041  6217295124800833842  1    \n",
       "5040  6216080220799726690  1    "
      ]
     },
     "metadata": {},
     "output_type": "display_data"
    }
   ],
   "source": [
    "#найдем пользователей, попавшие в несколько групп эксперимента\n",
    "userid_group = data.groupby('DeviceIDHash').agg({'ExpId': 'nunique'}).reset_index()\n",
    "display(userid_group.sort_values(by = 'ExpId', ascending = False).head())"
   ]
  },
  {
   "cell_type": "markdown",
   "metadata": {},
   "source": [
    "### Вывод"
   ]
  },
  {
   "cell_type": "markdown",
   "metadata": {},
   "source": [
    "В представленном наборе данных содержится информация о действиях пользователей. В столбце с информацией о дате и времени события указан неверный формат даты, также значение записано в формате UnixTime, названия столбцов написаны буквами разного регистра, а также несколькими словами, что снижает операционность использования данных и повышает риск ошибок, номера экспериментов необходимо преобразовать в названия групп, обнаружено 413 дубликатов, что составляет 0.17% от общего объема данных. Дубликаты могли появиться из-за того, что данные формировались по периодам, технически в логи новых дней по некоторым пользователям могут «доезжать» события из прошлого. Пропуски отсутствуют, пересечения пользователей по группам отсутствуют. "
   ]
  },
  {
   "cell_type": "markdown",
   "metadata": {},
   "source": [
    "<a id='2'></a>\n",
    "## Подготовим данные"
   ]
  },
  {
   "cell_type": "markdown",
   "metadata": {},
   "source": [
    "<div class=\"alert alert-warning\">\n",
    "<font size=\"5\"><b>Комментарий ревьюера</b></font>\n",
    "\n",
    "Не надо переименовывать столбцы через атрибут columns, потому что так ты неявно учитываешь порядок столбцов. Если порядок столбцов поменяется, код перестанет работать. Используй вместо этого метод rename().\n",
    "    \n",
    "</div>"
   ]
  },
  {
   "cell_type": "markdown",
   "metadata": {},
   "source": [
    "<div style=\"border:solid red 2px; padding: 20px\">\n",
    "<font size=\"5\"><b>Комментарий студента</b></font>\n",
    "    \n",
    "Спасибо за совет! Изменил код ниже. Переименовал столбцы через метод rename()\n",
    "    \n",
    "</div>"
   ]
  },
  {
   "cell_type": "markdown",
   "metadata": {},
   "source": [
    "<div class=\"alert alert-success\">\n",
    "<font size=\"5\"><b>Комментарий ревьюера 2</b></font>\n",
    "\n",
    "Так мы именно переименовываем столбцы, а не создаем новый набор названий. \n",
    "\n",
    "</div>"
   ]
  },
  {
   "cell_type": "code",
   "execution_count": 477,
   "metadata": {},
   "outputs": [
    {
     "name": "stdout",
     "output_type": "stream",
     "text": [
      "<class 'pandas.core.frame.DataFrame'>\n",
      "RangeIndex: 243713 entries, 0 to 243712\n",
      "Data columns (total 4 columns):\n",
      "event       243713 non-null object\n",
      "userid      243713 non-null int64\n",
      "datetime    243713 non-null datetime64[ns]\n",
      "group       243713 non-null object\n",
      "dtypes: datetime64[ns](1), int64(1), object(2)\n",
      "memory usage: 7.4+ MB\n"
     ]
    }
   ],
   "source": [
    "#заменим названия столбцов (ОБНОВЛЕНИЕ)!!!!!!!!!!!!!!!!!!!!!!!!!!!!!!!!!!!!!!!!!!!!!!!!!!!!!!!!!!!!!!!!!!!!!!!!!!!!!!!!!!!!!!!!\n",
    "data = data.rename(columns={'EventName': 'event', 'DeviceIDHash': 'userid', 'EventTimestamp': 'datetime', 'ExpId': 'group'})\n",
    "\n",
    "#преобразуем формат даты\n",
    "data['datetime'] = pd.to_datetime(data['datetime'], unit='s')\n",
    "\n",
    "#удалим дубликаты\n",
    "data = data.drop_duplicates().reset_index(drop = True)\n",
    "\n",
    "#заменим номера экспериментов на название групп\n",
    "data['group'] = data['group'].replace(246, 'A1')\n",
    "data['group'] = data['group'].replace(247, 'A2')\n",
    "data['group'] = data['group'].replace(248, 'B')\n",
    "\n",
    "data.info()"
   ]
  },
  {
   "cell_type": "code",
   "execution_count": 478,
   "metadata": {},
   "outputs": [
    {
     "data": {
      "text/html": [
       "<div>\n",
       "<style scoped>\n",
       "    .dataframe tbody tr th:only-of-type {\n",
       "        vertical-align: middle;\n",
       "    }\n",
       "\n",
       "    .dataframe tbody tr th {\n",
       "        vertical-align: top;\n",
       "    }\n",
       "\n",
       "    .dataframe thead th {\n",
       "        text-align: right;\n",
       "    }\n",
       "</style>\n",
       "<table border=\"1\" class=\"dataframe\">\n",
       "  <thead>\n",
       "    <tr style=\"text-align: right;\">\n",
       "      <th></th>\n",
       "      <th>event</th>\n",
       "      <th>userid</th>\n",
       "      <th>datetime</th>\n",
       "      <th>group</th>\n",
       "      <th>date</th>\n",
       "    </tr>\n",
       "  </thead>\n",
       "  <tbody>\n",
       "    <tr>\n",
       "      <td>0</td>\n",
       "      <td>MainScreenAppear</td>\n",
       "      <td>4575588528974610257</td>\n",
       "      <td>2019-07-25 04:43:36</td>\n",
       "      <td>A1</td>\n",
       "      <td>2019-07-25</td>\n",
       "    </tr>\n",
       "    <tr>\n",
       "      <td>1</td>\n",
       "      <td>MainScreenAppear</td>\n",
       "      <td>7416695313311560658</td>\n",
       "      <td>2019-07-25 11:11:42</td>\n",
       "      <td>A1</td>\n",
       "      <td>2019-07-25</td>\n",
       "    </tr>\n",
       "    <tr>\n",
       "      <td>2</td>\n",
       "      <td>PaymentScreenSuccessful</td>\n",
       "      <td>3518123091307005509</td>\n",
       "      <td>2019-07-25 11:28:47</td>\n",
       "      <td>B</td>\n",
       "      <td>2019-07-25</td>\n",
       "    </tr>\n",
       "    <tr>\n",
       "      <td>3</td>\n",
       "      <td>CartScreenAppear</td>\n",
       "      <td>3518123091307005509</td>\n",
       "      <td>2019-07-25 11:28:47</td>\n",
       "      <td>B</td>\n",
       "      <td>2019-07-25</td>\n",
       "    </tr>\n",
       "    <tr>\n",
       "      <td>4</td>\n",
       "      <td>PaymentScreenSuccessful</td>\n",
       "      <td>6217807653094995999</td>\n",
       "      <td>2019-07-25 11:48:42</td>\n",
       "      <td>B</td>\n",
       "      <td>2019-07-25</td>\n",
       "    </tr>\n",
       "  </tbody>\n",
       "</table>\n",
       "</div>"
      ],
      "text/plain": [
       "                     event               userid            datetime group  \\\n",
       "0  MainScreenAppear         4575588528974610257 2019-07-25 04:43:36  A1     \n",
       "1  MainScreenAppear         7416695313311560658 2019-07-25 11:11:42  A1     \n",
       "2  PaymentScreenSuccessful  3518123091307005509 2019-07-25 11:28:47  B      \n",
       "3  CartScreenAppear         3518123091307005509 2019-07-25 11:28:47  B      \n",
       "4  PaymentScreenSuccessful  6217807653094995999 2019-07-25 11:48:42  B      \n",
       "\n",
       "        date  \n",
       "0 2019-07-25  \n",
       "1 2019-07-25  \n",
       "2 2019-07-25  \n",
       "3 2019-07-25  \n",
       "4 2019-07-25  "
      ]
     },
     "metadata": {},
     "output_type": "display_data"
    }
   ],
   "source": [
    "#добавим столбец даты\n",
    "data['date'] = data['datetime'].dt.floor('D')\n",
    "display(data.head())"
   ]
  },
  {
   "cell_type": "markdown",
   "metadata": {},
   "source": [
    "### Вывод"
   ]
  },
  {
   "cell_type": "markdown",
   "metadata": {},
   "source": [
    "Проведена замена названий столбцов, преобразован формат даты и времени, создан отдельный столбец с датой, удалены дубликаты, заменены номера экспериментов на названия групп"
   ]
  },
  {
   "cell_type": "markdown",
   "metadata": {},
   "source": [
    "<div class=\"alert alert-success\">\n",
    "<font size=\"5\"><b>Комментарий ревьюера</b></font>\n",
    "\n",
    "Подумай также о возможных причинах появления дубликатов в данных. Первый взгляд на таблицу выполнен.\n",
    "\n",
    "</div>"
   ]
  },
  {
   "cell_type": "markdown",
   "metadata": {},
   "source": [
    "<a id='3'></a>\n",
    "##  Изучим и проверим данные"
   ]
  },
  {
   "cell_type": "markdown",
   "metadata": {},
   "source": [
    "<a id='4'></a>\n",
    "### Изучим количество событий в логе"
   ]
  },
  {
   "cell_type": "code",
   "execution_count": 479,
   "metadata": {},
   "outputs": [
    {
     "name": "stdout",
     "output_type": "stream",
     "text": [
      "Количество событий в логе 243713\n",
      "Количество событий в логе по видам MainScreenAppear           119101\n",
      "OffersScreenAppear         46808 \n",
      "CartScreenAppear           42668 \n",
      "PaymentScreenSuccessful    34118 \n",
      "Tutorial                   1018  \n",
      "Name: event, dtype: int64\n"
     ]
    },
    {
     "data": {
      "image/png": "[encoded data removed]",
      "text/plain": [
       "<Figure size 1800x720 with 1 Axes>"
      ]
     },
     "metadata": {},
     "output_type": "display_data"
    }
   ],
   "source": [
    "print('Количество событий в логе', data['event'].count())\n",
    "print('Количество событий в логе по видам', data['event'].value_counts())\n",
    "\n",
    "#построим график\n",
    "sns.set()\n",
    "plt.figure(figsize = (25, 10))\n",
    "ax = sns.barplot(data = data.groupby('event').agg({'userid': 'count'}).reset_index(), x = 'event', y = 'userid')\n",
    "plt.xlabel(\"Событие\", fontsize = 20)\n",
    "plt.ylabel(\"Количество\", fontsize = 20)\n",
    "plt.title(\"Количество событий в логе\", fontsize = 25)\n",
    "for i in ax.patches:\n",
    "    ax.text(i.get_x()+.2, i.get_height()+80, \\\n",
    "            str(round((i.get_height()), 0)), fontsize=25, color='dimgrey')\n",
    "plt.show()"
   ]
  },
  {
   "cell_type": "markdown",
   "metadata": {},
   "source": [
    "#### Вывод"
   ]
  },
  {
   "cell_type": "markdown",
   "metadata": {},
   "source": [
    "Всего в логе записано 249713 событий, из них: \n",
    "\n",
    "* MainScreenAppear(показ главного экрана) - 119101\n",
    "\n",
    "* OffersScreenAppear(показ экрана с предложениями) - 46808\n",
    "\n",
    "* CartScreenAppear(показ экрана \"корзины\") - 42668\n",
    "\n",
    "* PaymentScreenSuccessful(показ экрана успешной оплаты)- 34118\n",
    "\n",
    "* Tutorial(руководство, инструкция) - 1018"
   ]
  },
  {
   "cell_type": "markdown",
   "metadata": {},
   "source": [
    "<a id='5'></a>\n",
    "### Узнаем количество пользователей в логе"
   ]
  },
  {
   "cell_type": "code",
   "execution_count": 480,
   "metadata": {},
   "outputs": [
    {
     "name": "stdout",
     "output_type": "stream",
     "text": [
      "Количество пользователей в логе 7551\n"
     ]
    }
   ],
   "source": [
    "print('Количество пользователей в логе', data['userid'].nunique())"
   ]
  },
  {
   "cell_type": "markdown",
   "metadata": {},
   "source": [
    "<a id='6'></a>\n",
    "### Узнаем, сколько событий в среднем происходит на пользователя"
   ]
  },
  {
   "cell_type": "markdown",
   "metadata": {},
   "source": [
    "<div style=\"border:solid red 2px; padding: 20px\">\n",
    "<font size=\"5\"><b>Комментарий студента</b></font>\n",
    "    \n",
    "Раздел обновлен\n",
    "    \n",
    "</div>"
   ]
  },
  {
   "cell_type": "code",
   "execution_count": 481,
   "metadata": {},
   "outputs": [
    {
     "name": "stdout",
     "output_type": "stream",
     "text": [
      "В среднем на одного пользователя происходит 32.28 события\n"
     ]
    },
    {
     "data": {
      "text/html": [
       "<div>\n",
       "<style scoped>\n",
       "    .dataframe tbody tr th:only-of-type {\n",
       "        vertical-align: middle;\n",
       "    }\n",
       "\n",
       "    .dataframe tbody tr th {\n",
       "        vertical-align: top;\n",
       "    }\n",
       "\n",
       "    .dataframe thead th {\n",
       "        text-align: right;\n",
       "    }\n",
       "</style>\n",
       "<table border=\"1\" class=\"dataframe\">\n",
       "  <thead>\n",
       "    <tr style=\"text-align: right;\">\n",
       "      <th></th>\n",
       "      <th>userid</th>\n",
       "      <th>event</th>\n",
       "    </tr>\n",
       "  </thead>\n",
       "  <tbody>\n",
       "    <tr>\n",
       "      <td>0</td>\n",
       "      <td>6888746892508752</td>\n",
       "      <td>1</td>\n",
       "    </tr>\n",
       "    <tr>\n",
       "      <td>1</td>\n",
       "      <td>6909561520679493</td>\n",
       "      <td>5</td>\n",
       "    </tr>\n",
       "    <tr>\n",
       "      <td>2</td>\n",
       "      <td>6922444491712477</td>\n",
       "      <td>47</td>\n",
       "    </tr>\n",
       "    <tr>\n",
       "      <td>3</td>\n",
       "      <td>7435777799948366</td>\n",
       "      <td>6</td>\n",
       "    </tr>\n",
       "    <tr>\n",
       "      <td>4</td>\n",
       "      <td>7702139951469979</td>\n",
       "      <td>137</td>\n",
       "    </tr>\n",
       "  </tbody>\n",
       "</table>\n",
       "</div>"
      ],
      "text/plain": [
       "             userid  event\n",
       "0  6888746892508752  1    \n",
       "1  6909561520679493  5    \n",
       "2  6922444491712477  47   \n",
       "3  7435777799948366  6    \n",
       "4  7702139951469979  137  "
      ]
     },
     "metadata": {},
     "output_type": "display_data"
    },
    {
     "data": {
      "image/png": "[encoded data removed]",
      "text/plain": [
       "<Figure size 1080x360 with 1 Axes>"
      ]
     },
     "metadata": {},
     "output_type": "display_data"
    }
   ],
   "source": [
    "print('В среднем на одного пользователя происходит {:.2f}'.format(data['event'].count() / data['userid'].nunique()), 'события')\n",
    "\n",
    "#оценим распределение по событиям \n",
    "event_by_users = data.groupby('userid').agg({'event': 'count'}).reset_index()\n",
    "display(event_by_users.head())\n",
    "\n",
    "#построим гистограмму распределения\n",
    "plt.figure(figsize = (15,5))\n",
    "sns.distplot(event_by_users['event'])\n",
    "plt.xlabel(\"Количество событий на 1 пользователя\", fontsize = 15)\n",
    "plt.ylabel(\"Плотность распределения\", fontsize = 15)\n",
    "plt.title(\"Гистограмма распределения количества событий на одного пользователя\", fontsize = 15)\n",
    "plt.show()"
   ]
  },
  {
   "cell_type": "markdown",
   "metadata": {},
   "source": [
    "Гистограмма распределения показывает очень длинный хвост по количеству событий, которые могут быть выбросами, влияющими на среднее количество событий на пользователя, необходимо посмотреть статистические параметры."
   ]
  },
  {
   "cell_type": "code",
   "execution_count": 482,
   "metadata": {},
   "outputs": [
    {
     "name": "stdout",
     "output_type": "stream",
     "text": [
      "count    7551.000000\n",
      "mean     32.275593  \n",
      "std      65.154219  \n",
      "min      1.000000   \n",
      "25%      9.000000   \n",
      "50%      20.000000  \n",
      "75%      37.000000  \n",
      "max      2307.000000\n",
      "Name: event, dtype: float64\n"
     ]
    }
   ],
   "source": [
    "print(event_by_users['event'].describe())"
   ]
  },
  {
   "cell_type": "markdown",
   "metadata": {},
   "source": [
    "Среднее значение - 20 событий, медианное - 32 события. Максимальное количество событий составляет 2307! Что кажется нереальным."
   ]
  },
  {
   "cell_type": "code",
   "execution_count": 483,
   "metadata": {},
   "outputs": [
    {
     "name": "stdout",
     "output_type": "stream",
     "text": [
      "Максимальное нормально значение по по количеству событий: 79.0\n",
      "Межквартильный диапазон по по количеству событий: 28.0\n"
     ]
    }
   ],
   "source": [
    "#расчитаем максимальное нормальное значение\n",
    "Q1 = event_by_users['event'].quantile(0.25)\n",
    "Q3 = event_by_users['event'].quantile(0.75)\n",
    "IQR = Q3 - Q1\n",
    "maximum = Q3+(1.5*IQR)\n",
    "print('Максимальное нормально значение по по количеству событий:', maximum)\n",
    "print('Межквартильный диапазон по по количеству событий:', IQR)"
   ]
  },
  {
   "cell_type": "code",
   "execution_count": 484,
   "metadata": {},
   "outputs": [],
   "source": [
    "#сделаем срез, уберем все значения, выше максимального нормального\n",
    "event_by_users = event_by_users[event_by_users['event'] <= 79]"
   ]
  },
  {
   "cell_type": "code",
   "execution_count": 485,
   "metadata": {},
   "outputs": [
    {
     "data": {
      "image/png": "[encoded data removed]",
      "text/plain": [
       "<Figure size 1080x720 with 1 Axes>"
      ]
     },
     "metadata": {},
     "output_type": "display_data"
    }
   ],
   "source": [
    "#построим точечную диаграмму\n",
    "plt.figure(figsize=(15, 10))\n",
    "x_values = pd.Series(range(0,len(event_by_users)))\n",
    "plt.scatter(x_values, event_by_users['event']);\n",
    "plt.xlabel(\"Пользователи\", fontsize = 15)\n",
    "plt.ylabel(\"Количество событий\", fontsize = 15)\n",
    "plt.title(\"Распределение количества событий по пользователям\", fontsize = 25)\n",
    "plt.show()"
   ]
  },
  {
   "cell_type": "markdown",
   "metadata": {},
   "source": [
    "Выбросы отсутствуют, картина кажется более реальной. Посмотрим еще раз основные статистические параметры"
   ]
  },
  {
   "cell_type": "code",
   "execution_count": 486,
   "metadata": {},
   "outputs": [
    {
     "name": "stdout",
     "output_type": "stream",
     "text": [
      "count    7057.000000\n",
      "mean     23.018138  \n",
      "std      17.877130  \n",
      "min      1.000000   \n",
      "25%      9.000000   \n",
      "50%      18.000000  \n",
      "75%      33.000000  \n",
      "max      79.000000  \n",
      "Name: event, dtype: float64\n"
     ]
    }
   ],
   "source": [
    "print(event_by_users['event'].describe())"
   ]
  },
  {
   "cell_type": "markdown",
   "metadata": {},
   "source": [
    "#### Вывод"
   ]
  },
  {
   "cell_type": "markdown",
   "metadata": {},
   "source": [
    "Среднее количество событий на 1 пользователя составило 32, медианное 20. Были обнаружены выбросы, максимальное номральное значения составило 79 событий. После удаления выбросов среднее количество событий составило 23, медианное - 18, что соотвествует реальности. "
   ]
  },
  {
   "cell_type": "markdown",
   "metadata": {},
   "source": [
    "<div class=\"alert alert-success\">\n",
    "<font size=\"5\"><b>Комментарий ревьюера</b></font>\n",
    "\n",
    "Как думаешь, 32 события на пользователя - это много?\n",
    "\n",
    "</div>"
   ]
  },
  {
   "cell_type": "markdown",
   "metadata": {},
   "source": [
    "<a id='7'></a>\n",
    "### Узнаем, данными за какой период мы распологаем"
   ]
  },
  {
   "cell_type": "code",
   "execution_count": 487,
   "metadata": {},
   "outputs": [
    {
     "name": "stdout",
     "output_type": "stream",
     "text": [
      "Самая ранняя дата в логе 2019-07-25 00:00:00\n",
      "Самая поздняя дата в логе 2019-08-07 00:00:00\n"
     ]
    }
   ],
   "source": [
    "#выделим максимальную и минимальную дату\n",
    "maxdate = data['date'].max()\n",
    "mindate = data['date'].min()\n",
    "\n",
    "print('Самая ранняя дата в логе', mindate)\n",
    "print('Самая поздняя дата в логе', maxdate)"
   ]
  },
  {
   "cell_type": "code",
   "execution_count": 488,
   "metadata": {},
   "outputs": [
    {
     "data": {
      "image/png": "[encoded data removed]",
      "text/plain": [
       "<Figure size 1800x720 with 1 Axes>"
      ]
     },
     "metadata": {},
     "output_type": "display_data"
    }
   ],
   "source": [
    "#построим гистограмму\n",
    "plt.figure(figsize = (25, 10))\n",
    "plt.hist(data['datetime'])\n",
    "plt.xlabel(\"Дата\", fontsize = 20)\n",
    "plt.ylabel(\"Количество данных\", fontsize = 20)\n",
    "plt.title(\"Гистограмма полноты данных\", fontsize = 25)\n",
    "plt.show()"
   ]
  },
  {
   "cell_type": "markdown",
   "metadata": {},
   "source": [
    "<div class=\"alert alert-success\">\n",
    "<font size=\"5\"><b>Комментарий ревьюера</b></font>\n",
    "\n",
    "С предупреждениями также стоит разобраться. Иногда их бывает слишком много, поэтому важно уметь их скрывать. В этом тебе поможет библиотека warnings. Попробуй найти подходящий метод и убрать предупреждения.  \n",
    "\n",
    "</div>"
   ]
  },
  {
   "cell_type": "markdown",
   "metadata": {},
   "source": [
    "#### Вывод "
   ]
  },
  {
   "cell_type": "markdown",
   "metadata": {},
   "source": [
    "Самая ранняя дата в логе 2019-07-25, самая поздняя дата в логе 2019-08-07. Полными можно считать только данные за период с 2019-08-01 до 2019-08-07. Данные за пределами периода необходимо убрать. "
   ]
  },
  {
   "cell_type": "markdown",
   "metadata": {},
   "source": [
    "<div class=\"alert alert-success\">\n",
    "<font size=\"5\"><b>Комментарий ревьюера</b></font>\n",
    "\n",
    "Верный выбор. Число строк до данной даты у нас незначительное. \n",
    "    \n",
    "</div>"
   ]
  },
  {
   "cell_type": "markdown",
   "metadata": {},
   "source": [
    "<a id='8'></a>\n",
    "### Удалим старые данные и узнаем, много ли событий и пользователей мы потеряли, отбросив старые данные"
   ]
  },
  {
   "cell_type": "code",
   "execution_count": 489,
   "metadata": {},
   "outputs": [
    {
     "data": {
      "text/html": [
       "<div>\n",
       "<style scoped>\n",
       "    .dataframe tbody tr th:only-of-type {\n",
       "        vertical-align: middle;\n",
       "    }\n",
       "\n",
       "    .dataframe tbody tr th {\n",
       "        vertical-align: top;\n",
       "    }\n",
       "\n",
       "    .dataframe thead th {\n",
       "        text-align: right;\n",
       "    }\n",
       "</style>\n",
       "<table border=\"1\" class=\"dataframe\">\n",
       "  <thead>\n",
       "    <tr style=\"text-align: right;\">\n",
       "      <th></th>\n",
       "      <th>event</th>\n",
       "      <th>userid</th>\n",
       "      <th>datetime</th>\n",
       "      <th>group</th>\n",
       "      <th>date</th>\n",
       "    </tr>\n",
       "  </thead>\n",
       "  <tbody>\n",
       "    <tr>\n",
       "      <td>2826</td>\n",
       "      <td>Tutorial</td>\n",
       "      <td>3737462046622621720</td>\n",
       "      <td>2019-08-01 00:07:28</td>\n",
       "      <td>A1</td>\n",
       "      <td>2019-08-01</td>\n",
       "    </tr>\n",
       "    <tr>\n",
       "      <td>2827</td>\n",
       "      <td>MainScreenAppear</td>\n",
       "      <td>3737462046622621720</td>\n",
       "      <td>2019-08-01 00:08:00</td>\n",
       "      <td>A1</td>\n",
       "      <td>2019-08-01</td>\n",
       "    </tr>\n",
       "    <tr>\n",
       "      <td>2828</td>\n",
       "      <td>MainScreenAppear</td>\n",
       "      <td>3737462046622621720</td>\n",
       "      <td>2019-08-01 00:08:55</td>\n",
       "      <td>A1</td>\n",
       "      <td>2019-08-01</td>\n",
       "    </tr>\n",
       "    <tr>\n",
       "      <td>2829</td>\n",
       "      <td>OffersScreenAppear</td>\n",
       "      <td>3737462046622621720</td>\n",
       "      <td>2019-08-01 00:08:58</td>\n",
       "      <td>A1</td>\n",
       "      <td>2019-08-01</td>\n",
       "    </tr>\n",
       "    <tr>\n",
       "      <td>2830</td>\n",
       "      <td>MainScreenAppear</td>\n",
       "      <td>1433840883824088890</td>\n",
       "      <td>2019-08-01 00:08:59</td>\n",
       "      <td>A2</td>\n",
       "      <td>2019-08-01</td>\n",
       "    </tr>\n",
       "  </tbody>\n",
       "</table>\n",
       "</div>"
      ],
      "text/plain": [
       "                   event               userid            datetime group  \\\n",
       "2826  Tutorial            3737462046622621720 2019-08-01 00:07:28  A1     \n",
       "2827  MainScreenAppear    3737462046622621720 2019-08-01 00:08:00  A1     \n",
       "2828  MainScreenAppear    3737462046622621720 2019-08-01 00:08:55  A1     \n",
       "2829  OffersScreenAppear  3737462046622621720 2019-08-01 00:08:58  A1     \n",
       "2830  MainScreenAppear    1433840883824088890 2019-08-01 00:08:59  A2     \n",
       "\n",
       "           date  \n",
       "2826 2019-08-01  \n",
       "2827 2019-08-01  \n",
       "2828 2019-08-01  \n",
       "2829 2019-08-01  \n",
       "2830 2019-08-01  "
      ]
     },
     "metadata": {},
     "output_type": "display_data"
    },
    {
     "name": "stdout",
     "output_type": "stream",
     "text": [
      "<class 'pandas.core.frame.DataFrame'>\n",
      "Int64Index: 240887 entries, 2826 to 243712\n",
      "Data columns (total 5 columns):\n",
      "event       240887 non-null object\n",
      "userid      240887 non-null int64\n",
      "datetime    240887 non-null datetime64[ns]\n",
      "group       240887 non-null object\n",
      "date        240887 non-null datetime64[ns]\n",
      "dtypes: datetime64[ns](2), int64(1), object(2)\n",
      "memory usage: 11.0+ MB\n"
     ]
    }
   ],
   "source": [
    "#сделаем срез для полных данных\n",
    "logsclean = data[data['date'] >= \"2019-08-01\"]\n",
    "\n",
    "display(logsclean.head())\n",
    "logsclean.info()"
   ]
  },
  {
   "cell_type": "code",
   "execution_count": 490,
   "metadata": {},
   "outputs": [
    {
     "name": "stdout",
     "output_type": "stream",
     "text": [
      "Количество событий, которых мы потеряли после очистки 2826.0\n",
      "Относительный объем событий, которых мы потеряли после очистки 1.16%\n",
      "Относительный объем отброшенных данных по событиям в %\n",
      "MainScreenAppear           1.49\n",
      "OffersScreenAppear         1.01\n",
      "CartScreenAppear           0.86\n",
      "PaymentScreenSuccessful    0.59\n",
      "Tutorial                   1.28\n",
      "Name: event, dtype: float64\n"
     ]
    }
   ],
   "source": [
    "#определим, от кого объема данных мы избавились\n",
    "print('Количество событий, которых мы потеряли после очистки {:.1f}'.format(len(data) - len(logsclean)))\n",
    "print('Относительный объем событий, которых мы потеряли после очистки {:.2%}'.format(1 - (len(logsclean) / len(data))))\n",
    "\n",
    "size_clean = ((1 - (logsclean['event'].value_counts() / data['event'].value_counts())) * 100).round(2)\n",
    "print('Относительный объем отброшенных данных по событиям в %')\n",
    "print(size_clean)"
   ]
  },
  {
   "cell_type": "markdown",
   "metadata": {},
   "source": [
    "#### Вывод"
   ]
  },
  {
   "cell_type": "markdown",
   "metadata": {},
   "source": [
    "Была проведена очистка данных. оставлены тлько данные за период с 1 августа 2019 по 7 августа 2019 г. Количество событий, которых мы потеряли после очистки составило 2826 события всего, это 1.16% от всех событий в логе. Из них по видам событий:\n",
    "* MainScreenAppear           1.49%\n",
    "\n",
    "* OffersScreenAppear         1.01%\n",
    "\n",
    "* CartScreenAppear           0.86%\n",
    "\n",
    "* PaymentScreenSuccessful    0.59%\n",
    "\n",
    "* Tutorial                   1.28%"
   ]
  },
  {
   "cell_type": "markdown",
   "metadata": {},
   "source": [
    "<div class=\"alert alert-success\">\n",
    "<font size=\"5\"><b>Комментарий ревьюера</b></font>\n",
    "\n",
    "Не слишком много данных удалено. Здорово, что ты проверил объем удаленных данных по общему числу удаленных строк. Стоит рассчитать число удаленных пользователей, а также вывести и относительное значение числа удаленных пользователей для понимания порядка данной величины. \n",
    "    \n",
    "</div>"
   ]
  },
  {
   "cell_type": "markdown",
   "metadata": {},
   "source": [
    "<a id='9'></a>\n",
    "### Проверим, что у нас есть пользователи из всех трёх экспериментальных групп"
   ]
  },
  {
   "cell_type": "code",
   "execution_count": 491,
   "metadata": {},
   "outputs": [
    {
     "data": {
      "text/html": [
       "<div>\n",
       "<style scoped>\n",
       "    .dataframe tbody tr th:only-of-type {\n",
       "        vertical-align: middle;\n",
       "    }\n",
       "\n",
       "    .dataframe tbody tr th {\n",
       "        vertical-align: top;\n",
       "    }\n",
       "\n",
       "    .dataframe thead th {\n",
       "        text-align: right;\n",
       "    }\n",
       "</style>\n",
       "<table border=\"1\" class=\"dataframe\">\n",
       "  <thead>\n",
       "    <tr style=\"text-align: right;\">\n",
       "      <th></th>\n",
       "      <th>group</th>\n",
       "      <th>userid</th>\n",
       "    </tr>\n",
       "  </thead>\n",
       "  <tbody>\n",
       "    <tr>\n",
       "      <td>0</td>\n",
       "      <td>A1</td>\n",
       "      <td>2484</td>\n",
       "    </tr>\n",
       "    <tr>\n",
       "      <td>1</td>\n",
       "      <td>A2</td>\n",
       "      <td>2513</td>\n",
       "    </tr>\n",
       "    <tr>\n",
       "      <td>2</td>\n",
       "      <td>B</td>\n",
       "      <td>2537</td>\n",
       "    </tr>\n",
       "  </tbody>\n",
       "</table>\n",
       "</div>"
      ],
      "text/plain": [
       "  group  userid\n",
       "0  A1    2484  \n",
       "1  A2    2513  \n",
       "2  B     2537  "
      ]
     },
     "metadata": {},
     "output_type": "display_data"
    }
   ],
   "source": [
    "logs_group = logsclean.groupby('group').agg({'userid': 'nunique'}).reset_index()\n",
    "display(logs_group)"
   ]
  },
  {
   "cell_type": "markdown",
   "metadata": {},
   "source": [
    "#### Вывод"
   ]
  },
  {
   "cell_type": "markdown",
   "metadata": {},
   "source": [
    "Пользователи есть в каждой группе, их количество относительно равно. \n",
    "В группе A1 - 2484 пользователя, в группе A2 - 2513 пользователя, в группе B - 2537 человека."
   ]
  },
  {
   "cell_type": "markdown",
   "metadata": {},
   "source": [
    "<a id='10'></a>\n",
    "### Вывод по разделу"
   ]
  },
  {
   "cell_type": "markdown",
   "metadata": {},
   "source": [
    "Изучили и проверили данные. \n",
    "1. Всего в логе записано 249713 событий, из них: \n",
    "\n",
    "* MainScreenAppear(показ главного экрана) - 119101\n",
    "\n",
    "* OffersScreenAppear(показ экрана с предложениями) - 46808\n",
    "\n",
    "* CartScreenAppear(показ экрана \"корзины\") - 42668\n",
    "\n",
    "* PaymentScreenSuccessful(показ экрана успешной оплаты)- 34118\n",
    "\n",
    "* Tutorial(руководство, инструкция) - 1018\n",
    "\n",
    "2. Количество пользователей в логе 7551 человека\n",
    "\n",
    "\n",
    "3. Среднее количество событий на 1 пользователя составило 32, медианное 20. Были обнаружены выбросы, максимальное номральное значения составило 79 событий. После удаления выбросов среднее количество событий составило 23, медианное - 18, что соотвествует реальности. \n",
    "\n",
    "4. Самая ранняя дата в логе 2019-07-25, самая поздняя дата в логе 2019-08-07. Полными можно считать только данные за период с 2019-08-01 до 2019-08-07. Данные за пределами периода необходимо убрать.\n",
    "Была проведена очистка данных. оставлены только данные за период с 1 августа 2019 по 7 августа 2019 г. Количество событий, которых мы потеряли после очистки составило 2826 события всего, это 1.16% от всех событий в логе. Из них по видам событий:\n",
    "* MainScreenAppear           1.49%\n",
    "\n",
    "* OffersScreenAppear         1.01%\n",
    "\n",
    "* CartScreenAppear           0.86%\n",
    "\n",
    "* PaymentScreenSuccessful    0.59%\n",
    "\n",
    "* Tutorial                   1.28%\n",
    "\n",
    "\n",
    "5. Пользователи есть в каждой группе, их количество относительно равно. \n",
    "В группе A1 - 2484 пользователя, в группе A2 - 2513 пользователя, в группе B - 2537 человека."
   ]
  },
  {
   "cell_type": "markdown",
   "metadata": {},
   "source": [
    "<a id='11'></a>\n",
    "## Изучим воронку событий"
   ]
  },
  {
   "cell_type": "markdown",
   "metadata": {},
   "source": [
    "<a id='12'></a>\n",
    "### Посмотрим, какие события есть в логах, как часто они встречаются. Отсортируем события по частоте"
   ]
  },
  {
   "cell_type": "code",
   "execution_count": 492,
   "metadata": {},
   "outputs": [
    {
     "name": "stdout",
     "output_type": "stream",
     "text": [
      "MainScreenAppear           117328\n",
      "OffersScreenAppear         46333 \n",
      "CartScreenAppear           42303 \n",
      "PaymentScreenSuccessful    33918 \n",
      "Tutorial                   1005  \n",
      "Name: event, dtype: int64\n"
     ]
    },
    {
     "data": {
      "text/html": [
       "<div>\n",
       "<style scoped>\n",
       "    .dataframe tbody tr th:only-of-type {\n",
       "        vertical-align: middle;\n",
       "    }\n",
       "\n",
       "    .dataframe tbody tr th {\n",
       "        vertical-align: top;\n",
       "    }\n",
       "\n",
       "    .dataframe thead th {\n",
       "        text-align: right;\n",
       "    }\n",
       "</style>\n",
       "<table border=\"1\" class=\"dataframe\">\n",
       "  <thead>\n",
       "    <tr style=\"text-align: right;\">\n",
       "      <th></th>\n",
       "      <th>event</th>\n",
       "      <th>count</th>\n",
       "    </tr>\n",
       "  </thead>\n",
       "  <tbody>\n",
       "    <tr>\n",
       "      <td>0</td>\n",
       "      <td>CartScreenAppear</td>\n",
       "      <td>42303</td>\n",
       "    </tr>\n",
       "    <tr>\n",
       "      <td>1</td>\n",
       "      <td>MainScreenAppear</td>\n",
       "      <td>117328</td>\n",
       "    </tr>\n",
       "    <tr>\n",
       "      <td>2</td>\n",
       "      <td>OffersScreenAppear</td>\n",
       "      <td>46333</td>\n",
       "    </tr>\n",
       "    <tr>\n",
       "      <td>3</td>\n",
       "      <td>PaymentScreenSuccessful</td>\n",
       "      <td>33918</td>\n",
       "    </tr>\n",
       "    <tr>\n",
       "      <td>4</td>\n",
       "      <td>Tutorial</td>\n",
       "      <td>1005</td>\n",
       "    </tr>\n",
       "  </tbody>\n",
       "</table>\n",
       "</div>"
      ],
      "text/plain": [
       "                     event   count\n",
       "0  CartScreenAppear         42303 \n",
       "1  MainScreenAppear         117328\n",
       "2  OffersScreenAppear       46333 \n",
       "3  PaymentScreenSuccessful  33918 \n",
       "4  Tutorial                 1005  "
      ]
     },
     "metadata": {},
     "output_type": "display_data"
    }
   ],
   "source": [
    "#на предыдущих шагах выяснили, что всего у нас 5 событий:\n",
    "# MainScreenAppear(показ главного экрана)\n",
    "#OffersScreenAppear(показ экрана с предложениями)\n",
    "#CartScreenAppear(показ экрана \"корзины\")\n",
    "#PaymentScreenSuccessful(показ экрана успешной оплаты)\n",
    "#Tutorial(руководство, инструкция)\n",
    "\n",
    "#изучим количество событий по видам по очищенным данным\n",
    "\n",
    "print(logsclean['event'].value_counts())\n",
    "\n",
    "#сгруппируем данные по событиям и посчитаем их количество через пользователей, совершивших действие\n",
    "event_freq = logsclean.groupby('event').agg({'userid': 'count'}).reset_index()\n",
    "event_freq.columns = ['event', 'count']\n",
    "display(event_freq)"
   ]
  },
  {
   "cell_type": "code",
   "execution_count": 493,
   "metadata": {},
   "outputs": [
    {
     "data": {
      "text/html": [
       "<div>\n",
       "<style scoped>\n",
       "    .dataframe tbody tr th:only-of-type {\n",
       "        vertical-align: middle;\n",
       "    }\n",
       "\n",
       "    .dataframe tbody tr th {\n",
       "        vertical-align: top;\n",
       "    }\n",
       "\n",
       "    .dataframe thead th {\n",
       "        text-align: right;\n",
       "    }\n",
       "</style>\n",
       "<table border=\"1\" class=\"dataframe\">\n",
       "  <thead>\n",
       "    <tr style=\"text-align: right;\">\n",
       "      <th></th>\n",
       "      <th>event</th>\n",
       "      <th>count</th>\n",
       "      <th>freq</th>\n",
       "      <th>size %</th>\n",
       "    </tr>\n",
       "  </thead>\n",
       "  <tbody>\n",
       "    <tr>\n",
       "      <td>1</td>\n",
       "      <td>MainScreenAppear</td>\n",
       "      <td>117328</td>\n",
       "      <td>2.05</td>\n",
       "      <td>48.71</td>\n",
       "    </tr>\n",
       "    <tr>\n",
       "      <td>2</td>\n",
       "      <td>OffersScreenAppear</td>\n",
       "      <td>46333</td>\n",
       "      <td>5.20</td>\n",
       "      <td>19.23</td>\n",
       "    </tr>\n",
       "    <tr>\n",
       "      <td>0</td>\n",
       "      <td>CartScreenAppear</td>\n",
       "      <td>42303</td>\n",
       "      <td>5.69</td>\n",
       "      <td>17.56</td>\n",
       "    </tr>\n",
       "    <tr>\n",
       "      <td>3</td>\n",
       "      <td>PaymentScreenSuccessful</td>\n",
       "      <td>33918</td>\n",
       "      <td>7.10</td>\n",
       "      <td>14.08</td>\n",
       "    </tr>\n",
       "    <tr>\n",
       "      <td>4</td>\n",
       "      <td>Tutorial</td>\n",
       "      <td>1005</td>\n",
       "      <td>239.69</td>\n",
       "      <td>0.42</td>\n",
       "    </tr>\n",
       "  </tbody>\n",
       "</table>\n",
       "</div>"
      ],
      "text/plain": [
       "                     event   count    freq  size %\n",
       "1  MainScreenAppear         117328  2.05    48.71 \n",
       "2  OffersScreenAppear       46333   5.20    19.23 \n",
       "0  CartScreenAppear         42303   5.69    17.56 \n",
       "3  PaymentScreenSuccessful  33918   7.10    14.08 \n",
       "4  Tutorial                 1005    239.69  0.42  "
      ]
     },
     "metadata": {},
     "output_type": "display_data"
    }
   ],
   "source": [
    "#рассчитаем частоту и отсортируем\n",
    "event_freq['freq'] = (event_freq['count'].sum() / event_freq['count']).round(2)\n",
    "event_freq['size %'] = (event_freq['count'] / event_freq['count'].sum() * 100).round(2)\n",
    "display(event_freq.sort_values(by = 'freq', ascending = True))"
   ]
  },
  {
   "cell_type": "markdown",
   "metadata": {},
   "source": [
    "<div class=\"alert alert-success\">\n",
    "<font size=\"5\"><b>Комментарий ревьюера</b></font>\n",
    "\n",
    "Не совсем понятно, что ты хочешь получить при расчете параметра freq. Ты делишь общее число событий на число событий каждого шага. Что мы получаем в таком случае?\n",
    "    \n",
    "</div>"
   ]
  },
  {
   "cell_type": "markdown",
   "metadata": {},
   "source": [
    "<div style=\"border:solid red 2px; padding: 20px\">\n",
    "<font size=\"5\"><b>Комментарий студента</b></font>\n",
    "    \n",
    "Я подумал, что частота - это относительный показатель, т.е. насколько часто это событие совершается в общем числе событий, дополнительно еще долю событий добавил\n",
    "    \n",
    "</div>"
   ]
  },
  {
   "cell_type": "markdown",
   "metadata": {},
   "source": [
    "#### Вывод"
   ]
  },
  {
   "cell_type": "markdown",
   "metadata": {},
   "source": [
    "Как было обозначено на предыдыдущих шагах у нас всего 5 событий. Проведена оценка частоты событий, отсортированы по убванию:\n",
    "\n",
    "* MainScreenAppear(показ главного экрана) - каждое 2-е событие\n",
    "* OffersScreenAppear(показ экрана с предложениями) - каждое 5.2 событие\n",
    "* CartScreenAppear(показ экрана \"корзины\") - каждое 5.6 событие\n",
    "* PaymentScreenSuccessful(показ экрана успешной оплаты) - каждое 7 событие\n",
    "* Tutorial(руководство, инструкция) - каждое 239.7 событие"
   ]
  },
  {
   "cell_type": "markdown",
   "metadata": {},
   "source": [
    "<a id='13'></a>\n",
    "### Посчитаем, сколько пользователей совершали каждое из этих событий. Отсортируем события по числу пользователей. Посчитаем долю пользователей, которые хоть раз совершали событие."
   ]
  },
  {
   "cell_type": "code",
   "execution_count": 494,
   "metadata": {},
   "outputs": [
    {
     "data": {
      "text/html": [
       "<div>\n",
       "<style scoped>\n",
       "    .dataframe tbody tr th:only-of-type {\n",
       "        vertical-align: middle;\n",
       "    }\n",
       "\n",
       "    .dataframe tbody tr th {\n",
       "        vertical-align: top;\n",
       "    }\n",
       "\n",
       "    .dataframe thead th {\n",
       "        text-align: right;\n",
       "    }\n",
       "</style>\n",
       "<table border=\"1\" class=\"dataframe\">\n",
       "  <thead>\n",
       "    <tr style=\"text-align: right;\">\n",
       "      <th></th>\n",
       "      <th>event</th>\n",
       "      <th>count</th>\n",
       "      <th>nunique</th>\n",
       "    </tr>\n",
       "  </thead>\n",
       "  <tbody>\n",
       "    <tr>\n",
       "      <td>1</td>\n",
       "      <td>MainScreenAppear</td>\n",
       "      <td>117328</td>\n",
       "      <td>7419</td>\n",
       "    </tr>\n",
       "    <tr>\n",
       "      <td>2</td>\n",
       "      <td>OffersScreenAppear</td>\n",
       "      <td>46333</td>\n",
       "      <td>4593</td>\n",
       "    </tr>\n",
       "    <tr>\n",
       "      <td>0</td>\n",
       "      <td>CartScreenAppear</td>\n",
       "      <td>42303</td>\n",
       "      <td>3734</td>\n",
       "    </tr>\n",
       "    <tr>\n",
       "      <td>3</td>\n",
       "      <td>PaymentScreenSuccessful</td>\n",
       "      <td>33918</td>\n",
       "      <td>3539</td>\n",
       "    </tr>\n",
       "    <tr>\n",
       "      <td>4</td>\n",
       "      <td>Tutorial</td>\n",
       "      <td>1005</td>\n",
       "      <td>840</td>\n",
       "    </tr>\n",
       "  </tbody>\n",
       "</table>\n",
       "</div>"
      ],
      "text/plain": [
       "                     event   count  nunique\n",
       "1  MainScreenAppear         117328  7419   \n",
       "2  OffersScreenAppear       46333   4593   \n",
       "0  CartScreenAppear         42303   3734   \n",
       "3  PaymentScreenSuccessful  33918   3539   \n",
       "4  Tutorial                 1005    840    "
      ]
     },
     "metadata": {},
     "output_type": "display_data"
    },
    {
     "data": {
      "text/html": [
       "<div>\n",
       "<style scoped>\n",
       "    .dataframe tbody tr th:only-of-type {\n",
       "        vertical-align: middle;\n",
       "    }\n",
       "\n",
       "    .dataframe tbody tr th {\n",
       "        vertical-align: top;\n",
       "    }\n",
       "\n",
       "    .dataframe thead th {\n",
       "        text-align: right;\n",
       "    }\n",
       "</style>\n",
       "<table border=\"1\" class=\"dataframe\">\n",
       "  <thead>\n",
       "    <tr style=\"text-align: right;\">\n",
       "      <th></th>\n",
       "      <th>event</th>\n",
       "      <th>count</th>\n",
       "      <th>nunique</th>\n",
       "      <th>part %</th>\n",
       "      <th>event_for_user</th>\n",
       "    </tr>\n",
       "  </thead>\n",
       "  <tbody>\n",
       "    <tr>\n",
       "      <td>1</td>\n",
       "      <td>MainScreenAppear</td>\n",
       "      <td>117328</td>\n",
       "      <td>7419</td>\n",
       "      <td>98.25</td>\n",
       "      <td>16.0</td>\n",
       "    </tr>\n",
       "    <tr>\n",
       "      <td>2</td>\n",
       "      <td>OffersScreenAppear</td>\n",
       "      <td>46333</td>\n",
       "      <td>4593</td>\n",
       "      <td>60.83</td>\n",
       "      <td>10.0</td>\n",
       "    </tr>\n",
       "    <tr>\n",
       "      <td>0</td>\n",
       "      <td>CartScreenAppear</td>\n",
       "      <td>42303</td>\n",
       "      <td>3734</td>\n",
       "      <td>49.45</td>\n",
       "      <td>11.0</td>\n",
       "    </tr>\n",
       "    <tr>\n",
       "      <td>3</td>\n",
       "      <td>PaymentScreenSuccessful</td>\n",
       "      <td>33918</td>\n",
       "      <td>3539</td>\n",
       "      <td>46.87</td>\n",
       "      <td>10.0</td>\n",
       "    </tr>\n",
       "    <tr>\n",
       "      <td>4</td>\n",
       "      <td>Tutorial</td>\n",
       "      <td>1005</td>\n",
       "      <td>840</td>\n",
       "      <td>11.12</td>\n",
       "      <td>1.0</td>\n",
       "    </tr>\n",
       "  </tbody>\n",
       "</table>\n",
       "</div>"
      ],
      "text/plain": [
       "                     event   count  nunique  part %  event_for_user\n",
       "1  MainScreenAppear         117328  7419     98.25   16.0          \n",
       "2  OffersScreenAppear       46333   4593     60.83   10.0          \n",
       "0  CartScreenAppear         42303   3734     49.45   11.0          \n",
       "3  PaymentScreenSuccessful  33918   3539     46.87   10.0          \n",
       "4  Tutorial                 1005    840      11.12   1.0           "
      ]
     },
     "metadata": {},
     "output_type": "display_data"
    }
   ],
   "source": [
    "#количество пользователей, которые совершали события нам известно, необходимо узнать \n",
    "#долю пользователей, которые хоть раз совершали действие\n",
    "\n",
    "event_user = logsclean.pivot_table(index = 'event', values = 'userid', aggfunc = ('count', 'nunique')).reset_index()\n",
    "display(event_user.sort_values(by = 'count', ascending = False))\n",
    "\n",
    "#рассчитаем долю\n",
    "event_user['part %'] = ((event_user['nunique'] / data['userid'].nunique()) * 100).round(2)\n",
    "\n",
    "#display(event_user.sort_values(by = 'count', ascending = False))\n",
    "\n",
    "#посчитаем, сколько событий в среднем совершали каждый пользователь\n",
    "\n",
    "event_user['event_for_user'] = (event_user['count'] / event_user['nunique']).round(0)\n",
    "display(event_user.sort_values(by = 'count', ascending = False))"
   ]
  },
  {
   "cell_type": "markdown",
   "metadata": {},
   "source": [
    "<div class=\"alert alert-danger\">\n",
    "<font size=\"5\"><b>Комментарий ревьюера</b></font>\n",
    "\n",
    "При нахождении конверсии ты делишь на столбец с событиями. Так делать не стоит. Делить для нахождения конверсий стоит на общее число уникальных пользователей в данных. Исправь данную неточность. \n",
    "\n",
    "</div>"
   ]
  },
  {
   "cell_type": "markdown",
   "metadata": {},
   "source": [
    "<div style=\"border:solid red 2px; padding: 20px\">\n",
    "<font size=\"5\"><b>Комментарий студента</b></font>\n",
    "    \n",
    "Спасибо, исправил\n",
    "    \n",
    "</div>"
   ]
  },
  {
   "cell_type": "markdown",
   "metadata": {},
   "source": [
    "<div class=\"alert alert-success\">\n",
    "<font size=\"5\"><b>Комментарий ревьюера 2</b></font>\n",
    "\n",
    "Отлично. Даже на первом шаге воронки мы не имеем конверсии 1. О чем это может нам говорить? Обязателен ли проход через все шаги воронки?\n",
    "\n",
    "</div>"
   ]
  },
  {
   "cell_type": "markdown",
   "metadata": {},
   "source": [
    "<div style=\"border:solid red 2px; padding: 20px\">\n",
    "<font size=\"5\"><b>Комментарий студента 2</b></font>\n",
    "    \n",
    "Видимо нет. Т.е. пользователи могли попадать на страницу заказа минуя главную, например, через рекламное пуш-уведомление или рассылку, что может свидетельствовать о работе маркетинговых каналов)\n",
    "    \n",
    "</div>"
   ]
  },
  {
   "cell_type": "markdown",
   "metadata": {},
   "source": [
    "#### Вывод"
   ]
  },
  {
   "cell_type": "markdown",
   "metadata": {},
   "source": [
    "Исходя из доли пользователей и среднего количества события на каждого пользователя можно сделать вывод, что чаще пользователи посещают главную страницу, что логично, затем страницу заказа и корзину. Реже всего пользователи открывают руководство. "
   ]
  },
  {
   "cell_type": "markdown",
   "metadata": {},
   "source": [
    "<a id='14'></a>\n",
    "### Предположим, в каком порядке происходят события. Все ли они выстраиваются в последовательную цепочку? Их не нужно учитывать при расчёте воронки."
   ]
  },
  {
   "cell_type": "markdown",
   "metadata": {},
   "source": [
    "Самым распространенным и  первым событием является посещение главной страницы, затем осуществляется переход на страницу с заказом, затем добавление товара в корзину, затем оплата товара, всего 4 действия, которые выстраиваются в цепочку:\n",
    "\n",
    "**MainScreenAppear - OffersScreenAppear - CartScreenAppea - PaymentScreenSuccessful** \n",
    "\n",
    "Опциональное событие это просмотр руководства, его можно не учитывать при расчете воронки."
   ]
  },
  {
   "cell_type": "markdown",
   "metadata": {},
   "source": [
    "<div class=\"alert alert-success\">\n",
    "<font size=\"5\"><b>Комментарий ревьюера</b></font>\n",
    "\n",
    "Последовательность событий определена. Соглашусь, tutorial не относится к ней. Этот шаг является обучением и не относится к последовательности событий.  \n",
    "    \n",
    "Также можно добавить и группировку по номеру эксперимента (246, 247, 248) с расчетом числа пользователей на каждом шаге воронки. Так мы посмотрим на то, согласуются ли данные разных групп между собой.  \n",
    "    \n",
    "</div>"
   ]
  },
  {
   "cell_type": "markdown",
   "metadata": {},
   "source": [
    "<a id='15'></a>\n",
    "### По воронке событий посчитаем, какая доля пользователей проходит на следующий шаг воронки (от числа пользователей на предыдущем). То есть для последовательности событий A → B → C посчитаем отношение числа пользователей с событием B к количеству пользователей с событием A, а также отношение числа пользователей с событием C к количеству пользователей с событием B."
   ]
  },
  {
   "cell_type": "code",
   "execution_count": 495,
   "metadata": {},
   "outputs": [
    {
     "name": "stdout",
     "output_type": "stream",
     "text": [
      "Переход на главную страницу: 7419\n",
      "Переход на страницу заказа: 4201\n",
      "Добавление товара в корзину: 1767\n",
      "Успешная оплата товара: 454\n",
      "Доля пользователей, оформивших заказ 56.6%:\n",
      "Доля пользователей, добавивших заказ в корзину 42.1%:\n",
      "Доля пользователей, оплативших заказ 25.7%:\n",
      "Доля пользователей, дошедших от начала и до конца 6.1%:\n"
     ]
    }
   ],
   "source": [
    "#создадим сводную таблицу \n",
    "funnels = logsclean.pivot_table(index='userid', columns='event', values='datetime', aggfunc='min')\n",
    "\n",
    "#расчитаем количество событий, совершенных пользовтаелями\n",
    "step_1 = ~funnels['MainScreenAppear'].isna()\n",
    "step_2 = step_1 & (funnels['OffersScreenAppear'] > funnels['MainScreenAppear'])\n",
    "step_3 = step_2 & (funnels['CartScreenAppear'] > funnels['OffersScreenAppear'])\n",
    "step_4 = step_3 & (funnels['PaymentScreenSuccessful'] > funnels['CartScreenAppear'])\n",
    "\n",
    "MainScreenAppear = funnels[step_1].shape[0]\n",
    "OffersScreenAppear = funnels[step_2].shape[0]\n",
    "CartScreenAppear = funnels[step_3].shape[0]\n",
    "PaymentScreenSuccessful = funnels[step_4].shape[0]\n",
    "\n",
    "print('Переход на главную страницу:', MainScreenAppear)\n",
    "print('Переход на страницу заказа:', OffersScreenAppear)\n",
    "print('Добавление товара в корзину:', CartScreenAppear)\n",
    "print('Успешная оплата товара:', PaymentScreenSuccessful)\n",
    "\n",
    "#посчитаем конверсию:\n",
    "print('Доля пользователей, оформивших заказ {:.1%}:'.format(OffersScreenAppear / MainScreenAppear))\n",
    "print('Доля пользователей, добавивших заказ в корзину {:.1%}:'.format(CartScreenAppear / OffersScreenAppear))\n",
    "print('Доля пользователей, оплативших заказ {:.1%}:'.format(PaymentScreenSuccessful / CartScreenAppear))\n",
    "print('Доля пользователей, дошедших от начала и до конца {:.1%}:'.format(PaymentScreenSuccessful / MainScreenAppear))"
   ]
  },
  {
   "cell_type": "code",
   "execution_count": 496,
   "metadata": {},
   "outputs": [
    {
     "data": {
      "text/html": [
       "<div>\n",
       "<style scoped>\n",
       "    .dataframe tbody tr th:only-of-type {\n",
       "        vertical-align: middle;\n",
       "    }\n",
       "\n",
       "    .dataframe tbody tr th {\n",
       "        vertical-align: top;\n",
       "    }\n",
       "\n",
       "    .dataframe thead th {\n",
       "        text-align: right;\n",
       "    }\n",
       "</style>\n",
       "<table border=\"1\" class=\"dataframe\">\n",
       "  <thead>\n",
       "    <tr style=\"text-align: right;\">\n",
       "      <th></th>\n",
       "      <th>event</th>\n",
       "      <th>count</th>\n",
       "      <th>nunique</th>\n",
       "      <th>part %</th>\n",
       "      <th>event_for_user</th>\n",
       "    </tr>\n",
       "  </thead>\n",
       "  <tbody>\n",
       "    <tr>\n",
       "      <td>1</td>\n",
       "      <td>MainScreenAppear</td>\n",
       "      <td>117328</td>\n",
       "      <td>7419</td>\n",
       "      <td>98.25</td>\n",
       "      <td>16.0</td>\n",
       "    </tr>\n",
       "    <tr>\n",
       "      <td>2</td>\n",
       "      <td>OffersScreenAppear</td>\n",
       "      <td>46333</td>\n",
       "      <td>4593</td>\n",
       "      <td>60.83</td>\n",
       "      <td>10.0</td>\n",
       "    </tr>\n",
       "    <tr>\n",
       "      <td>0</td>\n",
       "      <td>CartScreenAppear</td>\n",
       "      <td>42303</td>\n",
       "      <td>3734</td>\n",
       "      <td>49.45</td>\n",
       "      <td>11.0</td>\n",
       "    </tr>\n",
       "    <tr>\n",
       "      <td>3</td>\n",
       "      <td>PaymentScreenSuccessful</td>\n",
       "      <td>33918</td>\n",
       "      <td>3539</td>\n",
       "      <td>46.87</td>\n",
       "      <td>10.0</td>\n",
       "    </tr>\n",
       "    <tr>\n",
       "      <td>4</td>\n",
       "      <td>Tutorial</td>\n",
       "      <td>1005</td>\n",
       "      <td>840</td>\n",
       "      <td>11.12</td>\n",
       "      <td>1.0</td>\n",
       "    </tr>\n",
       "  </tbody>\n",
       "</table>\n",
       "</div>"
      ],
      "text/plain": [
       "                     event   count  nunique  part %  event_for_user\n",
       "1  MainScreenAppear         117328  7419     98.25   16.0          \n",
       "2  OffersScreenAppear       46333   4593     60.83   10.0          \n",
       "0  CartScreenAppear         42303   3734     49.45   11.0          \n",
       "3  PaymentScreenSuccessful  33918   3539     46.87   10.0          \n",
       "4  Tutorial                 1005    840      11.12   1.0           "
      ]
     },
     "metadata": {},
     "output_type": "display_data"
    },
    {
     "data": {
      "application/vnd.plotly.v1+json": {
       "config": {
        "plotlyServerURL": "https://plot.ly"
       },
       "data": [
        {
         "type": "funnel",
         "x": [
          98.25,
          60.83,
          49.45,
          46.87,
          11.12
         ],
         "y": [
          "MainScreenAppear",
          "OffersScreenAppear",
          "CartScreenAppear",
          "PaymentScreenSuccessful",
          "Tutorial"
         ]
        }
       ],
       "layout": {
        "template": {
         "data": {
          "bar": [
           {
            "error_x": {
             "color": "#2a3f5f"
            },
            "error_y": {
             "color": "#2a3f5f"
            },
            "marker": {
             "line": {
              "color": "#E5ECF6",
              "width": 0.5
             }
            },
            "type": "bar"
           }
          ],
          "barpolar": [
           {
            "marker": {
             "line": {
              "color": "#E5ECF6",
              "width": 0.5
             }
            },
            "type": "barpolar"
           }
          ],
          "carpet": [
           {
            "aaxis": {
             "endlinecolor": "#2a3f5f",
             "gridcolor": "white",
             "linecolor": "white",
             "minorgridcolor": "white",
             "startlinecolor": "#2a3f5f"
            },
            "baxis": {
             "endlinecolor": "#2a3f5f",
             "gridcolor": "white",
             "linecolor": "white",
             "minorgridcolor": "white",
             "startlinecolor": "#2a3f5f"
            },
            "type": "carpet"
           }
          ],
          "choropleth": [
           {
            "colorbar": {
             "outlinewidth": 0,
             "ticks": ""
            },
            "type": "choropleth"
           }
          ],
          "contour": [
           {
            "colorbar": {
             "outlinewidth": 0,
             "ticks": ""
            },
            "colorscale": [
             [
              0,
              "#0d0887"
             ],
             [
              0.1111111111,
              "#46039f"
             ],
             [
              0.2222222222,
              "#7201a8"
             ],
             [
              0.3333333333,
              "#9c179e"
             ],
             [
              0.4444444444,
              "#bd3786"
             ],
             [
              0.5555555556,
              "#d8576b"
             ],
             [
              0.6666666667,
              "#ed7953"
             ],
             [
              0.7777777778,
              "#fb9f3a"
             ],
             [
              0.8888888889,
              "#fdca26"
             ],
             [
              1,
              "#f0f921"
             ]
            ],
            "type": "contour"
           }
          ],
          "contourcarpet": [
           {
            "colorbar": {
             "outlinewidth": 0,
             "ticks": ""
            },
            "type": "contourcarpet"
           }
          ],
          "heatmap": [
           {
            "colorbar": {
             "outlinewidth": 0,
             "ticks": ""
            },
            "colorscale": [
             [
              0,
              "#0d0887"
             ],
             [
              0.1111111111,
              "#46039f"
             ],
             [
              0.2222222222,
              "#7201a8"
             ],
             [
              0.3333333333,
              "#9c179e"
             ],
             [
              0.4444444444,
              "#bd3786"
             ],
             [
              0.5555555556,
              "#d8576b"
             ],
             [
              0.6666666667,
              "#ed7953"
             ],
             [
              0.7777777778,
              "#fb9f3a"
             ],
             [
              0.8888888889,
              "#fdca26"
             ],
             [
              1,
              "#f0f921"
             ]
            ],
            "type": "heatmap"
           }
          ],
          "heatmapgl": [
           {
            "colorbar": {
             "outlinewidth": 0,
             "ticks": ""
            },
            "colorscale": [
             [
              0,
              "#0d0887"
             ],
             [
              0.1111111111,
              "#46039f"
             ],
             [
              0.2222222222,
              "#7201a8"
             ],
             [
              0.3333333333,
              "#9c179e"
             ],
             [
              0.4444444444,
              "#bd3786"
             ],
             [
              0.5555555556,
              "#d8576b"
             ],
             [
              0.6666666667,
              "#ed7953"
             ],
             [
              0.7777777778,
              "#fb9f3a"
             ],
             [
              0.8888888889,
              "#fdca26"
             ],
             [
              1,
              "#f0f921"
             ]
            ],
            "type": "heatmapgl"
           }
          ],
          "histogram": [
           {
            "marker": {
             "colorbar": {
              "outlinewidth": 0,
              "ticks": ""
             }
            },
            "type": "histogram"
           }
          ],
          "histogram2d": [
           {
            "colorbar": {
             "outlinewidth": 0,
             "ticks": ""
            },
            "colorscale": [
             [
              0,
              "#0d0887"
             ],
             [
              0.1111111111,
              "#46039f"
             ],
             [
              0.2222222222,
              "#7201a8"
             ],
             [
              0.3333333333,
              "#9c179e"
             ],
             [
              0.4444444444,
              "#bd3786"
             ],
             [
              0.5555555556,
              "#d8576b"
             ],
             [
              0.6666666667,
              "#ed7953"
             ],
             [
              0.7777777778,
              "#fb9f3a"
             ],
             [
              0.8888888889,
              "#fdca26"
             ],
             [
              1,
              "#f0f921"
             ]
            ],
            "type": "histogram2d"
           }
          ],
          "histogram2dcontour": [
           {
            "colorbar": {
             "outlinewidth": 0,
             "ticks": ""
            },
            "colorscale": [
             [
              0,
              "#0d0887"
             ],
             [
              0.1111111111,
              "#46039f"
             ],
             [
              0.2222222222,
              "#7201a8"
             ],
             [
              0.3333333333,
              "#9c179e"
             ],
             [
              0.4444444444,
              "#bd3786"
             ],
             [
              0.5555555556,
              "#d8576b"
             ],
             [
              0.6666666667,
              "#ed7953"
             ],
             [
              0.7777777778,
              "#fb9f3a"
             ],
             [
              0.8888888889,
              "#fdca26"
             ],
             [
              1,
              "#f0f921"
             ]
            ],
            "type": "histogram2dcontour"
           }
          ],
          "mesh3d": [
           {
            "colorbar": {
             "outlinewidth": 0,
             "ticks": ""
            },
            "type": "mesh3d"
           }
          ],
          "parcoords": [
           {
            "line": {
             "colorbar": {
              "outlinewidth": 0,
              "ticks": ""
             }
            },
            "type": "parcoords"
           }
          ],
          "scatter": [
           {
            "marker": {
             "colorbar": {
              "outlinewidth": 0,
              "ticks": ""
             }
            },
            "type": "scatter"
           }
          ],
          "scatter3d": [
           {
            "line": {
             "colorbar": {
              "outlinewidth": 0,
              "ticks": ""
             }
            },
            "marker": {
             "colorbar": {
              "outlinewidth": 0,
              "ticks": ""
             }
            },
            "type": "scatter3d"
           }
          ],
          "scattercarpet": [
           {
            "marker": {
             "colorbar": {
              "outlinewidth": 0,
              "ticks": ""
             }
            },
            "type": "scattercarpet"
           }
          ],
          "scattergeo": [
           {
            "marker": {
             "colorbar": {
              "outlinewidth": 0,
              "ticks": ""
             }
            },
            "type": "scattergeo"
           }
          ],
          "scattergl": [
           {
            "marker": {
             "colorbar": {
              "outlinewidth": 0,
              "ticks": ""
             }
            },
            "type": "scattergl"
           }
          ],
          "scattermapbox": [
           {
            "marker": {
             "colorbar": {
              "outlinewidth": 0,
              "ticks": ""
             }
            },
            "type": "scattermapbox"
           }
          ],
          "scatterpolar": [
           {
            "marker": {
             "colorbar": {
              "outlinewidth": 0,
              "ticks": ""
             }
            },
            "type": "scatterpolar"
           }
          ],
          "scatterpolargl": [
           {
            "marker": {
             "colorbar": {
              "outlinewidth": 0,
              "ticks": ""
             }
            },
            "type": "scatterpolargl"
           }
          ],
          "scatterternary": [
           {
            "marker": {
             "colorbar": {
              "outlinewidth": 0,
              "ticks": ""
             }
            },
            "type": "scatterternary"
           }
          ],
          "surface": [
           {
            "colorbar": {
             "outlinewidth": 0,
             "ticks": ""
            },
            "colorscale": [
             [
              0,
              "#0d0887"
             ],
             [
              0.1111111111,
              "#46039f"
             ],
             [
              0.2222222222,
              "#7201a8"
             ],
             [
              0.3333333333,
              "#9c179e"
             ],
             [
              0.4444444444,
              "#bd3786"
             ],
             [
              0.5555555556,
              "#d8576b"
             ],
             [
              0.6666666667,
              "#ed7953"
             ],
             [
              0.7777777778,
              "#fb9f3a"
             ],
             [
              0.8888888889,
              "#fdca26"
             ],
             [
              1,
              "#f0f921"
             ]
            ],
            "type": "surface"
           }
          ],
          "table": [
           {
            "cells": {
             "fill": {
              "color": "#EBF0F8"
             },
             "line": {
              "color": "white"
             }
            },
            "header": {
             "fill": {
              "color": "#C8D4E3"
             },
             "line": {
              "color": "white"
             }
            },
            "type": "table"
           }
          ]
         },
         "layout": {
          "annotationdefaults": {
           "arrowcolor": "#2a3f5f",
           "arrowhead": 0,
           "arrowwidth": 1
          },
          "colorscale": {
           "diverging": [
            [
             0,
             "#8e0152"
            ],
            [
             0.1,
             "#c51b7d"
            ],
            [
             0.2,
             "#de77ae"
            ],
            [
             0.3,
             "#f1b6da"
            ],
            [
             0.4,
             "#fde0ef"
            ],
            [
             0.5,
             "#f7f7f7"
            ],
            [
             0.6,
             "#e6f5d0"
            ],
            [
             0.7,
             "#b8e186"
            ],
            [
             0.8,
             "#7fbc41"
            ],
            [
             0.9,
             "#4d9221"
            ],
            [
             1,
             "#276419"
            ]
           ],
           "sequential": [
            [
             0,
             "#0d0887"
            ],
            [
             0.1111111111,
             "#46039f"
            ],
            [
             0.2222222222,
             "#7201a8"
            ],
            [
             0.3333333333,
             "#9c179e"
            ],
            [
             0.4444444444,
             "#bd3786"
            ],
            [
             0.5555555556,
             "#d8576b"
            ],
            [
             0.6666666667,
             "#ed7953"
            ],
            [
             0.7777777778,
             "#fb9f3a"
            ],
            [
             0.8888888889,
             "#fdca26"
            ],
            [
             1,
             "#f0f921"
            ]
           ],
           "sequentialminus": [
            [
             0,
             "#0d0887"
            ],
            [
             0.1111111111,
             "#46039f"
            ],
            [
             0.2222222222,
             "#7201a8"
            ],
            [
             0.3333333333,
             "#9c179e"
            ],
            [
             0.4444444444,
             "#bd3786"
            ],
            [
             0.5555555556,
             "#d8576b"
            ],
            [
             0.6666666667,
             "#ed7953"
            ],
            [
             0.7777777778,
             "#fb9f3a"
            ],
            [
             0.8888888889,
             "#fdca26"
            ],
            [
             1,
             "#f0f921"
            ]
           ]
          },
          "colorway": [
           "#636efa",
           "#EF553B",
           "#00cc96",
           "#ab63fa",
           "#FFA15A",
           "#19d3f3",
           "#FF6692",
           "#B6E880",
           "#FF97FF",
           "#FECB52"
          ],
          "font": {
           "color": "#2a3f5f"
          },
          "geo": {
           "bgcolor": "white",
           "lakecolor": "white",
           "landcolor": "#E5ECF6",
           "showlakes": true,
           "showland": true,
           "subunitcolor": "white"
          },
          "hoverlabel": {
           "align": "left"
          },
          "hovermode": "closest",
          "mapbox": {
           "style": "light"
          },
          "paper_bgcolor": "white",
          "plot_bgcolor": "#E5ECF6",
          "polar": {
           "angularaxis": {
            "gridcolor": "white",
            "linecolor": "white",
            "ticks": ""
           },
           "bgcolor": "#E5ECF6",
           "radialaxis": {
            "gridcolor": "white",
            "linecolor": "white",
            "ticks": ""
           }
          },
          "scene": {
           "xaxis": {
            "backgroundcolor": "#E5ECF6",
            "gridcolor": "white",
            "gridwidth": 2,
            "linecolor": "white",
            "showbackground": true,
            "ticks": "",
            "zerolinecolor": "white"
           },
           "yaxis": {
            "backgroundcolor": "#E5ECF6",
            "gridcolor": "white",
            "gridwidth": 2,
            "linecolor": "white",
            "showbackground": true,
            "ticks": "",
            "zerolinecolor": "white"
           },
           "zaxis": {
            "backgroundcolor": "#E5ECF6",
            "gridcolor": "white",
            "gridwidth": 2,
            "linecolor": "white",
            "showbackground": true,
            "ticks": "",
            "zerolinecolor": "white"
           }
          },
          "shapedefaults": {
           "line": {
            "color": "#2a3f5f"
           }
          },
          "ternary": {
           "aaxis": {
            "gridcolor": "white",
            "linecolor": "white",
            "ticks": ""
           },
           "baxis": {
            "gridcolor": "white",
            "linecolor": "white",
            "ticks": ""
           },
           "bgcolor": "#E5ECF6",
           "caxis": {
            "gridcolor": "white",
            "linecolor": "white",
            "ticks": ""
           }
          },
          "title": {
           "x": 0.05
          },
          "xaxis": {
           "automargin": true,
           "gridcolor": "white",
           "linecolor": "white",
           "ticks": "",
           "zerolinecolor": "white",
           "zerolinewidth": 2
          },
          "yaxis": {
           "automargin": true,
           "gridcolor": "white",
           "linecolor": "white",
           "ticks": "",
           "zerolinecolor": "white",
           "zerolinewidth": 2
          }
         }
        },
        "title": {
         "text": "Доля пользователей, дошедшая до каждого шага, в %"
        }
       }
      },
      "text/html": [
       "<div>\n",
       "        \n",
       "        \n",
       "            <div id=\"d5b28169-4cd5-43d0-93ec-c3c20b62f408\" class=\"plotly-graph-div\" style=\"height:525px; width:100%;\"></div>\n",
       "            <script type=\"text/javascript\">\n",
       "                require([\"plotly\"], function(Plotly) {\n",
       "                    window.PLOTLYENV=window.PLOTLYENV || {};\n",
       "                    \n",
       "                if (document.getElementById(\"d5b28169-4cd5-43d0-93ec-c3c20b62f408\")) {\n",
       "                    Plotly.newPlot(\n",
       "                        'd5b28169-4cd5-43d0-93ec-c3c20b62f408',\n",
       "                        [{\"type\": \"funnel\", \"x\": [98.25, 60.83, 49.45, 46.87, 11.12], \"y\": [\"MainScreenAppear\", \"OffersScreenAppear\", \"CartScreenAppear\", \"PaymentScreenSuccessful\", \"Tutorial\"]}],\n",
       "                        {\"template\": {\"data\": {\"bar\": [{\"error_x\": {\"color\": \"#2a3f5f\"}, \"error_y\": {\"color\": \"#2a3f5f\"}, \"marker\": {\"line\": {\"color\": \"#E5ECF6\", \"width\": 0.5}}, \"type\": \"bar\"}], \"barpolar\": [{\"marker\": {\"line\": {\"color\": \"#E5ECF6\", \"width\": 0.5}}, \"type\": \"barpolar\"}], \"carpet\": [{\"aaxis\": {\"endlinecolor\": \"#2a3f5f\", \"gridcolor\": \"white\", \"linecolor\": \"white\", \"minorgridcolor\": \"white\", \"startlinecolor\": \"#2a3f5f\"}, \"baxis\": {\"endlinecolor\": \"#2a3f5f\", \"gridcolor\": \"white\", \"linecolor\": \"white\", \"minorgridcolor\": \"white\", \"startlinecolor\": \"#2a3f5f\"}, \"type\": \"carpet\"}], \"choropleth\": [{\"colorbar\": {\"outlinewidth\": 0, \"ticks\": \"\"}, \"type\": \"choropleth\"}], \"contour\": [{\"colorbar\": {\"outlinewidth\": 0, \"ticks\": \"\"}, \"colorscale\": [[0.0, \"#0d0887\"], [0.1111111111111111, \"#46039f\"], [0.2222222222222222, \"#7201a8\"], [0.3333333333333333, \"#9c179e\"], [0.4444444444444444, \"#bd3786\"], [0.5555555555555556, \"#d8576b\"], [0.6666666666666666, \"#ed7953\"], [0.7777777777777778, \"#fb9f3a\"], [0.8888888888888888, \"#fdca26\"], [1.0, \"#f0f921\"]], \"type\": \"contour\"}], \"contourcarpet\": [{\"colorbar\": {\"outlinewidth\": 0, \"ticks\": \"\"}, \"type\": \"contourcarpet\"}], \"heatmap\": [{\"colorbar\": {\"outlinewidth\": 0, \"ticks\": \"\"}, \"colorscale\": [[0.0, \"#0d0887\"], [0.1111111111111111, \"#46039f\"], [0.2222222222222222, \"#7201a8\"], [0.3333333333333333, \"#9c179e\"], [0.4444444444444444, \"#bd3786\"], [0.5555555555555556, \"#d8576b\"], [0.6666666666666666, \"#ed7953\"], [0.7777777777777778, \"#fb9f3a\"], [0.8888888888888888, \"#fdca26\"], [1.0, \"#f0f921\"]], \"type\": \"heatmap\"}], \"heatmapgl\": [{\"colorbar\": {\"outlinewidth\": 0, \"ticks\": \"\"}, \"colorscale\": [[0.0, \"#0d0887\"], [0.1111111111111111, \"#46039f\"], [0.2222222222222222, \"#7201a8\"], [0.3333333333333333, \"#9c179e\"], [0.4444444444444444, \"#bd3786\"], [0.5555555555555556, \"#d8576b\"], [0.6666666666666666, \"#ed7953\"], [0.7777777777777778, \"#fb9f3a\"], [0.8888888888888888, \"#fdca26\"], [1.0, \"#f0f921\"]], \"type\": \"heatmapgl\"}], \"histogram\": [{\"marker\": {\"colorbar\": {\"outlinewidth\": 0, \"ticks\": \"\"}}, \"type\": \"histogram\"}], \"histogram2d\": [{\"colorbar\": {\"outlinewidth\": 0, \"ticks\": \"\"}, \"colorscale\": [[0.0, \"#0d0887\"], [0.1111111111111111, \"#46039f\"], [0.2222222222222222, \"#7201a8\"], [0.3333333333333333, \"#9c179e\"], [0.4444444444444444, \"#bd3786\"], [0.5555555555555556, \"#d8576b\"], [0.6666666666666666, \"#ed7953\"], [0.7777777777777778, \"#fb9f3a\"], [0.8888888888888888, \"#fdca26\"], [1.0, \"#f0f921\"]], \"type\": \"histogram2d\"}], \"histogram2dcontour\": [{\"colorbar\": {\"outlinewidth\": 0, \"ticks\": \"\"}, \"colorscale\": [[0.0, \"#0d0887\"], [0.1111111111111111, \"#46039f\"], [0.2222222222222222, \"#7201a8\"], [0.3333333333333333, \"#9c179e\"], [0.4444444444444444, \"#bd3786\"], [0.5555555555555556, \"#d8576b\"], [0.6666666666666666, \"#ed7953\"], [0.7777777777777778, \"#fb9f3a\"], [0.8888888888888888, \"#fdca26\"], [1.0, \"#f0f921\"]], \"type\": \"histogram2dcontour\"}], \"mesh3d\": [{\"colorbar\": {\"outlinewidth\": 0, \"ticks\": \"\"}, \"type\": \"mesh3d\"}], \"parcoords\": [{\"line\": {\"colorbar\": {\"outlinewidth\": 0, \"ticks\": \"\"}}, \"type\": \"parcoords\"}], \"scatter\": [{\"marker\": {\"colorbar\": {\"outlinewidth\": 0, \"ticks\": \"\"}}, \"type\": \"scatter\"}], \"scatter3d\": [{\"line\": {\"colorbar\": {\"outlinewidth\": 0, \"ticks\": \"\"}}, \"marker\": {\"colorbar\": {\"outlinewidth\": 0, \"ticks\": \"\"}}, \"type\": \"scatter3d\"}], \"scattercarpet\": [{\"marker\": {\"colorbar\": {\"outlinewidth\": 0, \"ticks\": \"\"}}, \"type\": \"scattercarpet\"}], \"scattergeo\": [{\"marker\": {\"colorbar\": {\"outlinewidth\": 0, \"ticks\": \"\"}}, \"type\": \"scattergeo\"}], \"scattergl\": [{\"marker\": {\"colorbar\": {\"outlinewidth\": 0, \"ticks\": \"\"}}, \"type\": \"scattergl\"}], \"scattermapbox\": [{\"marker\": {\"colorbar\": {\"outlinewidth\": 0, \"ticks\": \"\"}}, \"type\": \"scattermapbox\"}], \"scatterpolar\": [{\"marker\": {\"colorbar\": {\"outlinewidth\": 0, \"ticks\": \"\"}}, \"type\": \"scatterpolar\"}], \"scatterpolargl\": [{\"marker\": {\"colorbar\": {\"outlinewidth\": 0, \"ticks\": \"\"}}, \"type\": \"scatterpolargl\"}], \"scatterternary\": [{\"marker\": {\"colorbar\": {\"outlinewidth\": 0, \"ticks\": \"\"}}, \"type\": \"scatterternary\"}], \"surface\": [{\"colorbar\": {\"outlinewidth\": 0, \"ticks\": \"\"}, \"colorscale\": [[0.0, \"#0d0887\"], [0.1111111111111111, \"#46039f\"], [0.2222222222222222, \"#7201a8\"], [0.3333333333333333, \"#9c179e\"], [0.4444444444444444, \"#bd3786\"], [0.5555555555555556, \"#d8576b\"], [0.6666666666666666, \"#ed7953\"], [0.7777777777777778, \"#fb9f3a\"], [0.8888888888888888, \"#fdca26\"], [1.0, \"#f0f921\"]], \"type\": \"surface\"}], \"table\": [{\"cells\": {\"fill\": {\"color\": \"#EBF0F8\"}, \"line\": {\"color\": \"white\"}}, \"header\": {\"fill\": {\"color\": \"#C8D4E3\"}, \"line\": {\"color\": \"white\"}}, \"type\": \"table\"}]}, \"layout\": {\"annotationdefaults\": {\"arrowcolor\": \"#2a3f5f\", \"arrowhead\": 0, \"arrowwidth\": 1}, \"colorscale\": {\"diverging\": [[0, \"#8e0152\"], [0.1, \"#c51b7d\"], [0.2, \"#de77ae\"], [0.3, \"#f1b6da\"], [0.4, \"#fde0ef\"], [0.5, \"#f7f7f7\"], [0.6, \"#e6f5d0\"], [0.7, \"#b8e186\"], [0.8, \"#7fbc41\"], [0.9, \"#4d9221\"], [1, \"#276419\"]], \"sequential\": [[0.0, \"#0d0887\"], [0.1111111111111111, \"#46039f\"], [0.2222222222222222, \"#7201a8\"], [0.3333333333333333, \"#9c179e\"], [0.4444444444444444, \"#bd3786\"], [0.5555555555555556, \"#d8576b\"], [0.6666666666666666, \"#ed7953\"], [0.7777777777777778, \"#fb9f3a\"], [0.8888888888888888, \"#fdca26\"], [1.0, \"#f0f921\"]], \"sequentialminus\": [[0.0, \"#0d0887\"], [0.1111111111111111, \"#46039f\"], [0.2222222222222222, \"#7201a8\"], [0.3333333333333333, \"#9c179e\"], [0.4444444444444444, \"#bd3786\"], [0.5555555555555556, \"#d8576b\"], [0.6666666666666666, \"#ed7953\"], [0.7777777777777778, \"#fb9f3a\"], [0.8888888888888888, \"#fdca26\"], [1.0, \"#f0f921\"]]}, \"colorway\": [\"#636efa\", \"#EF553B\", \"#00cc96\", \"#ab63fa\", \"#FFA15A\", \"#19d3f3\", \"#FF6692\", \"#B6E880\", \"#FF97FF\", \"#FECB52\"], \"font\": {\"color\": \"#2a3f5f\"}, \"geo\": {\"bgcolor\": \"white\", \"lakecolor\": \"white\", \"landcolor\": \"#E5ECF6\", \"showlakes\": true, \"showland\": true, \"subunitcolor\": \"white\"}, \"hoverlabel\": {\"align\": \"left\"}, \"hovermode\": \"closest\", \"mapbox\": {\"style\": \"light\"}, \"paper_bgcolor\": \"white\", \"plot_bgcolor\": \"#E5ECF6\", \"polar\": {\"angularaxis\": {\"gridcolor\": \"white\", \"linecolor\": \"white\", \"ticks\": \"\"}, \"bgcolor\": \"#E5ECF6\", \"radialaxis\": {\"gridcolor\": \"white\", \"linecolor\": \"white\", \"ticks\": \"\"}}, \"scene\": {\"xaxis\": {\"backgroundcolor\": \"#E5ECF6\", \"gridcolor\": \"white\", \"gridwidth\": 2, \"linecolor\": \"white\", \"showbackground\": true, \"ticks\": \"\", \"zerolinecolor\": \"white\"}, \"yaxis\": {\"backgroundcolor\": \"#E5ECF6\", \"gridcolor\": \"white\", \"gridwidth\": 2, \"linecolor\": \"white\", \"showbackground\": true, \"ticks\": \"\", \"zerolinecolor\": \"white\"}, \"zaxis\": {\"backgroundcolor\": \"#E5ECF6\", \"gridcolor\": \"white\", \"gridwidth\": 2, \"linecolor\": \"white\", \"showbackground\": true, \"ticks\": \"\", \"zerolinecolor\": \"white\"}}, \"shapedefaults\": {\"line\": {\"color\": \"#2a3f5f\"}}, \"ternary\": {\"aaxis\": {\"gridcolor\": \"white\", \"linecolor\": \"white\", \"ticks\": \"\"}, \"baxis\": {\"gridcolor\": \"white\", \"linecolor\": \"white\", \"ticks\": \"\"}, \"bgcolor\": \"#E5ECF6\", \"caxis\": {\"gridcolor\": \"white\", \"linecolor\": \"white\", \"ticks\": \"\"}}, \"title\": {\"x\": 0.05}, \"xaxis\": {\"automargin\": true, \"gridcolor\": \"white\", \"linecolor\": \"white\", \"ticks\": \"\", \"zerolinecolor\": \"white\", \"zerolinewidth\": 2}, \"yaxis\": {\"automargin\": true, \"gridcolor\": \"white\", \"linecolor\": \"white\", \"ticks\": \"\", \"zerolinecolor\": \"white\", \"zerolinewidth\": 2}}}, \"title\": {\"text\": \"\\u0414\\u043e\\u043b\\u044f \\u043f\\u043e\\u043b\\u044c\\u0437\\u043e\\u0432\\u0430\\u0442\\u0435\\u043b\\u0435\\u0439, \\u0434\\u043e\\u0448\\u0435\\u0434\\u0448\\u0430\\u044f \\u0434\\u043e \\u043a\\u0430\\u0436\\u0434\\u043e\\u0433\\u043e \\u0448\\u0430\\u0433\\u0430, \\u0432 %\"}},\n",
       "                        {\"responsive\": true}\n",
       "                    ).then(function(){\n",
       "                            \n",
       "var gd = document.getElementById('d5b28169-4cd5-43d0-93ec-c3c20b62f408');\n",
       "var x = new MutationObserver(function (mutations, observer) {{\n",
       "        var display = window.getComputedStyle(gd).display;\n",
       "        if (!display || display === 'none') {{\n",
       "            console.log([gd, 'removed!']);\n",
       "            Plotly.purge(gd);\n",
       "            observer.disconnect();\n",
       "        }}\n",
       "}});\n",
       "\n",
       "// Listen for the removal of the full notebook cells\n",
       "var notebookContainer = gd.closest('#notebook-container');\n",
       "if (notebookContainer) {{\n",
       "    x.observe(notebookContainer, {childList: true});\n",
       "}}\n",
       "\n",
       "// Listen for the clearing of the current output cell\n",
       "var outputEl = gd.closest('.output');\n",
       "if (outputEl) {{\n",
       "    x.observe(outputEl, {childList: true});\n",
       "}}\n",
       "\n",
       "                        })\n",
       "                };\n",
       "                });\n",
       "            </script>\n",
       "        </div>"
      ]
     },
     "metadata": {},
     "output_type": "display_data"
    }
   ],
   "source": [
    "#доля пользователей, совершивших каждый этап была определена на предыдущем этапе\n",
    "\n",
    "event_user = event_user.sort_values(by = 'part %', ascending = False)\n",
    "\n",
    "display(event_user)\n",
    "\n",
    "fig = go.Figure(go.Funnel(\n",
    "    y = event_user['event'].to_list(),\n",
    "    x = event_user['part %'].to_list(),\n",
    "    ))\n",
    "    \n",
    "fig.update_layout(title_text='Доля пользователей, дошедшая до каждого шага, в %')\n",
    "\n",
    "fig.show()"
   ]
  },
  {
   "cell_type": "markdown",
   "metadata": {},
   "source": [
    "#### Вывод:"
   ]
  },
  {
   "cell_type": "markdown",
   "metadata": {},
   "source": [
    "По вопронке событий посчитали сколько и какая доля пользователей переходит на следующий шаг:\n",
    "* Переход на главную страницу: 7419\n",
    "* Переход на страницу заказа: 4201\n",
    "* Добавление товара в корзину: 1767\n",
    "* Успешная оплата товара: 454\n",
    "\n",
    "И в долях: \n",
    "* Доля пользователей, оформивших заказ 56.6%:\n",
    "* Доля пользователей, добавивших заказ в корзину 42.1%:\n",
    "* Доля пользователей, оплативших заказ 25.7%:\n",
    "\n",
    "**Также рассчитали, какая доля пользовтаелей дошла до каждого шага в отдельности**\n",
    "* MainScreenAppear\t98.25%\n",
    "* OffersScreenAppear 60.83%\n",
    "* CartScreenAppear\t49.45%\n",
    "* PaymentScreenSuccessful 46.87%\n",
    "* Tutorial 11.12%\n",
    "\n"
   ]
  },
  {
   "cell_type": "markdown",
   "metadata": {},
   "source": [
    "<div class=\"alert alert-warning\">\n",
    "<font size=\"5\"><b>Комментарий ревьюера</b></font>\n",
    "\n",
    "Мы работаем с нестрогой воронкой. Ранее мы выяснили, что проход по всем этапам воронки не является обязательным, поэтому анализировать строгую воронку необязательно. \n",
    "    \n",
    "</div>"
   ]
  },
  {
   "cell_type": "markdown",
   "metadata": {},
   "source": [
    "<div class=\"alert alert-success\">\n",
    "<font size=\"5\"><b>Комментарий ревьюера 2</b></font>\n",
    "\n",
    "Теперь все правильно, только tutorial все же стоит убрать из анализа. \n",
    "\n",
    "</div>"
   ]
  },
  {
   "cell_type": "markdown",
   "metadata": {},
   "source": [
    "<a id='16'></a>\n",
    "### На каком шаге теряете больше всего пользователей? Какая доля пользователей доходит от первого события до оплаты?"
   ]
  },
  {
   "cell_type": "markdown",
   "metadata": {},
   "source": [
    "Больше всего пользователей теряется при переходе с главной страницы к странице с заказом. теряется 43% пользователей.Конверсия становится меньше на каждом этапе, меньше всего 25,7 % на последнем этапе, от добавления в корзину и оплаты.\n",
    "Какая доля пользователей доходит от первого события до оплаты?\n",
    "От просмотра главной страницы до успешной покупки доходит 6,1%"
   ]
  },
  {
   "cell_type": "markdown",
   "metadata": {},
   "source": [
    "<a id='17'></a>\n",
    "### Вывод по разделу"
   ]
  },
  {
   "cell_type": "markdown",
   "metadata": {},
   "source": [
    "Изучив воронку событий, можно сделать следующие выводы:\n",
    "1. Всего у нас 5 основных событий, ниже приведет список и указано количество:\n",
    "\n",
    "* MainScreenAppear           117328\n",
    "* OffersScreenAppear          46333\n",
    "* CartScreenAppear            42303\n",
    "* PaymentScreenSuccessful     33918\n",
    "* Tutorial                     1005\n",
    "\n",
    "Проведена оценка частоты событий, отсортированы по убванию:\n",
    "\n",
    "* MainScreenAppear(показ главного экрана) - каждое 2-е событие\n",
    "* OffersScreenAppear(показ экрана с предложениями) - каждое 5.2 событие\n",
    "* CartScreenAppear(показ экрана \"корзины\") - каждое 5.6 событие\n",
    "* PaymentScreenSuccessful(показ экрана успешной оплаты) - каждое 7 событие\n",
    "* Tutorial(руководство, инструкция) - каждое 239.7 событие\n",
    "\n",
    "2. Исходя из доли пользователей и среднего количества события на каждого пользователя можно сделать вывод, что чаще пользователи посещают главную страницу, что логично, затем страницу заказа и корзину. Реже всего пользователи открывают руководство.\n",
    "\n",
    "3. Самым распространенным и  первым событием является посещение главной страницы, затем осуществляется переход на страницу с заказом, затем добавление товара в корзину, затем оплата товара, всего 4 действия, которые выстраиваются в цепочку:\n",
    "\n",
    "**MainScreenAppear - OffersScreenAppear - CartScreenAppea - PaymentScreenSuccessful** \n",
    "\n",
    "Опциональное событие это просмотр руководства, его можно не учитывать при расчете воронки.\n",
    "\n",
    "4. По вопронке событий посчитали сколько и какая доля пользователей переходит на следующий шаг:\n",
    "* Переход на главную страницу: 7419\n",
    "* Переход на страницу заказа: 4201\n",
    "* Добавление товара в корзину: 1767\n",
    "* Успешная оплата товара: 454\n",
    "\n",
    "И в долях: \n",
    "* Доля пользователей, оформивших заказ 56.6%:\n",
    "* Доля пользователей, добавивших заказ в корзину 42.1%:\n",
    "* Доля пользователей, оплативших заказ 25.7%\n",
    "\n",
    "5. Больше всего пользователей теряется при переходе с главной страницы к странице с заказом. теряется 43% пользователей.Конверсия становится меньше на каждом этапе, меньше всего 25,7 % на последнем этапе, от добавления в корзину и оплаты.\n",
    "От просмотра главной страницы до успешной покупки доходит 6,1%\n",
    "\n",
    "6. **Также рассчитали, какая доля пользовтаелей дошла до каждого шага в отдельности**\n",
    "* MainScreenAppear\t98.25%\n",
    "* OffersScreenAppear 60.83%\n",
    "* CartScreenAppear\t49.45%\n",
    "* PaymentScreenSuccessful 46.87%\n",
    "* Tutorial 11.12%\n",
    "\n",
    "Здесь, только половина пользователей доходит до добавления заказа в корзину, еще немного меньше (46,87%) доходят до его оплаты. Меньше всего также переходят к инструкциям.\n"
   ]
  },
  {
   "cell_type": "markdown",
   "metadata": {},
   "source": [
    "<div class=\"alert alert-danger\">\n",
    "<font size=\"5\"><b>Комментарий ревьюера</b></font>\n",
    "\n",
    "Проанализируй нестрогую воронку. Нам важно то, сколько пользователей доходит до каждого шага, а не то, как они идут по воронке. Также визуализируй полученную воронку. В этом тебе поможет метод Funnel библиотеки plotly. \n",
    "    \n",
    "</div>"
   ]
  },
  {
   "cell_type": "markdown",
   "metadata": {},
   "source": [
    "<div style=\"border:solid red 2px; padding: 20px\">\n",
    "<font size=\"5\"><b>Комментарий студента</b></font>\n",
    "    \n",
    "Дополнил. Но в задании сформулировано именно по отношению к предыдущему событию, там речь про переход от события А к событию Ь и т.д. \n",
    "    \n",
    "</div>"
   ]
  },
  {
   "cell_type": "markdown",
   "metadata": {},
   "source": [
    "<div class=\"alert alert-success\">\n",
    "<font size=\"5\"><b>Комментарий ревьюера 2</b></font>\n",
    "\n",
    "Да, но тогда неясно, почему в тестах ты ищешь конверсии относительно общего числа пользователей. А как раз проведенный анализ и понимание того, что посещение всех шагов необязательно для оплаты заказа и выводит нас на анализ нестрогой воронки. В тестах мы лишь дополняем этот анализ результаты как раз по воронке без учета последовательности событий. \n",
    "\n",
    "</div>"
   ]
  },
  {
   "cell_type": "markdown",
   "metadata": {},
   "source": [
    "<a id='18'></a>\n",
    "## Изучим результаты эксперимента"
   ]
  },
  {
   "cell_type": "markdown",
   "metadata": {},
   "source": [
    "<a id='19'></a>\n",
    "### Узнаем, пользователей в каждой экспериментальной группе"
   ]
  },
  {
   "cell_type": "code",
   "execution_count": 497,
   "metadata": {},
   "outputs": [
    {
     "data": {
      "text/html": [
       "<div>\n",
       "<style scoped>\n",
       "    .dataframe tbody tr th:only-of-type {\n",
       "        vertical-align: middle;\n",
       "    }\n",
       "\n",
       "    .dataframe tbody tr th {\n",
       "        vertical-align: top;\n",
       "    }\n",
       "\n",
       "    .dataframe thead th {\n",
       "        text-align: right;\n",
       "    }\n",
       "</style>\n",
       "<table border=\"1\" class=\"dataframe\">\n",
       "  <thead>\n",
       "    <tr style=\"text-align: right;\">\n",
       "      <th></th>\n",
       "      <th>group</th>\n",
       "      <th>userid</th>\n",
       "    </tr>\n",
       "  </thead>\n",
       "  <tbody>\n",
       "    <tr>\n",
       "      <td>0</td>\n",
       "      <td>A1</td>\n",
       "      <td>2484</td>\n",
       "    </tr>\n",
       "    <tr>\n",
       "      <td>1</td>\n",
       "      <td>A2</td>\n",
       "      <td>2513</td>\n",
       "    </tr>\n",
       "    <tr>\n",
       "      <td>2</td>\n",
       "      <td>B</td>\n",
       "      <td>2537</td>\n",
       "    </tr>\n",
       "  </tbody>\n",
       "</table>\n",
       "</div>"
      ],
      "text/plain": [
       "  group  userid\n",
       "0  A1    2484  \n",
       "1  A2    2513  \n",
       "2  B     2537  "
      ]
     },
     "metadata": {},
     "output_type": "display_data"
    },
    {
     "data": {
      "image/png": "[encoded data removed]",
      "text/plain": [
       "<Figure size 1440x504 with 1 Axes>"
      ]
     },
     "metadata": {},
     "output_type": "display_data"
    }
   ],
   "source": [
    "display(logs_group)\n",
    "\n",
    "plt.figure(figsize = (20, 7))\n",
    "ax = sns.barplot(data = logs_group, x = 'group', y = 'userid')\n",
    "plt.xlabel(\"Группа\", fontsize = 20)\n",
    "plt.ylabel(\"Количество пользователей\", fontsize = 20)\n",
    "plt.title(\"Количество пользователей по группам\", fontsize = 25)\n",
    "for i in ax.patches:\n",
    "    ax.text(i.get_x()+.3, i.get_height()+20, \\\n",
    "            str(round((i.get_height()), 0)), fontsize=20, color='dimgrey')\n",
    "plt.show()"
   ]
  },
  {
   "cell_type": "markdown",
   "metadata": {},
   "source": [
    "#### Вывод"
   ]
  },
  {
   "cell_type": "markdown",
   "metadata": {},
   "source": [
    "В группе A1 - 2484 пользователя, в группе A2 - 2513 пользователя, в группе B - 2537 человека. Можно сделать предположение о сопоставимости размеров групп"
   ]
  },
  {
   "cell_type": "markdown",
   "metadata": {},
   "source": [
    "<div class=\"alert alert-success\">\n",
    "<font size=\"5\"><b>Комментарий ревьюера</b></font>\n",
    "\n",
    "Правильно, что ты проверил равенство размеров групп. Однако их размеры несколько различаются. Это говорит нам о неоптимальности разбиения данных по группам. Для будущих тестов следует несколько поработать с механикой выделения групп и, возможно, изменить подход к их выделению.\n",
    "    \n",
    "</div>"
   ]
  },
  {
   "cell_type": "markdown",
   "metadata": {},
   "source": [
    "<a id='10'></a>\n",
    "### Есть 2 контрольные группы для А/А-эксперимента, чтобы проверить корректность всех механизмов и расчётов. Проверим, находят ли статистические критерии разницу между выборками А1 и А2."
   ]
  },
  {
   "cell_type": "code",
   "execution_count": 498,
   "metadata": {},
   "outputs": [
    {
     "name": "stdout",
     "output_type": "stream",
     "text": [
      "['PaymentScreenSuccessful']\n"
     ]
    }
   ],
   "source": [
    "#уберем все события, кроме покупок из выборки\n",
    "logsclean_purchases = logsclean[logsclean['event'] == 'PaymentScreenSuccessful']\n",
    "print(logsclean_purchases['event'].unique())"
   ]
  },
  {
   "cell_type": "code",
   "execution_count": 499,
   "metadata": {},
   "outputs": [
    {
     "data": {
      "text/html": [
       "<div>\n",
       "<style scoped>\n",
       "    .dataframe tbody tr th:only-of-type {\n",
       "        vertical-align: middle;\n",
       "    }\n",
       "\n",
       "    .dataframe tbody tr th {\n",
       "        vertical-align: top;\n",
       "    }\n",
       "\n",
       "    .dataframe thead th {\n",
       "        text-align: right;\n",
       "    }\n",
       "</style>\n",
       "<table border=\"1\" class=\"dataframe\">\n",
       "  <thead>\n",
       "    <tr style=\"text-align: right;\">\n",
       "      <th></th>\n",
       "      <th>event</th>\n",
       "      <th>userid</th>\n",
       "    </tr>\n",
       "    <tr>\n",
       "      <th>group</th>\n",
       "      <th></th>\n",
       "      <th></th>\n",
       "    </tr>\n",
       "  </thead>\n",
       "  <tbody>\n",
       "    <tr>\n",
       "      <td>A1</td>\n",
       "      <td>11852</td>\n",
       "      <td>1200</td>\n",
       "    </tr>\n",
       "  </tbody>\n",
       "</table>\n",
       "</div>"
      ],
      "text/plain": [
       "       event  userid\n",
       "group               \n",
       "A1     11852  1200  "
      ]
     },
     "metadata": {},
     "output_type": "display_data"
    },
    {
     "data": {
      "text/html": [
       "<div>\n",
       "<style scoped>\n",
       "    .dataframe tbody tr th:only-of-type {\n",
       "        vertical-align: middle;\n",
       "    }\n",
       "\n",
       "    .dataframe tbody tr th {\n",
       "        vertical-align: top;\n",
       "    }\n",
       "\n",
       "    .dataframe thead th {\n",
       "        text-align: right;\n",
       "    }\n",
       "</style>\n",
       "<table border=\"1\" class=\"dataframe\">\n",
       "  <thead>\n",
       "    <tr style=\"text-align: right;\">\n",
       "      <th></th>\n",
       "      <th>event</th>\n",
       "      <th>userid</th>\n",
       "    </tr>\n",
       "    <tr>\n",
       "      <th>group</th>\n",
       "      <th></th>\n",
       "      <th></th>\n",
       "    </tr>\n",
       "  </thead>\n",
       "  <tbody>\n",
       "    <tr>\n",
       "      <td>A2</td>\n",
       "      <td>9981</td>\n",
       "      <td>1158</td>\n",
       "    </tr>\n",
       "  </tbody>\n",
       "</table>\n",
       "</div>"
      ],
      "text/plain": [
       "       event  userid\n",
       "group               \n",
       "A2     9981   1158  "
      ]
     },
     "metadata": {},
     "output_type": "display_data"
    },
    {
     "name": "stdout",
     "output_type": "stream",
     "text": [
      "Количество пользователей в группе А1 0    2484\n",
      "Name: userid, dtype: int64\n",
      "Количество пользователей в группе А2 1    2513\n",
      "Name: userid, dtype: int64\n"
     ]
    }
   ],
   "source": [
    "#создадим срезы данных по группам\n",
    "data_a1 = logsclean_purchases[logsclean_purchases['group'] == 'A1']\n",
    "data_a2 = logsclean_purchases[logsclean_purchases['group'] == 'A2']\n",
    "\n",
    "#посчитаем количество пользователей и количество событий для каждой из групп\n",
    "data_group_a1 = data_a1.groupby('group').agg({'event': 'count', 'userid': 'nunique'})\n",
    "data_group_a2 = data_a2.groupby('group').agg({'event': 'count', 'userid': 'nunique'})\n",
    "\n",
    "#количество пользователей, сделавших хотя бы один заказ и совокупное количество заказов\n",
    "display(data_group_a1)\n",
    "display(data_group_a2)\n",
    "\n",
    "#количество пользователей в каждой из групп\n",
    "print('Количество пользователей в группе А1', logs_group[logs_group['group'] == 'A1']['userid'])\n",
    "print('Количество пользователей в группе А2', logs_group[logs_group['group'] == 'A2']['userid'])"
   ]
  },
  {
   "cell_type": "code",
   "execution_count": 500,
   "metadata": {},
   "outputs": [
    {
     "name": "stdout",
     "output_type": "stream",
     "text": [
      "p-значение:  0.11456679313141849\n",
      "Не получилось отвергнуть нулевую гипотезу, нет оснований считать доли пользователей по группам А1 и А2 разными\n"
     ]
    }
   ],
   "source": [
    "#сформулируем гипотезы для проверки\n",
    "#Н0 - между долями пользователей по группам А1 и А2 отсутствуют различия\n",
    "#Н1 - доли пользователей А1 и А2 статистически различны, есть значимая разница\n",
    "\n",
    "# критический уровень статистической значимости\n",
    "alpha = 0.05  \n",
    "\n",
    "#кол-во пользователей в каждой группе и количестов покупателей\n",
    "purchases = np.array([1200, 1158])  \n",
    "leads = np.array([2484, 2513])    \n",
    " \n",
    "p1 = purchases[0] / leads[0]\n",
    "p2 = purchases[1] / leads[1]\n",
    "\n",
    "#пропорция успехов в комбинированном датасете:\n",
    "p_combined = (purchases[0] + purchases[1]) / (leads[0] + leads[1])\n",
    " \n",
    "#разница пропорций в датасетах\n",
    "difference = p1 - p2\n",
    "\n",
    "z_value = difference / mth.sqrt(p_combined * (1 - p_combined) * (1 / leads[0] + 1 / leads[1]))\n",
    "\n",
    "#задаем стандартное нормальное распределение (среднее 0, ст.отклонение 1)\n",
    "\n",
    "distr = stats.norm(0, 1)\n",
    "\n",
    "p_value = (1 - distr.cdf(abs(z_value))) * 2\n",
    "print('p-значение: ', p_value)\n",
    " \n",
    "if p_value < alpha:\n",
    "    print('Отвергаем нулевую гипотезу: между долями пользователей групп А1 и А2 есть значимая разница')\n",
    "else:\n",
    "    print(\n",
    "        'Не получилось отвергнуть нулевую гипотезу, нет оснований считать доли пользователей по группам А1 и А2 разными'\n",
    "    )"
   ]
  },
  {
   "cell_type": "markdown",
   "metadata": {},
   "source": [
    "#### Вывод"
   ]
  },
  {
   "cell_type": "markdown",
   "metadata": {},
   "source": [
    "При помощи Z-теста проверили контрольные группы для А/А-эксперимента. Проверили, находится ли статистическая разница между выборками А1 и А2. По результатам теста группы оказались стиастически равны. "
   ]
  },
  {
   "cell_type": "markdown",
   "metadata": {},
   "source": [
    "<a id='21'></a>\n",
    "### Выберем самое популярное событие. Посчитаем число пользователей, совершивших это событие в каждой из контрольных групп. Посчитаем долю пользователей, совершивших это событие. Проверим, будет ли отличие между группами статистически достоверным. Проделаем то же самое для всех других событий. Найдем ответ на вопрос, можно ли сказать, что разбиение на группы работает корректно?"
   ]
  },
  {
   "cell_type": "code",
   "execution_count": 501,
   "metadata": {},
   "outputs": [
    {
     "data": {
      "text/html": [
       "<div>\n",
       "<style scoped>\n",
       "    .dataframe tbody tr th:only-of-type {\n",
       "        vertical-align: middle;\n",
       "    }\n",
       "\n",
       "    .dataframe tbody tr th {\n",
       "        vertical-align: top;\n",
       "    }\n",
       "\n",
       "    .dataframe thead th {\n",
       "        text-align: right;\n",
       "    }\n",
       "</style>\n",
       "<table border=\"1\" class=\"dataframe\">\n",
       "  <thead>\n",
       "    <tr style=\"text-align: right;\">\n",
       "      <th></th>\n",
       "      <th>group</th>\n",
       "      <th>MainScreenAppear</th>\n",
       "      <th>OffersScreenAppear</th>\n",
       "      <th>CartScreenAppear</th>\n",
       "      <th>PaymentScreenSuccessful</th>\n",
       "      <th>Tutorial</th>\n",
       "    </tr>\n",
       "  </thead>\n",
       "  <tbody>\n",
       "    <tr>\n",
       "      <td>0</td>\n",
       "      <td>A1</td>\n",
       "      <td>37676</td>\n",
       "      <td>14767</td>\n",
       "      <td>14690</td>\n",
       "      <td>11852</td>\n",
       "      <td>317</td>\n",
       "    </tr>\n",
       "    <tr>\n",
       "      <td>1</td>\n",
       "      <td>A2</td>\n",
       "      <td>39090</td>\n",
       "      <td>15179</td>\n",
       "      <td>12434</td>\n",
       "      <td>9981</td>\n",
       "      <td>338</td>\n",
       "    </tr>\n",
       "  </tbody>\n",
       "</table>\n",
       "</div>"
      ],
      "text/plain": [
       "  group  MainScreenAppear  OffersScreenAppear  CartScreenAppear  \\\n",
       "0  A1    37676             14767               14690              \n",
       "1  A2    39090             15179               12434              \n",
       "\n",
       "   PaymentScreenSuccessful  Tutorial  \n",
       "0  11852                    317       \n",
       "1  9981                     338       "
      ]
     },
     "metadata": {},
     "output_type": "display_data"
    }
   ],
   "source": [
    "#узнаем самое популярное событие по группам\n",
    "#выделим для удобства две контрольные группы в отдельный датасет\n",
    "logsclean_AA = logsclean[logsclean['group'] != 'B']\n",
    "\n",
    "event_group = logsclean_AA.pivot_table(index=['date','group'], columns='event', values='userid', aggfunc='count').reset_index()\n",
    "event_group_count = (event_group.groupby('group')\n",
    "                     .agg({'MainScreenAppear':'sum',\n",
    "                           'OffersScreenAppear':'sum',\n",
    "                           'CartScreenAppear':'sum',\n",
    "                           'PaymentScreenSuccessful':'sum',\n",
    "                           'Tutorial':'sum'}).reset_index()\n",
    "                    )\n",
    "display(event_group_count)"
   ]
  },
  {
   "cell_type": "markdown",
   "metadata": {},
   "source": [
    "Самое популярное событие в каждой из групп - MainScreenAppear - открытие главной страницы, что логично, так как с нее начинается последовательность действий. "
   ]
  },
  {
   "cell_type": "code",
   "execution_count": 502,
   "metadata": {},
   "outputs": [
    {
     "data": {
      "text/html": [
       "<div>\n",
       "<style scoped>\n",
       "    .dataframe tbody tr th:only-of-type {\n",
       "        vertical-align: middle;\n",
       "    }\n",
       "\n",
       "    .dataframe tbody tr th {\n",
       "        vertical-align: top;\n",
       "    }\n",
       "\n",
       "    .dataframe thead th {\n",
       "        text-align: right;\n",
       "    }\n",
       "</style>\n",
       "<table border=\"1\" class=\"dataframe\">\n",
       "  <thead>\n",
       "    <tr style=\"text-align: right;\">\n",
       "      <th>event</th>\n",
       "      <th>group</th>\n",
       "      <th>MainScreenAppear</th>\n",
       "    </tr>\n",
       "  </thead>\n",
       "  <tbody>\n",
       "    <tr>\n",
       "      <td>0</td>\n",
       "      <td>A1</td>\n",
       "      <td>2450</td>\n",
       "    </tr>\n",
       "    <tr>\n",
       "      <td>1</td>\n",
       "      <td>A2</td>\n",
       "      <td>2476</td>\n",
       "    </tr>\n",
       "  </tbody>\n",
       "</table>\n",
       "</div>"
      ],
      "text/plain": [
       "event group  MainScreenAppear\n",
       "0      A1    2450            \n",
       "1      A2    2476            "
      ]
     },
     "metadata": {},
     "output_type": "display_data"
    }
   ],
   "source": [
    "#посчитаем число пользователей, совершивших это событие в каждой группе\n",
    "mainscreen = logsclean_AA[logsclean_AA['event'] == 'MainScreenAppear']\n",
    "\n",
    "mainscreen_group = mainscreen.pivot_table(index='group', columns='event', values='userid', aggfunc='nunique').reset_index()\n",
    "display(mainscreen_group)"
   ]
  },
  {
   "cell_type": "code",
   "execution_count": 503,
   "metadata": {},
   "outputs": [
    {
     "data": {
      "text/html": [
       "<div>\n",
       "<style scoped>\n",
       "    .dataframe tbody tr th:only-of-type {\n",
       "        vertical-align: middle;\n",
       "    }\n",
       "\n",
       "    .dataframe tbody tr th {\n",
       "        vertical-align: top;\n",
       "    }\n",
       "\n",
       "    .dataframe thead th {\n",
       "        text-align: right;\n",
       "    }\n",
       "</style>\n",
       "<table border=\"1\" class=\"dataframe\">\n",
       "  <thead>\n",
       "    <tr style=\"text-align: right;\">\n",
       "      <th></th>\n",
       "      <th>group</th>\n",
       "      <th>user_for_event</th>\n",
       "      <th>user_count_group</th>\n",
       "      <th>part %</th>\n",
       "    </tr>\n",
       "  </thead>\n",
       "  <tbody>\n",
       "    <tr>\n",
       "      <td>0</td>\n",
       "      <td>A1</td>\n",
       "      <td>2450</td>\n",
       "      <td>2484</td>\n",
       "      <td>98.63</td>\n",
       "    </tr>\n",
       "    <tr>\n",
       "      <td>1</td>\n",
       "      <td>A2</td>\n",
       "      <td>2476</td>\n",
       "      <td>2513</td>\n",
       "      <td>98.53</td>\n",
       "    </tr>\n",
       "  </tbody>\n",
       "</table>\n",
       "</div>"
      ],
      "text/plain": [
       "  group  user_for_event  user_count_group  part %\n",
       "0  A1    2450            2484              98.63 \n",
       "1  A2    2476            2513              98.53 "
      ]
     },
     "metadata": {},
     "output_type": "display_data"
    }
   ],
   "source": [
    "#добавим общее количество пользователей в кажду группу\n",
    "mainscreen_group_all = mainscreen_group.merge(logs_group, on = 'group')\n",
    "mainscreen_group_all.columns = ['group', 'user_for_event', 'user_count_group']\n",
    "\n",
    "#посчитаем долю\n",
    "mainscreen_group_all['part %'] = (mainscreen_group_all['user_for_event'] / mainscreen_group_all['user_count_group'] * 100).round(2)\n",
    "display(mainscreen_group_all)"
   ]
  },
  {
   "cell_type": "markdown",
   "metadata": {},
   "source": [
    "В каждой из групп действие совершили более 98,5% пользователей, т.е. те, которые зашли в приложение"
   ]
  },
  {
   "cell_type": "code",
   "execution_count": 504,
   "metadata": {},
   "outputs": [
    {
     "name": "stdout",
     "output_type": "stream",
     "text": [
      "p-значение:  0.7570597232046099\n",
      "Не получилось отвергнуть нулевую гипотезу, нет оснований считать  доли пользователей по группам А1 и А2 разными\n"
     ]
    }
   ],
   "source": [
    "#проведем статистический тест для сравнения выборок обеих контрольных групп\n",
    "\n",
    "#сформулируем гипотезы для проверки\n",
    "#Н0 - в долях пользователей по группам А1 и А2 отсутствуют различия\n",
    "#Н1 - доли пользователей по группам А1 и А2 статистически различны, есть значимая разница\n",
    "\n",
    "# критический уровень статистической значимости\n",
    "alpha = 0.05  \n",
    "\n",
    "#кол-во пользователей в каждой группе и количество просмотревших пглавную страницу\n",
    "event = np.array([2450, 2476])  \n",
    "leads = np.array([2484, 2513])    \n",
    " \n",
    "p1 = event[0] / leads[0]\n",
    "p2 = event[1] / leads[1]\n",
    "\n",
    "#пропорция успехов в комбинированном датасете:\n",
    "p_combined = (event[0] + event[1]) / (leads[0] + leads[1])\n",
    " \n",
    "#разница пропорций в датасетах\n",
    "difference = p1 - p2\n",
    "\n",
    "z_value = difference / mth.sqrt(p_combined * (1 - p_combined) * (1 / leads[0] + 1 / leads[1]))\n",
    "\n",
    "#задаем стандартное нормальное распределение (среднее 0, ст.отклонение 1)\n",
    "\n",
    "distr = stats.norm(0, 1)\n",
    "\n",
    "p_value = (1 - distr.cdf(abs(z_value))) * 2\n",
    "print('p-значение: ', p_value)\n",
    " \n",
    "if p_value < alpha:\n",
    "    print('Отвергаем нулевую гипотезу: между долями пользователей по группам А1 и А2 есть значимая разница')\n",
    "else:\n",
    "    print(\n",
    "        'Не получилось отвергнуть нулевую гипотезу, нет оснований считать  доли пользователей по группам А1 и А2 разными'\n",
    "    )\n"
   ]
  },
  {
   "cell_type": "markdown",
   "metadata": {},
   "source": [
    "При помощи Z-теста проверили контрольные группы для А/А-эксперимента. Проверили, находится ли статистическая разница между выборками А1 и А2 по просмотру главной страницы. По результатам теста группы оказались стиастически равны."
   ]
  },
  {
   "cell_type": "code",
   "execution_count": 505,
   "metadata": {},
   "outputs": [],
   "source": [
    "#проделаем то же самое для всех других событий, для этого напишем функцию\n",
    "def test(event0, event1, leads0, leads1):\n",
    "    event = np.array([event0, event1])\n",
    "    leads = np.array([leads0, leads1])\n",
    "    p1 = event[0] / leads[0]\n",
    "    p2 = event[1] / leads[1]\n",
    "    p_combined = (event[0] + event[1]) / (leads[0] + leads[1])\n",
    "    difference = p1 - p2\n",
    "    z_value = difference / mth.sqrt(p_combined * (1 - p_combined) * (1 / leads[0] + 1 / leads[1]))\n",
    "    distr = stats.norm(0, 1)\n",
    "    p_value = (1 - distr.cdf(abs(z_value))) * 2\n",
    "    return p_value"
   ]
  },
  {
   "cell_type": "markdown",
   "metadata": {},
   "source": [
    "<div class=\"alert alert-success\">\n",
    "<font size=\"5\"><b>Комментарий ревьюера</b></font>\n",
    "\n",
    "Правильно, что ты создал функцию для проведения теста. Действительно, тестов проводить много, так что она не будет лишней. \n",
    "    \n",
    "Также верно, что ты работаешь с долями относительно общего числа клиентов в группах. Ранее мы выяснили, что проход по всем этапам воронки не является обязательным, так что работать нужно именно относительно общего числа клиентов. \n",
    "    \n",
    "</div>"
   ]
  },
  {
   "cell_type": "code",
   "execution_count": 506,
   "metadata": {},
   "outputs": [
    {
     "data": {
      "text/html": [
       "<div>\n",
       "<style scoped>\n",
       "    .dataframe tbody tr th:only-of-type {\n",
       "        vertical-align: middle;\n",
       "    }\n",
       "\n",
       "    .dataframe tbody tr th {\n",
       "        vertical-align: top;\n",
       "    }\n",
       "\n",
       "    .dataframe thead th {\n",
       "        text-align: right;\n",
       "    }\n",
       "</style>\n",
       "<table border=\"1\" class=\"dataframe\">\n",
       "  <thead>\n",
       "    <tr style=\"text-align: right;\">\n",
       "      <th></th>\n",
       "      <th>group</th>\n",
       "      <th>CartScreenAppear</th>\n",
       "      <th>MainScreenAppear</th>\n",
       "      <th>OffersScreenAppear</th>\n",
       "      <th>PaymentScreenSuccessful</th>\n",
       "      <th>Tutorial</th>\n",
       "      <th>userid</th>\n",
       "    </tr>\n",
       "  </thead>\n",
       "  <tbody>\n",
       "    <tr>\n",
       "      <td>0</td>\n",
       "      <td>A1</td>\n",
       "      <td>1266</td>\n",
       "      <td>2450</td>\n",
       "      <td>1542</td>\n",
       "      <td>1200</td>\n",
       "      <td>278</td>\n",
       "      <td>2484</td>\n",
       "    </tr>\n",
       "    <tr>\n",
       "      <td>1</td>\n",
       "      <td>A2</td>\n",
       "      <td>1238</td>\n",
       "      <td>2476</td>\n",
       "      <td>1520</td>\n",
       "      <td>1158</td>\n",
       "      <td>283</td>\n",
       "      <td>2513</td>\n",
       "    </tr>\n",
       "  </tbody>\n",
       "</table>\n",
       "</div>"
      ],
      "text/plain": [
       "  group  CartScreenAppear  MainScreenAppear  OffersScreenAppear  \\\n",
       "0  A1    1266              2450              1542                 \n",
       "1  A2    1238              2476              1520                 \n",
       "\n",
       "   PaymentScreenSuccessful  Tutorial  userid  \n",
       "0  1200                     278       2484    \n",
       "1  1158                     283       2513    "
      ]
     },
     "metadata": {},
     "output_type": "display_data"
    }
   ],
   "source": [
    "#создадим таблицу для групп А с количеством уникальных пользователей по всем событиям, добавим к ней количество пользователей\n",
    "event_for_aa = logsclean_AA.pivot_table(index='group', columns='event', values='userid', aggfunc='nunique').reset_index()\n",
    "event_for_aa_all = event_for_aa.merge(logs_group, on = 'group')\n",
    "display(event_for_aa_all)"
   ]
  },
  {
   "cell_type": "markdown",
   "metadata": {},
   "source": [
    "<div class=\"alert alert-danger\">\n",
    "<font size=\"5\"><b>Комментарий ревьюера</b></font>\n",
    "\n",
    "Давай уточним формулировку гипотез. Что именно мы проверяем при помощи Z-теста? Твою работу могут просматривать разные люди, и формулировка \"группы равны\" вызовет много вопросов. Гипотезы следует формулировать максимально точно. \n",
    "    \n",
    "</div>"
   ]
  },
  {
   "cell_type": "markdown",
   "metadata": {},
   "source": [
    "<div style=\"border:solid red 2px; padding: 20px\">\n",
    "<font size=\"5\"><b>Комментарий студента</b></font>\n",
    "    \n",
    "Спасибо, что обратил внимание, исправил\n",
    "    \n",
    "</div>"
   ]
  },
  {
   "cell_type": "markdown",
   "metadata": {},
   "source": [
    "<div class=\"alert alert-danger\">\n",
    "<font size=\"5\"><b>Комментарий ревьюера 2</b></font>\n",
    "\n",
    "Нет, формулировки еще не до конца верны. У нас нет выборок в строгом понимании этого слова. Мы изучаем различия в конверсиях на разных шагах воронки для пары групп. В формулировках именно об этом и стоит написать. \n",
    "\n",
    "</div>"
   ]
  },
  {
   "cell_type": "markdown",
   "metadata": {},
   "source": [
    "<div style=\"border:solid red 2px; padding: 20px\">\n",
    "<font size=\"5\"><b>Комментарий студента 2</b></font>\n",
    "    \n",
    "Исправил. Мы в данном случае сравниваем доли пользователей\n",
    "    \n",
    "</div>"
   ]
  },
  {
   "cell_type": "code",
   "execution_count": 507,
   "metadata": {},
   "outputs": [
    {
     "name": "stdout",
     "output_type": "stream",
     "text": [
      "Итоги статтеста по событию: CartScreenAppear, Значение alpha: 0.05, между группами А1 и А2\n",
      "p-value: 0.22883372237997213\n",
      "Не получилось отвергнуть нулевую гипотезу, нет оснований считать доли пользователей по группам А1 и А2 разными\n",
      "****************************************************************************************************\n",
      "\n",
      "Итоги статтеста по событию: OffersScreenAppear, Значение alpha: 0.05, между группами А1 и А2\n",
      "p-value: 0.2480954578522181\n",
      "Не получилось отвергнуть нулевую гипотезу, нет оснований считать доли пользователей по группам А1 и А2 разными\n",
      "****************************************************************************************************\n",
      "\n",
      "Итоги статтеста по событию: PaymentScreenSuccessful, Значение alpha: 0.05, между группами А1 и А2\n",
      "p-value: 0.11456679313141849\n",
      "Не получилось отвергнуть нулевую гипотезу, нет оснований считать доли пользователей по группам А1 и А2 разными\n",
      "****************************************************************************************************\n",
      "\n"
     ]
    }
   ],
   "source": [
    "#применим функцию и проведем статистическое сравнение в цикле\n",
    "\n",
    "#сформулируем гипотезы для проверки\n",
    "#Н0 - в долях пользователей по группам А1 и А2 отсутствуют различия\n",
    "#Н1 - доли пользователей по группам А1 и А2 статистически различны, есть значимая разница\n",
    "\n",
    "group1 = event_for_aa_all['userid'][0]\n",
    "group2 = event_for_aa_all['userid'][1]\n",
    "event_list = ['CartScreenAppear', 'OffersScreenAppear', 'PaymentScreenSuccessful']\n",
    "\n",
    "for event in event_list:\n",
    "    alpha = 0.05\n",
    "    p_value_result = test(event_for_aa_all[event][0], event_for_aa_all[event][1], group1, group2)\n",
    "    \n",
    "    print(f'Итоги статтеста по событию: {event}, Значение alpha: {alpha}, между группами А1 и А2')\n",
    "    \n",
    "    print('p-value:', p_value_result)\n",
    "    \n",
    "    if p_value < alpha:\n",
    "        print('Отвергаем нулевую гипотезу: между долями пользователей по группам А1 и А2 есть значимая разница')\n",
    "    else:\n",
    "        print('Не получилось отвергнуть нулевую гипотезу, нет оснований считать доли пользователей по группам А1 и А2 разными')\n",
    "    print(100*'*')\n",
    "    print()\n"
   ]
  },
  {
   "cell_type": "markdown",
   "metadata": {},
   "source": [
    "#### Вывод"
   ]
  },
  {
   "cell_type": "markdown",
   "metadata": {},
   "source": [
    "По итогам проведения статтеста для сравненичя долей пользователей, совершивших одни и те же события в группах А1 и А2 статистических различий не выявлено, контрольные группы можно считать статистически равными"
   ]
  },
  {
   "cell_type": "markdown",
   "metadata": {},
   "source": [
    "<a id='22'></a>\n",
    "### Аналогично поступим с группой с изменённым шрифтом. Сравним результаты с каждой из контрольных групп в отдельности по каждому событию. Сравним результаты с объединённой контрольной группой. Сделаем выводы из эксперимента."
   ]
  },
  {
   "cell_type": "code",
   "execution_count": 508,
   "metadata": {},
   "outputs": [
    {
     "data": {
      "text/html": [
       "<div>\n",
       "<style scoped>\n",
       "    .dataframe tbody tr th:only-of-type {\n",
       "        vertical-align: middle;\n",
       "    }\n",
       "\n",
       "    .dataframe tbody tr th {\n",
       "        vertical-align: top;\n",
       "    }\n",
       "\n",
       "    .dataframe thead th {\n",
       "        text-align: right;\n",
       "    }\n",
       "</style>\n",
       "<table border=\"1\" class=\"dataframe\">\n",
       "  <thead>\n",
       "    <tr style=\"text-align: right;\">\n",
       "      <th></th>\n",
       "      <th>index</th>\n",
       "      <th>group</th>\n",
       "      <th>CartScreenAppear</th>\n",
       "      <th>MainScreenAppear</th>\n",
       "      <th>OffersScreenAppear</th>\n",
       "      <th>PaymentScreenSuccessful</th>\n",
       "      <th>Tutorial</th>\n",
       "      <th>userid</th>\n",
       "    </tr>\n",
       "  </thead>\n",
       "  <tbody>\n",
       "    <tr>\n",
       "      <td>0</td>\n",
       "      <td>0</td>\n",
       "      <td>A1</td>\n",
       "      <td>1266</td>\n",
       "      <td>2450</td>\n",
       "      <td>1542</td>\n",
       "      <td>1200</td>\n",
       "      <td>278</td>\n",
       "      <td>2484</td>\n",
       "    </tr>\n",
       "    <tr>\n",
       "      <td>1</td>\n",
       "      <td>1</td>\n",
       "      <td>A2</td>\n",
       "      <td>1238</td>\n",
       "      <td>2476</td>\n",
       "      <td>1520</td>\n",
       "      <td>1158</td>\n",
       "      <td>283</td>\n",
       "      <td>2513</td>\n",
       "    </tr>\n",
       "    <tr>\n",
       "      <td>2</td>\n",
       "      <td>2</td>\n",
       "      <td>B</td>\n",
       "      <td>1230</td>\n",
       "      <td>2493</td>\n",
       "      <td>1531</td>\n",
       "      <td>1181</td>\n",
       "      <td>279</td>\n",
       "      <td>2537</td>\n",
       "    </tr>\n",
       "    <tr>\n",
       "      <td>3</td>\n",
       "      <td>A</td>\n",
       "      <td>A1A2</td>\n",
       "      <td>2504</td>\n",
       "      <td>4926</td>\n",
       "      <td>3062</td>\n",
       "      <td>2358</td>\n",
       "      <td>561</td>\n",
       "      <td>4997</td>\n",
       "    </tr>\n",
       "  </tbody>\n",
       "</table>\n",
       "</div>"
      ],
      "text/plain": [
       "  index group  CartScreenAppear  MainScreenAppear  OffersScreenAppear  \\\n",
       "0  0     A1    1266              2450              1542                 \n",
       "1  1     A2    1238              2476              1520                 \n",
       "2  2     B     1230              2493              1531                 \n",
       "3  A     A1A2  2504              4926              3062                 \n",
       "\n",
       "   PaymentScreenSuccessful  Tutorial  userid  \n",
       "0  1200                     278       2484    \n",
       "1  1158                     283       2513    \n",
       "2  1181                     279       2537    \n",
       "3  2358                     561       4997    "
      ]
     },
     "metadata": {},
     "output_type": "display_data"
    }
   ],
   "source": [
    "#создадим таблицу по уникальным пользователям по всем трем группам\n",
    "event_all = logsclean.pivot_table(index='group', columns='event', values='userid', aggfunc='nunique').reset_index()\n",
    "event_for_group = event_all.merge(logs_group, on = 'group')\n",
    "\n",
    "#добавим объединненные анные по А1 и А2\n",
    "new_row = event_for_group.loc[0] + event_for_group.loc[1]\n",
    "new_row.name = 'A'\n",
    "event_for_group = event_for_group.append([new_row]).reset_index()\n",
    "display(event_for_group)"
   ]
  },
  {
   "cell_type": "code",
   "execution_count": 509,
   "metadata": {},
   "outputs": [
    {
     "name": "stdout",
     "output_type": "stream",
     "text": [
      "Итоги статтеста по событию: MainScreenAppear, Значение alpha: 0.05, между группами А1 и B\n",
      "p-value: 0.2949721933554552\n",
      "Не получилось отвергнуть нулевую гипотезу, нет оснований считать доли пользователей по группам А1 и B разными\n",
      "****************************************************************************************************\n",
      "\n",
      "Итоги статтеста по событию: OffersScreenAppear, Значение alpha: 0.05, между группами А1 и B\n",
      "p-value: 0.20836205402738917\n",
      "Не получилось отвергнуть нулевую гипотезу, нет оснований считать доли пользователей по группам А1 и B разными\n",
      "****************************************************************************************************\n",
      "\n",
      "Итоги статтеста по событию: CartScreenAppear, Значение alpha: 0.05, между группами А1 и B\n",
      "p-value: 0.07842923237520116\n",
      "Не получилось отвергнуть нулевую гипотезу, нет оснований считать доли пользователей по группам А1 и B разными\n",
      "****************************************************************************************************\n",
      "\n",
      "Итоги статтеста по событию: PaymentScreenSuccessful, Значение alpha: 0.05, между группами А1 и B\n",
      "p-value: 0.2122553275697796\n",
      "Не получилось отвергнуть нулевую гипотезу, нет оснований считать доли пользователей по группам А1 и B разными\n",
      "****************************************************************************************************\n",
      "\n"
     ]
    }
   ],
   "source": [
    "#сравним результаты экспериментальной группы B с группами А1, А2 и А1А2\n",
    "\n",
    "#сформулируем гипотезы для проверки\n",
    "#Н0 - в долях пользователей по группам А1 и B отсутствуют различия\n",
    "#Н1 - доли пользователей по группам А1 и B статистически различны, есть значимая разница\n",
    "\n",
    "event_list = event_list = ['MainScreenAppear', 'OffersScreenAppear', 'CartScreenAppear', 'PaymentScreenSuccessful']\n",
    "\n",
    "#сравним B и А1\n",
    "for event in event_list:\n",
    "    alpha = 0.05\n",
    "    p_value_result = test(event_for_group[event][0], event_for_group[event][2], event_for_group['userid'][0], event_for_group['userid'][2])\n",
    "    \n",
    "    print(f'Итоги статтеста по событию: {event}, Значение alpha: {alpha}, между группами А1 и B')\n",
    "    \n",
    "    print('p-value:', p_value_result)\n",
    "    \n",
    "    if p_value < alpha:\n",
    "        print('Отвергаем нулевую гипотезу: между долями пользователей по группам А1 и B есть значимая разница')\n",
    "    else:\n",
    "        print('Не получилось отвергнуть нулевую гипотезу, нет оснований считать доли пользователей по группам А1 и B разными')\n",
    "    print(100*'*')\n",
    "    print()"
   ]
  },
  {
   "cell_type": "code",
   "execution_count": 510,
   "metadata": {},
   "outputs": [
    {
     "name": "stdout",
     "output_type": "stream",
     "text": [
      "Итоги статтеста по событию: MainScreenAppear, Значение alpha: 0.05, между группами А2 и B\n",
      "p-value: 0.4587053616621515\n",
      "Не получилось отвергнуть нулевую гипотезу, нет оснований считать доли пользователей по группам А2 и B разными\n",
      "****************************************************************************************************\n",
      "\n",
      "Итоги статтеста по событию: OffersScreenAppear, Значение alpha: 0.05, между группами А2 и B\n",
      "p-value: 0.9197817830592261\n",
      "Не получилось отвергнуть нулевую гипотезу, нет оснований считать доли пользователей по группам А2 и B разными\n",
      "****************************************************************************************************\n",
      "\n",
      "Итоги статтеста по событию: CartScreenAppear, Значение alpha: 0.05, между группами А2 и B\n",
      "p-value: 0.5786197879539783\n",
      "Не получилось отвергнуть нулевую гипотезу, нет оснований считать доли пользователей по группам А2 и B разными\n",
      "****************************************************************************************************\n",
      "\n",
      "Итоги статтеста по событию: PaymentScreenSuccessful, Значение alpha: 0.05, между группами А2 и B\n",
      "p-value: 0.7373415053803964\n",
      "Не получилось отвергнуть нулевую гипотезу, нет оснований считать доли пользователей по группам А2 и B разными\n",
      "****************************************************************************************************\n",
      "\n"
     ]
    }
   ],
   "source": [
    "#сравним B и А2\n",
    "\n",
    "#сформулируем гипотезы для проверки\n",
    "#Н0 - в долях пользователей по группам А2 и B отсутствуют различия\n",
    "#Н1 - доли пользователей по группам А2 и B статистически различны, есть значимая разница\n",
    "\n",
    "for event in event_list:\n",
    "    alpha = 0.05\n",
    "    p_value_result = test(event_for_group[event][1], event_for_group[event][2], event_for_group['userid'][1], event_for_group['userid'][2])\n",
    "    \n",
    "    print(f'Итоги статтеста по событию: {event}, Значение alpha: {alpha}, между группами А2 и B')\n",
    "    \n",
    "    print('p-value:', p_value_result)\n",
    "    \n",
    "    if p_value < alpha:\n",
    "        print('Отвергаем нулевую гипотезу: между долями пользователей по группам А2 и B есть значимая разница')\n",
    "    else:\n",
    "        print('Не получилось отвергнуть нулевую гипотезу, нет оснований считать доли пользователей по группам А2 и B разными')\n",
    "    print(100*'*')\n",
    "    print()"
   ]
  },
  {
   "cell_type": "code",
   "execution_count": 511,
   "metadata": {},
   "outputs": [
    {
     "name": "stdout",
     "output_type": "stream",
     "text": [
      "Итоги статтеста по событию: MainScreenAppear, Значение alpha: 0.05, между группами А1А2 и B\n",
      "p-value: 0.29424526837179577\n",
      "Не получилось отвергнуть нулевую гипотезу, нет оснований считать доли пользователей по группам А1А2 и B разными\n",
      "****************************************************************************************************\n",
      "\n",
      "Итоги статтеста по событию: OffersScreenAppear, Значение alpha: 0.05, между группами А1А2 и B\n",
      "p-value: 0.43425549655188256\n",
      "Не получилось отвергнуть нулевую гипотезу, нет оснований считать доли пользователей по группам А1А2 и B разными\n",
      "****************************************************************************************************\n",
      "\n",
      "Итоги статтеста по событию: CartScreenAppear, Значение alpha: 0.05, между группами А1А2 и B\n",
      "p-value: 0.18175875284404386\n",
      "Не получилось отвергнуть нулевую гипотезу, нет оснований считать доли пользователей по группам А1А2 и B разными\n",
      "****************************************************************************************************\n",
      "\n",
      "Итоги статтеста по событию: PaymentScreenSuccessful, Значение alpha: 0.05, между группами А1А2 и B\n",
      "p-value: 0.6004294282308704\n",
      "Не получилось отвергнуть нулевую гипотезу, нет оснований считать доли пользователей по группам А1А2 и B разными\n",
      "****************************************************************************************************\n",
      "\n"
     ]
    }
   ],
   "source": [
    "#сравним B и общей конрольной группой А1А2\n",
    "\n",
    "#сформулируем гипотезы для проверки\n",
    "#Н0 - в долях пользователей по группам А1А2 и B отсутствуют различия\n",
    "#Н1 - доли пользователей по группам А1А2 и B статистически различны, есть значимая разница\n",
    "\n",
    "for event in event_list:\n",
    "    alpha = 0.05\n",
    "    p_value_result = test(event_for_group[event][3], event_for_group[event][2], event_for_group['userid'][3], event_for_group['userid'][2])\n",
    "    \n",
    "    print(f'Итоги статтеста по событию: {event}, Значение alpha: {alpha}, между группами А1А2 и B')\n",
    "    \n",
    "    print('p-value:', p_value_result)\n",
    "    \n",
    "    if p_value < alpha:\n",
    "        print('Отвергаем нулевую гипотезу: между долями пользователей по группам А1А2 и B есть значимая разница')\n",
    "    else:\n",
    "        print('Не получилось отвергнуть нулевую гипотезу, нет оснований считать доли пользователей по группам А1А2 и B разными')\n",
    "    print(100*'*')\n",
    "    print()"
   ]
  },
  {
   "cell_type": "markdown",
   "metadata": {},
   "source": [
    "<div class=\"alert alert-danger\">\n",
    "<font size=\"5\"><b>Комментарий ревьюера</b></font>\n",
    "\n",
    "Во всех случаях всех серий тестов у тебя получается одно и то же pvalue. Такого быть не должно. Значит, допущена ошибка при расчетах. Попробуй ее обнаружить и скорректировать. \n",
    "    \n",
    "</div>"
   ]
  },
  {
   "cell_type": "markdown",
   "metadata": {},
   "source": [
    "<div style=\"border:solid red 2px; padding: 20px\">\n",
    "<font size=\"5\"><b>Комментарий студента</b></font>\n",
    "    \n",
    "Нашел ошибку, исправил\n",
    "    \n",
    "</div>"
   ]
  },
  {
   "cell_type": "markdown",
   "metadata": {},
   "source": [
    "<div class=\"alert alert-success\">\n",
    "<font size=\"5\"><b>Комментарий ревьюера 2</b></font>\n",
    "\n",
    "Тесты проведены верно. Можем ли мы использовать уровень значимости 0.1? Может при этом уровне мы сможем получить значимые результаты?\n",
    "    \n",
    "В случае, когда на одних и тех же данных тестируется несколько гипотез (проводится несколько тестов), лучше проводить коррекцию уровня значимости. Один из вариантов это сделать - поправка Бонферрони. Можешь почитать про нее ([ссылка](http://www.machinelearning.ru/wiki/index.php?title=Поправка_Бонферрони)) и про другие способы корректировки alpha. Это связано с тем, что чем больше ты пытаешься найти значимый эффект, тем больше вероятность его обнаружить просто по чистой случайности.\n",
    "    \n",
    "</div>"
   ]
  },
  {
   "cell_type": "markdown",
   "metadata": {},
   "source": [
    "#### Вывод"
   ]
  },
  {
   "cell_type": "markdown",
   "metadata": {},
   "source": [
    "По результатам статтеста гипотеза о различии групп не подтвердилась, результаты не изменились. Внесённые изменения со шрифтами  не повлияли на поведения пользователей. Поэтому смысла в их применении ко всему ресурсу нет - они не принесут никакой выгоды бизнесу."
   ]
  },
  {
   "cell_type": "markdown",
   "metadata": {},
   "source": [
    "<a id='23'></a>\n",
    "### Вывод по разделу"
   ]
  },
  {
   "cell_type": "markdown",
   "metadata": {},
   "source": [
    "Проведя анализ результата эксперимента удалось установить: \n",
    "1. В группе A1 - 2484 пользователя, в группе A2 - 2513 пользователя, в группе B - 2537 человека. Можно сделать предположение о сопоставимости размеров групп.\n",
    "2. Была проваедена проверка 2 контрольные группы для А/А-эксперимента, чтобы проверить корректность всех механизмов и расчётов. При помощи Z-теста проверили контрольные группы для А/А-эксперимента. Проверили, находится ли статистическая разница между выборками А1 и А2. По результатам теста группы оказались стиастически равны.\n",
    "3. Было выбрано самое популярное событие - просмотр главной страницы, определено число пользователей в каждой контрольной группе, совершивших это событие. По итогам проведения статтеста для сравненичя долей пользователей, совершивших одни и те же события в группах А1 и А2 статистических различий не выявлено, контрольные группы можно считать статистически равными\n",
    "4. Проведен статтест между экспериментальной группы с изменённым шрифтом и контрольными группами. Сравнили результаты с каждой из контрольных групп в отдельности по каждому событию и объединеной группой. По результатам статтеста гипотеза о различии групп не подтвердилась, результаты не изменились. Внесённые изменения со шрифтами не повлияли на поведения пользователей. Поэтому смысла в их применении ко всему ресурсу нет - они не принесут никакой выгоды бизнесу.\n",
    "5. В качестве уровня значимости было определено значение в 5%. был проведен множественный тест, то есть с несколькими выборками из одного и того же набора данных, в связи с чем возможно возникновение ошибки первого рода. Однако, все тесты с разными группами и разной глубиной сравнения подвердили отсутствие статистической значимости, поэтому корректировка уровня значимости не требуется. \n",
    "6. По результатам статтеста гипотеза о различии групп не подтвердилась, результаты не изменились. Внесённые изменения со шрифтами не повлияли на поведения пользователей. Поэтому смысла в их применении ко всему ресурсу нет - они не принесут никакой выгоды бизнесу.\n",
    "7.**Кроме того, мы располагаем чистыми данными только за период 1 недели, поэтому, возможно, стоит продолжить АБ-тест, чторбы получить более объективную картину. Для анализа нужны данные хотя бы за 2 недели.**"
   ]
  },
  {
   "cell_type": "markdown",
   "metadata": {},
   "source": [
    "<a id='24'></a>\n",
    "## Общий вывод"
   ]
  },
  {
   "cell_type": "markdown",
   "metadata": {},
   "source": [
    "Был проведен анализ результатов эксперимента как ведут себя пользователи мобильного приложения при внедрении изменений (новый шрифт).\n",
    "\n",
    "В представленном наборе данных содержится информация о действиях пользователей. Всего в логе записано 249713 событий, из них: \n",
    "\n",
    "* MainScreenAppear(показ главного экрана) - 119101\n",
    "\n",
    "* OffersScreenAppear(показ экрана с предложениями) - 46808\n",
    "\n",
    "* CartScreenAppear(показ экрана \"корзины\") - 42668\n",
    "\n",
    "* PaymentScreenSuccessful(показ экрана успешной оплаты)- 34118\n",
    "\n",
    "* Tutorial(руководство, инструкция) - 1018\n",
    "\n",
    "Количество пользователей в логе 7551 человека. Среднее количество событий на 1 пользователя составило 32, медианное 20. Были обнаружены выбросы, максимальное номральное значения составило 79 событий. После удаления выбросов среднее количество событий составило 23, медианное - 18, что соотвествует реальности. \n",
    "\n",
    "\n",
    "Самая ранняя дата в логе 2019-07-25, самая поздняя дата в логе 2019-08-07. Полными можно считать только данные за период с 2019-08-01 до 2019-08-07. Данные за пределами периода необходимо убрать.\n",
    "Была проведена очистка данных. оставлены только данные за период с 1 августа 2019 по 7 августа 2019 г. Количество событий, которых мы потеряли после очистки составило 2826 события всего, это 1.16% от всех событий в логе. Из них по видам событий:\n",
    "* MainScreenAppear           1.49%\n",
    "\n",
    "* OffersScreenAppear         1.01%\n",
    "\n",
    "* CartScreenAppear           0.86%\n",
    "\n",
    "* PaymentScreenSuccessful    0.59%\n",
    "\n",
    "* Tutorial                   1.28%\n",
    "\n",
    "\n",
    "Пользователи есть в каждой группе, их количество относительно равно. \n",
    "В группе A1 - 2484 пользователя, в группе A2 - 2513 пользователя, в группе B - 2537 человека.\n",
    "\n",
    "Изучив воронку событий, можно сделать следующие выводы:\n",
    "1. Всего у нас 5 основных событий, ниже приведет список и указано количество:\n",
    "\n",
    "* MainScreenAppear           117328\n",
    "* OffersScreenAppear          46333\n",
    "* CartScreenAppear            42303\n",
    "* PaymentScreenSuccessful     33918\n",
    "* Tutorial                     1005\n",
    "\n",
    "Проведена оценка частоты событий, отсортированы по убванию:\n",
    "\n",
    "* MainScreenAppear(показ главного экрана) - каждое 2-е событие\n",
    "* OffersScreenAppear(показ экрана с предложениями) - каждое 5.2 событие\n",
    "* CartScreenAppear(показ экрана \"корзины\") - каждое 5.6 событие\n",
    "* PaymentScreenSuccessful(показ экрана успешной оплаты) - каждое 7 событие\n",
    "* Tutorial(руководство, инструкция) - каждое 239.7 событие\n",
    "\n",
    "Самым распространенным и  первым событием является посещение главной страницы, затем осуществляется переход на страницу с заказом, затем добавление товара в корзину, затем оплата товара, всего 4 действия, которые выстраиваются в цепочку:\n",
    "\n",
    "**MainScreenAppear - OffersScreenAppear - CartScreenAppea - PaymentScreenSuccessful** \n",
    "\n",
    "Опциональное событие это просмотр руководства, его можно не учитывать при расчете воронки.\n",
    "\n",
    "По воронке событий посчитали сколько и какая доля пользователей переходит на следующий шаг:\n",
    "* Переход на главную страницу: 7419\n",
    "* Переход на страницу заказа: 4201\n",
    "* Добавление товара в корзину: 1767\n",
    "* Успешная оплата товара: 454\n",
    "\n",
    "И в долях: \n",
    "* Доля пользователей, оформивших заказ 56.6%:\n",
    "* Доля пользователей, добавивших заказ в корзину 42.1%:\n",
    "* Доля пользователей, оплативших заказ 25.7%:\n",
    "\n",
    "Также рассчитали, какая доля пользовтаелей дошла до каждого шага в отдельности\n",
    "* MainScreenAppear\t98.25%\n",
    "* OffersScreenAppear 60.83%\n",
    "* CartScreenAppear\t49.45%\n",
    "* PaymentScreenSuccessful 46.87%\n",
    "* Tutorial 11.12%\n",
    "\n",
    "\n",
    "Больше всего пользователей теряется при переходе с главной страницы к странице с заказом. теряется 43% пользователей.Конверсия становится меньше на каждом этапе, меньше всего 25,7 % на последнем этапе, от добавления в корзину и оплаты. От просмотра главной страницы до успешной покупки доходит 6,1%\n",
    "\n",
    "Была проваедена проверка 2 контрольные группы для А/А-эксперимента, чтобы проверить корректность всех механизмов и расчётов. При помощи Z-теста проверили контрольные группы для А/А-эксперимента. Проверили, находится ли статистическая разница между выборками А1 и А2. По результатам теста группы оказались стиастически равны.\n",
    "\n",
    "Было выбрано самое популярное событие - просмотр главной страницы, определено число пользователей в каждой контрольной группе, совершивших это событие. По итогам проведения статтеста для сравненичя долей пользователей, совершивших одни и те же события в группах А1 и А2 статистических различий не выявлено, контрольные группы можно считать статистически равными\n",
    "Проведен статтест между экспериментальной группы с изменённым шрифтом и контрольными группами. Сравнили результаты с каждой из контрольных групп в отдельности по каждому событию и объединеной группой. По результатам статтеста гипотеза о различии групп не подтвердилась, результаты не изменились. Внесённые изменения со шрифтами не повлияли на поведения пользователей. Поэтому смысла в их применении ко всему ресурсу нет - они не принесут никакой выгоды бизнесу.\n",
    "\n",
    "В качестве уровня значимости было определено значение в 5%. был проведен множественный тест, то есть с несколькими выборками из одного и того же набора данных, в связи с чем возможно возникновение ошибки первого рода. Однако, все тесты с разными группами и разной глубиной сравнения подвердили отсутствие статистической значимости, поэтому корректировка уровня значимости не требуется.\n",
    "\n",
    "**Итог**\n",
    "По результатам статтеста гипотеза о различии групп не подтвердилась, результаты не изменились. Внесённые изменения со шрифтами не повлияли на поведения пользователей. Поэтому смысла в их применении ко всему ресурсу нет - они не принесут никакой выгоды бизнесу. Кроме того, мы располагаем чистыми данными только за период 1 недели, поэтому, возможно, стоит продолжить АБ-тест, чторбы получить более объективную картину. Для анализа нужны данные хотя бы за 2 недели.**"
   ]
  },
  {
   "cell_type": "markdown",
   "metadata": {},
   "source": [
    "<div class=\"alert alert-success\">\n",
    "<font size=\"5\"><b>Комментарий ревьюера</b></font>\n",
    "\n",
    "Отлично, вывод сформулирован. В стат. тестах мы не получили существенных различий. Т.е. изменение шрифтов можно провести, однако это не увеличит показатели. \n",
    "\n",
    "</div>"
   ]
  },
  {
   "cell_type": "markdown",
   "metadata": {},
   "source": [
    "<div class=\"alert alert-info\">\n",
    "<font size=\"5\"><b>Комментарий ревьюера</b></font>\n",
    "\n",
    "Если тебе нравится тема визуализации, то можешь изучить методы библиотеки plotly. Она позволяет строить довольно презентабельные графики.\n",
    "\n",
    "Ты проделал большую работу, молодец! Ты овладел важными на данном этапе обучения инструментами, а также довольно качественно их используешь. Критических замечаний немного. Однако их важно исправить. Думаю, сделать это тебе не составит труда. Жду твою работу :)\n",
    "\n",
    "</div>"
   ]
  },
  {
   "cell_type": "markdown",
   "metadata": {},
   "source": [
    "<div class=\"alert alert-info\">\n",
    "<font size=\"5\"><b>Комментарий ревьюера 2</b></font>\n",
    "\n",
    "Большая часть помарок исправлена. Отличная работа! Осталось лишь переформулировать гипотезы. Все же выборки мы не изучаем. Как сделаешь это, присылай проект снова. Буду ждать :)\n",
    "    \n",
    "</div>"
   ]
  }
 ],
 "metadata": {
  "ExecuteTimeLog": [
   {
    "duration": 2209,
    "start_time": "2021-07-22T13:31:39.685Z"
   },
   {
    "duration": 1134,
    "start_time": "2021-07-22T13:31:49.179Z"
   },
   {
    "duration": 236,
    "start_time": "2021-07-22T13:33:18.404Z"
   },
   {
    "duration": 79,
    "start_time": "2021-07-22T13:34:50.614Z"
   },
   {
    "duration": 77,
    "start_time": "2021-07-22T13:35:37.564Z"
   },
   {
    "duration": 88,
    "start_time": "2021-07-22T13:36:23.092Z"
   },
   {
    "duration": 569,
    "start_time": "2021-07-22T13:37:42.836Z"
   },
   {
    "duration": 131,
    "start_time": "2021-07-22T13:37:53.612Z"
   },
   {
    "duration": 174,
    "start_time": "2021-07-22T14:33:32.292Z"
   },
   {
    "duration": 9,
    "start_time": "2021-07-22T14:40:27.818Z"
   },
   {
    "duration": 10,
    "start_time": "2021-07-22T14:40:49.025Z"
   },
   {
    "duration": 3,
    "start_time": "2021-07-22T14:41:00.617Z"
   },
   {
    "duration": 24,
    "start_time": "2021-07-22T15:03:30.788Z"
   },
   {
    "duration": 25,
    "start_time": "2021-07-22T15:03:42.490Z"
   },
   {
    "duration": 97,
    "start_time": "2021-07-22T18:54:44.357Z"
   },
   {
    "duration": 118,
    "start_time": "2021-07-22T18:55:21.586Z"
   },
   {
    "duration": 135,
    "start_time": "2021-07-22T18:56:06.842Z"
   },
   {
    "duration": 2450,
    "start_time": "2021-07-22T18:56:26.744Z"
   },
   {
    "duration": 675,
    "start_time": "2021-07-22T18:56:45.494Z"
   },
   {
    "duration": 677,
    "start_time": "2021-07-22T18:57:50.120Z"
   },
   {
    "duration": 314,
    "start_time": "2021-07-22T18:57:59.693Z"
   },
   {
    "duration": 313,
    "start_time": "2021-07-22T18:58:05.775Z"
   },
   {
    "duration": 326,
    "start_time": "2021-07-22T18:58:50.314Z"
   },
   {
    "duration": 325,
    "start_time": "2021-07-22T18:58:58.432Z"
   },
   {
    "duration": 89,
    "start_time": "2021-07-22T19:06:18.847Z"
   },
   {
    "duration": 285,
    "start_time": "2021-07-22T19:11:44.851Z"
   },
   {
    "duration": 313,
    "start_time": "2021-07-22T19:12:05.510Z"
   },
   {
    "duration": 184,
    "start_time": "2021-07-22T19:12:30.478Z"
   },
   {
    "duration": 281,
    "start_time": "2021-07-22T19:12:44.068Z"
   },
   {
    "duration": 491,
    "start_time": "2021-07-23T14:12:54.633Z"
   },
   {
    "duration": 1763,
    "start_time": "2021-07-23T14:12:58.791Z"
   },
   {
    "duration": 12144,
    "start_time": "2021-07-23T14:13:03.230Z"
   },
   {
    "duration": 182,
    "start_time": "2021-07-23T14:13:40.343Z"
   },
   {
    "duration": 1352,
    "start_time": "2021-07-23T14:18:34.043Z"
   },
   {
    "duration": 1922,
    "start_time": "2021-07-23T14:19:00.367Z"
   },
   {
    "duration": 5478,
    "start_time": "2021-07-23T14:19:58.591Z"
   },
   {
    "duration": 1689,
    "start_time": "2021-07-23T14:21:35.599Z"
   },
   {
    "duration": 1505,
    "start_time": "2021-07-23T14:21:44.488Z"
   },
   {
    "duration": 2027,
    "start_time": "2021-07-23T14:21:59.932Z"
   },
   {
    "duration": 189,
    "start_time": "2021-07-23T14:22:10.907Z"
   },
   {
    "duration": 16,
    "start_time": "2021-07-23T14:22:20.523Z"
   },
   {
    "duration": 17,
    "start_time": "2021-07-23T14:22:39.555Z"
   },
   {
    "duration": 19,
    "start_time": "2021-07-23T14:23:51.708Z"
   },
   {
    "duration": 21,
    "start_time": "2021-07-23T14:24:04.212Z"
   },
   {
    "duration": 20,
    "start_time": "2021-07-23T14:24:13.773Z"
   },
   {
    "duration": 23,
    "start_time": "2021-07-23T14:24:24.171Z"
   },
   {
    "duration": 20,
    "start_time": "2021-07-23T14:24:37.100Z"
   },
   {
    "duration": 1814,
    "start_time": "2021-07-23T14:24:45.948Z"
   },
   {
    "duration": 182,
    "start_time": "2021-07-23T14:24:49.412Z"
   },
   {
    "duration": 19,
    "start_time": "2021-07-23T14:24:50.260Z"
   },
   {
    "duration": 2519,
    "start_time": "2021-07-23T14:25:10.845Z"
   },
   {
    "duration": 1774,
    "start_time": "2021-07-23T14:25:24.757Z"
   },
   {
    "duration": 173,
    "start_time": "2021-07-23T14:25:27.405Z"
   },
   {
    "duration": 19,
    "start_time": "2021-07-23T15:12:26.787Z"
   },
   {
    "duration": 43,
    "start_time": "2021-07-23T15:21:45.809Z"
   },
   {
    "duration": 29,
    "start_time": "2021-07-23T15:22:40.399Z"
   },
   {
    "duration": 37,
    "start_time": "2021-07-23T15:23:15.199Z"
   },
   {
    "duration": 1775,
    "start_time": "2021-07-23T15:25:54.795Z"
   },
   {
    "duration": 187,
    "start_time": "2021-07-23T15:25:58.618Z"
   },
   {
    "duration": 20,
    "start_time": "2021-07-23T15:25:59.435Z"
   },
   {
    "duration": 491,
    "start_time": "2021-07-23T15:26:03.346Z"
   },
   {
    "duration": 1757,
    "start_time": "2021-07-23T15:29:22.047Z"
   },
   {
    "duration": 175,
    "start_time": "2021-07-23T15:29:25.366Z"
   },
   {
    "duration": 19,
    "start_time": "2021-07-23T15:29:27.375Z"
   },
   {
    "duration": 396,
    "start_time": "2021-07-23T15:34:42.638Z"
   },
   {
    "duration": 353,
    "start_time": "2021-07-23T15:34:55.605Z"
   },
   {
    "duration": 1981,
    "start_time": "2021-07-23T15:35:00.933Z"
   },
   {
    "duration": 180,
    "start_time": "2021-07-23T15:35:03.140Z"
   },
   {
    "duration": 18,
    "start_time": "2021-07-23T15:35:04.092Z"
   },
   {
    "duration": 32,
    "start_time": "2021-07-23T15:35:08.220Z"
   },
   {
    "duration": 39,
    "start_time": "2021-07-23T15:35:19.284Z"
   },
   {
    "duration": 53,
    "start_time": "2021-07-23T15:35:32.099Z"
   },
   {
    "duration": 36,
    "start_time": "2021-07-23T15:35:49.836Z"
   },
   {
    "duration": 460,
    "start_time": "2021-07-23T15:36:16.172Z"
   },
   {
    "duration": 31,
    "start_time": "2021-07-23T15:36:25.531Z"
   },
   {
    "duration": 1696,
    "start_time": "2021-07-23T15:37:32.045Z"
   },
   {
    "duration": 188,
    "start_time": "2021-07-23T15:37:34.742Z"
   },
   {
    "duration": 20,
    "start_time": "2021-07-23T15:37:35.272Z"
   },
   {
    "duration": 775,
    "start_time": "2021-07-23T15:37:38.334Z"
   },
   {
    "duration": 810,
    "start_time": "2021-07-23T15:39:09.697Z"
   },
   {
    "duration": 698,
    "start_time": "2021-07-23T15:39:22.255Z"
   },
   {
    "duration": 713,
    "start_time": "2021-07-23T15:40:36.007Z"
   },
   {
    "duration": 793,
    "start_time": "2021-07-23T15:41:07.112Z"
   },
   {
    "duration": 417,
    "start_time": "2021-07-23T15:53:12.080Z"
   },
   {
    "duration": 11194,
    "start_time": "2021-07-23T16:12:29.571Z"
   },
   {
    "duration": 617,
    "start_time": "2021-07-23T16:12:40.151Z"
   },
   {
    "duration": 333,
    "start_time": "2021-07-23T16:12:46.009Z"
   },
   {
    "duration": 160,
    "start_time": "2021-07-23T16:12:48.488Z"
   },
   {
    "duration": 19,
    "start_time": "2021-07-23T16:12:49.920Z"
   },
   {
    "duration": 718,
    "start_time": "2021-07-23T16:12:52.441Z"
   },
   {
    "duration": 329,
    "start_time": "2021-07-23T16:20:09.805Z"
   },
   {
    "duration": 48,
    "start_time": "2021-07-23T16:22:01.033Z"
   },
   {
    "duration": 47,
    "start_time": "2021-07-23T16:22:20.474Z"
   },
   {
    "duration": 50,
    "start_time": "2021-07-23T16:22:28.457Z"
   },
   {
    "duration": 176,
    "start_time": "2021-07-23T16:23:10.600Z"
   },
   {
    "duration": 20,
    "start_time": "2021-07-23T16:23:11.472Z"
   },
   {
    "duration": 747,
    "start_time": "2021-07-23T16:23:13.945Z"
   },
   {
    "duration": 7,
    "start_time": "2021-07-23T16:23:51.872Z"
   },
   {
    "duration": 357,
    "start_time": "2021-07-23T16:24:04.480Z"
   },
   {
    "duration": 8,
    "start_time": "2021-07-23T16:24:50.161Z"
   },
   {
    "duration": 10,
    "start_time": "2021-07-23T16:27:00.314Z"
   },
   {
    "duration": 12,
    "start_time": "2021-07-23T16:27:15.873Z"
   },
   {
    "duration": 8,
    "start_time": "2021-07-23T16:27:37.177Z"
   },
   {
    "duration": 334,
    "start_time": "2021-07-23T16:28:10.986Z"
   },
   {
    "duration": 8,
    "start_time": "2021-07-23T16:28:28.393Z"
   },
   {
    "duration": 362,
    "start_time": "2021-07-23T16:31:44.668Z"
   },
   {
    "duration": 17,
    "start_time": "2021-07-23T16:32:04.010Z"
   },
   {
    "duration": 18,
    "start_time": "2021-07-23T16:32:41.185Z"
   },
   {
    "duration": 31,
    "start_time": "2021-07-23T16:33:36.386Z"
   },
   {
    "duration": 18,
    "start_time": "2021-07-23T16:33:45.201Z"
   },
   {
    "duration": 7,
    "start_time": "2021-07-23T16:40:47.373Z"
   },
   {
    "duration": 421,
    "start_time": "2021-07-23T16:46:08.585Z"
   },
   {
    "duration": 1052,
    "start_time": "2021-07-23T16:46:19.442Z"
   },
   {
    "duration": 1048,
    "start_time": "2021-07-23T16:47:39.610Z"
   },
   {
    "duration": 363,
    "start_time": "2021-07-23T16:48:22.425Z"
   },
   {
    "duration": 405,
    "start_time": "2021-07-23T16:48:28.721Z"
   },
   {
    "duration": 564,
    "start_time": "2021-07-23T16:48:47.025Z"
   },
   {
    "duration": 771,
    "start_time": "2021-07-23T16:49:18.266Z"
   },
   {
    "duration": 1371,
    "start_time": "2021-07-24T08:17:50.586Z"
   },
   {
    "duration": 239,
    "start_time": "2021-07-24T08:21:30.249Z"
   },
   {
    "duration": 36,
    "start_time": "2021-07-24T08:21:30.934Z"
   },
   {
    "duration": 125,
    "start_time": "2021-07-24T08:21:33.163Z"
   },
   {
    "duration": 14,
    "start_time": "2021-07-24T08:21:33.917Z"
   },
   {
    "duration": 482,
    "start_time": "2021-07-24T08:21:35.997Z"
   },
   {
    "duration": 6,
    "start_time": "2021-07-24T08:21:38.014Z"
   },
   {
    "duration": 13,
    "start_time": "2021-07-24T08:21:39.194Z"
   },
   {
    "duration": 5,
    "start_time": "2021-07-24T08:21:40.328Z"
   },
   {
    "duration": 486,
    "start_time": "2021-07-24T08:21:40.762Z"
   },
   {
    "duration": 478,
    "start_time": "2021-07-24T08:24:49.761Z"
   },
   {
    "duration": 5,
    "start_time": "2021-07-24T08:25:18.180Z"
   },
   {
    "duration": 468,
    "start_time": "2021-07-24T08:29:07.302Z"
   },
   {
    "duration": 293,
    "start_time": "2021-07-24T08:49:08.201Z"
   },
   {
    "duration": 183,
    "start_time": "2021-07-24T08:50:04.340Z"
   },
   {
    "duration": 238,
    "start_time": "2021-07-24T08:50:15.704Z"
   },
   {
    "duration": 36,
    "start_time": "2021-07-24T08:50:16.774Z"
   },
   {
    "duration": 125,
    "start_time": "2021-07-24T08:50:19.347Z"
   },
   {
    "duration": 14,
    "start_time": "2021-07-24T08:50:20.025Z"
   },
   {
    "duration": 482,
    "start_time": "2021-07-24T08:50:22.410Z"
   },
   {
    "duration": 9,
    "start_time": "2021-07-24T08:50:28.884Z"
   },
   {
    "duration": 13,
    "start_time": "2021-07-24T08:50:29.872Z"
   },
   {
    "duration": 5,
    "start_time": "2021-07-24T08:50:30.866Z"
   },
   {
    "duration": 471,
    "start_time": "2021-07-24T08:50:31.379Z"
   },
   {
    "duration": 180,
    "start_time": "2021-07-24T08:50:33.464Z"
   },
   {
    "duration": 57,
    "start_time": "2021-07-24T08:50:42.790Z"
   },
   {
    "duration": 15,
    "start_time": "2021-07-24T08:50:52.220Z"
   },
   {
    "duration": 19,
    "start_time": "2021-07-24T08:51:50.038Z"
   },
   {
    "duration": 40,
    "start_time": "2021-07-24T08:52:18.905Z"
   },
   {
    "duration": 4,
    "start_time": "2021-07-24T08:54:56.474Z"
   },
   {
    "duration": 53,
    "start_time": "2021-07-24T08:55:58.900Z"
   },
   {
    "duration": 38,
    "start_time": "2021-07-24T08:56:07.424Z"
   },
   {
    "duration": 3,
    "start_time": "2021-07-24T08:56:10.288Z"
   },
   {
    "duration": 183,
    "start_time": "2021-07-24T08:58:23.721Z"
   },
   {
    "duration": 4,
    "start_time": "2021-07-24T08:58:38.921Z"
   },
   {
    "duration": 4,
    "start_time": "2021-07-24T08:59:07.549Z"
   },
   {
    "duration": 43,
    "start_time": "2021-07-24T09:07:36.196Z"
   },
   {
    "duration": 61,
    "start_time": "2021-07-24T09:09:00.894Z"
   },
   {
    "duration": 218,
    "start_time": "2021-07-24T09:09:14.275Z"
   },
   {
    "duration": 219,
    "start_time": "2021-07-24T09:09:43.948Z"
   },
   {
    "duration": 213,
    "start_time": "2021-07-24T09:09:55.981Z"
   },
   {
    "duration": 218,
    "start_time": "2021-07-24T09:10:34.074Z"
   },
   {
    "duration": 223,
    "start_time": "2021-07-24T09:10:47.142Z"
   },
   {
    "duration": 229,
    "start_time": "2021-07-24T09:11:15.118Z"
   },
   {
    "duration": 43,
    "start_time": "2021-07-24T09:11:51.998Z"
   },
   {
    "duration": 39,
    "start_time": "2021-07-24T09:15:43.142Z"
   },
   {
    "duration": 226,
    "start_time": "2021-07-24T09:15:47.181Z"
   },
   {
    "duration": 40,
    "start_time": "2021-07-24T09:17:35.430Z"
   },
   {
    "duration": 41,
    "start_time": "2021-07-24T09:18:35.391Z"
   },
   {
    "duration": 38,
    "start_time": "2021-07-24T09:38:49.709Z"
   },
   {
    "duration": 37,
    "start_time": "2021-07-24T09:40:11.771Z"
   },
   {
    "duration": 410,
    "start_time": "2021-07-24T09:41:02.604Z"
   },
   {
    "duration": 425,
    "start_time": "2021-07-24T09:41:12.714Z"
   },
   {
    "duration": 322,
    "start_time": "2021-07-24T09:41:23.830Z"
   },
   {
    "duration": 314,
    "start_time": "2021-07-24T09:42:15.646Z"
   },
   {
    "duration": 343,
    "start_time": "2021-07-24T09:42:24.082Z"
   },
   {
    "duration": 313,
    "start_time": "2021-07-24T09:42:39.982Z"
   },
   {
    "duration": 311,
    "start_time": "2021-07-24T09:42:49.776Z"
   },
   {
    "duration": 315,
    "start_time": "2021-07-24T09:43:01.742Z"
   },
   {
    "duration": 213,
    "start_time": "2021-07-24T10:25:51.959Z"
   },
   {
    "duration": 18,
    "start_time": "2021-07-24T10:26:22.704Z"
   },
   {
    "duration": 22,
    "start_time": "2021-07-24T10:26:33.190Z"
   },
   {
    "duration": 22,
    "start_time": "2021-07-24T10:28:27.924Z"
   },
   {
    "duration": 4,
    "start_time": "2021-07-24T10:32:01.089Z"
   },
   {
    "duration": 8,
    "start_time": "2021-07-24T10:32:07.983Z"
   },
   {
    "duration": 9,
    "start_time": "2021-07-24T10:32:23.522Z"
   },
   {
    "duration": 9,
    "start_time": "2021-07-24T10:34:19.539Z"
   },
   {
    "duration": 1792,
    "start_time": "2021-07-25T08:18:32.451Z"
   },
   {
    "duration": 57,
    "start_time": "2021-07-25T08:18:34.246Z"
   },
   {
    "duration": 175,
    "start_time": "2021-07-25T08:18:35.910Z"
   },
   {
    "duration": 19,
    "start_time": "2021-07-25T08:18:36.407Z"
   },
   {
    "duration": 722,
    "start_time": "2021-07-25T08:18:38.381Z"
   },
   {
    "duration": 8,
    "start_time": "2021-07-25T08:18:40.413Z"
   },
   {
    "duration": 19,
    "start_time": "2021-07-25T08:18:41.308Z"
   },
   {
    "duration": 8,
    "start_time": "2021-07-25T08:18:42.231Z"
   },
   {
    "duration": 776,
    "start_time": "2021-07-25T08:18:42.733Z"
   },
   {
    "duration": 55,
    "start_time": "2021-07-25T08:18:48.774Z"
   },
   {
    "duration": 65,
    "start_time": "2021-07-25T08:18:49.390Z"
   },
   {
    "duration": 479,
    "start_time": "2021-07-25T08:18:51.307Z"
   },
   {
    "duration": 37,
    "start_time": "2021-07-25T08:18:55.732Z"
   },
   {
    "duration": 13,
    "start_time": "2021-07-25T08:18:56.455Z"
   },
   {
    "duration": 28,
    "start_time": "2021-07-25T08:20:55.176Z"
   },
   {
    "duration": 32,
    "start_time": "2021-07-25T08:21:03.281Z"
   },
   {
    "duration": 58,
    "start_time": "2021-07-25T08:22:50.118Z"
   },
   {
    "duration": 47298,
    "start_time": "2021-07-25T08:25:15.840Z"
   },
   {
    "duration": 59,
    "start_time": "2021-07-25T08:26:11.462Z"
   },
   {
    "duration": 47,
    "start_time": "2021-07-25T08:26:30.851Z"
   },
   {
    "duration": 46,
    "start_time": "2021-07-25T08:26:37.564Z"
   },
   {
    "duration": 93,
    "start_time": "2021-07-25T09:05:16.097Z"
   },
   {
    "duration": 80,
    "start_time": "2021-07-25T09:05:28.386Z"
   },
   {
    "duration": 84,
    "start_time": "2021-07-25T09:08:17.303Z"
   },
   {
    "duration": 87,
    "start_time": "2021-07-25T09:19:33.433Z"
   },
   {
    "duration": 85,
    "start_time": "2021-07-25T09:19:50.619Z"
   },
   {
    "duration": 85,
    "start_time": "2021-07-25T09:44:28.022Z"
   },
   {
    "duration": 349,
    "start_time": "2021-07-25T10:39:26.861Z"
   },
   {
    "duration": 52,
    "start_time": "2021-07-25T10:39:27.407Z"
   },
   {
    "duration": 171,
    "start_time": "2021-07-25T10:39:28.743Z"
   },
   {
    "duration": 18,
    "start_time": "2021-07-25T10:39:29.019Z"
   },
   {
    "duration": 764,
    "start_time": "2021-07-25T10:39:30.422Z"
   },
   {
    "duration": 7,
    "start_time": "2021-07-25T10:39:31.836Z"
   },
   {
    "duration": 18,
    "start_time": "2021-07-25T10:39:32.457Z"
   },
   {
    "duration": 7,
    "start_time": "2021-07-25T10:39:33.079Z"
   },
   {
    "duration": 780,
    "start_time": "2021-07-25T10:39:33.455Z"
   },
   {
    "duration": 56,
    "start_time": "2021-07-25T10:39:35.239Z"
   },
   {
    "duration": 58,
    "start_time": "2021-07-25T10:39:35.637Z"
   },
   {
    "duration": 514,
    "start_time": "2021-07-25T10:39:37.300Z"
   },
   {
    "duration": 63,
    "start_time": "2021-07-25T10:39:40.121Z"
   },
   {
    "duration": 18,
    "start_time": "2021-07-25T10:39:40.449Z"
   },
   {
    "duration": 103,
    "start_time": "2021-07-25T10:39:41.927Z"
   },
   {
    "duration": 1957,
    "start_time": "2021-07-25T15:28:22.753Z"
   },
   {
    "duration": 48,
    "start_time": "2021-07-25T15:28:24.712Z"
   },
   {
    "duration": 130,
    "start_time": "2021-07-25T15:28:26.804Z"
   },
   {
    "duration": 14,
    "start_time": "2021-07-25T15:28:27.648Z"
   },
   {
    "duration": 467,
    "start_time": "2021-07-25T15:28:30.416Z"
   },
   {
    "duration": 7,
    "start_time": "2021-07-25T15:28:32.465Z"
   },
   {
    "duration": 24,
    "start_time": "2021-07-25T15:28:33.610Z"
   },
   {
    "duration": 8,
    "start_time": "2021-07-25T15:28:35.151Z"
   },
   {
    "duration": 475,
    "start_time": "2021-07-25T15:28:35.739Z"
   },
   {
    "duration": 61,
    "start_time": "2021-07-25T15:28:38.490Z"
   },
   {
    "duration": 82,
    "start_time": "2021-07-25T15:28:39.207Z"
   },
   {
    "duration": 441,
    "start_time": "2021-07-25T15:28:41.335Z"
   },
   {
    "duration": 65,
    "start_time": "2021-07-25T15:28:45.654Z"
   },
   {
    "duration": 9,
    "start_time": "2021-07-25T15:28:46.269Z"
   },
   {
    "duration": 77,
    "start_time": "2021-07-25T15:28:48.249Z"
   },
   {
    "duration": 47,
    "start_time": "2021-07-25T16:43:08.089Z"
   },
   {
    "duration": 413,
    "start_time": "2021-07-25T16:56:27.908Z"
   },
   {
    "duration": 54,
    "start_time": "2021-07-25T16:56:38.645Z"
   },
   {
    "duration": 56,
    "start_time": "2021-07-25T17:02:38.291Z"
   },
   {
    "duration": 62,
    "start_time": "2021-07-25T17:06:45.319Z"
   },
   {
    "duration": 80,
    "start_time": "2021-07-25T17:13:10.919Z"
   },
   {
    "duration": 37,
    "start_time": "2021-07-25T18:12:58.173Z"
   },
   {
    "duration": 36,
    "start_time": "2021-07-25T18:13:09.128Z"
   },
   {
    "duration": 260,
    "start_time": "2021-07-25T18:13:37.905Z"
   },
   {
    "duration": 2569,
    "start_time": "2021-07-26T09:37:54.881Z"
   },
   {
    "duration": 67,
    "start_time": "2021-07-26T09:37:58.263Z"
   },
   {
    "duration": 211,
    "start_time": "2021-07-26T09:38:01.216Z"
   },
   {
    "duration": 28,
    "start_time": "2021-07-26T09:38:03.640Z"
   },
   {
    "duration": 811,
    "start_time": "2021-07-26T09:38:11.518Z"
   },
   {
    "duration": 10,
    "start_time": "2021-07-26T09:38:14.359Z"
   },
   {
    "duration": 34,
    "start_time": "2021-07-26T09:38:16.263Z"
   },
   {
    "duration": 8,
    "start_time": "2021-07-26T09:38:17.255Z"
   },
   {
    "duration": 887,
    "start_time": "2021-07-26T09:38:18.646Z"
   },
   {
    "duration": 67,
    "start_time": "2021-07-26T09:38:21.015Z"
   },
   {
    "duration": 109,
    "start_time": "2021-07-26T09:38:21.625Z"
   },
   {
    "duration": 197,
    "start_time": "2021-07-26T09:38:23.996Z"
   },
   {
    "duration": 60,
    "start_time": "2021-07-26T09:38:30.119Z"
   },
   {
    "duration": 14,
    "start_time": "2021-07-26T09:38:30.656Z"
   },
   {
    "duration": 125,
    "start_time": "2021-07-26T09:38:33.959Z"
   },
   {
    "duration": 92,
    "start_time": "2021-07-26T09:38:36.839Z"
   },
   {
    "duration": 489,
    "start_time": "2021-07-26T09:38:41.398Z"
   },
   {
    "duration": 32,
    "start_time": "2021-07-26T14:12:51.411Z"
   },
   {
    "duration": 55,
    "start_time": "2021-07-26T14:13:18.086Z"
   },
   {
    "duration": 670,
    "start_time": "2021-07-26T14:42:26.635Z"
   },
   {
    "duration": 68,
    "start_time": "2021-07-26T14:43:01.040Z"
   },
   {
    "duration": 85,
    "start_time": "2021-07-26T14:43:21.337Z"
   },
   {
    "duration": 10,
    "start_time": "2021-07-26T14:43:30.655Z"
   },
   {
    "duration": 89,
    "start_time": "2021-07-26T14:43:42.426Z"
   },
   {
    "duration": 25,
    "start_time": "2021-07-26T14:45:23.040Z"
   },
   {
    "duration": 36,
    "start_time": "2021-07-26T14:45:45.081Z"
   },
   {
    "duration": 553,
    "start_time": "2021-07-26T14:51:22.364Z"
   },
   {
    "duration": 274,
    "start_time": "2021-07-26T14:51:36.505Z"
   },
   {
    "duration": 256,
    "start_time": "2021-07-26T14:51:57.898Z"
   },
   {
    "duration": 309,
    "start_time": "2021-07-26T14:52:22.562Z"
   },
   {
    "duration": 6,
    "start_time": "2021-07-26T14:52:37.943Z"
   },
   {
    "duration": 6,
    "start_time": "2021-07-26T14:53:03.664Z"
   },
   {
    "duration": 306,
    "start_time": "2021-07-26T14:53:15.409Z"
   },
   {
    "duration": 244,
    "start_time": "2021-07-26T14:53:50.697Z"
   },
   {
    "duration": 289,
    "start_time": "2021-07-26T14:54:13.474Z"
   },
   {
    "duration": 290,
    "start_time": "2021-07-26T14:54:24.774Z"
   },
   {
    "duration": 310,
    "start_time": "2021-07-26T14:55:50.567Z"
   },
   {
    "duration": 301,
    "start_time": "2021-07-26T14:56:36.287Z"
   },
   {
    "duration": 268,
    "start_time": "2021-07-26T14:56:39.830Z"
   },
   {
    "duration": 6,
    "start_time": "2021-07-26T14:56:57.799Z"
   },
   {
    "duration": 299,
    "start_time": "2021-07-26T14:57:08.326Z"
   },
   {
    "duration": 288,
    "start_time": "2021-07-26T14:57:12.174Z"
   },
   {
    "duration": 261,
    "start_time": "2021-07-26T14:59:22.714Z"
   },
   {
    "duration": 316,
    "start_time": "2021-07-26T15:03:43.883Z"
   },
   {
    "duration": 50,
    "start_time": "2021-07-26T15:03:45.274Z"
   },
   {
    "duration": 175,
    "start_time": "2021-07-26T15:03:47.834Z"
   },
   {
    "duration": 22,
    "start_time": "2021-07-26T15:03:48.690Z"
   },
   {
    "duration": 778,
    "start_time": "2021-07-26T15:03:50.804Z"
   },
   {
    "duration": 8,
    "start_time": "2021-07-26T15:03:53.252Z"
   },
   {
    "duration": 18,
    "start_time": "2021-07-26T15:03:54.193Z"
   },
   {
    "duration": 6,
    "start_time": "2021-07-26T15:03:55.026Z"
   },
   {
    "duration": 807,
    "start_time": "2021-07-26T15:03:55.482Z"
   },
   {
    "duration": 56,
    "start_time": "2021-07-26T15:03:58.289Z"
   },
   {
    "duration": 53,
    "start_time": "2021-07-26T15:03:59.218Z"
   },
   {
    "duration": 57,
    "start_time": "2021-07-26T15:04:01.540Z"
   },
   {
    "duration": 58,
    "start_time": "2021-07-26T15:04:04.962Z"
   },
   {
    "duration": 14,
    "start_time": "2021-07-26T15:04:05.490Z"
   },
   {
    "duration": 106,
    "start_time": "2021-07-26T15:04:07.398Z"
   },
   {
    "duration": 82,
    "start_time": "2021-07-26T15:04:11.066Z"
   },
   {
    "duration": 455,
    "start_time": "2021-07-26T15:04:15.530Z"
   },
   {
    "duration": 26,
    "start_time": "2021-07-26T15:04:17.306Z"
   },
   {
    "duration": 34,
    "start_time": "2021-07-26T15:04:18.531Z"
   },
   {
    "duration": 293,
    "start_time": "2021-07-26T15:04:19.682Z"
   },
   {
    "duration": 283,
    "start_time": "2021-07-26T15:04:29.539Z"
   },
   {
    "duration": 231,
    "start_time": "2021-07-26T15:04:45.971Z"
   },
   {
    "duration": 333,
    "start_time": "2021-07-26T15:06:20.700Z"
   },
   {
    "duration": 49,
    "start_time": "2021-07-26T15:06:22.395Z"
   },
   {
    "duration": 184,
    "start_time": "2021-07-26T15:06:23.858Z"
   },
   {
    "duration": 19,
    "start_time": "2021-07-26T15:06:24.507Z"
   },
   {
    "duration": 779,
    "start_time": "2021-07-26T15:06:26.322Z"
   },
   {
    "duration": 8,
    "start_time": "2021-07-26T15:06:28.203Z"
   },
   {
    "duration": 18,
    "start_time": "2021-07-26T15:06:28.882Z"
   },
   {
    "duration": 7,
    "start_time": "2021-07-26T15:06:29.626Z"
   },
   {
    "duration": 878,
    "start_time": "2021-07-26T15:06:30.690Z"
   },
   {
    "duration": 58,
    "start_time": "2021-07-26T15:06:32.570Z"
   },
   {
    "duration": 60,
    "start_time": "2021-07-26T15:06:32.850Z"
   },
   {
    "duration": 52,
    "start_time": "2021-07-26T15:06:33.925Z"
   },
   {
    "duration": 56,
    "start_time": "2021-07-26T15:06:37.034Z"
   },
   {
    "duration": 15,
    "start_time": "2021-07-26T15:06:37.586Z"
   },
   {
    "duration": 105,
    "start_time": "2021-07-26T15:06:39.251Z"
   },
   {
    "duration": 83,
    "start_time": "2021-07-26T15:06:42.182Z"
   },
   {
    "duration": 458,
    "start_time": "2021-07-26T15:06:45.050Z"
   },
   {
    "duration": 25,
    "start_time": "2021-07-26T15:06:47.786Z"
   },
   {
    "duration": 34,
    "start_time": "2021-07-26T15:06:48.442Z"
   },
   {
    "duration": 252,
    "start_time": "2021-07-26T15:06:49.619Z"
   },
   {
    "duration": 328,
    "start_time": "2021-07-26T15:07:17.395Z"
   },
   {
    "duration": 48,
    "start_time": "2021-07-26T15:07:20.642Z"
   },
   {
    "duration": 177,
    "start_time": "2021-07-26T15:07:22.026Z"
   },
   {
    "duration": 18,
    "start_time": "2021-07-26T15:07:22.362Z"
   },
   {
    "duration": 745,
    "start_time": "2021-07-26T15:07:24.058Z"
   },
   {
    "duration": 7,
    "start_time": "2021-07-26T15:07:25.858Z"
   },
   {
    "duration": 17,
    "start_time": "2021-07-26T15:07:27.010Z"
   },
   {
    "duration": 8,
    "start_time": "2021-07-26T15:07:27.666Z"
   },
   {
    "duration": 797,
    "start_time": "2021-07-26T15:07:27.962Z"
   },
   {
    "duration": 58,
    "start_time": "2021-07-26T15:07:29.314Z"
   },
   {
    "duration": 57,
    "start_time": "2021-07-26T15:07:29.634Z"
   },
   {
    "duration": 53,
    "start_time": "2021-07-26T15:07:31.011Z"
   },
   {
    "duration": 58,
    "start_time": "2021-07-26T15:07:33.930Z"
   },
   {
    "duration": 14,
    "start_time": "2021-07-26T15:07:34.378Z"
   },
   {
    "duration": 108,
    "start_time": "2021-07-26T15:07:36.027Z"
   },
   {
    "duration": 82,
    "start_time": "2021-07-26T15:07:38.418Z"
   },
   {
    "duration": 491,
    "start_time": "2021-07-26T15:07:43.322Z"
   },
   {
    "duration": 27,
    "start_time": "2021-07-26T15:07:45.306Z"
   },
   {
    "duration": 55,
    "start_time": "2021-07-26T15:07:45.763Z"
   },
   {
    "duration": 286,
    "start_time": "2021-07-26T15:07:46.467Z"
   },
   {
    "duration": 338,
    "start_time": "2021-07-26T15:09:58.179Z"
   },
   {
    "duration": 773,
    "start_time": "2021-07-26T15:10:40.987Z"
   },
   {
    "duration": 272,
    "start_time": "2021-07-26T15:10:46.419Z"
   },
   {
    "duration": 102,
    "start_time": "2021-07-26T15:12:40.354Z"
   },
   {
    "duration": 7,
    "start_time": "2021-07-26T15:12:45.242Z"
   },
   {
    "duration": 329,
    "start_time": "2021-07-26T15:18:50.039Z"
   },
   {
    "duration": 48,
    "start_time": "2021-07-26T15:18:50.644Z"
   },
   {
    "duration": 173,
    "start_time": "2021-07-26T15:18:51.811Z"
   },
   {
    "duration": 24,
    "start_time": "2021-07-26T15:18:52.268Z"
   },
   {
    "duration": 736,
    "start_time": "2021-07-26T15:18:53.419Z"
   },
   {
    "duration": 7,
    "start_time": "2021-07-26T15:18:54.411Z"
   },
   {
    "duration": 18,
    "start_time": "2021-07-26T15:18:54.939Z"
   },
   {
    "duration": 6,
    "start_time": "2021-07-26T15:18:55.438Z"
   },
   {
    "duration": 827,
    "start_time": "2021-07-26T15:18:55.675Z"
   },
   {
    "duration": 59,
    "start_time": "2021-07-26T15:18:56.651Z"
   },
   {
    "duration": 57,
    "start_time": "2021-07-26T15:18:57.115Z"
   },
   {
    "duration": 52,
    "start_time": "2021-07-26T15:18:58.371Z"
   },
   {
    "duration": 60,
    "start_time": "2021-07-26T15:19:01.156Z"
   },
   {
    "duration": 19,
    "start_time": "2021-07-26T15:19:01.700Z"
   },
   {
    "duration": 105,
    "start_time": "2021-07-26T15:19:03.267Z"
   },
   {
    "duration": 86,
    "start_time": "2021-07-26T15:19:04.907Z"
   },
   {
    "duration": 442,
    "start_time": "2021-07-26T15:19:06.619Z"
   },
   {
    "duration": 26,
    "start_time": "2021-07-26T15:19:07.875Z"
   },
   {
    "duration": 35,
    "start_time": "2021-07-26T15:19:08.788Z"
   },
   {
    "duration": 311,
    "start_time": "2021-07-26T15:19:34.452Z"
   },
   {
    "duration": 276,
    "start_time": "2021-07-26T15:19:38.508Z"
   },
   {
    "duration": 36,
    "start_time": "2021-07-26T15:23:43.130Z"
   },
   {
    "duration": 41,
    "start_time": "2021-07-26T15:24:04.420Z"
   },
   {
    "duration": 95,
    "start_time": "2021-07-26T15:26:26.868Z"
   },
   {
    "duration": 6,
    "start_time": "2021-07-26T15:26:36.996Z"
   },
   {
    "duration": 313,
    "start_time": "2021-07-26T15:26:55.956Z"
   },
   {
    "duration": 11,
    "start_time": "2021-07-26T15:27:29.796Z"
   },
   {
    "duration": 11,
    "start_time": "2021-07-26T15:29:15.508Z"
   },
   {
    "duration": 11,
    "start_time": "2021-07-26T15:29:42.180Z"
   },
   {
    "duration": 341,
    "start_time": "2021-07-26T16:36:46.490Z"
   },
   {
    "duration": 53,
    "start_time": "2021-07-26T16:36:47.495Z"
   },
   {
    "duration": 176,
    "start_time": "2021-07-26T16:36:49.793Z"
   },
   {
    "duration": 21,
    "start_time": "2021-07-26T16:36:50.393Z"
   },
   {
    "duration": 826,
    "start_time": "2021-07-26T16:36:55.068Z"
   },
   {
    "duration": 7,
    "start_time": "2021-07-26T16:36:56.873Z"
   },
   {
    "duration": 19,
    "start_time": "2021-07-26T16:36:57.695Z"
   },
   {
    "duration": 7,
    "start_time": "2021-07-26T16:36:58.594Z"
   },
   {
    "duration": 801,
    "start_time": "2021-07-26T16:36:59.002Z"
   },
   {
    "duration": 67,
    "start_time": "2021-07-26T16:37:00.899Z"
   },
   {
    "duration": 56,
    "start_time": "2021-07-26T16:37:01.472Z"
   },
   {
    "duration": 52,
    "start_time": "2021-07-26T16:37:03.272Z"
   },
   {
    "duration": 58,
    "start_time": "2021-07-26T16:37:06.250Z"
   },
   {
    "duration": 14,
    "start_time": "2021-07-26T16:37:06.736Z"
   },
   {
    "duration": 108,
    "start_time": "2021-07-26T16:37:08.750Z"
   },
   {
    "duration": 85,
    "start_time": "2021-07-26T16:37:11.419Z"
   },
   {
    "duration": 472,
    "start_time": "2021-07-26T16:37:14.906Z"
   },
   {
    "duration": 27,
    "start_time": "2021-07-26T16:37:17.024Z"
   },
   {
    "duration": 41,
    "start_time": "2021-07-26T16:37:17.612Z"
   },
   {
    "duration": 11,
    "start_time": "2021-07-26T16:37:19.044Z"
   },
   {
    "duration": 163,
    "start_time": "2021-07-26T17:15:22.388Z"
   },
   {
    "duration": 265,
    "start_time": "2021-07-26T17:28:27.886Z"
   },
   {
    "duration": 276,
    "start_time": "2021-07-26T17:29:35.798Z"
   },
   {
    "duration": 312,
    "start_time": "2021-07-27T10:36:47.496Z"
   },
   {
    "duration": 49,
    "start_time": "2021-07-27T10:36:48.103Z"
   },
   {
    "duration": 161,
    "start_time": "2021-07-27T10:36:50.214Z"
   },
   {
    "duration": 19,
    "start_time": "2021-07-27T10:36:51.510Z"
   },
   {
    "duration": 733,
    "start_time": "2021-07-27T10:36:53.390Z"
   },
   {
    "duration": 9,
    "start_time": "2021-07-27T10:36:54.927Z"
   },
   {
    "duration": 17,
    "start_time": "2021-07-27T10:36:55.621Z"
   },
   {
    "duration": 7,
    "start_time": "2021-07-27T10:36:56.480Z"
   },
   {
    "duration": 858,
    "start_time": "2021-07-27T10:36:56.789Z"
   },
   {
    "duration": 53,
    "start_time": "2021-07-27T10:36:58.237Z"
   },
   {
    "duration": 51,
    "start_time": "2021-07-27T10:36:58.597Z"
   },
   {
    "duration": 53,
    "start_time": "2021-07-27T10:37:00.101Z"
   },
   {
    "duration": 56,
    "start_time": "2021-07-27T10:37:03.110Z"
   },
   {
    "duration": 13,
    "start_time": "2021-07-27T10:37:03.717Z"
   },
   {
    "duration": 132,
    "start_time": "2021-07-27T10:37:05.934Z"
   },
   {
    "duration": 77,
    "start_time": "2021-07-27T10:37:09.149Z"
   },
   {
    "duration": 430,
    "start_time": "2021-07-27T10:37:13.413Z"
   },
   {
    "duration": 25,
    "start_time": "2021-07-27T10:37:16.444Z"
   },
   {
    "duration": 39,
    "start_time": "2021-07-27T10:37:16.975Z"
   },
   {
    "duration": 9,
    "start_time": "2021-07-27T10:37:17.558Z"
   },
   {
    "duration": 248,
    "start_time": "2021-07-27T10:43:54.866Z"
   },
   {
    "duration": 84,
    "start_time": "2021-07-27T10:44:05.023Z"
   },
   {
    "duration": 94,
    "start_time": "2021-07-27T10:44:18.974Z"
   },
   {
    "duration": 441,
    "start_time": "2021-07-27T10:55:42.131Z"
   },
   {
    "duration": 96,
    "start_time": "2021-07-27T10:56:37.504Z"
   },
   {
    "duration": 27,
    "start_time": "2021-07-27T11:14:26.435Z"
   },
   {
    "duration": 106,
    "start_time": "2021-07-27T11:22:49.859Z"
   },
   {
    "duration": 92,
    "start_time": "2021-07-27T11:23:00.289Z"
   },
   {
    "duration": 167,
    "start_time": "2021-07-27T11:23:09.665Z"
   },
   {
    "duration": 182,
    "start_time": "2021-07-27T11:25:03.745Z"
   },
   {
    "duration": 12,
    "start_time": "2021-07-27T11:25:48.400Z"
   },
   {
    "duration": 81,
    "start_time": "2021-07-27T11:26:16.773Z"
   },
   {
    "duration": 199,
    "start_time": "2021-07-27T11:26:39.619Z"
   },
   {
    "duration": 9,
    "start_time": "2021-07-27T11:26:42.529Z"
   },
   {
    "duration": 11,
    "start_time": "2021-07-27T11:27:15.954Z"
   },
   {
    "duration": 98,
    "start_time": "2021-07-27T11:27:48.874Z"
   },
   {
    "duration": 16,
    "start_time": "2021-07-27T11:27:52.449Z"
   },
   {
    "duration": 154,
    "start_time": "2021-07-27T11:29:01.825Z"
   },
   {
    "duration": 8,
    "start_time": "2021-07-27T11:35:48.855Z"
   },
   {
    "duration": 14,
    "start_time": "2021-07-27T11:36:00.162Z"
   },
   {
    "duration": 16,
    "start_time": "2021-07-27T11:42:34.715Z"
   },
   {
    "duration": 254,
    "start_time": "2021-07-27T11:51:02.086Z"
   },
   {
    "duration": 322,
    "start_time": "2021-07-27T11:51:14.603Z"
   },
   {
    "duration": 101,
    "start_time": "2021-07-27T11:51:21.155Z"
   },
   {
    "duration": 97,
    "start_time": "2021-07-27T11:51:47.131Z"
   },
   {
    "duration": 17,
    "start_time": "2021-07-27T11:56:34.652Z"
   },
   {
    "duration": 80,
    "start_time": "2021-07-27T12:13:22.487Z"
   },
   {
    "duration": 11,
    "start_time": "2021-07-27T12:13:38.413Z"
   },
   {
    "duration": 3,
    "start_time": "2021-07-27T12:16:08.745Z"
   },
   {
    "duration": 10,
    "start_time": "2021-07-27T12:28:21.287Z"
   },
   {
    "duration": 6,
    "start_time": "2021-07-27T12:30:42.646Z"
   },
   {
    "duration": 233,
    "start_time": "2021-07-27T12:43:03.866Z"
   },
   {
    "duration": 10,
    "start_time": "2021-07-27T12:43:08.573Z"
   },
   {
    "duration": 245,
    "start_time": "2021-07-27T12:44:02.079Z"
   },
   {
    "duration": 11,
    "start_time": "2021-07-27T12:44:07.159Z"
   },
   {
    "duration": 304,
    "start_time": "2021-07-27T12:44:22.638Z"
   },
   {
    "duration": 244,
    "start_time": "2021-07-27T13:02:33.530Z"
   },
   {
    "duration": 5750,
    "start_time": "2021-07-27T13:03:19.767Z"
   },
   {
    "duration": 255,
    "start_time": "2021-07-27T13:03:53.505Z"
   },
   {
    "duration": 4796,
    "start_time": "2021-07-27T13:05:02.856Z"
   },
   {
    "duration": 4895,
    "start_time": "2021-07-27T13:06:44.625Z"
   },
   {
    "duration": 4857,
    "start_time": "2021-07-27T13:07:30.023Z"
   },
   {
    "duration": 5428,
    "start_time": "2021-07-27T13:07:47.104Z"
   },
   {
    "duration": 509,
    "start_time": "2021-07-27T13:08:58.361Z"
   },
   {
    "duration": 311,
    "start_time": "2021-07-27T13:20:05.517Z"
   },
   {
    "duration": 512,
    "start_time": "2021-07-27T13:21:30.736Z"
   },
   {
    "duration": 584,
    "start_time": "2021-07-27T13:24:11.314Z"
   },
   {
    "duration": 107,
    "start_time": "2021-07-27T13:24:49.128Z"
   },
   {
    "duration": 303,
    "start_time": "2021-07-27T13:25:10.082Z"
   },
   {
    "duration": 5,
    "start_time": "2021-07-27T13:25:49.866Z"
   },
   {
    "duration": 6,
    "start_time": "2021-07-27T13:25:54.455Z"
   },
   {
    "duration": 291,
    "start_time": "2021-07-27T13:26:48.336Z"
   },
   {
    "duration": 570,
    "start_time": "2021-07-27T13:27:11.585Z"
   },
   {
    "duration": 505,
    "start_time": "2021-07-27T13:28:13.080Z"
   },
   {
    "duration": 545,
    "start_time": "2021-07-27T13:28:43.201Z"
   },
   {
    "duration": 485,
    "start_time": "2021-07-27T13:29:30.953Z"
   },
   {
    "duration": 280,
    "start_time": "2021-07-27T13:30:38.033Z"
   },
   {
    "duration": 467,
    "start_time": "2021-07-27T13:30:48.681Z"
   },
   {
    "duration": 472,
    "start_time": "2021-07-27T13:31:27.585Z"
   },
   {
    "duration": 553,
    "start_time": "2021-07-27T13:33:55.122Z"
   },
   {
    "duration": 9,
    "start_time": "2021-07-27T13:34:50.032Z"
   },
   {
    "duration": 578,
    "start_time": "2021-07-27T13:35:30.739Z"
   },
   {
    "duration": 508,
    "start_time": "2021-07-27T13:36:02.114Z"
   },
   {
    "duration": 5,
    "start_time": "2021-07-27T13:36:56.032Z"
   },
   {
    "duration": 5,
    "start_time": "2021-07-27T13:37:09.954Z"
   },
   {
    "duration": 247,
    "start_time": "2021-07-27T13:37:12.610Z"
   },
   {
    "duration": 506,
    "start_time": "2021-07-27T13:37:14.113Z"
   },
   {
    "duration": 550,
    "start_time": "2021-07-27T13:37:41.954Z"
   },
   {
    "duration": 501,
    "start_time": "2021-07-27T13:38:10.960Z"
   },
   {
    "duration": 6,
    "start_time": "2021-07-27T13:38:39.713Z"
   },
   {
    "duration": 949,
    "start_time": "2021-07-27T13:38:43.681Z"
   },
   {
    "duration": 588,
    "start_time": "2021-07-27T13:38:57.618Z"
   },
   {
    "duration": 6,
    "start_time": "2021-07-27T13:39:17.120Z"
   },
   {
    "duration": 553,
    "start_time": "2021-07-27T13:39:20.385Z"
   },
   {
    "duration": 5,
    "start_time": "2021-07-27T13:40:28.889Z"
   },
   {
    "duration": 555,
    "start_time": "2021-07-27T13:40:34.104Z"
   },
   {
    "duration": 555,
    "start_time": "2021-07-27T13:42:03.066Z"
   },
   {
    "duration": 5,
    "start_time": "2021-07-27T13:42:14.771Z"
   },
   {
    "duration": 540,
    "start_time": "2021-07-27T13:42:18.912Z"
   },
   {
    "duration": 8,
    "start_time": "2021-07-27T13:43:26.497Z"
   },
   {
    "duration": 699,
    "start_time": "2021-07-27T13:43:30.201Z"
   },
   {
    "duration": 5,
    "start_time": "2021-07-27T13:43:59.289Z"
   },
   {
    "duration": 255,
    "start_time": "2021-07-27T13:44:03.282Z"
   },
   {
    "duration": 583,
    "start_time": "2021-07-27T13:44:09.202Z"
   },
   {
    "duration": 5,
    "start_time": "2021-07-27T13:50:45.449Z"
   },
   {
    "duration": 5,
    "start_time": "2021-07-27T13:52:47.121Z"
   },
   {
    "duration": 884,
    "start_time": "2021-07-27T13:53:38.930Z"
   },
   {
    "duration": 4,
    "start_time": "2021-07-27T13:56:20.594Z"
   },
   {
    "duration": 7,
    "start_time": "2021-07-27T13:56:31.729Z"
   },
   {
    "duration": 248,
    "start_time": "2021-07-27T13:56:35.715Z"
   },
   {
    "duration": 544,
    "start_time": "2021-07-27T13:56:37.274Z"
   },
   {
    "duration": 6,
    "start_time": "2021-07-27T13:56:56.361Z"
   },
   {
    "duration": 574,
    "start_time": "2021-07-27T13:56:59.114Z"
   },
   {
    "duration": 5,
    "start_time": "2021-07-27T13:58:26.345Z"
   },
   {
    "duration": 587,
    "start_time": "2021-07-27T13:59:16.738Z"
   },
   {
    "duration": 7,
    "start_time": "2021-07-27T14:09:39.269Z"
   },
   {
    "duration": 6,
    "start_time": "2021-07-27T14:10:08.123Z"
   },
   {
    "duration": 252,
    "start_time": "2021-07-27T14:10:10.191Z"
   },
   {
    "duration": 522,
    "start_time": "2021-07-27T14:10:11.451Z"
   },
   {
    "duration": 530,
    "start_time": "2021-07-27T14:10:44.026Z"
   },
   {
    "duration": 6,
    "start_time": "2021-07-27T14:11:34.450Z"
   },
   {
    "duration": 6,
    "start_time": "2021-07-27T14:11:50.875Z"
   },
   {
    "duration": 6,
    "start_time": "2021-07-27T14:11:52.722Z"
   },
   {
    "duration": 456,
    "start_time": "2021-07-27T14:11:56.442Z"
   },
   {
    "duration": 4,
    "start_time": "2021-07-27T14:12:45.643Z"
   },
   {
    "duration": 3,
    "start_time": "2021-07-27T14:12:49.338Z"
   },
   {
    "duration": 6,
    "start_time": "2021-07-27T14:13:08.217Z"
   },
   {
    "duration": 6,
    "start_time": "2021-07-27T14:13:12.122Z"
   },
   {
    "duration": 531,
    "start_time": "2021-07-27T14:13:20.827Z"
   },
   {
    "duration": 7,
    "start_time": "2021-07-27T14:13:26.297Z"
   },
   {
    "duration": 7,
    "start_time": "2021-07-27T14:13:30.938Z"
   },
   {
    "duration": 545,
    "start_time": "2021-07-27T14:13:56.634Z"
   },
   {
    "duration": 271,
    "start_time": "2021-07-27T14:14:55.771Z"
   },
   {
    "duration": 302,
    "start_time": "2021-07-27T14:15:25.219Z"
   },
   {
    "duration": 63,
    "start_time": "2021-07-27T14:16:00.635Z"
   },
   {
    "duration": 47,
    "start_time": "2021-07-27T14:16:30.621Z"
   },
   {
    "duration": 35,
    "start_time": "2021-07-27T14:17:14.388Z"
   },
   {
    "duration": 52,
    "start_time": "2021-07-27T14:19:27.667Z"
   },
   {
    "duration": 16,
    "start_time": "2021-07-27T14:21:22.660Z"
   },
   {
    "duration": 15,
    "start_time": "2021-07-27T14:21:52.275Z"
   },
   {
    "duration": 14,
    "start_time": "2021-07-27T14:21:59.050Z"
   },
   {
    "duration": 20,
    "start_time": "2021-07-27T14:22:05.779Z"
   },
   {
    "duration": 418,
    "start_time": "2021-07-27T14:37:54.817Z"
   },
   {
    "duration": 6005,
    "start_time": "2021-07-27T14:39:23.806Z"
   },
   {
    "duration": 18,
    "start_time": "2021-07-27T14:39:37.772Z"
   },
   {
    "duration": 423,
    "start_time": "2021-07-27T14:39:50.918Z"
   },
   {
    "duration": 429,
    "start_time": "2021-07-27T14:49:33.728Z"
   },
   {
    "duration": 433,
    "start_time": "2021-07-27T14:51:29.037Z"
   },
   {
    "duration": 423,
    "start_time": "2021-07-27T14:51:48.374Z"
   },
   {
    "duration": 682,
    "start_time": "2021-07-27T14:52:36.100Z"
   },
   {
    "duration": 759,
    "start_time": "2021-07-27T14:52:47.342Z"
   },
   {
    "duration": 438,
    "start_time": "2021-07-27T14:53:07.044Z"
   },
   {
    "duration": 407,
    "start_time": "2021-07-27T14:53:28.333Z"
   },
   {
    "duration": 688,
    "start_time": "2021-07-27T14:53:40.444Z"
   },
   {
    "duration": 644,
    "start_time": "2021-07-27T14:53:56.644Z"
   },
   {
    "duration": 425,
    "start_time": "2021-07-27T14:54:19.492Z"
   },
   {
    "duration": 418,
    "start_time": "2021-07-27T14:54:31.805Z"
   },
   {
    "duration": 559,
    "start_time": "2021-07-27T14:54:46.772Z"
   },
   {
    "duration": 402,
    "start_time": "2021-07-27T14:54:52.085Z"
   },
   {
    "duration": 422,
    "start_time": "2021-07-27T14:54:59.981Z"
   },
   {
    "duration": 424,
    "start_time": "2021-07-27T14:55:30.237Z"
   },
   {
    "duration": 690,
    "start_time": "2021-07-27T14:55:50.644Z"
   },
   {
    "duration": 444,
    "start_time": "2021-07-27T14:55:56.965Z"
   },
   {
    "duration": 14,
    "start_time": "2021-07-27T14:57:40.964Z"
   },
   {
    "duration": 3,
    "start_time": "2021-07-27T14:58:29.221Z"
   },
   {
    "duration": 297,
    "start_time": "2021-07-27T15:12:25.491Z"
   },
   {
    "duration": 53,
    "start_time": "2021-07-27T15:12:32.215Z"
   },
   {
    "duration": 160,
    "start_time": "2021-07-27T15:12:35.511Z"
   },
   {
    "duration": 19,
    "start_time": "2021-07-27T15:12:35.959Z"
   },
   {
    "duration": 726,
    "start_time": "2021-07-27T15:12:37.903Z"
   },
   {
    "duration": 9,
    "start_time": "2021-07-27T15:12:39.406Z"
   },
   {
    "duration": 17,
    "start_time": "2021-07-27T15:12:40.134Z"
   },
   {
    "duration": 6,
    "start_time": "2021-07-27T15:12:40.807Z"
   },
   {
    "duration": 760,
    "start_time": "2021-07-27T15:12:41.227Z"
   },
   {
    "duration": 65,
    "start_time": "2021-07-27T15:12:42.759Z"
   },
   {
    "duration": 55,
    "start_time": "2021-07-27T15:12:43.127Z"
   },
   {
    "duration": 50,
    "start_time": "2021-07-27T15:12:44.926Z"
   },
   {
    "duration": 54,
    "start_time": "2021-07-27T15:12:47.511Z"
   },
   {
    "duration": 14,
    "start_time": "2021-07-27T15:12:48.024Z"
   },
   {
    "duration": 101,
    "start_time": "2021-07-27T15:12:49.767Z"
   },
   {
    "duration": 83,
    "start_time": "2021-07-27T15:12:52.703Z"
   },
   {
    "duration": 446,
    "start_time": "2021-07-27T15:12:56.336Z"
   },
   {
    "duration": 26,
    "start_time": "2021-07-27T15:12:58.086Z"
   },
   {
    "duration": 40,
    "start_time": "2021-07-27T15:12:58.512Z"
   },
   {
    "duration": 10,
    "start_time": "2021-07-27T15:12:58.959Z"
   },
   {
    "duration": 96,
    "start_time": "2021-07-27T15:13:00.927Z"
   },
   {
    "duration": 102,
    "start_time": "2021-07-27T15:13:01.727Z"
   },
   {
    "duration": 17,
    "start_time": "2021-07-27T15:13:02.119Z"
   },
   {
    "duration": 10,
    "start_time": "2021-07-27T15:13:02.919Z"
   },
   {
    "duration": 6,
    "start_time": "2021-07-27T15:13:03.759Z"
   },
   {
    "duration": 239,
    "start_time": "2021-07-27T15:13:04.199Z"
   },
   {
    "duration": 14,
    "start_time": "2021-07-27T15:13:04.663Z"
   },
   {
    "duration": 407,
    "start_time": "2021-07-27T15:13:07.271Z"
   },
   {
    "duration": 15,
    "start_time": "2021-07-27T15:13:09.176Z"
   },
   {
    "duration": 14,
    "start_time": "2021-07-27T15:13:37.411Z"
   },
   {
    "duration": 15,
    "start_time": "2021-07-27T15:14:36.631Z"
   },
   {
    "duration": 14,
    "start_time": "2021-07-27T15:15:40.360Z"
   },
   {
    "duration": 15,
    "start_time": "2021-07-27T15:18:04.490Z"
   },
   {
    "duration": 10,
    "start_time": "2021-07-27T15:23:57.644Z"
   },
   {
    "duration": 10,
    "start_time": "2021-07-27T15:24:58.466Z"
   },
   {
    "duration": 12,
    "start_time": "2021-07-27T15:28:43.153Z"
   },
   {
    "duration": 16,
    "start_time": "2021-07-27T15:29:35.001Z"
   },
   {
    "duration": 14,
    "start_time": "2021-07-27T15:31:17.761Z"
   },
   {
    "duration": 15,
    "start_time": "2021-07-27T15:32:13.937Z"
   },
   {
    "duration": 66071,
    "start_time": "2021-07-27T21:42:38.966Z"
   },
   {
    "duration": 1956,
    "start_time": "2021-07-27T21:43:45.041Z"
   },
   {
    "duration": 50,
    "start_time": "2021-07-27T21:43:47.001Z"
   },
   {
    "duration": 203,
    "start_time": "2021-07-27T21:43:47.054Z"
   },
   {
    "duration": 34,
    "start_time": "2021-07-27T21:43:47.260Z"
   },
   {
    "duration": 718,
    "start_time": "2021-07-27T21:43:47.297Z"
   },
   {
    "duration": 8,
    "start_time": "2021-07-27T21:43:48.018Z"
   },
   {
    "duration": 17,
    "start_time": "2021-07-27T21:43:48.029Z"
   },
   {
    "duration": 8,
    "start_time": "2021-07-27T21:43:48.082Z"
   },
   {
    "duration": 771,
    "start_time": "2021-07-27T21:43:48.093Z"
   },
   {
    "duration": 61,
    "start_time": "2021-07-27T21:43:48.867Z"
   },
   {
    "duration": 73,
    "start_time": "2021-07-27T21:43:48.931Z"
   },
   {
    "duration": 52,
    "start_time": "2021-07-27T21:43:49.006Z"
   },
   {
    "duration": 63,
    "start_time": "2021-07-27T21:43:49.061Z"
   },
   {
    "duration": 12,
    "start_time": "2021-07-27T21:43:49.126Z"
   },
   {
    "duration": 143,
    "start_time": "2021-07-27T21:43:49.141Z"
   },
   {
    "duration": 75,
    "start_time": "2021-07-27T21:43:49.286Z"
   },
   {
    "duration": 446,
    "start_time": "2021-07-27T21:43:49.364Z"
   },
   {
    "duration": 24,
    "start_time": "2021-07-27T21:43:49.812Z"
   },
   {
    "duration": 59,
    "start_time": "2021-07-27T21:43:49.838Z"
   },
   {
    "duration": 9,
    "start_time": "2021-07-27T21:43:49.900Z"
   },
   {
    "duration": 128,
    "start_time": "2021-07-27T21:43:49.911Z"
   },
   {
    "duration": 115,
    "start_time": "2021-07-27T21:43:50.041Z"
   },
   {
    "duration": 25,
    "start_time": "2021-07-27T21:43:50.159Z"
   },
   {
    "duration": 10,
    "start_time": "2021-07-27T21:43:50.186Z"
   },
   {
    "duration": 8,
    "start_time": "2021-07-27T21:43:50.199Z"
   },
   {
    "duration": 272,
    "start_time": "2021-07-27T21:43:50.212Z"
   },
   {
    "duration": 13,
    "start_time": "2021-07-27T21:43:50.487Z"
   },
   {
    "duration": 438,
    "start_time": "2021-07-27T21:43:50.502Z"
   },
   {
    "duration": 15,
    "start_time": "2021-07-27T21:43:50.943Z"
   },
   {
    "duration": 32,
    "start_time": "2021-07-27T21:43:50.961Z"
   },
   {
    "duration": 17,
    "start_time": "2021-07-27T21:43:50.995Z"
   },
   {
    "duration": 289,
    "start_time": "2021-07-28T06:57:08.746Z"
   },
   {
    "duration": 169,
    "start_time": "2021-07-28T07:25:32.965Z"
   },
   {
    "duration": 162,
    "start_time": "2021-07-28T07:25:50.617Z"
   },
   {
    "duration": 71,
    "start_time": "2021-07-28T08:55:39.566Z"
   },
   {
    "duration": 74,
    "start_time": "2021-07-28T08:56:17.709Z"
   },
   {
    "duration": 74,
    "start_time": "2021-07-28T08:56:29.933Z"
   },
   {
    "duration": 307,
    "start_time": "2021-07-28T08:56:39.808Z"
   },
   {
    "duration": 66,
    "start_time": "2021-07-28T08:58:43.837Z"
   },
   {
    "duration": 306,
    "start_time": "2021-07-28T08:58:57.869Z"
   },
   {
    "duration": 293,
    "start_time": "2021-07-28T08:59:25.461Z"
   },
   {
    "duration": 250,
    "start_time": "2021-07-28T08:59:32.318Z"
   },
   {
    "duration": 571,
    "start_time": "2021-07-28T08:59:42.517Z"
   },
   {
    "duration": 340,
    "start_time": "2021-07-28T08:59:52.862Z"
   },
   {
    "duration": 283,
    "start_time": "2021-07-28T08:59:54.326Z"
   },
   {
    "duration": 312,
    "start_time": "2021-07-28T09:00:06.533Z"
   },
   {
    "duration": 27,
    "start_time": "2021-07-28T09:00:51.238Z"
   },
   {
    "duration": 93,
    "start_time": "2021-07-28T09:01:26.335Z"
   },
   {
    "duration": 298,
    "start_time": "2021-07-28T09:01:33.621Z"
   },
   {
    "duration": 547,
    "start_time": "2021-07-28T09:03:32.070Z"
   },
   {
    "duration": 62,
    "start_time": "2021-07-28T09:05:46.901Z"
   },
   {
    "duration": 61,
    "start_time": "2021-07-28T09:05:53.462Z"
   },
   {
    "duration": 5,
    "start_time": "2021-07-28T09:09:48.294Z"
   },
   {
    "duration": 492,
    "start_time": "2021-07-28T09:10:20.015Z"
   },
   {
    "duration": 141,
    "start_time": "2021-07-28T09:11:02.935Z"
   },
   {
    "duration": 7023,
    "start_time": "2021-07-28T09:12:51.816Z"
   },
   {
    "duration": 48,
    "start_time": "2021-07-28T09:13:01.052Z"
   },
   {
    "duration": 156,
    "start_time": "2021-07-28T09:13:04.709Z"
   },
   {
    "duration": 18,
    "start_time": "2021-07-28T09:13:06.398Z"
   },
   {
    "duration": 6577,
    "start_time": "2021-07-28T09:13:10.053Z"
   },
   {
    "duration": 292,
    "start_time": "2021-07-28T09:13:23.142Z"
   },
   {
    "duration": 45,
    "start_time": "2021-07-28T09:13:24.573Z"
   },
   {
    "duration": 157,
    "start_time": "2021-07-28T09:13:27.500Z"
   },
   {
    "duration": 19,
    "start_time": "2021-07-28T09:13:28.757Z"
   },
   {
    "duration": 6555,
    "start_time": "2021-07-28T09:13:32.343Z"
   },
   {
    "duration": 162,
    "start_time": "2021-07-28T09:13:57.054Z"
   },
   {
    "duration": 21,
    "start_time": "2021-07-28T09:13:57.998Z"
   },
   {
    "duration": 6614,
    "start_time": "2021-07-28T09:14:00.744Z"
   },
   {
    "duration": 300,
    "start_time": "2021-07-28T09:14:22.448Z"
   },
   {
    "duration": 48,
    "start_time": "2021-07-28T09:14:24.325Z"
   },
   {
    "duration": 168,
    "start_time": "2021-07-28T09:14:27.141Z"
   },
   {
    "duration": 19,
    "start_time": "2021-07-28T09:14:29.894Z"
   },
   {
    "duration": 704,
    "start_time": "2021-07-28T09:14:38.551Z"
   },
   {
    "duration": 9,
    "start_time": "2021-07-28T09:14:44.468Z"
   },
   {
    "duration": 19,
    "start_time": "2021-07-28T09:14:45.340Z"
   },
   {
    "duration": 41,
    "start_time": "2021-07-28T09:25:26.473Z"
   },
   {
    "duration": 652,
    "start_time": "2021-07-28T09:27:54.785Z"
   },
   {
    "duration": 9,
    "start_time": "2021-07-28T09:29:52.195Z"
   },
   {
    "duration": 811,
    "start_time": "2021-07-28T09:35:36.411Z"
   },
   {
    "duration": 10,
    "start_time": "2021-07-28T09:37:01.495Z"
   },
   {
    "duration": 10,
    "start_time": "2021-07-28T09:37:39.048Z"
   },
   {
    "duration": 5,
    "start_time": "2021-07-28T09:39:06.312Z"
   },
   {
    "duration": 882,
    "start_time": "2021-07-28T09:39:10.806Z"
   },
   {
    "duration": 12,
    "start_time": "2021-07-28T09:40:37.969Z"
   },
   {
    "duration": 7,
    "start_time": "2021-07-28T09:44:30.897Z"
   },
   {
    "duration": 1062,
    "start_time": "2021-07-28T09:44:32.566Z"
   },
   {
    "duration": 56,
    "start_time": "2021-07-28T09:44:44.768Z"
   },
   {
    "duration": 55,
    "start_time": "2021-07-28T09:44:45.496Z"
   },
   {
    "duration": 49,
    "start_time": "2021-07-28T09:44:48.261Z"
   },
   {
    "duration": 59,
    "start_time": "2021-07-28T09:44:51.511Z"
   },
   {
    "duration": 15,
    "start_time": "2021-07-28T09:44:52.423Z"
   },
   {
    "duration": 15,
    "start_time": "2021-07-28T10:52:06.230Z"
   },
   {
    "duration": 101,
    "start_time": "2021-07-28T10:52:17.002Z"
   },
   {
    "duration": 92,
    "start_time": "2021-07-28T10:53:53.025Z"
   },
   {
    "duration": 99,
    "start_time": "2021-07-28T10:58:57.116Z"
   },
   {
    "duration": 90,
    "start_time": "2021-07-28T11:00:07.418Z"
   },
   {
    "duration": 79,
    "start_time": "2021-07-28T11:00:51.706Z"
   },
   {
    "duration": 18,
    "start_time": "2021-07-28T11:08:24.163Z"
   },
   {
    "duration": 11,
    "start_time": "2021-07-28T11:10:28.955Z"
   },
   {
    "duration": 297,
    "start_time": "2021-07-28T11:17:12.473Z"
   },
   {
    "duration": 5,
    "start_time": "2021-07-28T11:17:20.371Z"
   },
   {
    "duration": 12,
    "start_time": "2021-07-28T11:17:38.132Z"
   },
   {
    "duration": 939,
    "start_time": "2021-07-28T11:19:30.554Z"
   },
   {
    "duration": 7831,
    "start_time": "2021-07-28T11:21:53.802Z"
   },
   {
    "duration": 761,
    "start_time": "2021-07-28T11:22:23.292Z"
   },
   {
    "duration": 190,
    "start_time": "2021-07-28T11:28:49.912Z"
   },
   {
    "duration": 284,
    "start_time": "2021-07-28T11:31:52.283Z"
   },
   {
    "duration": 259,
    "start_time": "2021-07-28T11:31:58.665Z"
   },
   {
    "duration": 315,
    "start_time": "2021-07-28T11:32:20.771Z"
   },
   {
    "duration": 299,
    "start_time": "2021-07-28T11:33:13.733Z"
   },
   {
    "duration": 186,
    "start_time": "2021-07-28T11:33:50.690Z"
   },
   {
    "duration": 229,
    "start_time": "2021-07-28T11:36:51.500Z"
   },
   {
    "duration": 178,
    "start_time": "2021-07-28T11:37:26.851Z"
   },
   {
    "duration": 195,
    "start_time": "2021-07-28T11:38:10.772Z"
   },
   {
    "duration": 340,
    "start_time": "2021-07-28T11:38:39.380Z"
   },
   {
    "duration": 189,
    "start_time": "2021-07-28T11:38:55.651Z"
   },
   {
    "duration": 340,
    "start_time": "2021-07-28T11:39:02.708Z"
   },
   {
    "duration": 328,
    "start_time": "2021-07-28T11:39:07.653Z"
   },
   {
    "duration": 175,
    "start_time": "2021-07-28T11:39:10.835Z"
   },
   {
    "duration": 206,
    "start_time": "2021-07-28T11:40:00.892Z"
   },
   {
    "duration": 452,
    "start_time": "2021-07-28T11:45:45.350Z"
   },
   {
    "duration": 25,
    "start_time": "2021-07-28T11:45:59.194Z"
   },
   {
    "duration": 39,
    "start_time": "2021-07-28T11:45:59.716Z"
   },
   {
    "duration": 11,
    "start_time": "2021-07-28T11:46:00.564Z"
   },
   {
    "duration": 93,
    "start_time": "2021-07-28T11:46:03.210Z"
   },
   {
    "duration": 100,
    "start_time": "2021-07-28T11:46:05.511Z"
   },
   {
    "duration": 17,
    "start_time": "2021-07-28T11:46:06.627Z"
   },
   {
    "duration": 9,
    "start_time": "2021-07-28T11:46:09.346Z"
   },
   {
    "duration": 7,
    "start_time": "2021-07-28T11:46:13.130Z"
   },
   {
    "duration": 397,
    "start_time": "2021-07-28T11:46:33.530Z"
   },
   {
    "duration": 16,
    "start_time": "2021-07-28T11:48:14.583Z"
   },
   {
    "duration": 15,
    "start_time": "2021-07-28T11:48:44.524Z"
   },
   {
    "duration": 16,
    "start_time": "2021-07-28T11:50:08.411Z"
   },
   {
    "duration": 16,
    "start_time": "2021-07-28T12:00:08.886Z"
   },
   {
    "duration": 16,
    "start_time": "2021-07-28T12:00:22.132Z"
   },
   {
    "duration": 14,
    "start_time": "2021-07-28T12:00:31.291Z"
   },
   {
    "duration": 396,
    "start_time": "2021-07-28T12:00:36.181Z"
   },
   {
    "duration": 14,
    "start_time": "2021-07-28T12:00:43.433Z"
   },
   {
    "duration": 170126,
    "start_time": "2021-07-28T14:31:22.602Z"
   },
   {
    "duration": 82380,
    "start_time": "2021-07-28T14:34:12.731Z"
   },
   {
    "duration": 62,
    "start_time": "2021-07-28T14:35:35.115Z"
   },
   {
    "duration": 190,
    "start_time": "2021-07-28T14:35:35.180Z"
   },
   {
    "duration": 19,
    "start_time": "2021-07-28T14:35:35.373Z"
   },
   {
    "duration": 755,
    "start_time": "2021-07-28T14:35:35.396Z"
   },
   {
    "duration": 9,
    "start_time": "2021-07-28T14:35:36.157Z"
   },
   {
    "duration": 779,
    "start_time": "2021-07-28T14:35:36.171Z"
   },
   {
    "duration": 9,
    "start_time": "2021-07-28T14:35:36.957Z"
   },
   {
    "duration": 13,
    "start_time": "2021-07-28T14:35:36.968Z"
   },
   {
    "duration": 11,
    "start_time": "2021-07-28T14:35:36.983Z"
   },
   {
    "duration": 947,
    "start_time": "2021-07-28T14:35:36.996Z"
   },
   {
    "duration": 15,
    "start_time": "2021-07-28T14:35:37.946Z"
   },
   {
    "duration": 8,
    "start_time": "2021-07-28T14:35:37.964Z"
   },
   {
    "duration": 820,
    "start_time": "2021-07-28T14:35:37.975Z"
   },
   {
    "duration": 78,
    "start_time": "2021-07-28T14:35:38.797Z"
   },
   {
    "duration": 64,
    "start_time": "2021-07-28T14:35:38.877Z"
   },
   {
    "duration": 65,
    "start_time": "2021-07-28T14:35:38.944Z"
   },
   {
    "duration": 73,
    "start_time": "2021-07-28T14:35:39.011Z"
   },
   {
    "duration": 17,
    "start_time": "2021-07-28T14:35:39.086Z"
   },
   {
    "duration": 152,
    "start_time": "2021-07-28T14:35:39.105Z"
   },
   {
    "duration": 81,
    "start_time": "2021-07-28T14:35:39.260Z"
   },
   {
    "duration": 798,
    "start_time": "2021-07-28T14:35:39.358Z"
   },
   {
    "duration": 596,
    "start_time": "2021-07-28T14:35:40.159Z"
   },
   {
    "duration": 26,
    "start_time": "2021-07-28T14:35:40.758Z"
   },
   {
    "duration": 76,
    "start_time": "2021-07-28T14:35:40.787Z"
   },
   {
    "duration": 14,
    "start_time": "2021-07-28T14:35:40.867Z"
   },
   {
    "duration": 144,
    "start_time": "2021-07-28T14:35:40.883Z"
   },
   {
    "duration": 104,
    "start_time": "2021-07-28T14:35:41.029Z"
   },
   {
    "duration": 25,
    "start_time": "2021-07-28T14:35:41.135Z"
   },
   {
    "duration": 10,
    "start_time": "2021-07-28T14:35:41.162Z"
   },
   {
    "duration": 16,
    "start_time": "2021-07-28T14:35:41.175Z"
   },
   {
    "duration": 277,
    "start_time": "2021-07-28T14:35:41.193Z"
   },
   {
    "duration": 13,
    "start_time": "2021-07-28T14:35:41.472Z"
   },
   {
    "duration": 450,
    "start_time": "2021-07-28T14:35:41.489Z"
   },
   {
    "duration": 28,
    "start_time": "2021-07-28T14:35:41.943Z"
   },
   {
    "duration": 19,
    "start_time": "2021-07-28T14:35:41.973Z"
   },
   {
    "duration": 18,
    "start_time": "2021-07-28T14:35:41.994Z"
   },
   {
    "duration": 3739,
    "start_time": "2021-07-28T17:07:38.743Z"
   },
   {
    "duration": 335,
    "start_time": "2021-07-28T17:07:42.485Z"
   },
   {
    "duration": 59,
    "start_time": "2021-07-28T17:07:42.823Z"
   },
   {
    "duration": 157,
    "start_time": "2021-07-28T17:07:47.190Z"
   },
   {
    "duration": 19,
    "start_time": "2021-07-28T17:07:48.149Z"
   },
   {
    "duration": 721,
    "start_time": "2021-07-28T17:07:51.308Z"
   },
   {
    "duration": 8,
    "start_time": "2021-07-28T17:07:54.101Z"
   },
   {
    "duration": 847,
    "start_time": "2021-07-28T17:07:55.597Z"
   },
   {
    "duration": 11,
    "start_time": "2021-07-28T17:07:57.208Z"
   },
   {
    "duration": 10,
    "start_time": "2021-07-28T17:07:58.260Z"
   },
   {
    "duration": 6,
    "start_time": "2021-07-28T17:07:58.704Z"
   },
   {
    "duration": 920,
    "start_time": "2021-07-28T17:07:59.167Z"
   },
   {
    "duration": 11,
    "start_time": "2021-07-28T17:08:01.448Z"
   },
   {
    "duration": 7,
    "start_time": "2021-07-28T17:08:03.298Z"
   },
   {
    "duration": 777,
    "start_time": "2021-07-28T17:08:03.606Z"
   },
   {
    "duration": 57,
    "start_time": "2021-07-28T17:08:06.475Z"
   },
   {
    "duration": 52,
    "start_time": "2021-07-28T17:08:06.851Z"
   },
   {
    "duration": 51,
    "start_time": "2021-07-28T17:08:08.851Z"
   },
   {
    "duration": 53,
    "start_time": "2021-07-28T17:08:12.019Z"
   },
   {
    "duration": 16,
    "start_time": "2021-07-28T17:08:12.390Z"
   },
   {
    "duration": 117,
    "start_time": "2021-07-28T17:08:15.736Z"
   },
   {
    "duration": 80,
    "start_time": "2021-07-28T17:08:22.808Z"
   },
   {
    "duration": 176,
    "start_time": "2021-07-28T17:08:23.611Z"
   },
   {
    "duration": 449,
    "start_time": "2021-07-28T17:08:29.818Z"
   },
   {
    "duration": 26,
    "start_time": "2021-07-28T17:08:32.267Z"
   },
   {
    "duration": 39,
    "start_time": "2021-07-28T17:08:32.587Z"
   },
   {
    "duration": 10,
    "start_time": "2021-07-28T17:08:32.890Z"
   },
   {
    "duration": 95,
    "start_time": "2021-07-28T17:08:34.832Z"
   },
   {
    "duration": 106,
    "start_time": "2021-07-28T17:08:35.435Z"
   },
   {
    "duration": 20,
    "start_time": "2021-07-28T17:08:35.805Z"
   },
   {
    "duration": 11,
    "start_time": "2021-07-28T17:08:36.411Z"
   },
   {
    "duration": 7,
    "start_time": "2021-07-28T17:08:36.979Z"
   },
   {
    "duration": 292,
    "start_time": "2021-07-28T17:08:37.637Z"
   },
   {
    "duration": 14,
    "start_time": "2021-07-28T17:08:41.659Z"
   },
   {
    "duration": 416,
    "start_time": "2021-07-28T17:08:43.557Z"
   },
   {
    "duration": 16,
    "start_time": "2021-07-28T17:08:43.982Z"
   },
   {
    "duration": 15,
    "start_time": "2021-07-28T17:08:44.284Z"
   },
   {
    "duration": 15,
    "start_time": "2021-07-28T17:08:44.730Z"
   }
  ],
  "kernelspec": {
   "display_name": "Python 3",
   "language": "python",
   "name": "python3"
  },
  "language_info": {
   "codemirror_mode": {
    "name": "ipython",
    "version": 3
   },
   "file_extension": ".py",
   "mimetype": "text/x-python",
   "name": "python",
   "nbconvert_exporter": "python",
   "pygments_lexer": "ipython3",
   "version": "3.8.5"
  },
  "toc": {
   "base_numbering": 1,
   "nav_menu": {},
   "number_sections": true,
   "sideBar": true,
   "skip_h1_title": true,
   "title_cell": "Table of Contents",
   "title_sidebar": "Contents",
   "toc_cell": false,
   "toc_position": {},
   "toc_section_display": true,
   "toc_window_display": false
  }
 },
 "nbformat": 4,
 "nbformat_minor": 2
}
